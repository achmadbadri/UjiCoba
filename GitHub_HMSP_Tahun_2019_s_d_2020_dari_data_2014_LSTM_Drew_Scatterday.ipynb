{
  "nbformat": 4,
  "nbformat_minor": 0,
  "metadata": {
    "colab": {
      "name": "GitHub  HMSP Tahun 2019 s.d. 2020 - dari data 2014 - LSTM - Drew Scatterday",
      "provenance": [],
      "collapsed_sections": [],
      "authorship_tag": "ABX9TyNL2EDktgpOSTRH4rgaNpgf",
      "include_colab_link": true
    },
    "kernelspec": {
      "name": "python3",
      "display_name": "Python 3"
    }
  },
  "cells": [
    {
      "cell_type": "markdown",
      "metadata": {
        "id": "view-in-github",
        "colab_type": "text"
      },
      "source": [
        "<a href=\"https://colab.research.google.com/github/achmadbadri/UjiCoba/blob/main/GitHub_HMSP_Tahun_2019_s_d_2020_dari_data_2014_LSTM_Drew_Scatterday.ipynb\" target=\"_parent\"><img src=\"https://colab.research.google.com/assets/colab-badge.svg\" alt=\"Open In Colab\"/></a>"
      ]
    },
    {
      "cell_type": "markdown",
      "metadata": {
        "id": "nG5q7aQ2T7yt"
      },
      "source": [
        "https://towardsdatascience.com/walking-through-support-vector-regression-and-lstms-with-stock-price-prediction-45e11b620650"
      ]
    },
    {
      "cell_type": "code",
      "metadata": {
        "id": "imVL_RBkSiEM"
      },
      "source": [
        "import keras\n",
        "from keras.layers import Dense\n",
        "from keras.layers import LSTM\n",
        "from keras.layers import Dropout\n",
        "import pandas as pd \n",
        "import pandas_datareader.data as web\n",
        "import datetime\n",
        "import numpy as np \n",
        "from matplotlib import style\n",
        "from google.colab import files\n",
        "# Visualize the training stock data:\n",
        "import matplotlib.pyplot as plt\n",
        "%matplotlib inline\n",
        "\n",
        "# ignore warnings \n",
        "import warnings\n",
        "warnings.filterwarnings('ignore')"
      ],
      "execution_count": 14,
      "outputs": []
    },
    {
      "cell_type": "code",
      "metadata": {
        "id": "7mgHVWneS0-0",
        "colab": {
          "base_uri": "https://localhost:8080/"
        },
        "outputId": "dd0b77f9-433c-4158-d492-dc3892ebf7b3"
      },
      "source": [
        "# Get the stock data using yahoo API:\n",
        "style.use('ggplot')\n",
        "\n",
        "# get 2014-2018 data to train our model\n",
        "start = datetime.datetime(2014,1,1)\n",
        "end = datetime.datetime(2018,12,31)\n",
        "df = web.DataReader(\"HMSP.JK\", 'yahoo', start, end) \n",
        "\n",
        "# get 2019 data to test our model on \n",
        "start = datetime.datetime(2018,11,13)\n",
        "end = datetime.datetime(2019,12,31)\n",
        "test_df = web.DataReader(\"HMSP.JK\", 'yahoo', start, end) \n",
        "print(df.shape)\n",
        "print(test_df.shape)"
      ],
      "execution_count": 15,
      "outputs": [
        {
          "output_type": "stream",
          "text": [
            "(1251, 6)\n",
            "(293, 6)\n"
          ],
          "name": "stdout"
        }
      ]
    },
    {
      "cell_type": "code",
      "metadata": {
        "colab": {
          "base_uri": "https://localhost:8080/",
          "height": 235
        },
        "id": "9ZwLhp2S9Vrj",
        "outputId": "321ec8fe-cbd7-4bef-b949-985c948d0799"
      },
      "source": [
        "test_df.tail()"
      ],
      "execution_count": 16,
      "outputs": [
        {
          "output_type": "execute_result",
          "data": {
            "text/html": [
              "<div>\n",
              "<style scoped>\n",
              "    .dataframe tbody tr th:only-of-type {\n",
              "        vertical-align: middle;\n",
              "    }\n",
              "\n",
              "    .dataframe tbody tr th {\n",
              "        vertical-align: top;\n",
              "    }\n",
              "\n",
              "    .dataframe thead th {\n",
              "        text-align: right;\n",
              "    }\n",
              "</style>\n",
              "<table border=\"1\" class=\"dataframe\">\n",
              "  <thead>\n",
              "    <tr style=\"text-align: right;\">\n",
              "      <th></th>\n",
              "      <th>High</th>\n",
              "      <th>Low</th>\n",
              "      <th>Open</th>\n",
              "      <th>Close</th>\n",
              "      <th>Volume</th>\n",
              "      <th>Adj Close</th>\n",
              "    </tr>\n",
              "    <tr>\n",
              "      <th>Date</th>\n",
              "      <th></th>\n",
              "      <th></th>\n",
              "      <th></th>\n",
              "      <th></th>\n",
              "      <th></th>\n",
              "      <th></th>\n",
              "    </tr>\n",
              "  </thead>\n",
              "  <tbody>\n",
              "    <tr>\n",
              "      <th>2019-12-20</th>\n",
              "      <td>2100.0</td>\n",
              "      <td>2080.0</td>\n",
              "      <td>2080.0</td>\n",
              "      <td>2100.0</td>\n",
              "      <td>25354900.0</td>\n",
              "      <td>1970.319580</td>\n",
              "    </tr>\n",
              "    <tr>\n",
              "      <th>2019-12-23</th>\n",
              "      <td>2190.0</td>\n",
              "      <td>2090.0</td>\n",
              "      <td>2120.0</td>\n",
              "      <td>2150.0</td>\n",
              "      <td>65262500.0</td>\n",
              "      <td>2017.232056</td>\n",
              "    </tr>\n",
              "    <tr>\n",
              "      <th>2019-12-26</th>\n",
              "      <td>2180.0</td>\n",
              "      <td>2130.0</td>\n",
              "      <td>2170.0</td>\n",
              "      <td>2130.0</td>\n",
              "      <td>29201600.0</td>\n",
              "      <td>1998.467041</td>\n",
              "    </tr>\n",
              "    <tr>\n",
              "      <th>2019-12-27</th>\n",
              "      <td>2160.0</td>\n",
              "      <td>2110.0</td>\n",
              "      <td>2150.0</td>\n",
              "      <td>2130.0</td>\n",
              "      <td>29028200.0</td>\n",
              "      <td>1998.467041</td>\n",
              "    </tr>\n",
              "    <tr>\n",
              "      <th>2019-12-30</th>\n",
              "      <td>2150.0</td>\n",
              "      <td>2100.0</td>\n",
              "      <td>2140.0</td>\n",
              "      <td>2100.0</td>\n",
              "      <td>25544900.0</td>\n",
              "      <td>1970.319580</td>\n",
              "    </tr>\n",
              "  </tbody>\n",
              "</table>\n",
              "</div>"
            ],
            "text/plain": [
              "              High     Low    Open   Close      Volume    Adj Close\n",
              "Date                                                               \n",
              "2019-12-20  2100.0  2080.0  2080.0  2100.0  25354900.0  1970.319580\n",
              "2019-12-23  2190.0  2090.0  2120.0  2150.0  65262500.0  2017.232056\n",
              "2019-12-26  2180.0  2130.0  2170.0  2130.0  29201600.0  1998.467041\n",
              "2019-12-27  2160.0  2110.0  2150.0  2130.0  29028200.0  1998.467041\n",
              "2019-12-30  2150.0  2100.0  2140.0  2100.0  25544900.0  1970.319580"
            ]
          },
          "metadata": {
            "tags": []
          },
          "execution_count": 16
        }
      ]
    },
    {
      "cell_type": "markdown",
      "metadata": {
        "id": "q6AYvdKIMFZ8"
      },
      "source": [
        ""
      ]
    },
    {
      "cell_type": "code",
      "metadata": {
        "id": "H598YUDjU7Sd",
        "colab": {
          "base_uri": "https://localhost:8080/"
        },
        "outputId": "3082924b-5a43-48d4-febe-529a34b35258"
      },
      "source": [
        "# Create train set of adj close prices data:\n",
        "train_data = df.loc[:,'Adj Close'].to_numpy()\n",
        "print(train_data.shape) # 1258 \n",
        "\n",
        "\n",
        "# Apply normalization before feeding to LSTM using sklearn:\n",
        "from sklearn.preprocessing import MinMaxScaler\n",
        "\n",
        "scaler = MinMaxScaler()\n",
        "train_data = train_data.reshape(-1,1)\n",
        "\n",
        "scaler.fit(train_data)\n",
        "train_data = scaler.transform(train_data)"
      ],
      "execution_count": 17,
      "outputs": [
        {
          "output_type": "stream",
          "text": [
            "(1251,)\n"
          ],
          "name": "stdout"
        }
      ]
    },
    {
      "cell_type": "code",
      "metadata": {
        "id": "8ITZZaGnVFTQ",
        "colab": {
          "base_uri": "https://localhost:8080/"
        },
        "outputId": "78ca21b8-e3c9-4603-bd58-1b39c60e4c6d"
      },
      "source": [
        "'''Function to create a dataset to feed into an LSTM'''\n",
        "def create_dataset(dataset, look_back):\n",
        "    dataX, dataY = [], []\n",
        "    for i in range(len(dataset)-look_back):\n",
        "        a = dataset[i:(i + look_back), 0]\n",
        "        dataX.append(a)\n",
        "        dataY.append(dataset[i + look_back, 0])\n",
        "    return np.array(dataX), np.array(dataY)\n",
        "    \n",
        "    \n",
        "# Create the data to train our model on:\n",
        "time_steps = 36\n",
        "X_train, y_train = create_dataset(train_data, time_steps)\n",
        "\n",
        "# reshape it [samples, time steps, features]\n",
        "X_train = np.reshape(X_train, (X_train.shape[0], 36, 1))\n",
        "\n",
        "print(X_train.shape)\n",
        "\n",
        "\n",
        "# Visualizing our data with prints: \n",
        "print('X_train:')\n",
        "print(str(scaler.inverse_transform(X_train[0])))\n",
        "print(\"\\n\")\n",
        "print('y_train: ' + str(scaler.inverse_transform(y_train[0].reshape(-1,1)))+'\\n')"
      ],
      "execution_count": 18,
      "outputs": [
        {
          "output_type": "stream",
          "text": [
            "(1215, 36, 1)\n",
            "X_train:\n",
            "[[1845.97399902]\n",
            " [1844.49633789]\n",
            " [1819.37072754]\n",
            " [1807.546875  ]\n",
            " [1795.72351074]\n",
            " [1789.81164551]\n",
            " [1803.11303711]\n",
            " [1817.89282227]\n",
            " [1891.7911377 ]\n",
            " [1891.7911377 ]\n",
            " [1891.7911377 ]\n",
            " [1890.31274414]\n",
            " [1902.13659668]\n",
            " [1906.57067871]\n",
            " [1920.61120605]\n",
            " [2002.63793945]\n",
            " [2001.16040039]\n",
            " [1952.38720703]\n",
            " [1949.43151855]\n",
            " [1981.9465332 ]\n",
            " [1965.68920898]\n",
            " [1977.51306152]\n",
            " [2011.5057373 ]\n",
            " [2061.75634766]\n",
            " [2098.70556641]\n",
            " [2098.70556641]\n",
            " [2098.70556641]\n",
            " [2045.49865723]\n",
            " [2061.75634766]\n",
            " [2046.97668457]\n",
            " [2046.97668457]\n",
            " [2039.58666992]\n",
            " [2036.63085938]\n",
            " [2036.63085938]\n",
            " [2030.71911621]\n",
            " [2030.71911621]]\n",
            "\n",
            "\n",
            "y_train: [[2024.80737305]]\n",
            "\n"
          ],
          "name": "stdout"
        }
      ]
    },
    {
      "cell_type": "code",
      "metadata": {
        "id": "pmuzZ5TqVR8O",
        "colab": {
          "base_uri": "https://localhost:8080/"
        },
        "outputId": "5ad36054-b0b1-4017-90b4-32df4100b1e1"
      },
      "source": [
        "# Build the model \n",
        "model = keras.Sequential()\n",
        "\n",
        "model.add(LSTM(units = 100, return_sequences = True, input_shape = (X_train.shape[1], 1)))\n",
        "model.add(Dropout(0.2))\n",
        "\n",
        "model.add(LSTM(units = 100))\n",
        "model.add(Dropout(0.2))\n",
        "\n",
        "# Output layer\n",
        "model.add(Dense(units = 1))\n",
        "\n",
        "# Compiling the model\n",
        "model.compile(optimizer = 'adam', loss = 'mean_squared_error')\n",
        "\n",
        "# Fitting the model to the Training set\n",
        "history = model.fit(X_train, y_train, epochs = 20, batch_size = 10, validation_split=.30)"
      ],
      "execution_count": 19,
      "outputs": [
        {
          "output_type": "stream",
          "text": [
            "Epoch 1/20\n",
            "85/85 [==============================] - 6s 45ms/step - loss: 0.0210 - val_loss: 0.0022\n",
            "Epoch 2/20\n",
            "85/85 [==============================] - 3s 36ms/step - loss: 0.0018 - val_loss: 0.0023\n",
            "Epoch 3/20\n",
            "85/85 [==============================] - 3s 36ms/step - loss: 0.0015 - val_loss: 0.0018\n",
            "Epoch 4/20\n",
            "85/85 [==============================] - 3s 36ms/step - loss: 0.0018 - val_loss: 0.0020\n",
            "Epoch 5/20\n",
            "85/85 [==============================] - 3s 36ms/step - loss: 0.0015 - val_loss: 0.0018\n",
            "Epoch 6/20\n",
            "85/85 [==============================] - 3s 36ms/step - loss: 0.0012 - val_loss: 0.0019\n",
            "Epoch 7/20\n",
            "85/85 [==============================] - 3s 36ms/step - loss: 0.0012 - val_loss: 0.0028\n",
            "Epoch 8/20\n",
            "85/85 [==============================] - 3s 36ms/step - loss: 0.0015 - val_loss: 0.0022\n",
            "Epoch 9/20\n",
            "85/85 [==============================] - 3s 37ms/step - loss: 0.0013 - val_loss: 0.0017\n",
            "Epoch 10/20\n",
            "85/85 [==============================] - 3s 36ms/step - loss: 0.0014 - val_loss: 0.0028\n",
            "Epoch 11/20\n",
            "85/85 [==============================] - 3s 36ms/step - loss: 0.0013 - val_loss: 0.0016\n",
            "Epoch 12/20\n",
            "85/85 [==============================] - 3s 36ms/step - loss: 0.0011 - val_loss: 0.0023\n",
            "Epoch 13/20\n",
            "85/85 [==============================] - 3s 36ms/step - loss: 0.0013 - val_loss: 0.0030\n",
            "Epoch 14/20\n",
            "85/85 [==============================] - 3s 35ms/step - loss: 0.0010 - val_loss: 0.0027\n",
            "Epoch 15/20\n",
            "85/85 [==============================] - 3s 36ms/step - loss: 9.9351e-04 - val_loss: 0.0016\n",
            "Epoch 16/20\n",
            "85/85 [==============================] - 3s 36ms/step - loss: 0.0012 - val_loss: 0.0026\n",
            "Epoch 17/20\n",
            "85/85 [==============================] - 3s 36ms/step - loss: 0.0013 - val_loss: 0.0026\n",
            "Epoch 18/20\n",
            "85/85 [==============================] - 3s 36ms/step - loss: 0.0012 - val_loss: 0.0016\n",
            "Epoch 19/20\n",
            "85/85 [==============================] - 3s 36ms/step - loss: 0.0010 - val_loss: 0.0028\n",
            "Epoch 20/20\n",
            "85/85 [==============================] - 3s 36ms/step - loss: 9.2123e-04 - val_loss: 0.0024\n"
          ],
          "name": "stdout"
        }
      ]
    },
    {
      "cell_type": "code",
      "metadata": {
        "id": "gSKBnwssVVJf",
        "colab": {
          "base_uri": "https://localhost:8080/",
          "height": 299
        },
        "outputId": "58b769e2-0f81-4a64-c507-9430ccffb686"
      },
      "source": [
        "# Plot training & validation loss values\n",
        "plt.plot(history.history['loss'])\n",
        "plt.plot(history.history['val_loss'])\n",
        "plt.title('Model loss')\n",
        "plt.ylabel('Loss')\n",
        "plt.xlabel('Epoch')\n",
        "plt.legend(['Train', 'Test'], loc='upper left')\n",
        "plt.show()"
      ],
      "execution_count": 20,
      "outputs": [
        {
          "output_type": "display_data",
          "data": {
            "image/png": "[encoded data removed]",
            "text/plain": [
              "<Figure size 432x288 with 1 Axes>"
            ]
          },
          "metadata": {
            "tags": []
          }
        }
      ]
    },
    {
      "cell_type": "code",
      "metadata": {
        "id": "bawmbe-aVYTG"
      },
      "source": [
        "# Get the stock prices for 2019 to have our model make the predictions\n",
        "test_data = test_df['Adj Close'].values\n",
        "test_data = test_data.reshape(-1,1)\n",
        "test_data = scaler.transform(test_data)\n",
        "\n",
        "# Create the data to test our model on:\n",
        "time_steps = 36\n",
        "X_test, y_test = create_dataset(test_data, time_steps)\n",
        "\n",
        "# store the original vals for plotting the predictions \n",
        "y_test = y_test.reshape(-1,1)\n",
        "org_y = scaler.inverse_transform(y_test)\n",
        "\n",
        "# reshape it [samples, time steps, features]\n",
        "X_test = np.reshape(X_test, (X_test.shape[0], 36, 1))\n",
        "\n",
        "# Predict the prices with the model\n",
        "predicted_y = model.predict(X_test)\n",
        "predicted_y = scaler.inverse_transform(predicted_y)\n",
        "\n",
        "\n"
      ],
      "execution_count": 21,
      "outputs": []
    },
    {
      "cell_type": "code",
      "metadata": {
        "id": "6tZBQAMAkUMg"
      },
      "source": [
        "# Get the stock prices for 2019 to have our model make the predictions\n",
        "test_data = test_df['Adj Close'].values\n",
        "test_data = test_data.reshape(-1,1)\n",
        "test_data = scaler.transform(test_data)\n",
        "\n",
        "# Create the data to test our model on:\n",
        "time_steps = 36\n",
        "X_test, y_test = create_dataset(test_data, time_steps)\n",
        "\n",
        "# store the original vals for plotting the predictions \n",
        "y_test = y_test.reshape(-1,1)\n",
        "org_y = scaler.inverse_transform(y_test)\n",
        "\n",
        "# reshape it [samples, time steps, features]\n",
        "X_test = np.reshape(X_test, (X_test.shape[0], 36, 1))\n",
        "\n",
        "# Predict the prices with the model\n",
        "predicted_y = model.predict(X_test)\n",
        "predicted_y = scaler.inverse_transform(predicted_y)\n"
      ],
      "execution_count": 22,
      "outputs": []
    },
    {
      "cell_type": "code",
      "metadata": {
        "id": "haqzsfH7iASX",
        "colab": {
          "base_uri": "https://localhost:8080/",
          "height": 359
        },
        "outputId": "febaeae4-eccd-4ead-f2b3-fb98b91a9b7c"
      },
      "source": [
        "predicted_y = pd.DataFrame(predicted_y)\n",
        "org_y = pd.DataFrame(org_y)\n",
        "concat = pd.DataFrame()\n",
        "concat['Real_Value'] = org_y[0]\n",
        "concat['Predict_Value'] = predicted_y[0]\n",
        "concat['Selisih'] = concat['Real_Value'] - concat['Predict_Value']\n",
        "concat['Lost/Risk (%)'] = concat['Selisih']/concat['Predict_Value']*100\n",
        "concat.head(10)"
      ],
      "execution_count": 23,
      "outputs": [
        {
          "output_type": "execute_result",
          "data": {
            "text/html": [
              "<div>\n",
              "<style scoped>\n",
              "    .dataframe tbody tr th:only-of-type {\n",
              "        vertical-align: middle;\n",
              "    }\n",
              "\n",
              "    .dataframe tbody tr th {\n",
              "        vertical-align: top;\n",
              "    }\n",
              "\n",
              "    .dataframe thead th {\n",
              "        text-align: right;\n",
              "    }\n",
              "</style>\n",
              "<table border=\"1\" class=\"dataframe\">\n",
              "  <thead>\n",
              "    <tr style=\"text-align: right;\">\n",
              "      <th></th>\n",
              "      <th>Real_Value</th>\n",
              "      <th>Predict_Value</th>\n",
              "      <th>Selisih</th>\n",
              "      <th>Lost/Risk (%)</th>\n",
              "    </tr>\n",
              "  </thead>\n",
              "  <tbody>\n",
              "    <tr>\n",
              "      <th>0</th>\n",
              "      <td>3411.569092</td>\n",
              "      <td>3366.714844</td>\n",
              "      <td>44.854248</td>\n",
              "      <td>1.332285</td>\n",
              "    </tr>\n",
              "    <tr>\n",
              "      <th>1</th>\n",
              "      <td>3520.159912</td>\n",
              "      <td>3355.061279</td>\n",
              "      <td>165.098633</td>\n",
              "      <td>4.920883</td>\n",
              "    </tr>\n",
              "    <tr>\n",
              "      <th>2</th>\n",
              "      <td>3592.553955</td>\n",
              "      <td>3368.391846</td>\n",
              "      <td>224.162109</td>\n",
              "      <td>6.654870</td>\n",
              "    </tr>\n",
              "    <tr>\n",
              "      <th>3</th>\n",
              "      <td>3538.258545</td>\n",
              "      <td>3400.676758</td>\n",
              "      <td>137.581787</td>\n",
              "      <td>4.045718</td>\n",
              "    </tr>\n",
              "    <tr>\n",
              "      <th>4</th>\n",
              "      <td>3474.913818</td>\n",
              "      <td>3425.996582</td>\n",
              "      <td>48.917236</td>\n",
              "      <td>1.427825</td>\n",
              "    </tr>\n",
              "    <tr>\n",
              "      <th>5</th>\n",
              "      <td>3447.765869</td>\n",
              "      <td>3434.540039</td>\n",
              "      <td>13.225830</td>\n",
              "      <td>0.385083</td>\n",
              "    </tr>\n",
              "    <tr>\n",
              "      <th>6</th>\n",
              "      <td>3483.963135</td>\n",
              "      <td>3430.822266</td>\n",
              "      <td>53.140869</td>\n",
              "      <td>1.548925</td>\n",
              "    </tr>\n",
              "    <tr>\n",
              "      <th>7</th>\n",
              "      <td>3483.963135</td>\n",
              "      <td>3428.462891</td>\n",
              "      <td>55.500244</td>\n",
              "      <td>1.618808</td>\n",
              "    </tr>\n",
              "    <tr>\n",
              "      <th>8</th>\n",
              "      <td>3429.667480</td>\n",
              "      <td>3426.527588</td>\n",
              "      <td>3.139893</td>\n",
              "      <td>0.091635</td>\n",
              "    </tr>\n",
              "    <tr>\n",
              "      <th>9</th>\n",
              "      <td>3483.963135</td>\n",
              "      <td>3416.451416</td>\n",
              "      <td>67.511719</td>\n",
              "      <td>1.976077</td>\n",
              "    </tr>\n",
              "  </tbody>\n",
              "</table>\n",
              "</div>"
            ],
            "text/plain": [
              "    Real_Value  Predict_Value     Selisih  Lost/Risk (%)\n",
              "0  3411.569092    3366.714844   44.854248       1.332285\n",
              "1  3520.159912    3355.061279  165.098633       4.920883\n",
              "2  3592.553955    3368.391846  224.162109       6.654870\n",
              "3  3538.258545    3400.676758  137.581787       4.045718\n",
              "4  3474.913818    3425.996582   48.917236       1.427825\n",
              "5  3447.765869    3434.540039   13.225830       0.385083\n",
              "6  3483.963135    3430.822266   53.140869       1.548925\n",
              "7  3483.963135    3428.462891   55.500244       1.618808\n",
              "8  3429.667480    3426.527588    3.139893       0.091635\n",
              "9  3483.963135    3416.451416   67.511719       1.976077"
            ]
          },
          "metadata": {
            "tags": []
          },
          "execution_count": 23
        }
      ]
    },
    {
      "cell_type": "code",
      "metadata": {
        "id": "3gxY1cKkDexC",
        "colab": {
          "base_uri": "https://localhost:8080/",
          "height": 297
        },
        "outputId": "ab798e94-cde4-48dd-cb1a-9ea4a900391c"
      },
      "source": [
        "concat.describe()"
      ],
      "execution_count": 24,
      "outputs": [
        {
          "output_type": "execute_result",
          "data": {
            "text/html": [
              "<div>\n",
              "<style scoped>\n",
              "    .dataframe tbody tr th:only-of-type {\n",
              "        vertical-align: middle;\n",
              "    }\n",
              "\n",
              "    .dataframe tbody tr th {\n",
              "        vertical-align: top;\n",
              "    }\n",
              "\n",
              "    .dataframe thead th {\n",
              "        text-align: right;\n",
              "    }\n",
              "</style>\n",
              "<table border=\"1\" class=\"dataframe\">\n",
              "  <thead>\n",
              "    <tr style=\"text-align: right;\">\n",
              "      <th></th>\n",
              "      <th>Real_Value</th>\n",
              "      <th>Predict_Value</th>\n",
              "      <th>Selisih</th>\n",
              "      <th>Lost/Risk (%)</th>\n",
              "    </tr>\n",
              "  </thead>\n",
              "  <tbody>\n",
              "    <tr>\n",
              "      <th>count</th>\n",
              "      <td>257.000000</td>\n",
              "      <td>257.000000</td>\n",
              "      <td>257.000000</td>\n",
              "      <td>257.000000</td>\n",
              "    </tr>\n",
              "    <tr>\n",
              "      <th>mean</th>\n",
              "      <td>2803.837003</td>\n",
              "      <td>2808.481201</td>\n",
              "      <td>-4.643573</td>\n",
              "      <td>-0.247003</td>\n",
              "    </tr>\n",
              "    <tr>\n",
              "      <th>std</th>\n",
              "      <td>568.390362</td>\n",
              "      <td>547.928284</td>\n",
              "      <td>84.198588</td>\n",
              "      <td>3.187923</td>\n",
              "    </tr>\n",
              "    <tr>\n",
              "      <th>min</th>\n",
              "      <td>1782.670166</td>\n",
              "      <td>1789.774292</td>\n",
              "      <td>-470.188721</td>\n",
              "      <td>-17.954526</td>\n",
              "    </tr>\n",
              "    <tr>\n",
              "      <th>25%</th>\n",
              "      <td>2148.586670</td>\n",
              "      <td>2158.644531</td>\n",
              "      <td>-54.631836</td>\n",
              "      <td>-1.873840</td>\n",
              "    </tr>\n",
              "    <tr>\n",
              "      <th>50%</th>\n",
              "      <td>2983.626953</td>\n",
              "      <td>2998.912842</td>\n",
              "      <td>3.509521</td>\n",
              "      <td>0.176419</td>\n",
              "    </tr>\n",
              "    <tr>\n",
              "      <th>75%</th>\n",
              "      <td>3357.273438</td>\n",
              "      <td>3332.223389</td>\n",
              "      <td>48.917236</td>\n",
              "      <td>1.759343</td>\n",
              "    </tr>\n",
              "    <tr>\n",
              "      <th>max</th>\n",
              "      <td>3592.553955</td>\n",
              "      <td>3434.540039</td>\n",
              "      <td>224.162109</td>\n",
              "      <td>8.925610</td>\n",
              "    </tr>\n",
              "  </tbody>\n",
              "</table>\n",
              "</div>"
            ],
            "text/plain": [
              "        Real_Value  Predict_Value     Selisih  Lost/Risk (%)\n",
              "count   257.000000     257.000000  257.000000     257.000000\n",
              "mean   2803.837003    2808.481201   -4.643573      -0.247003\n",
              "std     568.390362     547.928284   84.198588       3.187923\n",
              "min    1782.670166    1789.774292 -470.188721     -17.954526\n",
              "25%    2148.586670    2158.644531  -54.631836      -1.873840\n",
              "50%    2983.626953    2998.912842    3.509521       0.176419\n",
              "75%    3357.273438    3332.223389   48.917236       1.759343\n",
              "max    3592.553955    3434.540039  224.162109       8.925610"
            ]
          },
          "metadata": {
            "tags": []
          },
          "execution_count": 24
        }
      ]
    },
    {
      "cell_type": "code",
      "metadata": {
        "id": "xriB7R_tWpAM",
        "colab": {
          "base_uri": "https://localhost:8080/"
        },
        "outputId": "da7511b6-59fc-4613-df11-e562b520b199"
      },
      "source": [
        "# MSE\n",
        "from sklearn.metrics import mean_squared_error, mean_absolute_error\n",
        "print(\"MSE: %.2f\" % mean_squared_error(concat['Real_Value'], concat['Predict_Value']))\n",
        "\n",
        "# The RMSE\n",
        "print(\"RMSE: %.2f\" % mean_squared_error(concat['Real_Value'], concat['Predict_Value'], squared=False))\n",
        "\n",
        "# The MAE\n",
        "print(\"MAE: %.2f\" % mean_absolute_error(concat['Real_Value'], concat['Predict_Value']))\n",
        "\n",
        "# Explained variance score: 1 is perfect prediction\n",
        "from sklearn.metrics import r2_score\n",
        "print('R2 score: %.2f' % r2_score(concat['Real_Value'], concat['Predict_Value']))"
      ],
      "execution_count": 25,
      "outputs": [
        {
          "output_type": "stream",
          "text": [
            "MSE: 7083.38\n",
            "RMSE: 84.16\n",
            "MAE: 61.86\n",
            "R2 score: 0.98\n"
          ],
          "name": "stdout"
        }
      ]
    },
    {
      "cell_type": "code",
      "metadata": {
        "id": "QF5LdxyJb0bT",
        "colab": {
          "base_uri": "https://localhost:8080/",
          "height": 299
        },
        "outputId": "9388b6ae-da76-4b3b-b273-3c2fe44322e2"
      },
      "source": [
        "# plot the results \n",
        "plt.plot(concat['Real_Value'], color = 'red', label = 'Real Stock Price')\n",
        "plt.plot(concat['Predict_Value'], color = 'blue', label = 'Predicted Stock Price')\n",
        "plt.title('Stock Price Prediction')\n",
        "plt.xlabel('Time')\n",
        "plt.ylabel('Stock Price')\n",
        "plt.legend()\n",
        "plt.savefig('Stock Price SVR LSTM 1.png')\n",
        "files.download(\"Stock Price SVR LSTM 1.png\")\n",
        "plt.show()"
      ],
      "execution_count": 26,
      "outputs": [
        {
          "output_type": "display_data",
          "data": {
            "application/javascript": [
              "\n",
              "    async function download(id, filename, size) {\n",
              "      if (!google.colab.kernel.accessAllowed) {\n",
              "        return;\n",
              "      }\n",
              "      const div = document.createElement('div');\n",
              "      const label = document.createElement('label');\n",
              "      label.textContent = `Downloading \"${filename}\": `;\n",
              "      div.appendChild(label);\n",
              "      const progress = document.createElement('progress');\n",
              "      progress.max = size;\n",
              "      div.appendChild(progress);\n",
              "      document.body.appendChild(div);\n",
              "\n",
              "      const buffers = [];\n",
              "      let downloaded = 0;\n",
              "\n",
              "      const channel = await google.colab.kernel.comms.open(id);\n",
              "      // Send a message to notify the kernel that we're ready.\n",
              "      channel.send({})\n",
              "\n",
              "      for await (const message of channel.messages) {\n",
              "        // Send a message to notify the kernel that we're ready.\n",
              "        channel.send({})\n",
              "        if (message.buffers) {\n",
              "          for (const buffer of message.buffers) {\n",
              "            buffers.push(buffer);\n",
              "            downloaded += buffer.byteLength;\n",
              "            progress.value = downloaded;\n",
              "          }\n",
              "        }\n",
              "      }\n",
              "      const blob = new Blob(buffers, {type: 'application/binary'});\n",
              "      const a = document.createElement('a');\n",
              "      a.href = window.URL.createObjectURL(blob);\n",
              "      a.download = filename;\n",
              "      div.appendChild(a);\n",
              "      a.click();\n",
              "      div.remove();\n",
              "    }\n",
              "  "
            ],
            "text/plain": [
              "<IPython.core.display.Javascript object>"
            ]
          },
          "metadata": {
            "tags": []
          }
        },
        {
          "output_type": "display_data",
          "data": {
            "application/javascript": [
              "download(\"download_d0bac091-75f0-4286-9969-26709a8dbb3e\", \"Stock Price SVR LSTM 1.png\", 29354)"
            ],
            "text/plain": [
              "<IPython.core.display.Javascript object>"
            ]
          },
          "metadata": {
            "tags": []
          }
        },
        {
          "output_type": "display_data",
          "data": {
            "image/png": "[encoded data removed]",
            "text/plain": [
              "<Figure size 432x288 with 1 Axes>"
            ]
          },
          "metadata": {
            "tags": []
          }
        }
      ]
    }
  ]
}