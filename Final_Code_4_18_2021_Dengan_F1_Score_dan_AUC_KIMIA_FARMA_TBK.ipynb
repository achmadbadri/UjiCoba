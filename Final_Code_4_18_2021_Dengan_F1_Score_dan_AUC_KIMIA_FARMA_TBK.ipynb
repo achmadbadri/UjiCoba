{
  "nbformat": 4,
  "nbformat_minor": 0,
  "metadata": {
    "colab": {
      "name": "Final Code - 4/18/2021 - Dengan F1 Score dan AUC - KIMIA FARMA TBK",
      "provenance": [],
      "collapsed_sections": [],
      "authorship_tag": "ABX9TyNtMB+1/fUNUH673BnAEazh",
      "include_colab_link": true
    },
    "kernelspec": {
      "display_name": "Python 3",
      "name": "python3"
    }
  },
  "cells": [
    {
      "cell_type": "markdown",
      "metadata": {
        "id": "view-in-github",
        "colab_type": "text"
      },
      "source": [
        "<a href=\"https://colab.research.google.com/github/achmadbadri/UjiCoba/blob/main/Final_Code_4_18_2021_Dengan_F1_Score_dan_AUC_KIMIA_FARMA_TBK.ipynb\" target=\"_parent\"><img src=\"https://colab.research.google.com/assets/colab-badge.svg\" alt=\"Open In Colab\"/></a>"
      ]
    },
    {
      "cell_type": "markdown",
      "metadata": {
        "id": "nG5q7aQ2T7yt"
      },
      "source": [
        "https://towardsdatascience.com/walking-through-support-vector-regression-and-lstms-with-stock-price-prediction-45e11b620650"
      ]
    },
    {
      "cell_type": "code",
      "metadata": {
        "id": "imVL_RBkSiEM"
      },
      "source": [
        "import keras\n",
        "from keras.layers import Dense\n",
        "from keras.layers import LSTM\n",
        "from keras.layers import Dropout\n",
        "import pandas as pd \n",
        "import pandas_datareader.data as web\n",
        "import datetime\n",
        "import numpy as np \n",
        "from matplotlib import style\n",
        "from google.colab import files\n",
        "# Visualize the training stock data:\n",
        "import matplotlib.pyplot as plt\n",
        "%matplotlib inline\n",
        "\n",
        "# ignore warnings \n",
        "import warnings\n",
        "warnings.filterwarnings('ignore')"
      ],
      "execution_count": 34,
      "outputs": []
    },
    {
      "cell_type": "code",
      "metadata": {
        "colab": {
          "base_uri": "https://localhost:8080/"
        },
        "id": "7mgHVWneS0-0",
        "outputId": "e1bc41ba-d3ca-423a-82e2-488ada8845a4"
      },
      "source": [
        "# Get the stock data using yahoo API:\n",
        "style.use('ggplot')\n",
        "\n",
        "# get 2014-2018 data to train our model\n",
        "start = datetime.datetime(2014,1,1)\n",
        "end = datetime.datetime(2018,12,31)\n",
        "df = web.DataReader(\"KAEF.JK\", 'yahoo', start, end) \n",
        "\n",
        "# get 2019 data to test our model on \n",
        "start = datetime.datetime(2018,11,13)\n",
        "end = datetime.datetime(2019,12,31)\n",
        "test_df = web.DataReader(\"KAEF.JK\", 'yahoo', start, end) \n",
        "print(df.shape)\n",
        "print(test_df.shape)"
      ],
      "execution_count": 35,
      "outputs": [
        {
          "output_type": "stream",
          "text": [
            "(1251, 6)\n",
            "(292, 6)\n"
          ],
          "name": "stdout"
        }
      ]
    },
    {
      "cell_type": "markdown",
      "metadata": {
        "id": "q6AYvdKIMFZ8"
      },
      "source": [
        ""
      ]
    },
    {
      "cell_type": "code",
      "metadata": {
        "colab": {
          "base_uri": "https://localhost:8080/"
        },
        "id": "H598YUDjU7Sd",
        "outputId": "6a5ccec9-a1b2-49ab-e20d-68dd13dd9a88"
      },
      "source": [
        "# Create train set of adj close prices data:\n",
        "train_data = df.loc[:,'Adj Close'].to_numpy()\n",
        "print(train_data.shape) # 1258 \n",
        "\n",
        "\n",
        "# Apply normalization before feeding to LSTM using sklearn:\n",
        "from sklearn.preprocessing import MinMaxScaler\n",
        "\n",
        "scaler = MinMaxScaler()\n",
        "train_data = train_data.reshape(-1,1)\n",
        "\n",
        "scaler.fit(train_data)\n",
        "train_data = scaler.transform(train_data)"
      ],
      "execution_count": 36,
      "outputs": [
        {
          "output_type": "stream",
          "text": [
            "(1251,)\n"
          ],
          "name": "stdout"
        }
      ]
    },
    {
      "cell_type": "code",
      "metadata": {
        "colab": {
          "base_uri": "https://localhost:8080/"
        },
        "id": "8ITZZaGnVFTQ",
        "outputId": "6788f69b-9252-4893-f9fb-e34869b68ba8"
      },
      "source": [
        "'''Function to create a dataset to feed into an LSTM'''\n",
        "def create_dataset(dataset, look_back):\n",
        "    dataX, dataY = [], []\n",
        "    for i in range(len(dataset)-look_back):\n",
        "        a = dataset[i:(i + look_back), 0]\n",
        "        dataX.append(a)\n",
        "        dataY.append(dataset[i + look_back, 0])\n",
        "    return np.array(dataX), np.array(dataY)\n",
        "    \n",
        "    \n",
        "# Create the data to train our model on:\n",
        "time_steps = 36\n",
        "X_train, y_train = create_dataset(train_data, time_steps)\n",
        "\n",
        "# reshape it [samples, time steps, features]\n",
        "X_train = np.reshape(X_train, (X_train.shape[0], 36, 1))\n",
        "\n",
        "print(X_train.shape)\n",
        "\n",
        "\n",
        "# Visualizing our data with prints: \n",
        "print('X_train:')\n",
        "print(str(scaler.inverse_transform(X_train[0])))\n",
        "print(\"\\n\")\n",
        "print('y_train: ' + str(scaler.inverse_transform(y_train[0].reshape(-1,1)))+'\\n')"
      ],
      "execution_count": 37,
      "outputs": [
        {
          "output_type": "stream",
          "text": [
            "(1215, 36, 1)\n",
            "X_train:\n",
            "[[588.56066895]\n",
            " [560.08197021]\n",
            " [560.08197021]\n",
            " [569.57495117]\n",
            " [574.32122803]\n",
            " [645.51824951]\n",
            " [697.72912598]\n",
            " [673.99688721]\n",
            " [645.51824951]\n",
            " [626.53234863]\n",
            " [669.25048828]\n",
            " [683.48980713]\n",
            " [673.99688721]\n",
            " [655.01104736]\n",
            " [659.75756836]\n",
            " [664.50390625]\n",
            " [636.02520752]\n",
            " [655.01104736]\n",
            " [659.75756836]\n",
            " [655.01104736]\n",
            " [659.75756836]\n",
            " [697.72912598]\n",
            " [692.98278809]\n",
            " [697.72912598]\n",
            " [692.98278809]\n",
            " [683.48980713]\n",
            " [726.20794678]\n",
            " [726.20794678]\n",
            " [730.95446777]\n",
            " [730.95446777]\n",
            " [730.95446777]\n",
            " [716.71502686]\n",
            " [716.71502686]\n",
            " [721.46148682]\n",
            " [735.7008667 ]\n",
            " [726.20794678]]\n",
            "\n",
            "\n",
            "y_train: [[716.71502686]]\n",
            "\n"
          ],
          "name": "stdout"
        }
      ]
    },
    {
      "cell_type": "code",
      "metadata": {
        "colab": {
          "base_uri": "https://localhost:8080/"
        },
        "id": "pmuzZ5TqVR8O",
        "outputId": "35efa61a-9624-422d-f678-1b1178b386b2"
      },
      "source": [
        "# Build the model \n",
        "model = keras.Sequential()\n",
        "\n",
        "model.add(LSTM(units = 128, return_sequences = True, input_shape = (X_train.shape[1], 1)))\n",
        "#model.add(Dropout(0.2))\n",
        "\n",
        "model.add(LSTM(units = 64, return_sequences = False))\n",
        "#model.add(Dropout(0.2))\n",
        "\n",
        "# Output layer\n",
        "model.add(Dense(units = 32, activation='relu'))\n",
        "model.add(Dense(units = 16,  activation='relu'))\n",
        "model.add(Dense(units = 1, activation= 'linear'))\n",
        "# Compiling the model\n",
        "model.compile(optimizer = 'adam', loss = 'mean_squared_error')\n",
        "\n",
        "# Fitting the model to the Training set\n",
        "history = model.fit(X_train, y_train, epochs = 20, batch_size = 10, validation_split=.30)"
      ],
      "execution_count": 38,
      "outputs": [
        {
          "output_type": "stream",
          "text": [
            "Epoch 1/20\n",
            "85/85 [==============================] - 7s 48ms/step - loss: 0.0304 - val_loss: 0.0068\n",
            "Epoch 2/20\n",
            "85/85 [==============================] - 3s 39ms/step - loss: 0.0032 - val_loss: 0.0031\n",
            "Epoch 3/20\n",
            "85/85 [==============================] - 3s 39ms/step - loss: 0.0027 - val_loss: 0.0018\n",
            "Epoch 4/20\n",
            "85/85 [==============================] - 3s 39ms/step - loss: 0.0029 - val_loss: 0.0017\n",
            "Epoch 5/20\n",
            "85/85 [==============================] - 3s 40ms/step - loss: 0.0020 - val_loss: 0.0026\n",
            "Epoch 6/20\n",
            "85/85 [==============================] - 3s 39ms/step - loss: 0.0015 - val_loss: 0.0019\n",
            "Epoch 7/20\n",
            "85/85 [==============================] - 3s 39ms/step - loss: 0.0018 - val_loss: 0.0010\n",
            "Epoch 8/20\n",
            "85/85 [==============================] - 3s 39ms/step - loss: 0.0012 - val_loss: 0.0036\n",
            "Epoch 9/20\n",
            "85/85 [==============================] - 3s 39ms/step - loss: 0.0014 - val_loss: 9.8330e-04\n",
            "Epoch 10/20\n",
            "85/85 [==============================] - 3s 39ms/step - loss: 0.0014 - val_loss: 0.0088\n",
            "Epoch 11/20\n",
            "85/85 [==============================] - 3s 39ms/step - loss: 0.0017 - val_loss: 0.0012\n",
            "Epoch 12/20\n",
            "85/85 [==============================] - 3s 39ms/step - loss: 9.2520e-04 - val_loss: 9.8835e-04\n",
            "Epoch 13/20\n",
            "85/85 [==============================] - 3s 39ms/step - loss: 0.0011 - val_loss: 7.8806e-04\n",
            "Epoch 14/20\n",
            "85/85 [==============================] - 3s 38ms/step - loss: 0.0011 - val_loss: 7.1146e-04\n",
            "Epoch 15/20\n",
            "85/85 [==============================] - 3s 40ms/step - loss: 9.5648e-04 - val_loss: 0.0016\n",
            "Epoch 16/20\n",
            "85/85 [==============================] - 3s 39ms/step - loss: 0.0011 - val_loss: 0.0011\n",
            "Epoch 17/20\n",
            "85/85 [==============================] - 3s 39ms/step - loss: 9.2678e-04 - val_loss: 7.0034e-04\n",
            "Epoch 18/20\n",
            "85/85 [==============================] - 3s 39ms/step - loss: 0.0011 - val_loss: 0.0012\n",
            "Epoch 19/20\n",
            "85/85 [==============================] - 3s 40ms/step - loss: 7.4976e-04 - val_loss: 6.4746e-04\n",
            "Epoch 20/20\n",
            "85/85 [==============================] - 3s 39ms/step - loss: 6.7361e-04 - val_loss: 5.9132e-04\n"
          ],
          "name": "stdout"
        }
      ]
    },
    {
      "cell_type": "code",
      "metadata": {
        "colab": {
          "base_uri": "https://localhost:8080/"
        },
        "id": "VJAAJ_3JRVIu",
        "outputId": "69807cc0-0319-40a0-eef7-4ea57c82d4e4"
      },
      "source": [
        "model.summary()"
      ],
      "execution_count": 39,
      "outputs": [
        {
          "output_type": "stream",
          "text": [
            "Model: \"sequential_2\"\n",
            "_________________________________________________________________\n",
            "Layer (type)                 Output Shape              Param #   \n",
            "=================================================================\n",
            "lstm_4 (LSTM)                (None, 36, 128)           66560     \n",
            "_________________________________________________________________\n",
            "lstm_5 (LSTM)                (None, 64)                49408     \n",
            "_________________________________________________________________\n",
            "dense_6 (Dense)              (None, 32)                2080      \n",
            "_________________________________________________________________\n",
            "dense_7 (Dense)              (None, 16)                528       \n",
            "_________________________________________________________________\n",
            "dense_8 (Dense)              (None, 1)                 17        \n",
            "=================================================================\n",
            "Total params: 118,593\n",
            "Trainable params: 118,593\n",
            "Non-trainable params: 0\n",
            "_________________________________________________________________\n"
          ],
          "name": "stdout"
        }
      ]
    },
    {
      "cell_type": "code",
      "metadata": {
        "colab": {
          "base_uri": "https://localhost:8080/",
          "height": 299
        },
        "id": "gSKBnwssVVJf",
        "outputId": "5fbcb813-ca43-4020-d898-a46f888e2b90"
      },
      "source": [
        "# Plot training & validation loss values\n",
        "plt.plot(history.history['loss'])\n",
        "plt.plot(history.history['val_loss'])\n",
        "plt.title('Model loss')\n",
        "plt.ylabel('Loss')\n",
        "plt.xlabel('Epoch')\n",
        "plt.legend(['Train', 'Test'], loc='upper left')\n",
        "plt.show()"
      ],
      "execution_count": 40,
      "outputs": [
        {
          "output_type": "display_data",
          "data": {
            "image/png": "[encoded data removed]",
            "text/plain": [
              "<Figure size 432x288 with 1 Axes>"
            ]
          },
          "metadata": {
            "tags": []
          }
        }
      ]
    },
    {
      "cell_type": "code",
      "metadata": {
        "id": "bawmbe-aVYTG"
      },
      "source": [
        "# Get the stock prices for 2019 to have our model make the predictions\n",
        "test_data = test_df['Adj Close'].values\n",
        "test_data = test_data.reshape(-1,1)\n",
        "test_data = scaler.transform(test_data)\n",
        "\n",
        "# Create the data to test our model on:\n",
        "time_steps = 36\n",
        "X_test, y_test = create_dataset(test_data, time_steps)\n",
        "\n",
        "# store the original vals for plotting the predictions \n",
        "y_test = y_test.reshape(-1,1)\n",
        "true = y_test\n",
        "org_y = scaler.inverse_transform(y_test)\n",
        "\n",
        "# reshape it [samples, time steps, features]\n",
        "X_test = np.reshape(X_test, (X_test.shape[0], 36, 1))\n",
        "\n",
        "# Predict the prices with the model\n",
        "predicted_y = model.predict(X_test)\n",
        "pred = predicted_y\n",
        "predicted_y = scaler.inverse_transform(predicted_y)\n"
      ],
      "execution_count": 41,
      "outputs": []
    },
    {
      "cell_type": "code",
      "metadata": {
        "colab": {
          "base_uri": "https://localhost:8080/"
        },
        "id": "TCYMPV6E6iAl",
        "outputId": "2436739b-1f4b-40e4-9e29-15de0186a28c"
      },
      "source": [
        "# MSE\n",
        "difference_array = np.subtract(true, pred)\n",
        "squared_array = np.square(difference_array)\n",
        "mse = squared_array.mean()\n",
        "print(\"MSE :\", mse)\n",
        "\n",
        "# The RMSE\n",
        "from sklearn.metrics import mean_squared_error, mean_absolute_error\n",
        "print(\"RMSE : %.2f\" % mean_squared_error(true, pred, squared=False))\n",
        "\n",
        "# The MAE\n",
        "print(\"MAE : %.2f\" % mean_absolute_error(true, pred))\n",
        "\n",
        "#Mean Absolute Percentange Error\n",
        "MAPE = (np.mean(np.abs((true - pred) / true))) * 100\n",
        "print('MAPE : ', MAPE)\n",
        "\n",
        "# Explained variance score: 1 is perfect prediction\n",
        "from sklearn.metrics import r2_score\n",
        "print('R2 score: %.2f' % r2_score(true, pred))"
      ],
      "execution_count": 42,
      "outputs": [
        {
          "output_type": "stream",
          "text": [
            "MSE : 0.0014116154120386655\n",
            "RMSE : 0.04\n",
            "MAE : 0.02\n",
            "MAPE :  3.627392537947685\n",
            "R2 score: 0.97\n"
          ],
          "name": "stdout"
        }
      ]
    },
    {
      "cell_type": "markdown",
      "metadata": {
        "id": "m0RAfWtxDfnB"
      },
      "source": [
        "We choose the mean square error MSE of all samples as our metric. It can be calculated through Eqn. (47) using test set. Notice that the MSE we calculated are derived from normalized data. That's because there exists huge value gap among di\u000berent stocks. if we use original stock price to evaluate error, the error of high price stocks would probably be much more larger than low price ones, which implies models perform better on high price stocks would very likely to have better overall performance. Thus the performance on low price stocks would become dispensable. To avoid the bias caused by the aforementioned problem we evaluate the error with normalized stock price ranged from -1 to 1. (Li, H., Shen, Y., dan Zhu, Y. 2018. Stock Price Prediction Using attention-based Multi-Input LSTM)"
      ]
    },
    {
      "cell_type": "code",
      "metadata": {
        "id": "Y47_DyXm9Ysk",
        "colab": {
          "base_uri": "https://localhost:8080/",
          "height": 297
        },
        "outputId": "ca79fa40-1064-4a45-a3c8-cf4fd52df4c4"
      },
      "source": [
        "predicted_y = pd.DataFrame(predicted_y)\n",
        "org_y = pd.DataFrame(org_y)\n",
        "describe = pd.DataFrame()\n",
        "describe['True Price'] = org_y[0]\n",
        "describe['Prediction'] = predicted_y[0]\n",
        "describe['difference'] = org_y[0] - predicted_y[0]\n",
        "describe['MAPE (%)'] = abs(describe['difference']/org_y[0]*100)\n",
        "describe.describe()"
      ],
      "execution_count": 43,
      "outputs": [
        {
          "output_type": "execute_result",
          "data": {
            "text/html": [
              "<div>\n",
              "<style scoped>\n",
              "    .dataframe tbody tr th:only-of-type {\n",
              "        vertical-align: middle;\n",
              "    }\n",
              "\n",
              "    .dataframe tbody tr th {\n",
              "        vertical-align: top;\n",
              "    }\n",
              "\n",
              "    .dataframe thead th {\n",
              "        text-align: right;\n",
              "    }\n",
              "</style>\n",
              "<table border=\"1\" class=\"dataframe\">\n",
              "  <thead>\n",
              "    <tr style=\"text-align: right;\">\n",
              "      <th></th>\n",
              "      <th>True Price</th>\n",
              "      <th>Prediction</th>\n",
              "      <th>difference</th>\n",
              "      <th>MAPE (%)</th>\n",
              "    </tr>\n",
              "  </thead>\n",
              "  <tbody>\n",
              "    <tr>\n",
              "      <th>count</th>\n",
              "      <td>256.000000</td>\n",
              "      <td>256.000000</td>\n",
              "      <td>256.000000</td>\n",
              "      <td>256.000000</td>\n",
              "    </tr>\n",
              "    <tr>\n",
              "      <th>mean</th>\n",
              "      <td>2903.674191</td>\n",
              "      <td>2881.842285</td>\n",
              "      <td>21.832163</td>\n",
              "      <td>2.588063</td>\n",
              "    </tr>\n",
              "    <tr>\n",
              "      <th>std</th>\n",
              "      <td>555.837700</td>\n",
              "      <td>526.484802</td>\n",
              "      <td>98.448555</td>\n",
              "      <td>3.591228</td>\n",
              "    </tr>\n",
              "    <tr>\n",
              "      <th>min</th>\n",
              "      <td>1020.000000</td>\n",
              "      <td>1047.389526</td>\n",
              "      <td>-308.449951</td>\n",
              "      <td>0.003605</td>\n",
              "    </tr>\n",
              "    <tr>\n",
              "      <th>25%</th>\n",
              "      <td>2795.072205</td>\n",
              "      <td>2774.053650</td>\n",
              "      <td>-21.783936</td>\n",
              "      <td>0.561235</td>\n",
              "    </tr>\n",
              "    <tr>\n",
              "      <th>50%</th>\n",
              "      <td>3040.608887</td>\n",
              "      <td>3020.370605</td>\n",
              "      <td>15.680664</td>\n",
              "      <td>1.390877</td>\n",
              "    </tr>\n",
              "    <tr>\n",
              "      <th>75%</th>\n",
              "      <td>3280.000000</td>\n",
              "      <td>3241.313782</td>\n",
              "      <td>51.953308</td>\n",
              "      <td>2.537074</td>\n",
              "    </tr>\n",
              "    <tr>\n",
              "      <th>max</th>\n",
              "      <td>3742.287842</td>\n",
              "      <td>3645.644287</td>\n",
              "      <td>449.949219</td>\n",
              "      <td>20.239304</td>\n",
              "    </tr>\n",
              "  </tbody>\n",
              "</table>\n",
              "</div>"
            ],
            "text/plain": [
              "        True Price   Prediction  difference    MAPE (%)\n",
              "count   256.000000   256.000000  256.000000  256.000000\n",
              "mean   2903.674191  2881.842285   21.832163    2.588063\n",
              "std     555.837700   526.484802   98.448555    3.591228\n",
              "min    1020.000000  1047.389526 -308.449951    0.003605\n",
              "25%    2795.072205  2774.053650  -21.783936    0.561235\n",
              "50%    3040.608887  3020.370605   15.680664    1.390877\n",
              "75%    3280.000000  3241.313782   51.953308    2.537074\n",
              "max    3742.287842  3645.644287  449.949219   20.239304"
            ]
          },
          "metadata": {
            "tags": []
          },
          "execution_count": 43
        }
      ]
    },
    {
      "cell_type": "code",
      "metadata": {
        "colab": {
          "base_uri": "https://localhost:8080/",
          "height": 359
        },
        "id": "UoSeLi8altE4",
        "outputId": "a5e98980-e150-450b-cfac-b6d9422e755a"
      },
      "source": [
        "describe.head(10)"
      ],
      "execution_count": 44,
      "outputs": [
        {
          "output_type": "execute_result",
          "data": {
            "text/html": [
              "<div>\n",
              "<style scoped>\n",
              "    .dataframe tbody tr th:only-of-type {\n",
              "        vertical-align: middle;\n",
              "    }\n",
              "\n",
              "    .dataframe tbody tr th {\n",
              "        vertical-align: top;\n",
              "    }\n",
              "\n",
              "    .dataframe thead th {\n",
              "        text-align: right;\n",
              "    }\n",
              "</style>\n",
              "<table border=\"1\" class=\"dataframe\">\n",
              "  <thead>\n",
              "    <tr style=\"text-align: right;\">\n",
              "      <th></th>\n",
              "      <th>True Price</th>\n",
              "      <th>Prediction</th>\n",
              "      <th>difference</th>\n",
              "      <th>MAPE (%)</th>\n",
              "    </tr>\n",
              "  </thead>\n",
              "  <tbody>\n",
              "    <tr>\n",
              "      <th>0</th>\n",
              "      <td>2508.129150</td>\n",
              "      <td>2573.754639</td>\n",
              "      <td>-65.625488</td>\n",
              "      <td>2.616512</td>\n",
              "    </tr>\n",
              "    <tr>\n",
              "      <th>1</th>\n",
              "      <td>2478.270508</td>\n",
              "      <td>2520.465088</td>\n",
              "      <td>-42.194580</td>\n",
              "      <td>1.702582</td>\n",
              "    </tr>\n",
              "    <tr>\n",
              "      <th>2</th>\n",
              "      <td>2498.176270</td>\n",
              "      <td>2480.356445</td>\n",
              "      <td>17.819824</td>\n",
              "      <td>0.713313</td>\n",
              "    </tr>\n",
              "    <tr>\n",
              "      <th>3</th>\n",
              "      <td>2488.223389</td>\n",
              "      <td>2484.141113</td>\n",
              "      <td>4.082275</td>\n",
              "      <td>0.164064</td>\n",
              "    </tr>\n",
              "    <tr>\n",
              "      <th>4</th>\n",
              "      <td>2458.364746</td>\n",
              "      <td>2484.574707</td>\n",
              "      <td>-26.209961</td>\n",
              "      <td>1.066154</td>\n",
              "    </tr>\n",
              "    <tr>\n",
              "      <th>5</th>\n",
              "      <td>2577.799316</td>\n",
              "      <td>2465.241455</td>\n",
              "      <td>112.557861</td>\n",
              "      <td>4.366432</td>\n",
              "    </tr>\n",
              "    <tr>\n",
              "      <th>6</th>\n",
              "      <td>2557.893555</td>\n",
              "      <td>2540.758057</td>\n",
              "      <td>17.135498</td>\n",
              "      <td>0.669907</td>\n",
              "    </tr>\n",
              "    <tr>\n",
              "      <th>7</th>\n",
              "      <td>2557.893555</td>\n",
              "      <td>2559.911133</td>\n",
              "      <td>-2.017578</td>\n",
              "      <td>0.078877</td>\n",
              "    </tr>\n",
              "    <tr>\n",
              "      <th>8</th>\n",
              "      <td>2528.034912</td>\n",
              "      <td>2559.049316</td>\n",
              "      <td>-31.014404</td>\n",
              "      <td>1.226819</td>\n",
              "    </tr>\n",
              "    <tr>\n",
              "      <th>9</th>\n",
              "      <td>2577.799316</td>\n",
              "      <td>2532.530029</td>\n",
              "      <td>45.269287</td>\n",
              "      <td>1.756121</td>\n",
              "    </tr>\n",
              "  </tbody>\n",
              "</table>\n",
              "</div>"
            ],
            "text/plain": [
              "    True Price   Prediction  difference  MAPE (%)\n",
              "0  2508.129150  2573.754639  -65.625488  2.616512\n",
              "1  2478.270508  2520.465088  -42.194580  1.702582\n",
              "2  2498.176270  2480.356445   17.819824  0.713313\n",
              "3  2488.223389  2484.141113    4.082275  0.164064\n",
              "4  2458.364746  2484.574707  -26.209961  1.066154\n",
              "5  2577.799316  2465.241455  112.557861  4.366432\n",
              "6  2557.893555  2540.758057   17.135498  0.669907\n",
              "7  2557.893555  2559.911133   -2.017578  0.078877\n",
              "8  2528.034912  2559.049316  -31.014404  1.226819\n",
              "9  2577.799316  2532.530029   45.269287  1.756121"
            ]
          },
          "metadata": {
            "tags": []
          },
          "execution_count": 44
        }
      ]
    },
    {
      "cell_type": "code",
      "metadata": {
        "id": "xriB7R_tWpAM",
        "colab": {
          "base_uri": "https://localhost:8080/"
        },
        "outputId": "58c7a998-4adf-4c33-f295-e3b75e681f28"
      },
      "source": [
        "a = np.array(describe['True Price'])\n",
        "b = np.array(describe['Prediction'])\n",
        "\n",
        "# MSE\n",
        "difference_array = np.subtract(a, b)\n",
        "squared_array = np.square(difference_array)\n",
        "mse = squared_array.mean()\n",
        "print(\"MSE :\", mse)\n",
        "\n",
        "# The RMSE\n",
        "print(\"RMSE: %.2f\" % mean_squared_error(a, b, squared=False))\n",
        "\n",
        "# The MAE\n",
        "print(\"MAE: %.2f\" % mean_absolute_error(a, b))\n",
        "\n",
        "#Mean Absolute Percentange Error\n",
        "c = (np.mean(np.abs((a - b) / a))) * 100\n",
        "print('MAPE : ', c)\n",
        "\n",
        "# Explained variance score: 1 is perfect prediction\n",
        "from sklearn.metrics import r2_score\n",
        "print('R2 score: %.2f' % r2_score(a, b))\n",
        "\n"
      ],
      "execution_count": 45,
      "outputs": [
        {
          "output_type": "stream",
          "text": [
            "MSE : 10130.901435265087\n",
            "RMSE: 100.65\n",
            "MAE: 65.14\n",
            "MAPE :  2.5880634553463686\n",
            "R2 score: 0.97\n"
          ],
          "name": "stdout"
        }
      ]
    },
    {
      "cell_type": "code",
      "metadata": {
        "id": "iozJ262YxuM8",
        "colab": {
          "base_uri": "https://localhost:8080/"
        },
        "outputId": "c15de877-055e-4526-febe-10ff04a52a3f"
      },
      "source": [
        "print(model.evaluate(X_train, y_train))\n",
        "print(model.evaluate(X_test, y_test))"
      ],
      "execution_count": 46,
      "outputs": [
        {
          "output_type": "stream",
          "text": [
            "38/38 [==============================] - 1s 17ms/step - loss: 5.9778e-04\n",
            "0.0005977828986942768\n",
            "8/8 [==============================] - 1s 18ms/step - loss: 0.0014\n",
            "0.0014116151724010706\n"
          ],
          "name": "stdout"
        }
      ]
    },
    {
      "cell_type": "code",
      "metadata": {
        "colab": {
          "base_uri": "https://localhost:8080/"
        },
        "id": "JRT-OjnyZ0PP",
        "outputId": "4c847310-e6bd-4c87-a954-459720de99e5"
      },
      "source": [
        "print(model.metrics_names)"
      ],
      "execution_count": 47,
      "outputs": [
        {
          "output_type": "stream",
          "text": [
            "['loss']\n"
          ],
          "name": "stdout"
        }
      ]
    },
    {
      "cell_type": "code",
      "metadata": {
        "id": "qNCPEkeaXNIT"
      },
      "source": [
        "graph  = test_df.drop(test_df.index[0:36])\n",
        "graph.reset_index(inplace=True)\n",
        "graph.rename(columns = {'index':'Date'})\n",
        "graph = graph.drop(columns=['High','Low','Open','Volume','Close'])\n",
        "graph['Predict_Value'] = predicted_y[0]\n",
        "graph.head()\n",
        "graph.set_index('Date', inplace=True)"
      ],
      "execution_count": 48,
      "outputs": []
    },
    {
      "cell_type": "code",
      "metadata": {
        "id": "QF5LdxyJb0bT",
        "colab": {
          "base_uri": "https://localhost:8080/",
          "height": 299
        },
        "outputId": "cacbf96c-78ce-463f-a6a0-8257e5d25fe4"
      },
      "source": [
        "# plot the results \n",
        "plt.plot(graph['Adj Close'], color = 'red', label = 'Real Stock Price')\n",
        "plt.plot(graph['Predict_Value'], color = 'blue', label = 'Predicted Stock Price')\n",
        "#plt.plot(df['Adj Close'], color = 'black', label = 'Past Stock')\n",
        "plt.title('Stock Price Prediction')\n",
        "plt.xlabel('Time')\n",
        "plt.ylabel('Stock Price')\n",
        "plt.legend()\n",
        "plt.savefig('Stock Price SVR LSTM 1.png')\n",
        "files.download(\"Stock Price SVR LSTM 1.png\")\n",
        "plt.show()"
      ],
      "execution_count": 49,
      "outputs": [
        {
          "output_type": "display_data",
          "data": {
            "application/javascript": [
              "\n",
              "    async function download(id, filename, size) {\n",
              "      if (!google.colab.kernel.accessAllowed) {\n",
              "        return;\n",
              "      }\n",
              "      const div = document.createElement('div');\n",
              "      const label = document.createElement('label');\n",
              "      label.textContent = `Downloading \"${filename}\": `;\n",
              "      div.appendChild(label);\n",
              "      const progress = document.createElement('progress');\n",
              "      progress.max = size;\n",
              "      div.appendChild(progress);\n",
              "      document.body.appendChild(div);\n",
              "\n",
              "      const buffers = [];\n",
              "      let downloaded = 0;\n",
              "\n",
              "      const channel = await google.colab.kernel.comms.open(id);\n",
              "      // Send a message to notify the kernel that we're ready.\n",
              "      channel.send({})\n",
              "\n",
              "      for await (const message of channel.messages) {\n",
              "        // Send a message to notify the kernel that we're ready.\n",
              "        channel.send({})\n",
              "        if (message.buffers) {\n",
              "          for (const buffer of message.buffers) {\n",
              "            buffers.push(buffer);\n",
              "            downloaded += buffer.byteLength;\n",
              "            progress.value = downloaded;\n",
              "          }\n",
              "        }\n",
              "      }\n",
              "      const blob = new Blob(buffers, {type: 'application/binary'});\n",
              "      const a = document.createElement('a');\n",
              "      a.href = window.URL.createObjectURL(blob);\n",
              "      a.download = filename;\n",
              "      div.appendChild(a);\n",
              "      a.click();\n",
              "      div.remove();\n",
              "    }\n",
              "  "
            ],
            "text/plain": [
              "<IPython.core.display.Javascript object>"
            ]
          },
          "metadata": {
            "tags": []
          }
        },
        {
          "output_type": "display_data",
          "data": {
            "application/javascript": [
              "download(\"download_743c5645-b9be-4f4b-99e5-0fe5dd8d0258\", \"Stock Price SVR LSTM 1.png\", 27985)"
            ],
            "text/plain": [
              "<IPython.core.display.Javascript object>"
            ]
          },
          "metadata": {
            "tags": []
          }
        },
        {
          "output_type": "display_data",
          "data": {
            "image/png": "[encoded data removed]",
            "text/plain": [
              "<Figure size 432x288 with 1 Axes>"
            ]
          },
          "metadata": {
            "tags": []
          }
        }
      ]
    },
    {
      "cell_type": "code",
      "metadata": {
        "id": "RRepTsPgEuXx"
      },
      "source": [
        "final  = test_df.drop(test_df.index[0:36])\n",
        "final.reset_index(inplace=True)\n",
        "final.rename(columns = {'index':'Date'})\n",
        "final = final.drop(columns=['High','Low','Open','Volume','Close'])\n",
        "final['Predict_Value'] = predicted_y[0]\n",
        "final['Selisih'] = final['Adj Close'] - final['Predict_Value']\n",
        "final['Lost/Risk (%)'] = abs((final['Adj Close'] - final['Predict_Value'])/final['Predict_Value']*100)\n",
        "final = final.drop(columns=['Adj Close'])"
      ],
      "execution_count": 50,
      "outputs": []
    },
    {
      "cell_type": "code",
      "metadata": {
        "id": "DhwcCvlTySN1"
      },
      "source": [
        "percent = test_df.drop(test_df.index[0:35])\n",
        "percent = percent.drop(test_df.index[-1])\n",
        "percent.reset_index(inplace=True)\n",
        "percent.rename(columns = {'index':'Date'}) \n",
        "percent = percent.drop(columns=['High','Low','Open','Volume','Close'])\n",
        "percent['Next Day'] = predicted_y\n",
        "percent['Plus or Minus']= percent['Adj Close'] - percent['Next Day']\n",
        "percent['Next Day (%)']= abs(((percent['Adj Close'] - percent['Next Day'])/percent['Adj Close'])*100)"
      ],
      "execution_count": 51,
      "outputs": []
    },
    {
      "cell_type": "markdown",
      "metadata": {
        "id": "ib825d-fXMwk"
      },
      "source": [
        ""
      ]
    },
    {
      "cell_type": "code",
      "metadata": {
        "id": "sllI6VucG__o"
      },
      "source": [
        "True_Next_Day = test_df.drop(test_df.index[0:35])\n",
        "True_Next_Day = True_Next_Day.drop(test_df.index[-1])\n",
        "True_Next_Day.reset_index(inplace=True)\n",
        "True_Next_Day.rename(columns = {'index':'Date'}) \n",
        "True_Next_Day = True_Next_Day.drop(columns=['High','Low','Open','Volume','Close'])\n",
        "True_Next_Day['True Next Day'] = org_y\n",
        "True_Next_Day['True Plus or Minus']= (True_Next_Day['Adj Close'] - True_Next_Day['True Next Day'])\n",
        "True_Next_Day['True Next Day (%)']= abs(((True_Next_Day['Adj Close'] - True_Next_Day['True Next Day'])/True_Next_Day['Adj Close'])*100)\n",
        "True_Next_Day = True_Next_Day.drop(columns=['Adj Close','True Next Day'])"
      ],
      "execution_count": 52,
      "outputs": []
    },
    {
      "cell_type": "code",
      "metadata": {
        "id": "121c4YuD-aJq",
        "colab": {
          "base_uri": "https://localhost:8080/"
        },
        "outputId": "6336c14f-e12a-468b-a06f-132f4bfde943"
      },
      "source": [
        "Concating = percent.merge(final, how='outer', on='Date')\n",
        "Concating = Concating.merge(True_Next_Day, how='outer', on='Date')\n",
        "#Concating.set_index('Date', inplace=True)\n",
        "Final_Predict = Concating.copy()\n",
        "Final_Predict['Harga Saham Hari ini'] = Concating['Adj Close']\n",
        "Final_Predict['Prediksi Besok'] = Concating['Plus or Minus']\n",
        "Final_Predict['Harga Besok Sebenarnya'] = Concating['True Plus or Minus']\n",
        "Final_Predict['Prediksi Besok (%)'] = (Concating['Next Day (%)'])\n",
        "Final_Predict['Harga Besok Sebenarnya (%)'] = Concating['True Next Day (%)']\n",
        "Final_Predict['Selisih Prediksi'] = (Final_Predict['Harga Besok Sebenarnya'] - Final_Predict['Prediksi Besok'])\n",
        "Final_Predict['Risk/MAPE(%)'] = abs(((Final_Predict['Harga Besok Sebenarnya'] - Final_Predict['Prediksi Besok'])/Final_Predict['Harga Besok Sebenarnya'])*100)\n",
        "Final_Predict['Risk/MAPE(%)'] = round(Final_Predict['Risk/MAPE(%)'], 2)\n",
        "Final_Predict = Final_Predict.drop(columns=['Adj Close', 'Next Day', 'Plus or Minus', 'Next Day (%)',\n",
        "                                            'Predict_Value', 'Selisih', 'Lost/Risk (%)', 'True Plus or Minus',\n",
        "                                            'True Next Day (%)'])\n",
        "Final_Predict = Final_Predict.replace(0, np.nan)\n",
        "Final_Predict = Final_Predict.dropna()\n",
        "Final_Predict['Prediksi Uptrend'] = Final_Predict['Prediksi Besok'].apply(lambda x: 1 if x >= 0 else 0)\n",
        "Final_Predict['Asli Uptrend'] = Final_Predict['Harga Besok Sebenarnya'].apply(lambda x: 1 if x >= 0 else 0)\n",
        "Final_Predict.set_index('Date', inplace=True)\n",
        "Final_Predict.shape"
      ],
      "execution_count": 53,
      "outputs": [
        {
          "output_type": "execute_result",
          "data": {
            "text/plain": [
              "(230, 9)"
            ]
          },
          "metadata": {
            "tags": []
          },
          "execution_count": 53
        }
      ]
    },
    {
      "cell_type": "code",
      "metadata": {
        "colab": {
          "base_uri": "https://localhost:8080/",
          "height": 337
        },
        "id": "ookffGOJ-lmk",
        "outputId": "5588fe17-67ef-4ff2-ce07-f75d80448cc5"
      },
      "source": [
        "Final_Predict.head()"
      ],
      "execution_count": 54,
      "outputs": [
        {
          "output_type": "execute_result",
          "data": {
            "text/html": [
              "<div>\n",
              "<style scoped>\n",
              "    .dataframe tbody tr th:only-of-type {\n",
              "        vertical-align: middle;\n",
              "    }\n",
              "\n",
              "    .dataframe tbody tr th {\n",
              "        vertical-align: top;\n",
              "    }\n",
              "\n",
              "    .dataframe thead th {\n",
              "        text-align: right;\n",
              "    }\n",
              "</style>\n",
              "<table border=\"1\" class=\"dataframe\">\n",
              "  <thead>\n",
              "    <tr style=\"text-align: right;\">\n",
              "      <th></th>\n",
              "      <th>Harga Saham Hari ini</th>\n",
              "      <th>Prediksi Besok</th>\n",
              "      <th>Harga Besok Sebenarnya</th>\n",
              "      <th>Prediksi Besok (%)</th>\n",
              "      <th>Harga Besok Sebenarnya (%)</th>\n",
              "      <th>Selisih Prediksi</th>\n",
              "      <th>Risk/MAPE(%)</th>\n",
              "      <th>Prediksi Uptrend</th>\n",
              "      <th>Asli Uptrend</th>\n",
              "    </tr>\n",
              "    <tr>\n",
              "      <th>Date</th>\n",
              "      <th></th>\n",
              "      <th></th>\n",
              "      <th></th>\n",
              "      <th></th>\n",
              "      <th></th>\n",
              "      <th></th>\n",
              "      <th></th>\n",
              "      <th></th>\n",
              "      <th></th>\n",
              "    </tr>\n",
              "  </thead>\n",
              "  <tbody>\n",
              "    <tr>\n",
              "      <th>2019-01-01</th>\n",
              "      <td>2587.752197</td>\n",
              "      <td>13.997559</td>\n",
              "      <td>79.623047</td>\n",
              "      <td>0.540916</td>\n",
              "      <td>3.076919</td>\n",
              "      <td>65.625488</td>\n",
              "      <td>82.42</td>\n",
              "      <td>1</td>\n",
              "      <td>1</td>\n",
              "    </tr>\n",
              "    <tr>\n",
              "      <th>2019-01-02</th>\n",
              "      <td>2508.129150</td>\n",
              "      <td>-12.335938</td>\n",
              "      <td>29.858643</td>\n",
              "      <td>0.491838</td>\n",
              "      <td>1.190475</td>\n",
              "      <td>42.194580</td>\n",
              "      <td>141.31</td>\n",
              "      <td>0</td>\n",
              "      <td>1</td>\n",
              "    </tr>\n",
              "    <tr>\n",
              "      <th>2019-01-03</th>\n",
              "      <td>2478.270508</td>\n",
              "      <td>-2.085938</td>\n",
              "      <td>-19.905762</td>\n",
              "      <td>0.084169</td>\n",
              "      <td>0.803212</td>\n",
              "      <td>-17.819824</td>\n",
              "      <td>89.52</td>\n",
              "      <td>0</td>\n",
              "      <td>0</td>\n",
              "    </tr>\n",
              "    <tr>\n",
              "      <th>2019-01-04</th>\n",
              "      <td>2498.176270</td>\n",
              "      <td>14.035156</td>\n",
              "      <td>9.952881</td>\n",
              "      <td>0.561816</td>\n",
              "      <td>0.398406</td>\n",
              "      <td>-4.082275</td>\n",
              "      <td>41.02</td>\n",
              "      <td>1</td>\n",
              "      <td>1</td>\n",
              "    </tr>\n",
              "    <tr>\n",
              "      <th>2019-01-07</th>\n",
              "      <td>2488.223389</td>\n",
              "      <td>3.648682</td>\n",
              "      <td>29.858643</td>\n",
              "      <td>0.146638</td>\n",
              "      <td>1.199998</td>\n",
              "      <td>26.209961</td>\n",
              "      <td>87.78</td>\n",
              "      <td>1</td>\n",
              "      <td>1</td>\n",
              "    </tr>\n",
              "  </tbody>\n",
              "</table>\n",
              "</div>"
            ],
            "text/plain": [
              "            Harga Saham Hari ini  ...  Asli Uptrend\n",
              "Date                              ...              \n",
              "2019-01-01           2587.752197  ...             1\n",
              "2019-01-02           2508.129150  ...             1\n",
              "2019-01-03           2478.270508  ...             0\n",
              "2019-01-04           2498.176270  ...             1\n",
              "2019-01-07           2488.223389  ...             1\n",
              "\n",
              "[5 rows x 9 columns]"
            ]
          },
          "metadata": {
            "tags": []
          },
          "execution_count": 54
        }
      ]
    },
    {
      "cell_type": "code",
      "metadata": {
        "colab": {
          "base_uri": "https://localhost:8080/"
        },
        "id": "wmiuagMCKc3w",
        "outputId": "bc9c0c68-36b5-48f3-841c-faeeeb1205db"
      },
      "source": [
        "pred_uptrend = Final_Predict['Prediksi Uptrend']\n",
        "true_trend = Final_Predict['Asli Uptrend']\n",
        "\n",
        "# calculate accuracy\n",
        "from sklearn.metrics import accuracy_score\n",
        "Accuracy = accuracy_score(true_trend, pred_uptrend)\n",
        "print('Accuracy :', Accuracy)\n",
        "\n",
        "\n",
        "# calculate prediction\n",
        "from sklearn.metrics import precision_score\n",
        "precision = precision_score(true_trend, pred_uptrend, average='binary')\n",
        "print('Precision : %.3f' % precision)\n",
        "\n",
        "# calculate recall\n",
        "from sklearn.metrics import recall_score\n",
        "recall = recall_score(true_trend, pred_uptrend, average='binary')\n",
        "print('Recall : %.3f' % recall)\n",
        "\n",
        "# calculate score\n",
        "from sklearn.metrics import f1_score\n",
        "score = f1_score(true_trend, pred_uptrend, average='binary')\n",
        "print('F1 Score : %.3f' % score)\n",
        "\n",
        "#AUC Score\n",
        "from sklearn.metrics import roc_auc_score \n",
        "auc = roc_auc_score(true_trend, pred_uptrend)\n",
        "print('AUC Score : ', auc)"
      ],
      "execution_count": 55,
      "outputs": [
        {
          "output_type": "stream",
          "text": [
            "Accuracy : 0.5739130434782609\n",
            "Precision : 0.628\n",
            "Recall : 0.816\n",
            "F1 Score : 0.710\n",
            "AUC Score :  0.4804524219326285\n"
          ],
          "name": "stdout"
        }
      ]
    },
    {
      "cell_type": "code",
      "metadata": {
        "colab": {
          "base_uri": "https://localhost:8080/",
          "height": 341
        },
        "id": "J7yPx3k8WolI",
        "outputId": "19c83f09-0515-4d95-a3e8-4d37c35a624d"
      },
      "source": [
        "from sklearn.metrics import confusion_matrix\n",
        "import seaborn as sns\n",
        "import matplotlib.pyplot as plt\n",
        "\n",
        "confusion_matrix(true_trend, pred_uptrend)\n",
        "plt.figure(figsize = (6, 5))\n",
        "sns.heatmap(confusion_matrix(true_trend, pred_uptrend), annot = True)"
      ],
      "execution_count": 56,
      "outputs": [
        {
          "output_type": "execute_result",
          "data": {
            "text/plain": [
              "<matplotlib.axes._subplots.AxesSubplot at 0x7f842c35d790>"
            ]
          },
          "metadata": {
            "tags": []
          },
          "execution_count": 56
        },
        {
          "output_type": "display_data",
          "data": {
            "image/png": "[encoded data removed]",
            "text/plain": [
              "<Figure size 432x360 with 2 Axes>"
            ]
          },
          "metadata": {
            "tags": []
          }
        }
      ]
    },
    {
      "cell_type": "code",
      "metadata": {
        "colab": {
          "base_uri": "https://localhost:8080/",
          "height": 282
        },
        "id": "GL0g9D5qPtTK",
        "outputId": "a4475875-0b1d-4e29-ac58-c4528528fe29"
      },
      "source": [
        "from sklearn.metrics import roc_curve \n",
        "fpr, tpr, thresholds = roc_curve(true_trend, pred_uptrend)\n",
        "\n",
        "\n",
        "import matplotlib.pyplot as plt \n",
        "plt.plot(fpr, tpr) \n",
        "plt.xlabel(\"False Positive Rate\") \n",
        "plt.ylabel(\"True Positive Rate\") \n",
        "plt.plot([0, 1], [0, 1], \"k--\") \n",
        "plt.show()"
      ],
      "execution_count": 57,
      "outputs": [
        {
          "output_type": "display_data",
          "data": {
            "image/png": "[encoded data removed]",
            "text/plain": [
              "<Figure size 432x288 with 1 Axes>"
            ]
          },
          "metadata": {
            "tags": []
          }
        }
      ]
    },
    {
      "cell_type": "code",
      "metadata": {
        "colab": {
          "base_uri": "https://localhost:8080/",
          "height": 299
        },
        "id": "kgXVUoOccIB1",
        "outputId": "12bd11e9-6f5b-4e1b-ab4d-3dc8c9453d3c"
      },
      "source": [
        "# plot the results \n",
        "plt.plot(Final_Predict['Prediksi Besok'], color = 'red', label = 'Real Stock Price')\n",
        "plt.plot(Final_Predict['Harga Besok Sebenarnya'], color = 'blue', label = 'Predicted Stock Price')\n",
        "#plt.plot(Final_Predict['Risk/MAPE(%)'], color = 'black', label = 'RISK/MAPE(%)')\n",
        "plt.title('Stock Price Prediction')\n",
        "plt.xlabel('Time')\n",
        "plt.ylabel('Stock Price')\n",
        "plt.legend()\n",
        "plt.savefig('Stock Price SVR LSTM 1.png')\n",
        "files.download(\"Stock Price SVR LSTM 1.png\")\n",
        "plt.show()"
      ],
      "execution_count": 58,
      "outputs": [
        {
          "output_type": "display_data",
          "data": {
            "application/javascript": [
              "\n",
              "    async function download(id, filename, size) {\n",
              "      if (!google.colab.kernel.accessAllowed) {\n",
              "        return;\n",
              "      }\n",
              "      const div = document.createElement('div');\n",
              "      const label = document.createElement('label');\n",
              "      label.textContent = `Downloading \"${filename}\": `;\n",
              "      div.appendChild(label);\n",
              "      const progress = document.createElement('progress');\n",
              "      progress.max = size;\n",
              "      div.appendChild(progress);\n",
              "      document.body.appendChild(div);\n",
              "\n",
              "      const buffers = [];\n",
              "      let downloaded = 0;\n",
              "\n",
              "      const channel = await google.colab.kernel.comms.open(id);\n",
              "      // Send a message to notify the kernel that we're ready.\n",
              "      channel.send({})\n",
              "\n",
              "      for await (const message of channel.messages) {\n",
              "        // Send a message to notify the kernel that we're ready.\n",
              "        channel.send({})\n",
              "        if (message.buffers) {\n",
              "          for (const buffer of message.buffers) {\n",
              "            buffers.push(buffer);\n",
              "            downloaded += buffer.byteLength;\n",
              "            progress.value = downloaded;\n",
              "          }\n",
              "        }\n",
              "      }\n",
              "      const blob = new Blob(buffers, {type: 'application/binary'});\n",
              "      const a = document.createElement('a');\n",
              "      a.href = window.URL.createObjectURL(blob);\n",
              "      a.download = filename;\n",
              "      div.appendChild(a);\n",
              "      a.click();\n",
              "      div.remove();\n",
              "    }\n",
              "  "
            ],
            "text/plain": [
              "<IPython.core.display.Javascript object>"
            ]
          },
          "metadata": {
            "tags": []
          }
        },
        {
          "output_type": "display_data",
          "data": {
            "application/javascript": [
              "download(\"download_4d591b1a-6870-40cf-8cb8-f372ee5b998a\", \"Stock Price SVR LSTM 1.png\", 38450)"
            ],
            "text/plain": [
              "<IPython.core.display.Javascript object>"
            ]
          },
          "metadata": {
            "tags": []
          }
        },
        {
          "output_type": "display_data",
          "data": {
            "image/png": "[encoded data removed]",
            "text/plain": [
              "<Figure size 432x288 with 1 Axes>"
            ]
          },
          "metadata": {
            "tags": []
          }
        }
      ]
    },
    {
      "cell_type": "code",
      "metadata": {
        "id": "towGbwPBLWUk"
      },
      "source": [
        "#### Mencari Data STAT MODEL"
      ],
      "execution_count": 59,
      "outputs": []
    },
    {
      "cell_type": "code",
      "metadata": {
        "id": "UiadXxndQ2NX"
      },
      "source": [
        "a = X_test\n",
        "a = np.reshape(a, (-1, 36))\n",
        "a = scaler.inverse_transform(a)\n",
        "a = pd.DataFrame(a)"
      ],
      "execution_count": 60,
      "outputs": []
    },
    {
      "cell_type": "code",
      "metadata": {
        "id": "ErHLvejACioW"
      },
      "source": [
        "b = y_test\n",
        "#b = np.reshape(b, (-1, 36))\n",
        "b = scaler.inverse_transform(b)\n",
        "b = pd.DataFrame(b)"
      ],
      "execution_count": 61,
      "outputs": []
    },
    {
      "cell_type": "code",
      "metadata": {
        "id": "O62uEaEkLyWO"
      },
      "source": [
        "#OLS Model\n",
        "import statsmodels.api as sm\n",
        "X = a\n",
        "Y = b\n",
        "X = sm.add_constant(X)\n",
        "model_ols = sm.OLS(Y,X)\n",
        "results = model_ols.fit()"
      ],
      "execution_count": 62,
      "outputs": []
    },
    {
      "cell_type": "code",
      "metadata": {
        "id": "_CaG_RGcMpzM",
        "colab": {
          "base_uri": "https://localhost:8080/",
          "height": 1000
        },
        "outputId": "40739b59-41b6-4a67-e488-346a6d57893c"
      },
      "source": [
        "results.summary()"
      ],
      "execution_count": 63,
      "outputs": [
        {
          "output_type": "execute_result",
          "data": {
            "text/html": [
              "<table class=\"simpletable\">\n",
              "<caption>OLS Regression Results</caption>\n",
              "<tr>\n",
              "  <th>Dep. Variable:</th>            <td>0</td>        <th>  R-squared:         </th> <td>   0.978</td> \n",
              "</tr>\n",
              "<tr>\n",
              "  <th>Model:</th>                   <td>OLS</td>       <th>  Adj. R-squared:    </th> <td>   0.974</td> \n",
              "</tr>\n",
              "<tr>\n",
              "  <th>Method:</th>             <td>Least Squares</td>  <th>  F-statistic:       </th> <td>   267.2</td> \n",
              "</tr>\n",
              "<tr>\n",
              "  <th>Date:</th>             <td>Sun, 18 Apr 2021</td> <th>  Prob (F-statistic):</th> <td>3.78e-161</td>\n",
              "</tr>\n",
              "<tr>\n",
              "  <th>Time:</th>                 <td>11:50:37</td>     <th>  Log-Likelihood:    </th> <td> -1493.7</td> \n",
              "</tr>\n",
              "<tr>\n",
              "  <th>No. Observations:</th>      <td>   256</td>      <th>  AIC:               </th> <td>   3061.</td> \n",
              "</tr>\n",
              "<tr>\n",
              "  <th>Df Residuals:</th>          <td>   219</td>      <th>  BIC:               </th> <td>   3193.</td> \n",
              "</tr>\n",
              "<tr>\n",
              "  <th>Df Model:</th>              <td>    36</td>      <th>                     </th>     <td> </td>    \n",
              "</tr>\n",
              "<tr>\n",
              "  <th>Covariance Type:</th>      <td>nonrobust</td>    <th>                     </th>     <td> </td>    \n",
              "</tr>\n",
              "</table>\n",
              "<table class=\"simpletable\">\n",
              "<tr>\n",
              "    <td></td>       <th>coef</th>     <th>std err</th>      <th>t</th>      <th>P>|t|</th>  <th>[0.025</th>    <th>0.975]</th>  \n",
              "</tr>\n",
              "<tr>\n",
              "  <th>const</th> <td>   -8.8844</td> <td>   58.799</td> <td>   -0.151</td> <td> 0.880</td> <td> -124.768</td> <td>  107.000</td>\n",
              "</tr>\n",
              "<tr>\n",
              "  <th>0</th>     <td>    0.0455</td> <td>    0.073</td> <td>    0.627</td> <td> 0.531</td> <td>   -0.098</td> <td>    0.188</td>\n",
              "</tr>\n",
              "<tr>\n",
              "  <th>1</th>     <td>    0.0402</td> <td>    0.102</td> <td>    0.396</td> <td> 0.693</td> <td>   -0.160</td> <td>    0.240</td>\n",
              "</tr>\n",
              "<tr>\n",
              "  <th>2</th>     <td>   -0.1631</td> <td>    0.101</td> <td>   -1.619</td> <td> 0.107</td> <td>   -0.362</td> <td>    0.035</td>\n",
              "</tr>\n",
              "<tr>\n",
              "  <th>3</th>     <td>    0.0184</td> <td>    0.101</td> <td>    0.183</td> <td> 0.855</td> <td>   -0.181</td> <td>    0.217</td>\n",
              "</tr>\n",
              "<tr>\n",
              "  <th>4</th>     <td>    0.0412</td> <td>    0.101</td> <td>    0.408</td> <td> 0.684</td> <td>   -0.158</td> <td>    0.240</td>\n",
              "</tr>\n",
              "<tr>\n",
              "  <th>5</th>     <td>    0.0062</td> <td>    0.101</td> <td>    0.061</td> <td> 0.951</td> <td>   -0.194</td> <td>    0.206</td>\n",
              "</tr>\n",
              "<tr>\n",
              "  <th>6</th>     <td>   -0.0327</td> <td>    0.102</td> <td>   -0.322</td> <td> 0.748</td> <td>   -0.233</td> <td>    0.168</td>\n",
              "</tr>\n",
              "<tr>\n",
              "  <th>7</th>     <td>   -0.0371</td> <td>    0.102</td> <td>   -0.364</td> <td> 0.716</td> <td>   -0.238</td> <td>    0.164</td>\n",
              "</tr>\n",
              "<tr>\n",
              "  <th>8</th>     <td>   -0.0362</td> <td>    0.102</td> <td>   -0.356</td> <td> 0.722</td> <td>   -0.237</td> <td>    0.164</td>\n",
              "</tr>\n",
              "<tr>\n",
              "  <th>9</th>     <td>    0.1635</td> <td>    0.101</td> <td>    1.616</td> <td> 0.108</td> <td>   -0.036</td> <td>    0.363</td>\n",
              "</tr>\n",
              "<tr>\n",
              "  <th>10</th>    <td>   -0.0437</td> <td>    0.101</td> <td>   -0.431</td> <td> 0.667</td> <td>   -0.243</td> <td>    0.156</td>\n",
              "</tr>\n",
              "<tr>\n",
              "  <th>11</th>    <td>    0.0224</td> <td>    0.102</td> <td>    0.221</td> <td> 0.825</td> <td>   -0.178</td> <td>    0.223</td>\n",
              "</tr>\n",
              "<tr>\n",
              "  <th>12</th>    <td>   -0.1029</td> <td>    0.101</td> <td>   -1.015</td> <td> 0.311</td> <td>   -0.303</td> <td>    0.097</td>\n",
              "</tr>\n",
              "<tr>\n",
              "  <th>13</th>    <td>    0.0661</td> <td>    0.101</td> <td>    0.652</td> <td> 0.515</td> <td>   -0.134</td> <td>    0.266</td>\n",
              "</tr>\n",
              "<tr>\n",
              "  <th>14</th>    <td>    0.0326</td> <td>    0.101</td> <td>    0.322</td> <td> 0.748</td> <td>   -0.167</td> <td>    0.232</td>\n",
              "</tr>\n",
              "<tr>\n",
              "  <th>15</th>    <td>   -0.0717</td> <td>    0.101</td> <td>   -0.709</td> <td> 0.479</td> <td>   -0.271</td> <td>    0.128</td>\n",
              "</tr>\n",
              "<tr>\n",
              "  <th>16</th>    <td>    0.0869</td> <td>    0.100</td> <td>    0.871</td> <td> 0.385</td> <td>   -0.110</td> <td>    0.283</td>\n",
              "</tr>\n",
              "<tr>\n",
              "  <th>17</th>    <td>   -0.0778</td> <td>    0.100</td> <td>   -0.781</td> <td> 0.436</td> <td>   -0.274</td> <td>    0.119</td>\n",
              "</tr>\n",
              "<tr>\n",
              "  <th>18</th>    <td>    0.0069</td> <td>    0.099</td> <td>    0.070</td> <td> 0.944</td> <td>   -0.187</td> <td>    0.201</td>\n",
              "</tr>\n",
              "<tr>\n",
              "  <th>19</th>    <td>    0.0705</td> <td>    0.099</td> <td>    0.716</td> <td> 0.475</td> <td>   -0.124</td> <td>    0.265</td>\n",
              "</tr>\n",
              "<tr>\n",
              "  <th>20</th>    <td>   -0.0297</td> <td>    0.099</td> <td>   -0.301</td> <td> 0.764</td> <td>   -0.224</td> <td>    0.165</td>\n",
              "</tr>\n",
              "<tr>\n",
              "  <th>21</th>    <td>    0.0403</td> <td>    0.099</td> <td>    0.408</td> <td> 0.683</td> <td>   -0.154</td> <td>    0.235</td>\n",
              "</tr>\n",
              "<tr>\n",
              "  <th>22</th>    <td>    0.0047</td> <td>    0.100</td> <td>    0.047</td> <td> 0.962</td> <td>   -0.192</td> <td>    0.201</td>\n",
              "</tr>\n",
              "<tr>\n",
              "  <th>23</th>    <td>    0.0424</td> <td>    0.102</td> <td>    0.415</td> <td> 0.679</td> <td>   -0.159</td> <td>    0.244</td>\n",
              "</tr>\n",
              "<tr>\n",
              "  <th>24</th>    <td>   -0.1122</td> <td>    0.102</td> <td>   -1.098</td> <td> 0.273</td> <td>   -0.314</td> <td>    0.089</td>\n",
              "</tr>\n",
              "<tr>\n",
              "  <th>25</th>    <td>   -0.0693</td> <td>    0.102</td> <td>   -0.679</td> <td> 0.498</td> <td>   -0.270</td> <td>    0.132</td>\n",
              "</tr>\n",
              "<tr>\n",
              "  <th>26</th>    <td>    0.0984</td> <td>    0.102</td> <td>    0.965</td> <td> 0.336</td> <td>   -0.103</td> <td>    0.299</td>\n",
              "</tr>\n",
              "<tr>\n",
              "  <th>27</th>    <td>   -0.0217</td> <td>    0.102</td> <td>   -0.212</td> <td> 0.832</td> <td>   -0.223</td> <td>    0.180</td>\n",
              "</tr>\n",
              "<tr>\n",
              "  <th>28</th>    <td>   -0.0418</td> <td>    0.101</td> <td>   -0.414</td> <td> 0.679</td> <td>   -0.241</td> <td>    0.157</td>\n",
              "</tr>\n",
              "<tr>\n",
              "  <th>29</th>    <td>   -0.0721</td> <td>    0.101</td> <td>   -0.717</td> <td> 0.474</td> <td>   -0.270</td> <td>    0.126</td>\n",
              "</tr>\n",
              "<tr>\n",
              "  <th>30</th>    <td>    0.1354</td> <td>    0.100</td> <td>    1.352</td> <td> 0.178</td> <td>   -0.062</td> <td>    0.333</td>\n",
              "</tr>\n",
              "<tr>\n",
              "  <th>31</th>    <td>    0.1325</td> <td>    0.099</td> <td>    1.334</td> <td> 0.184</td> <td>   -0.063</td> <td>    0.328</td>\n",
              "</tr>\n",
              "<tr>\n",
              "  <th>32</th>    <td>   -0.0322</td> <td>    0.099</td> <td>   -0.324</td> <td> 0.746</td> <td>   -0.228</td> <td>    0.164</td>\n",
              "</tr>\n",
              "<tr>\n",
              "  <th>33</th>    <td>   -0.1599</td> <td>    0.099</td> <td>   -1.617</td> <td> 0.107</td> <td>   -0.355</td> <td>    0.035</td>\n",
              "</tr>\n",
              "<tr>\n",
              "  <th>34</th>    <td>   -0.0092</td> <td>    0.099</td> <td>   -0.093</td> <td> 0.926</td> <td>   -0.205</td> <td>    0.186</td>\n",
              "</tr>\n",
              "<tr>\n",
              "  <th>35</th>    <td>    1.0604</td> <td>    0.068</td> <td>   15.663</td> <td> 0.000</td> <td>    0.927</td> <td>    1.194</td>\n",
              "</tr>\n",
              "</table>\n",
              "<table class=\"simpletable\">\n",
              "<tr>\n",
              "  <th>Omnibus:</th>       <td>59.710</td> <th>  Durbin-Watson:     </th> <td>   2.000</td>\n",
              "</tr>\n",
              "<tr>\n",
              "  <th>Prob(Omnibus):</th> <td> 0.000</td> <th>  Jarque-Bera (JB):  </th> <td> 181.230</td>\n",
              "</tr>\n",
              "<tr>\n",
              "  <th>Skew:</th>          <td> 0.992</td> <th>  Prob(JB):          </th> <td>4.43e-40</td>\n",
              "</tr>\n",
              "<tr>\n",
              "  <th>Kurtosis:</th>      <td> 6.613</td> <th>  Cond. No.          </th> <td>1.89e+05</td>\n",
              "</tr>\n",
              "</table><br/><br/>Warnings:<br/>[1] Standard Errors assume that the covariance matrix of the errors is correctly specified.<br/>[2] The condition number is large, 1.89e+05. This might indicate that there are<br/>strong multicollinearity or other numerical problems."
            ],
            "text/plain": [
              "<class 'statsmodels.iolib.summary.Summary'>\n",
              "\"\"\"\n",
              "                            OLS Regression Results                            \n",
              "==============================================================================\n",
              "Dep. Variable:                      0   R-squared:                       0.978\n",
              "Model:                            OLS   Adj. R-squared:                  0.974\n",
              "Method:                 Least Squares   F-statistic:                     267.2\n",
              "Date:                Sun, 18 Apr 2021   Prob (F-statistic):          3.78e-161\n",
              "Time:                        11:50:37   Log-Likelihood:                -1493.7\n",
              "No. Observations:                 256   AIC:                             3061.\n",
              "Df Residuals:                     219   BIC:                             3193.\n",
              "Df Model:                          36                                         \n",
              "Covariance Type:            nonrobust                                         \n",
              "==============================================================================\n",
              "                 coef    std err          t      P>|t|      [0.025      0.975]\n",
              "------------------------------------------------------------------------------\n",
              "const         -8.8844     58.799     -0.151      0.880    -124.768     107.000\n",
              "0              0.0455      0.073      0.627      0.531      -0.098       0.188\n",
              "1              0.0402      0.102      0.396      0.693      -0.160       0.240\n",
              "2             -0.1631      0.101     -1.619      0.107      -0.362       0.035\n",
              "3              0.0184      0.101      0.183      0.855      -0.181       0.217\n",
              "4              0.0412      0.101      0.408      0.684      -0.158       0.240\n",
              "5              0.0062      0.101      0.061      0.951      -0.194       0.206\n",
              "6             -0.0327      0.102     -0.322      0.748      -0.233       0.168\n",
              "7             -0.0371      0.102     -0.364      0.716      -0.238       0.164\n",
              "8             -0.0362      0.102     -0.356      0.722      -0.237       0.164\n",
              "9              0.1635      0.101      1.616      0.108      -0.036       0.363\n",
              "10            -0.0437      0.101     -0.431      0.667      -0.243       0.156\n",
              "11             0.0224      0.102      0.221      0.825      -0.178       0.223\n",
              "12            -0.1029      0.101     -1.015      0.311      -0.303       0.097\n",
              "13             0.0661      0.101      0.652      0.515      -0.134       0.266\n",
              "14             0.0326      0.101      0.322      0.748      -0.167       0.232\n",
              "15            -0.0717      0.101     -0.709      0.479      -0.271       0.128\n",
              "16             0.0869      0.100      0.871      0.385      -0.110       0.283\n",
              "17            -0.0778      0.100     -0.781      0.436      -0.274       0.119\n",
              "18             0.0069      0.099      0.070      0.944      -0.187       0.201\n",
              "19             0.0705      0.099      0.716      0.475      -0.124       0.265\n",
              "20            -0.0297      0.099     -0.301      0.764      -0.224       0.165\n",
              "21             0.0403      0.099      0.408      0.683      -0.154       0.235\n",
              "22             0.0047      0.100      0.047      0.962      -0.192       0.201\n",
              "23             0.0424      0.102      0.415      0.679      -0.159       0.244\n",
              "24            -0.1122      0.102     -1.098      0.273      -0.314       0.089\n",
              "25            -0.0693      0.102     -0.679      0.498      -0.270       0.132\n",
              "26             0.0984      0.102      0.965      0.336      -0.103       0.299\n",
              "27            -0.0217      0.102     -0.212      0.832      -0.223       0.180\n",
              "28            -0.0418      0.101     -0.414      0.679      -0.241       0.157\n",
              "29            -0.0721      0.101     -0.717      0.474      -0.270       0.126\n",
              "30             0.1354      0.100      1.352      0.178      -0.062       0.333\n",
              "31             0.1325      0.099      1.334      0.184      -0.063       0.328\n",
              "32            -0.0322      0.099     -0.324      0.746      -0.228       0.164\n",
              "33            -0.1599      0.099     -1.617      0.107      -0.355       0.035\n",
              "34            -0.0092      0.099     -0.093      0.926      -0.205       0.186\n",
              "35             1.0604      0.068     15.663      0.000       0.927       1.194\n",
              "==============================================================================\n",
              "Omnibus:                       59.710   Durbin-Watson:                   2.000\n",
              "Prob(Omnibus):                  0.000   Jarque-Bera (JB):              181.230\n",
              "Skew:                           0.992   Prob(JB):                     4.43e-40\n",
              "Kurtosis:                       6.613   Cond. No.                     1.89e+05\n",
              "==============================================================================\n",
              "\n",
              "Warnings:\n",
              "[1] Standard Errors assume that the covariance matrix of the errors is correctly specified.\n",
              "[2] The condition number is large, 1.89e+05. This might indicate that there are\n",
              "strong multicollinearity or other numerical problems.\n",
              "\"\"\""
            ]
          },
          "metadata": {
            "tags": []
          },
          "execution_count": 63
        }
      ]
    }
  ]
}