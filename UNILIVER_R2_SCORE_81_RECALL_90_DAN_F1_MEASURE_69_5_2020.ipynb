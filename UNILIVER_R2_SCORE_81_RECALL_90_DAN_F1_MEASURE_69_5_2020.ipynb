{
  "nbformat": 4,
  "nbformat_minor": 0,
  "metadata": {
    "colab": {
      "name": "UNILIVER R2 SCORE 81% - RECALL 90% DAN F1 MEASURE 69.5% - 2020",
      "provenance": [],
      "collapsed_sections": [],
      "authorship_tag": "ABX9TyMht+4/rojU88rUTbUPs/qi",
      "include_colab_link": true
    },
    "kernelspec": {
      "display_name": "Python 3",
      "name": "python3"
    }
  },
  "cells": [
    {
      "cell_type": "markdown",
      "metadata": {
        "id": "view-in-github",
        "colab_type": "text"
      },
      "source": [
        "<a href=\"https://colab.research.google.com/github/achmadbadri/UjiCoba/blob/main/UNILIVER_R2_SCORE_81_RECALL_90_DAN_F1_MEASURE_69_5_2020.ipynb\" target=\"_parent\"><img src=\"https://colab.research.google.com/assets/colab-badge.svg\" alt=\"Open In Colab\"/></a>"
      ]
    },
    {
      "cell_type": "markdown",
      "metadata": {
        "id": "nG5q7aQ2T7yt"
      },
      "source": [
        "https://towardsdatascience.com/walking-through-support-vector-regression-and-lstms-with-stock-price-prediction-45e11b620650"
      ]
    },
    {
      "cell_type": "code",
      "metadata": {
        "id": "imVL_RBkSiEM"
      },
      "source": [
        "import keras\n",
        "from keras.layers import Dense\n",
        "from keras.layers import LSTM\n",
        "from keras.layers import Dropout\n",
        "import pandas as pd \n",
        "import pandas_datareader.data as web\n",
        "import datetime\n",
        "import numpy as np \n",
        "from matplotlib import style\n",
        "from google.colab import files\n",
        "# Visualize the training stock data:\n",
        "import matplotlib.pyplot as plt\n",
        "%matplotlib inline\n",
        "\n",
        "# ignore warnings \n",
        "import warnings\n",
        "warnings.filterwarnings('ignore')"
      ],
      "execution_count": 32,
      "outputs": []
    },
    {
      "cell_type": "code",
      "metadata": {
        "colab": {
          "base_uri": "https://localhost:8080/"
        },
        "id": "7mgHVWneS0-0",
        "outputId": "00d67d23-2dc8-4412-c2d0-cd4b75f14cdd"
      },
      "source": [
        "# Get the stock data using yahoo API:\n",
        "style.use('ggplot')\n",
        "\n",
        "# get 2014-2018 data to train our model\n",
        "start = datetime.datetime(2014,1,1)\n",
        "end = datetime.datetime(2019,12,31)\n",
        "df = web.DataReader(\"UNVR.JK\", 'yahoo', start, end) \n",
        "\n",
        "# get 2019 data to test our model on \n",
        "start = datetime.datetime(2019,11,7)\n",
        "end = datetime.datetime(2020,12,31)\n",
        "test_df = web.DataReader(\"UNVR.JK\", 'yahoo', start, end) \n",
        "print(df.shape)\n",
        "print(test_df.shape)"
      ],
      "execution_count": 33,
      "outputs": [
        {
          "output_type": "stream",
          "text": [
            "(1508, 6)\n",
            "(278, 6)\n"
          ],
          "name": "stdout"
        }
      ]
    },
    {
      "cell_type": "code",
      "metadata": {
        "colab": {
          "base_uri": "https://localhost:8080/"
        },
        "id": "H598YUDjU7Sd",
        "outputId": "2275df6f-8fd8-4795-e2d1-e71ffc7ea5ba"
      },
      "source": [
        "# Create train set of adj close prices data:\n",
        "train_data = df.loc[:,'Adj Close'].to_numpy()\n",
        "print(train_data.shape) # 1258 \n",
        "\n",
        "\n",
        "# Apply normalization before feeding to LSTM using sklearn:\n",
        "from sklearn.preprocessing import MinMaxScaler\n",
        "\n",
        "scaler = MinMaxScaler()\n",
        "train_data = train_data.reshape(-1,1)\n",
        "\n",
        "scaler.fit(train_data)\n",
        "train_data = scaler.transform(train_data)"
      ],
      "execution_count": 34,
      "outputs": [
        {
          "output_type": "stream",
          "text": [
            "(1508,)\n"
          ],
          "name": "stdout"
        }
      ]
    },
    {
      "cell_type": "code",
      "metadata": {
        "colab": {
          "base_uri": "https://localhost:8080/"
        },
        "id": "8ITZZaGnVFTQ",
        "outputId": "3f9b413e-a920-4a09-c401-9c96d15c1910"
      },
      "source": [
        "'''Function to create a dataset to feed into an LSTM'''\n",
        "def create_dataset(dataset, look_back):\n",
        "    dataX, dataY = [], []\n",
        "    for i in range(len(dataset)-look_back):\n",
        "        a = dataset[i:(i + look_back), 0]\n",
        "        dataX.append(a)\n",
        "        dataY.append(dataset[i + look_back, 0])\n",
        "    return np.array(dataX), np.array(dataY)\n",
        "    \n",
        "    \n",
        "# Create the data to train our model on:\n",
        "time_steps = 36\n",
        "X_train, y_train = create_dataset(train_data, time_steps)\n",
        "\n",
        "# reshape it [samples, time steps, features]\n",
        "X_train = np.reshape(X_train, (X_train.shape[0], 36, 1))\n",
        "\n",
        "print(X_train.shape)\n",
        "\n",
        "\n",
        "# Visualizing our data with prints: \n",
        "print('X_train:')\n",
        "print(str(scaler.inverse_transform(X_train[0])))\n",
        "print(\"\\n\")\n",
        "print('y_train: ' + str(scaler.inverse_transform(y_train[0].reshape(-1,1)))+'\\n')"
      ],
      "execution_count": 35,
      "outputs": [
        {
          "output_type": "stream",
          "text": [
            "(1472, 36, 1)\n",
            "X_train:\n",
            "[[4599.98144531]\n",
            " [4548.48974609]\n",
            " [4591.40039062]\n",
            " [4496.99755859]\n",
            " [4496.99755859]\n",
            " [4475.54101562]\n",
            " [4445.50488281]\n",
            " [4638.60058594]\n",
            " [4810.24169922]\n",
            " [4771.62255859]\n",
            " [4745.87646484]\n",
            " [4814.53271484]\n",
            " [4831.69580078]\n",
            " [4891.77050781]\n",
            " [4904.64453125]\n",
            " [4818.82421875]\n",
            " [4655.76464844]\n",
            " [4754.45898438]\n",
            " [4891.77050781]\n",
            " [4900.35351562]\n",
            " [4874.60693359]\n",
            " [4780.20556641]\n",
            " [4827.40625   ]\n",
            " [4840.27880859]\n",
            " [4844.5703125 ]\n",
            " [4823.11474609]\n",
            " [4737.29443359]\n",
            " [4805.95117188]\n",
            " [4827.40625   ]\n",
            " [4870.31640625]\n",
            " [4870.31640625]\n",
            " [4818.82421875]\n",
            " [4874.60693359]\n",
            " [4857.44287109]\n",
            " [4874.60693359]\n",
            " [4870.31640625]]\n",
            "\n",
            "\n",
            "y_train: [[4874.60693359]]\n",
            "\n"
          ],
          "name": "stdout"
        }
      ]
    },
    {
      "cell_type": "code",
      "metadata": {
        "colab": {
          "base_uri": "https://localhost:8080/"
        },
        "id": "pmuzZ5TqVR8O",
        "outputId": "5853310a-e188-479d-fe13-346752e2a09f"
      },
      "source": [
        "# Build the model \n",
        "model = keras.Sequential()\n",
        "\n",
        "model.add(LSTM(units = 128, return_sequences = True, input_shape = (X_train.shape[1], 1)))\n",
        "#model.add(Dropout(0.2))\n",
        "\n",
        "model.add(LSTM(units = 64, return_sequences = False))\n",
        "#model.add(Dropout(0.2))\n",
        "\n",
        "# Output layer\n",
        "model.add(Dense(units = 32, activation='relu'))\n",
        "model.add(Dense(units = 16,  activation='relu'))\n",
        "model.add(Dense(units = 1, activation= 'linear'))\n",
        "# Compiling the model\n",
        "model.compile(optimizer = 'adam', loss = 'mean_squared_error')\n",
        "\n",
        "# Fitting the model to the Training set\n",
        "history = model.fit(X_train, y_train, epochs = 20, batch_size = 10, validation_split=.30)"
      ],
      "execution_count": 36,
      "outputs": [
        {
          "output_type": "stream",
          "text": [
            "Epoch 1/20\n",
            "103/103 [==============================] - 7s 47ms/step - loss: 0.0459 - val_loss: 0.0024\n",
            "Epoch 2/20\n",
            "103/103 [==============================] - 4s 38ms/step - loss: 0.0013 - val_loss: 0.0039\n",
            "Epoch 3/20\n",
            "103/103 [==============================] - 4s 38ms/step - loss: 0.0016 - val_loss: 0.0023\n",
            "Epoch 4/20\n",
            "103/103 [==============================] - 4s 38ms/step - loss: 0.0016 - val_loss: 0.0016\n",
            "Epoch 5/20\n",
            "103/103 [==============================] - 4s 38ms/step - loss: 0.0011 - val_loss: 0.0014\n",
            "Epoch 6/20\n",
            "103/103 [==============================] - 4s 39ms/step - loss: 0.0010 - val_loss: 0.0014\n",
            "Epoch 7/20\n",
            "103/103 [==============================] - 4s 38ms/step - loss: 9.4626e-04 - val_loss: 0.0014\n",
            "Epoch 8/20\n",
            "103/103 [==============================] - 4s 38ms/step - loss: 0.0012 - val_loss: 0.0023\n",
            "Epoch 9/20\n",
            "103/103 [==============================] - 4s 39ms/step - loss: 0.0011 - val_loss: 0.0012\n",
            "Epoch 10/20\n",
            "103/103 [==============================] - 4s 38ms/step - loss: 0.0014 - val_loss: 0.0012\n",
            "Epoch 11/20\n",
            "103/103 [==============================] - 4s 38ms/step - loss: 8.3614e-04 - val_loss: 0.0014\n",
            "Epoch 12/20\n",
            "103/103 [==============================] - 4s 38ms/step - loss: 9.0344e-04 - val_loss: 0.0027\n",
            "Epoch 13/20\n",
            "103/103 [==============================] - 4s 38ms/step - loss: 0.0010 - val_loss: 0.0022\n",
            "Epoch 14/20\n",
            "103/103 [==============================] - 4s 39ms/step - loss: 0.0012 - val_loss: 0.0010\n",
            "Epoch 15/20\n",
            "103/103 [==============================] - 4s 39ms/step - loss: 7.7421e-04 - val_loss: 0.0012\n",
            "Epoch 16/20\n",
            "103/103 [==============================] - 4s 40ms/step - loss: 6.6625e-04 - val_loss: 9.4147e-04\n",
            "Epoch 17/20\n",
            "103/103 [==============================] - 4s 38ms/step - loss: 7.7853e-04 - val_loss: 0.0011\n",
            "Epoch 18/20\n",
            "103/103 [==============================] - 4s 38ms/step - loss: 7.6582e-04 - val_loss: 9.3735e-04\n",
            "Epoch 19/20\n",
            "103/103 [==============================] - 4s 38ms/step - loss: 7.2470e-04 - val_loss: 8.4997e-04\n",
            "Epoch 20/20\n",
            "103/103 [==============================] - 4s 39ms/step - loss: 6.3024e-04 - val_loss: 0.0014\n"
          ],
          "name": "stdout"
        }
      ]
    },
    {
      "cell_type": "code",
      "metadata": {
        "colab": {
          "base_uri": "https://localhost:8080/"
        },
        "id": "VJAAJ_3JRVIu",
        "outputId": "6a0e5815-9c88-4f2b-90fa-fcf36a995ad6"
      },
      "source": [
        "model.summary()"
      ],
      "execution_count": 37,
      "outputs": [
        {
          "output_type": "stream",
          "text": [
            "Model: \"sequential_1\"\n",
            "_________________________________________________________________\n",
            "Layer (type)                 Output Shape              Param #   \n",
            "=================================================================\n",
            "lstm_2 (LSTM)                (None, 36, 128)           66560     \n",
            "_________________________________________________________________\n",
            "lstm_3 (LSTM)                (None, 64)                49408     \n",
            "_________________________________________________________________\n",
            "dense_3 (Dense)              (None, 32)                2080      \n",
            "_________________________________________________________________\n",
            "dense_4 (Dense)              (None, 16)                528       \n",
            "_________________________________________________________________\n",
            "dense_5 (Dense)              (None, 1)                 17        \n",
            "=================================================================\n",
            "Total params: 118,593\n",
            "Trainable params: 118,593\n",
            "Non-trainable params: 0\n",
            "_________________________________________________________________\n"
          ],
          "name": "stdout"
        }
      ]
    },
    {
      "cell_type": "code",
      "metadata": {
        "colab": {
          "base_uri": "https://localhost:8080/",
          "height": 298
        },
        "id": "gSKBnwssVVJf",
        "outputId": "5bdf87a3-864d-41e5-a13f-3b57b46817fb"
      },
      "source": [
        "# Plot training & validation loss values\n",
        "plt.plot(history.history['loss'])\n",
        "plt.plot(history.history['val_loss'])\n",
        "plt.title('Model loss')\n",
        "plt.ylabel('Loss')\n",
        "plt.xlabel('Epoch')\n",
        "plt.legend(['Train', 'Test'], loc='upper left')\n",
        "plt.show()"
      ],
      "execution_count": 38,
      "outputs": [
        {
          "output_type": "display_data",
          "data": {
            "image/png": "[encoded data removed]",
            "text/plain": [
              "<Figure size 432x288 with 1 Axes>"
            ]
          },
          "metadata": {
            "tags": []
          }
        }
      ]
    },
    {
      "cell_type": "code",
      "metadata": {
        "id": "bawmbe-aVYTG"
      },
      "source": [
        "# Get the stock prices for 2019 to have our model make the predictions\n",
        "test_data = test_df['Adj Close'].values\n",
        "test_data = test_data.reshape(-1,1)\n",
        "test_data = scaler.transform(test_data)\n",
        "\n",
        "# Create the data to test our model on:\n",
        "time_steps = 36\n",
        "X_test, y_test = create_dataset(test_data, time_steps)\n",
        "\n",
        "# store the original vals for plotting the predictions \n",
        "y_test = y_test.reshape(-1,1)\n",
        "true = y_test\n",
        "org_y = scaler.inverse_transform(y_test)\n",
        "\n",
        "# reshape it [samples, time steps, features]\n",
        "X_test = np.reshape(X_test, (X_test.shape[0], 36, 1))\n",
        "\n",
        "# Predict the prices with the model\n",
        "predicted_y = model.predict(X_test)\n",
        "pred = predicted_y\n",
        "predicted_y = scaler.inverse_transform(predicted_y)\n"
      ],
      "execution_count": 39,
      "outputs": []
    },
    {
      "cell_type": "code",
      "metadata": {
        "colab": {
          "base_uri": "https://localhost:8080/"
        },
        "id": "TCYMPV6E6iAl",
        "outputId": "00bdf93e-2ad0-4652-dc67-c499b6c05c20"
      },
      "source": [
        "# MSE\n",
        "difference_array = np.subtract(true, pred)\n",
        "squared_array = np.square(difference_array)\n",
        "mse = squared_array.mean()\n",
        "print(\"MSE :\", mse)\n",
        "\n",
        "# The RMSE\n",
        "from sklearn.metrics import mean_squared_error, mean_absolute_error\n",
        "print(\"RMSE : %.2f\" % mean_squared_error(true, pred, squared=False))\n",
        "\n",
        "# The MAE\n",
        "print(\"MAE : %.2f\" % mean_absolute_error(true, pred))\n",
        "\n",
        "#Mean Absolute Percentange Error\n",
        "MAPE = np.mean(np.abs((true - pred) / true)) * 100\n",
        "print('MAPE : ', MAPE)\n",
        "\n",
        "# Explained variance score: 1 is perfect prediction\n",
        "from sklearn.metrics import r2_score\n",
        "print('R2 score: %.2f' % r2_score(true, pred))"
      ],
      "execution_count": 40,
      "outputs": [
        {
          "output_type": "stream",
          "text": [
            "MSE : 0.0013339140092999027\n",
            "RMSE : 0.04\n",
            "MAE : 0.03\n",
            "MAPE :  5.545664314192608\n",
            "R2 score: 0.81\n"
          ],
          "name": "stdout"
        }
      ]
    },
    {
      "cell_type": "markdown",
      "metadata": {
        "id": "m0RAfWtxDfnB"
      },
      "source": [
        "We choose the mean square error MSE of all samples as our metric. It can be calculated through Eqn. (47) using test set. Notice that the MSE we calculated are derived from normalized data. That's because there exists huge value gap among di\u000berent stocks. if we use original stock price to evaluate error, the error of high price stocks would probably be much more larger than low price ones, which implies models perform better on high price stocks would very likely to have better overall performance. Thus the performance on low price stocks would become dispensable. To avoid the bias caused by the aforementioned problem we evaluate the error with normalized stock price ranged from -1 to 1. (Li, H., Shen, Y., dan Zhu, Y. 2018. Stock Price Prediction Using attention-based Multi-Input LSTM)"
      ]
    },
    {
      "cell_type": "code",
      "metadata": {
        "id": "Y47_DyXm9Ysk",
        "colab": {
          "base_uri": "https://localhost:8080/",
          "height": 287
        },
        "outputId": "8f6d3d76-c737-4caf-85d9-2b128a54adc6"
      },
      "source": [
        "predicted_y = pd.DataFrame(predicted_y)\n",
        "org_y = pd.DataFrame(org_y)\n",
        "describe = pd.DataFrame()\n",
        "describe['True Price'] = org_y[0]\n",
        "describe['Prediction'] = predicted_y[0]\n",
        "describe['difference'] = org_y[0] - predicted_y[0]\n",
        "describe['MAPE (%)'] = abs(describe['difference']/org_y[0]*100)\n",
        "describe.describe()"
      ],
      "execution_count": 41,
      "outputs": [
        {
          "output_type": "execute_result",
          "data": {
            "text/html": [
              "<div>\n",
              "<style scoped>\n",
              "    .dataframe tbody tr th:only-of-type {\n",
              "        vertical-align: middle;\n",
              "    }\n",
              "\n",
              "    .dataframe tbody tr th {\n",
              "        vertical-align: top;\n",
              "    }\n",
              "\n",
              "    .dataframe thead th {\n",
              "        text-align: right;\n",
              "    }\n",
              "</style>\n",
              "<table border=\"1\" class=\"dataframe\">\n",
              "  <thead>\n",
              "    <tr style=\"text-align: right;\">\n",
              "      <th></th>\n",
              "      <th>True Price</th>\n",
              "      <th>Prediction</th>\n",
              "      <th>difference</th>\n",
              "      <th>MAPE (%)</th>\n",
              "    </tr>\n",
              "  </thead>\n",
              "  <tbody>\n",
              "    <tr>\n",
              "      <th>count</th>\n",
              "      <td>242.000000</td>\n",
              "      <td>242.000000</td>\n",
              "      <td>242.000000</td>\n",
              "      <td>242.000000</td>\n",
              "    </tr>\n",
              "    <tr>\n",
              "      <th>mean</th>\n",
              "      <td>7674.068589</td>\n",
              "      <td>7586.734375</td>\n",
              "      <td>87.330046</td>\n",
              "      <td>2.081321</td>\n",
              "    </tr>\n",
              "    <tr>\n",
              "      <th>std</th>\n",
              "      <td>504.017696</td>\n",
              "      <td>453.340607</td>\n",
              "      <td>199.032762</td>\n",
              "      <td>2.311811</td>\n",
              "    </tr>\n",
              "    <tr>\n",
              "      <th>min</th>\n",
              "      <td>5513.695312</td>\n",
              "      <td>5785.333008</td>\n",
              "      <td>-989.772461</td>\n",
              "      <td>0.065546</td>\n",
              "    </tr>\n",
              "    <tr>\n",
              "      <th>25%</th>\n",
              "      <td>7500.000000</td>\n",
              "      <td>7453.608765</td>\n",
              "      <td>22.319946</td>\n",
              "      <td>0.730503</td>\n",
              "    </tr>\n",
              "    <tr>\n",
              "      <th>50%</th>\n",
              "      <td>7831.398926</td>\n",
              "      <td>7722.352539</td>\n",
              "      <td>88.751465</td>\n",
              "      <td>1.454792</td>\n",
              "    </tr>\n",
              "    <tr>\n",
              "      <th>75%</th>\n",
              "      <td>8007.126953</td>\n",
              "      <td>7894.616333</td>\n",
              "      <td>163.518555</td>\n",
              "      <td>2.533992</td>\n",
              "    </tr>\n",
              "    <tr>\n",
              "      <th>max</th>\n",
              "      <td>8368.129883</td>\n",
              "      <td>8190.306641</td>\n",
              "      <td>826.222168</td>\n",
              "      <td>17.951164</td>\n",
              "    </tr>\n",
              "  </tbody>\n",
              "</table>\n",
              "</div>"
            ],
            "text/plain": [
              "        True Price   Prediction  difference    MAPE (%)\n",
              "count   242.000000   242.000000  242.000000  242.000000\n",
              "mean   7674.068589  7586.734375   87.330046    2.081321\n",
              "std     504.017696   453.340607  199.032762    2.311811\n",
              "min    5513.695312  5785.333008 -989.772461    0.065546\n",
              "25%    7500.000000  7453.608765   22.319946    0.730503\n",
              "50%    7831.398926  7722.352539   88.751465    1.454792\n",
              "75%    8007.126953  7894.616333  163.518555    2.533992\n",
              "max    8368.129883  8190.306641  826.222168   17.951164"
            ]
          },
          "metadata": {
            "tags": []
          },
          "execution_count": 41
        }
      ]
    },
    {
      "cell_type": "code",
      "metadata": {
        "colab": {
          "base_uri": "https://localhost:8080/",
          "height": 347
        },
        "id": "UoSeLi8altE4",
        "outputId": "31136c6b-7b8a-4687-b08c-91ed9e417533"
      },
      "source": [
        "describe.head(10)"
      ],
      "execution_count": 42,
      "outputs": [
        {
          "output_type": "execute_result",
          "data": {
            "text/html": [
              "<div>\n",
              "<style scoped>\n",
              "    .dataframe tbody tr th:only-of-type {\n",
              "        vertical-align: middle;\n",
              "    }\n",
              "\n",
              "    .dataframe tbody tr th {\n",
              "        vertical-align: top;\n",
              "    }\n",
              "\n",
              "    .dataframe thead th {\n",
              "        text-align: right;\n",
              "    }\n",
              "</style>\n",
              "<table border=\"1\" class=\"dataframe\">\n",
              "  <thead>\n",
              "    <tr style=\"text-align: right;\">\n",
              "      <th></th>\n",
              "      <th>True Price</th>\n",
              "      <th>Prediction</th>\n",
              "      <th>difference</th>\n",
              "      <th>MAPE (%)</th>\n",
              "    </tr>\n",
              "  </thead>\n",
              "  <tbody>\n",
              "    <tr>\n",
              "      <th>0</th>\n",
              "      <td>8343.733398</td>\n",
              "      <td>8124.425293</td>\n",
              "      <td>219.308105</td>\n",
              "      <td>2.628417</td>\n",
              "    </tr>\n",
              "    <tr>\n",
              "      <th>1</th>\n",
              "      <td>8368.129883</td>\n",
              "      <td>8158.871582</td>\n",
              "      <td>209.258301</td>\n",
              "      <td>2.500658</td>\n",
              "    </tr>\n",
              "    <tr>\n",
              "      <th>2</th>\n",
              "      <td>8270.542969</td>\n",
              "      <td>8190.306641</td>\n",
              "      <td>80.236328</td>\n",
              "      <td>0.970146</td>\n",
              "    </tr>\n",
              "    <tr>\n",
              "      <th>3</th>\n",
              "      <td>8246.146484</td>\n",
              "      <td>8185.679199</td>\n",
              "      <td>60.467285</td>\n",
              "      <td>0.733279</td>\n",
              "    </tr>\n",
              "    <tr>\n",
              "      <th>4</th>\n",
              "      <td>8124.161621</td>\n",
              "      <td>8162.437012</td>\n",
              "      <td>-38.275391</td>\n",
              "      <td>0.471130</td>\n",
              "    </tr>\n",
              "    <tr>\n",
              "      <th>5</th>\n",
              "      <td>8148.558594</td>\n",
              "      <td>8105.915039</td>\n",
              "      <td>42.643555</td>\n",
              "      <td>0.523326</td>\n",
              "    </tr>\n",
              "    <tr>\n",
              "      <th>6</th>\n",
              "      <td>8050.971191</td>\n",
              "      <td>8058.999023</td>\n",
              "      <td>-8.027832</td>\n",
              "      <td>0.099713</td>\n",
              "    </tr>\n",
              "    <tr>\n",
              "      <th>7</th>\n",
              "      <td>8197.352539</td>\n",
              "      <td>8002.700684</td>\n",
              "      <td>194.651855</td>\n",
              "      <td>2.374570</td>\n",
              "    </tr>\n",
              "    <tr>\n",
              "      <th>8</th>\n",
              "      <td>8270.542969</td>\n",
              "      <td>7997.033691</td>\n",
              "      <td>273.509277</td>\n",
              "      <td>3.307029</td>\n",
              "    </tr>\n",
              "    <tr>\n",
              "      <th>9</th>\n",
              "      <td>8270.542969</td>\n",
              "      <td>8030.657227</td>\n",
              "      <td>239.885742</td>\n",
              "      <td>2.900484</td>\n",
              "    </tr>\n",
              "  </tbody>\n",
              "</table>\n",
              "</div>"
            ],
            "text/plain": [
              "    True Price   Prediction  difference  MAPE (%)\n",
              "0  8343.733398  8124.425293  219.308105  2.628417\n",
              "1  8368.129883  8158.871582  209.258301  2.500658\n",
              "2  8270.542969  8190.306641   80.236328  0.970146\n",
              "3  8246.146484  8185.679199   60.467285  0.733279\n",
              "4  8124.161621  8162.437012  -38.275391  0.471130\n",
              "5  8148.558594  8105.915039   42.643555  0.523326\n",
              "6  8050.971191  8058.999023   -8.027832  0.099713\n",
              "7  8197.352539  8002.700684  194.651855  2.374570\n",
              "8  8270.542969  7997.033691  273.509277  3.307029\n",
              "9  8270.542969  8030.657227  239.885742  2.900484"
            ]
          },
          "metadata": {
            "tags": []
          },
          "execution_count": 42
        }
      ]
    },
    {
      "cell_type": "code",
      "metadata": {
        "id": "xriB7R_tWpAM",
        "colab": {
          "base_uri": "https://localhost:8080/"
        },
        "outputId": "96086ce9-2754-4286-baf3-b77f2c059d63"
      },
      "source": [
        "a = np.array(describe['True Price'])\n",
        "b = np.array(describe['Prediction'])\n",
        "\n",
        "# MSE\n",
        "difference_array = np.subtract(a, b)\n",
        "squared_array = np.square(difference_array)\n",
        "mse = squared_array.mean()\n",
        "print(\"MSE :\", mse)\n",
        "\n",
        "# The RMSE\n",
        "print(\"RMSE: %.2f\" % mean_squared_error(a, b, squared=False))\n",
        "\n",
        "# The MAE\n",
        "print(\"MAE: %.2f\" % mean_absolute_error(a, b))\n",
        "\n",
        "#Mean Absolute Percentange Error\n",
        "c = (np.mean(np.abs((a - b) / a))) * 100\n",
        "print('MAPE : ', c)\n",
        "\n",
        "# Explained variance score: 1 is perfect prediction\n",
        "from sklearn.metrics import r2_score\n",
        "print('R2 score: %.2f' % r2_score(a, b))\n",
        "\n"
      ],
      "execution_count": 43,
      "outputs": [
        {
          "output_type": "stream",
          "text": [
            "MSE : 47076.882781046515\n",
            "RMSE: 216.97\n",
            "MAE: 154.63\n",
            "MAPE :  2.0813209383932296\n",
            "R2 score: 0.81\n"
          ],
          "name": "stdout"
        }
      ]
    },
    {
      "cell_type": "code",
      "metadata": {
        "id": "iozJ262YxuM8",
        "colab": {
          "base_uri": "https://localhost:8080/"
        },
        "outputId": "9f0333f8-7df3-4384-a416-fe51b82df73b"
      },
      "source": [
        "print(model.evaluate(X_train, y_train))\n",
        "print(model.evaluate(X_test, y_test))"
      ],
      "execution_count": 44,
      "outputs": [
        {
          "output_type": "stream",
          "text": [
            "46/46 [==============================] - 2s 18ms/step - loss: 0.0011\n",
            "0.0010882753413170576\n",
            "8/8 [==============================] - 1s 17ms/step - loss: 0.0013\n",
            "0.0013339139986783266\n"
          ],
          "name": "stdout"
        }
      ]
    },
    {
      "cell_type": "code",
      "metadata": {
        "colab": {
          "base_uri": "https://localhost:8080/"
        },
        "id": "JRT-OjnyZ0PP",
        "outputId": "0255ee39-ea07-499e-ed4f-29a36e74b9f1"
      },
      "source": [
        "print(model.metrics_names)"
      ],
      "execution_count": 45,
      "outputs": [
        {
          "output_type": "stream",
          "text": [
            "['loss']\n"
          ],
          "name": "stdout"
        }
      ]
    },
    {
      "cell_type": "code",
      "metadata": {
        "id": "qNCPEkeaXNIT"
      },
      "source": [
        "graph  = test_df.drop(test_df.index[0:36])\n",
        "graph.reset_index(inplace=True)\n",
        "graph.rename(columns = {'index':'Date'})\n",
        "graph = graph.drop(columns=['High','Low','Open','Volume','Close'])\n",
        "graph['Predict_Value'] = predicted_y[0]\n",
        "graph.head()\n",
        "graph.set_index('Date', inplace=True)"
      ],
      "execution_count": 46,
      "outputs": []
    },
    {
      "cell_type": "code",
      "metadata": {
        "id": "QF5LdxyJb0bT",
        "colab": {
          "base_uri": "https://localhost:8080/",
          "height": 298
        },
        "outputId": "67cf1153-904a-40a6-f6f1-53497bcb0962"
      },
      "source": [
        "# plot the results \n",
        "plt.plot(graph['Adj Close'], color = 'red', label = 'Real Stock Price')\n",
        "plt.plot(graph['Predict_Value'], color = 'blue', label = 'Predicted Stock Price')\n",
        "#plt.plot(df['Adj Close'], color = 'black', label = 'Past Stock')\n",
        "plt.title('Stock Price Prediction')\n",
        "plt.xlabel('Time')\n",
        "plt.ylabel('Stock Price')\n",
        "plt.legend()\n",
        "plt.savefig('Stock Price SVR LSTM 1.png')\n",
        "files.download(\"Stock Price SVR LSTM 1.png\")\n",
        "plt.show()"
      ],
      "execution_count": 47,
      "outputs": [
        {
          "output_type": "display_data",
          "data": {
            "application/javascript": [
              "\n",
              "    async function download(id, filename, size) {\n",
              "      if (!google.colab.kernel.accessAllowed) {\n",
              "        return;\n",
              "      }\n",
              "      const div = document.createElement('div');\n",
              "      const label = document.createElement('label');\n",
              "      label.textContent = `Downloading \"${filename}\": `;\n",
              "      div.appendChild(label);\n",
              "      const progress = document.createElement('progress');\n",
              "      progress.max = size;\n",
              "      div.appendChild(progress);\n",
              "      document.body.appendChild(div);\n",
              "\n",
              "      const buffers = [];\n",
              "      let downloaded = 0;\n",
              "\n",
              "      const channel = await google.colab.kernel.comms.open(id);\n",
              "      // Send a message to notify the kernel that we're ready.\n",
              "      channel.send({})\n",
              "\n",
              "      for await (const message of channel.messages) {\n",
              "        // Send a message to notify the kernel that we're ready.\n",
              "        channel.send({})\n",
              "        if (message.buffers) {\n",
              "          for (const buffer of message.buffers) {\n",
              "            buffers.push(buffer);\n",
              "            downloaded += buffer.byteLength;\n",
              "            progress.value = downloaded;\n",
              "          }\n",
              "        }\n",
              "      }\n",
              "      const blob = new Blob(buffers, {type: 'application/binary'});\n",
              "      const a = document.createElement('a');\n",
              "      a.href = window.URL.createObjectURL(blob);\n",
              "      a.download = filename;\n",
              "      div.appendChild(a);\n",
              "      a.click();\n",
              "      div.remove();\n",
              "    }\n",
              "  "
            ],
            "text/plain": [
              "<IPython.core.display.Javascript object>"
            ]
          },
          "metadata": {
            "tags": []
          }
        },
        {
          "output_type": "display_data",
          "data": {
            "application/javascript": [
              "download(\"download_4deb69d5-de30-4442-83b7-04950a17317e\", \"Stock Price SVR LSTM 1.png\", 32721)"
            ],
            "text/plain": [
              "<IPython.core.display.Javascript object>"
            ]
          },
          "metadata": {
            "tags": []
          }
        },
        {
          "output_type": "display_data",
          "data": {
            "image/png": "[encoded data removed]",
            "text/plain": [
              "<Figure size 432x288 with 1 Axes>"
            ]
          },
          "metadata": {
            "tags": []
          }
        }
      ]
    },
    {
      "cell_type": "code",
      "metadata": {
        "id": "RRepTsPgEuXx"
      },
      "source": [
        "final  = test_df.drop(test_df.index[0:36])\n",
        "final.reset_index(inplace=True)\n",
        "final.rename(columns = {'index':'Date'})\n",
        "final = final.drop(columns=['High','Low','Open','Volume','Close'])\n",
        "final['Predict_Value'] = predicted_y[0]\n",
        "final['Selisih'] = final['Adj Close'] - final['Predict_Value']\n",
        "final['Lost/Risk (%)'] = abs((final['Adj Close'] - final['Predict_Value'])/final['Predict_Value']*100)\n",
        "final = final.drop(columns=['Adj Close'])"
      ],
      "execution_count": 48,
      "outputs": []
    },
    {
      "cell_type": "code",
      "metadata": {
        "id": "DhwcCvlTySN1"
      },
      "source": [
        "percent = test_df.drop(test_df.index[0:35])\n",
        "percent = percent.drop(test_df.index[-1])\n",
        "percent.reset_index(inplace=True)\n",
        "percent.rename(columns = {'index':'Date'}) \n",
        "percent = percent.drop(columns=['High','Low','Open','Volume','Close'])\n",
        "percent['Next Day'] = predicted_y\n",
        "percent['Plus or Minus']= percent['Adj Close'] - percent['Next Day']\n",
        "percent['Next Day (%)']= (((percent['Adj Close'] - percent['Next Day'])/percent['Adj Close'])*100)"
      ],
      "execution_count": 49,
      "outputs": []
    },
    {
      "cell_type": "code",
      "metadata": {
        "id": "sllI6VucG__o"
      },
      "source": [
        "True_Next_Day = test_df.drop(test_df.index[0:35])\n",
        "True_Next_Day = True_Next_Day.drop(test_df.index[-1])\n",
        "True_Next_Day.reset_index(inplace=True)\n",
        "True_Next_Day.rename(columns = {'index':'Date'}) \n",
        "True_Next_Day = True_Next_Day.drop(columns=['High','Low','Open','Volume','Close'])\n",
        "True_Next_Day['True Next Day'] = org_y\n",
        "True_Next_Day['True Plus or Minus']= (True_Next_Day['Adj Close'] - True_Next_Day['True Next Day'])\n",
        "True_Next_Day['True Next Day (%)']= (((True_Next_Day['Adj Close'] - True_Next_Day['True Next Day'])/True_Next_Day['Adj Close'])*100)\n",
        "True_Next_Day = True_Next_Day.drop(columns=['Adj Close'])"
      ],
      "execution_count": 50,
      "outputs": []
    },
    {
      "cell_type": "code",
      "metadata": {
        "id": "121c4YuD-aJq",
        "colab": {
          "base_uri": "https://localhost:8080/"
        },
        "outputId": "6293aaff-efb9-4cb3-a2db-982a793b5edc"
      },
      "source": [
        "Concating = percent.merge(final, how='outer', on='Date')\n",
        "Concating = Concating.merge(True_Next_Day, how='outer', on='Date')\n",
        "#Concating.set_index('Date', inplace=True)\n",
        "Final_Predict = Concating.copy()\n",
        "Final_Predict['Harga Saham Hari ini'] = Concating['Adj Close']\n",
        "Final_Predict['Prediksi Besok'] = Concating['Plus or Minus']\n",
        "Final_Predict['Harga Besok Sebenarnya'] = Concating['True Plus or Minus']\n",
        "Final_Predict['Prediksi Besok (%)'] = (Concating['Next Day (%)'])\n",
        "Final_Predict['Harga Besok Sebenarnya (%)'] = Concating['True Next Day (%)']\n",
        "Final_Predict['Selisih Prediksi'] = (Final_Predict['Harga Besok Sebenarnya'] - Final_Predict['Prediksi Besok'])\n",
        "Final_Predict['Harga Sebenarnya'] = Concating['True Next Day']\n",
        "Final_Predict['Risk/MAPE(%)'] = (np.abs((Final_Predict['Harga Besok Sebenarnya'] - Final_Predict['Prediksi Besok']) / Final_Predict['True Next Day'])) * 100\n",
        "Final_Predict['Risk/MAPE(%)'] = round(Final_Predict['Risk/MAPE(%)'], 2)\n",
        "Final_Predict = Final_Predict.drop(columns=['Adj Close', 'Next Day', 'Plus or Minus', 'Next Day (%)',\n",
        "                                            'Predict_Value', 'Selisih', 'Lost/Risk (%)', 'True Plus or Minus',\n",
        "                                            'True Next Day (%)','True Next Day'])\n",
        "Final_Predict = Final_Predict.replace(0, np.nan)\n",
        "Final_Predict = Final_Predict.dropna()\n",
        "Final_Predict['Prediksi Uptrend'] = Final_Predict['Prediksi Besok'].apply(lambda x: 1 if x >= 0 else 0)\n",
        "Final_Predict['Asli Uptrend'] = Final_Predict['Harga Besok Sebenarnya'].apply(lambda x: 1 if x >= 0 else 0)\n",
        "Final_Predict.set_index('Date', inplace=True)\n",
        "Final_Predict.shape"
      ],
      "execution_count": 51,
      "outputs": [
        {
          "output_type": "execute_result",
          "data": {
            "text/plain": [
              "(224, 10)"
            ]
          },
          "metadata": {
            "tags": []
          },
          "execution_count": 51
        }
      ]
    },
    {
      "cell_type": "markdown",
      "metadata": {
        "id": "-B7BojpJDQgu"
      },
      "source": [
        "Risk Ekspektasi - Blindly belief\n",
        "\n",
        "Logika ekpektasi - Saham A saya beli kemarin Rp. 1000, dan prediksi ML LSTM menginfokan hari ini naik 200 menjadi 1200 sehingga saya tergetkan jual 1200. ketika saya jual 1200, ternyata harga penutupannya 1500, naik 500. berarti selisihnya dari prediksi dan harga asli adalah Rp 300 (Rp. 500 - Rp. 200), menandakan risiko ekpektasinya adalah 20% (Rp 300/1500) dari harga saham, sedangkan risiko ekpektasi kenaikan dan penurunannya adalah 60% dari ekpektasi kehilangan peluang (Ekpektasi peluang = (500-200)/500*100)\n",
        "\n",
        "Risiko Ekpektasi lainnya - \n",
        "Saham A saya beli kemarin Rp. 1000 dengan prediksi ML LSTM hari ini 1200, naik 200 sehingga saya tergetkan jual Rp. 1200. ketika saya melihat saham menyentuh 800, saya pikir itu adalah kesempatan beli karena perkiraan penutupan ML LSTM adalah 1200, dengan harapan mendapat keutungan ketika penutupan. Namun, prediksinya salah, dan ternyata penutupannya adalah 800 dan saham saya tidak laku, dan terjadi penurunan 200 dari hari kemarin. Disini saya kehilangan kesempatan cut loss dan justru menumpuk saham ketika seharusnya cutloss. Jika dikalkulasikan -400 dari harapan awal 1200 menjadi 800 (-200-200), menandakan risk ekpektasi dari harga sahamnya 50% (-400/800*100), atau perbedaan ekpektasinya 200% dari peluang cutloss. Risiko dari ketamakan."
      ]
    },
    {
      "cell_type": "code",
      "metadata": {
        "colab": {
          "base_uri": "https://localhost:8080/",
          "height": 561
        },
        "id": "ookffGOJ-lmk",
        "outputId": "07427fb7-9f05-4288-a748-458f39317ab3"
      },
      "source": [
        "Final_Predict.head(10)"
      ],
      "execution_count": 52,
      "outputs": [
        {
          "output_type": "execute_result",
          "data": {
            "text/html": [
              "<div>\n",
              "<style scoped>\n",
              "    .dataframe tbody tr th:only-of-type {\n",
              "        vertical-align: middle;\n",
              "    }\n",
              "\n",
              "    .dataframe tbody tr th {\n",
              "        vertical-align: top;\n",
              "    }\n",
              "\n",
              "    .dataframe thead th {\n",
              "        text-align: right;\n",
              "    }\n",
              "</style>\n",
              "<table border=\"1\" class=\"dataframe\">\n",
              "  <thead>\n",
              "    <tr style=\"text-align: right;\">\n",
              "      <th></th>\n",
              "      <th>Harga Saham Hari ini</th>\n",
              "      <th>Prediksi Besok</th>\n",
              "      <th>Harga Besok Sebenarnya</th>\n",
              "      <th>Prediksi Besok (%)</th>\n",
              "      <th>Harga Besok Sebenarnya (%)</th>\n",
              "      <th>Selisih Prediksi</th>\n",
              "      <th>Harga Sebenarnya</th>\n",
              "      <th>Risk/MAPE(%)</th>\n",
              "      <th>Prediksi Uptrend</th>\n",
              "      <th>Asli Uptrend</th>\n",
              "    </tr>\n",
              "    <tr>\n",
              "      <th>Date</th>\n",
              "      <th></th>\n",
              "      <th></th>\n",
              "      <th></th>\n",
              "      <th></th>\n",
              "      <th></th>\n",
              "      <th></th>\n",
              "      <th></th>\n",
              "      <th></th>\n",
              "      <th></th>\n",
              "      <th></th>\n",
              "    </tr>\n",
              "  </thead>\n",
              "  <tbody>\n",
              "    <tr>\n",
              "      <th>2019-12-30</th>\n",
              "      <td>8197.352539</td>\n",
              "      <td>72.927246</td>\n",
              "      <td>-146.380859</td>\n",
              "      <td>0.889644</td>\n",
              "      <td>-1.785709</td>\n",
              "      <td>-219.308105</td>\n",
              "      <td>8343.733398</td>\n",
              "      <td>2.63</td>\n",
              "      <td>1</td>\n",
              "      <td>0</td>\n",
              "    </tr>\n",
              "    <tr>\n",
              "      <th>2020-01-02</th>\n",
              "      <td>8343.733398</td>\n",
              "      <td>184.861816</td>\n",
              "      <td>-24.396484</td>\n",
              "      <td>2.215577</td>\n",
              "      <td>-0.292393</td>\n",
              "      <td>-209.258301</td>\n",
              "      <td>8368.129883</td>\n",
              "      <td>2.50</td>\n",
              "      <td>1</td>\n",
              "      <td>0</td>\n",
              "    </tr>\n",
              "    <tr>\n",
              "      <th>2020-01-03</th>\n",
              "      <td>8368.129883</td>\n",
              "      <td>177.823242</td>\n",
              "      <td>97.586914</td>\n",
              "      <td>2.125006</td>\n",
              "      <td>1.166174</td>\n",
              "      <td>-80.236328</td>\n",
              "      <td>8270.542969</td>\n",
              "      <td>0.97</td>\n",
              "      <td>1</td>\n",
              "      <td>1</td>\n",
              "    </tr>\n",
              "    <tr>\n",
              "      <th>2020-01-06</th>\n",
              "      <td>8270.542969</td>\n",
              "      <td>84.863770</td>\n",
              "      <td>24.396484</td>\n",
              "      <td>1.026097</td>\n",
              "      <td>0.294980</td>\n",
              "      <td>-60.467285</td>\n",
              "      <td>8246.146484</td>\n",
              "      <td>0.73</td>\n",
              "      <td>1</td>\n",
              "      <td>1</td>\n",
              "    </tr>\n",
              "    <tr>\n",
              "      <th>2020-01-07</th>\n",
              "      <td>8246.146484</td>\n",
              "      <td>83.709473</td>\n",
              "      <td>121.984863</td>\n",
              "      <td>1.015134</td>\n",
              "      <td>1.479295</td>\n",
              "      <td>38.275391</td>\n",
              "      <td>8124.161621</td>\n",
              "      <td>0.47</td>\n",
              "      <td>1</td>\n",
              "      <td>1</td>\n",
              "    </tr>\n",
              "    <tr>\n",
              "      <th>2020-01-08</th>\n",
              "      <td>8124.161621</td>\n",
              "      <td>18.246582</td>\n",
              "      <td>-24.396973</td>\n",
              "      <td>0.224596</td>\n",
              "      <td>-0.300301</td>\n",
              "      <td>-42.643555</td>\n",
              "      <td>8148.558594</td>\n",
              "      <td>0.52</td>\n",
              "      <td>1</td>\n",
              "      <td>0</td>\n",
              "    </tr>\n",
              "    <tr>\n",
              "      <th>2020-01-09</th>\n",
              "      <td>8148.558594</td>\n",
              "      <td>89.559570</td>\n",
              "      <td>97.587402</td>\n",
              "      <td>1.099085</td>\n",
              "      <td>1.197603</td>\n",
              "      <td>8.027832</td>\n",
              "      <td>8050.971191</td>\n",
              "      <td>0.10</td>\n",
              "      <td>1</td>\n",
              "      <td>1</td>\n",
              "    </tr>\n",
              "    <tr>\n",
              "      <th>2020-01-10</th>\n",
              "      <td>8050.971191</td>\n",
              "      <td>48.270508</td>\n",
              "      <td>-146.381348</td>\n",
              "      <td>0.599561</td>\n",
              "      <td>-1.818182</td>\n",
              "      <td>-194.651855</td>\n",
              "      <td>8197.352539</td>\n",
              "      <td>2.37</td>\n",
              "      <td>1</td>\n",
              "      <td>0</td>\n",
              "    </tr>\n",
              "    <tr>\n",
              "      <th>2020-01-13</th>\n",
              "      <td>8197.352539</td>\n",
              "      <td>200.318848</td>\n",
              "      <td>-73.190430</td>\n",
              "      <td>2.443702</td>\n",
              "      <td>-0.892854</td>\n",
              "      <td>-273.509277</td>\n",
              "      <td>8270.542969</td>\n",
              "      <td>3.31</td>\n",
              "      <td>1</td>\n",
              "      <td>0</td>\n",
              "    </tr>\n",
              "    <tr>\n",
              "      <th>2020-01-15</th>\n",
              "      <td>8270.542969</td>\n",
              "      <td>198.958008</td>\n",
              "      <td>48.793945</td>\n",
              "      <td>2.405622</td>\n",
              "      <td>0.589973</td>\n",
              "      <td>-150.164062</td>\n",
              "      <td>8221.749023</td>\n",
              "      <td>1.83</td>\n",
              "      <td>1</td>\n",
              "      <td>1</td>\n",
              "    </tr>\n",
              "  </tbody>\n",
              "</table>\n",
              "</div>"
            ],
            "text/plain": [
              "            Harga Saham Hari ini  ...  Asli Uptrend\n",
              "Date                              ...              \n",
              "2019-12-30           8197.352539  ...             0\n",
              "2020-01-02           8343.733398  ...             0\n",
              "2020-01-03           8368.129883  ...             1\n",
              "2020-01-06           8270.542969  ...             1\n",
              "2020-01-07           8246.146484  ...             1\n",
              "2020-01-08           8124.161621  ...             0\n",
              "2020-01-09           8148.558594  ...             1\n",
              "2020-01-10           8050.971191  ...             0\n",
              "2020-01-13           8197.352539  ...             0\n",
              "2020-01-15           8270.542969  ...             1\n",
              "\n",
              "[10 rows x 10 columns]"
            ]
          },
          "metadata": {
            "tags": []
          },
          "execution_count": 52
        }
      ]
    },
    {
      "cell_type": "code",
      "metadata": {
        "colab": {
          "base_uri": "https://localhost:8080/"
        },
        "id": "nJ8kSjYQ4Mru",
        "outputId": "0e983ffd-7b28-4a16-fd3d-4ae539c9764e"
      },
      "source": [
        "MAPE = np.mean(np.abs((Final_Predict['Harga Besok Sebenarnya'] - Final_Predict['Prediksi Besok']) / Final_Predict['Harga Sebenarnya'])) * 100\n",
        "print('Mape :', MAPE)"
      ],
      "execution_count": 53,
      "outputs": [
        {
          "output_type": "stream",
          "text": [
            "Mape : 2.1298132488716193\n"
          ],
          "name": "stdout"
        }
      ]
    },
    {
      "cell_type": "code",
      "metadata": {
        "colab": {
          "base_uri": "https://localhost:8080/"
        },
        "id": "wmiuagMCKc3w",
        "outputId": "e6dc5320-d57d-412d-cb96-8a82ece7ff66"
      },
      "source": [
        "pred_uptrend = Final_Predict['Prediksi Uptrend']\n",
        "true_trend = Final_Predict['Asli Uptrend']\n",
        "\n",
        "# calculate accuracy\n",
        "from sklearn.metrics import accuracy_score\n",
        "Accuracy = accuracy_score(true_trend, pred_uptrend)\n",
        "print('Accuracy :', Accuracy)\n",
        "\n",
        "\n",
        "# calculate prediction\n",
        "from sklearn.metrics import precision_score\n",
        "precision = precision_score(true_trend, pred_uptrend, average='binary')\n",
        "print('Precision : %.3f' % precision)\n",
        "\n",
        "# calculate recall\n",
        "from sklearn.metrics import recall_score\n",
        "recall = recall_score(true_trend, pred_uptrend, average='binary')\n",
        "print('Recall : %.3f' % recall)\n",
        "\n",
        "# calculate score\n",
        "from sklearn.metrics import f1_score\n",
        "score = f1_score(true_trend, pred_uptrend, average='binary')\n",
        "print('F1 Score : %.3f' % score)\n",
        "\n",
        "#AUC Score\n",
        "from sklearn.metrics import roc_auc_score \n",
        "auc = roc_auc_score(true_trend, pred_uptrend)\n",
        "print('AUC Score : ', auc)"
      ],
      "execution_count": 54,
      "outputs": [
        {
          "output_type": "stream",
          "text": [
            "Accuracy : 0.5803571428571429\n",
            "Precision : 0.563\n",
            "Recall : 0.907\n",
            "F1 Score : 0.695\n",
            "AUC Score :  0.5618803965462105\n"
          ],
          "name": "stdout"
        }
      ]
    },
    {
      "cell_type": "code",
      "metadata": {
        "colab": {
          "base_uri": "https://localhost:8080/",
          "height": 337
        },
        "id": "J7yPx3k8WolI",
        "outputId": "f843beeb-1cd5-4418-eb11-14f70025e6c9"
      },
      "source": [
        "from sklearn.metrics import confusion_matrix\n",
        "import seaborn as sns\n",
        "import matplotlib.pyplot as plt\n",
        "\n",
        "confusion_matrix(true_trend, pred_uptrend)\n",
        "plt.figure(figsize = (6, 5))\n",
        "sns.heatmap(confusion_matrix(true_trend, pred_uptrend), annot = True)"
      ],
      "execution_count": 55,
      "outputs": [
        {
          "output_type": "execute_result",
          "data": {
            "text/plain": [
              "<matplotlib.axes._subplots.AxesSubplot at 0x7fa99f872890>"
            ]
          },
          "metadata": {
            "tags": []
          },
          "execution_count": 55
        },
        {
          "output_type": "display_data",
          "data": {
            "image/png": "[encoded data removed]",
            "text/plain": [
              "<Figure size 432x360 with 2 Axes>"
            ]
          },
          "metadata": {
            "tags": []
          }
        }
      ]
    },
    {
      "cell_type": "code",
      "metadata": {
        "colab": {
          "base_uri": "https://localhost:8080/",
          "height": 282
        },
        "id": "GL0g9D5qPtTK",
        "outputId": "caff09f6-9477-4499-ac01-0f626886bfa0"
      },
      "source": [
        "from sklearn.metrics import roc_curve \n",
        "fpr, tpr, thresholds = roc_curve(true_trend, pred_uptrend)\n",
        "\n",
        "\n",
        "import matplotlib.pyplot as plt \n",
        "plt.plot(fpr, tpr) \n",
        "plt.xlabel(\"False Positive Rate\") \n",
        "plt.ylabel(\"True Positive Rate\") \n",
        "plt.plot([0, 1], [0, 1], \"k--\") \n",
        "plt.show()"
      ],
      "execution_count": 56,
      "outputs": [
        {
          "output_type": "display_data",
          "data": {
            "image/png": "[encoded data removed]",
            "text/plain": [
              "<Figure size 432x288 with 1 Axes>"
            ]
          },
          "metadata": {
            "tags": []
          }
        }
      ]
    },
    {
      "cell_type": "code",
      "metadata": {
        "colab": {
          "base_uri": "https://localhost:8080/",
          "height": 298
        },
        "id": "kgXVUoOccIB1",
        "outputId": "57e519af-964a-4465-e71a-9a4fce24d5bd"
      },
      "source": [
        "# plot the results \n",
        "plt.plot(Final_Predict['Prediksi Besok'], color = 'red', label = 'Real Stock Price')\n",
        "plt.plot(Final_Predict['Harga Besok Sebenarnya'], color = 'blue', label = 'Predicted Stock Price')\n",
        "#plt.plot(Final_Predict['Risk/MAPE(%)'], color = 'black', label = 'RISK/MAPE(%)')\n",
        "plt.title('Stock Price Prediction')\n",
        "plt.xlabel('Time')\n",
        "plt.ylabel('Stock Price')\n",
        "plt.legend()\n",
        "plt.savefig('Stock Price SVR LSTM 1.png')\n",
        "files.download(\"Stock Price SVR LSTM 1.png\")\n",
        "plt.show()"
      ],
      "execution_count": 57,
      "outputs": [
        {
          "output_type": "display_data",
          "data": {
            "application/javascript": [
              "\n",
              "    async function download(id, filename, size) {\n",
              "      if (!google.colab.kernel.accessAllowed) {\n",
              "        return;\n",
              "      }\n",
              "      const div = document.createElement('div');\n",
              "      const label = document.createElement('label');\n",
              "      label.textContent = `Downloading \"${filename}\": `;\n",
              "      div.appendChild(label);\n",
              "      const progress = document.createElement('progress');\n",
              "      progress.max = size;\n",
              "      div.appendChild(progress);\n",
              "      document.body.appendChild(div);\n",
              "\n",
              "      const buffers = [];\n",
              "      let downloaded = 0;\n",
              "\n",
              "      const channel = await google.colab.kernel.comms.open(id);\n",
              "      // Send a message to notify the kernel that we're ready.\n",
              "      channel.send({})\n",
              "\n",
              "      for await (const message of channel.messages) {\n",
              "        // Send a message to notify the kernel that we're ready.\n",
              "        channel.send({})\n",
              "        if (message.buffers) {\n",
              "          for (const buffer of message.buffers) {\n",
              "            buffers.push(buffer);\n",
              "            downloaded += buffer.byteLength;\n",
              "            progress.value = downloaded;\n",
              "          }\n",
              "        }\n",
              "      }\n",
              "      const blob = new Blob(buffers, {type: 'application/binary'});\n",
              "      const a = document.createElement('a');\n",
              "      a.href = window.URL.createObjectURL(blob);\n",
              "      a.download = filename;\n",
              "      div.appendChild(a);\n",
              "      a.click();\n",
              "      div.remove();\n",
              "    }\n",
              "  "
            ],
            "text/plain": [
              "<IPython.core.display.Javascript object>"
            ]
          },
          "metadata": {
            "tags": []
          }
        },
        {
          "output_type": "display_data",
          "data": {
            "application/javascript": [
              "download(\"download_20335e25-7cd9-45a8-947a-b48803195c6a\", \"Stock Price SVR LSTM 1.png\", 39295)"
            ],
            "text/plain": [
              "<IPython.core.display.Javascript object>"
            ]
          },
          "metadata": {
            "tags": []
          }
        },
        {
          "output_type": "display_data",
          "data": {
            "image/png": "[encoded data removed]",
            "text/plain": [
              "<Figure size 432x288 with 1 Axes>"
            ]
          },
          "metadata": {
            "tags": []
          }
        }
      ]
    },
    {
      "cell_type": "code",
      "metadata": {
        "id": "towGbwPBLWUk"
      },
      "source": [
        "#### Mencari Data STAT MODEL"
      ],
      "execution_count": 58,
      "outputs": []
    },
    {
      "cell_type": "code",
      "metadata": {
        "id": "UiadXxndQ2NX"
      },
      "source": [
        "a = X_test\n",
        "a = np.reshape(a, (-1, 36))\n",
        "a = scaler.inverse_transform(a)\n",
        "a = pd.DataFrame(a)"
      ],
      "execution_count": 59,
      "outputs": []
    },
    {
      "cell_type": "code",
      "metadata": {
        "id": "ErHLvejACioW"
      },
      "source": [
        "b = y_test\n",
        "#b = np.reshape(b, (-1, 36))\n",
        "b = scaler.inverse_transform(b)\n",
        "b = pd.DataFrame(b)"
      ],
      "execution_count": 60,
      "outputs": []
    },
    {
      "cell_type": "code",
      "metadata": {
        "id": "O62uEaEkLyWO"
      },
      "source": [
        "#OLS Model\n",
        "import statsmodels.api as sm\n",
        "X = a\n",
        "Y = b\n",
        "X = sm.add_constant(X)\n",
        "model_ols = sm.OLS(Y,X)\n",
        "results = model_ols.fit()"
      ],
      "execution_count": 61,
      "outputs": []
    },
    {
      "cell_type": "code",
      "metadata": {
        "id": "_CaG_RGcMpzM",
        "colab": {
          "base_uri": "https://localhost:8080/",
          "height": 1000
        },
        "outputId": "9cf102b4-1d44-422a-df53-ec47fe7a539e"
      },
      "source": [
        "results.summary()"
      ],
      "execution_count": 62,
      "outputs": [
        {
          "output_type": "execute_result",
          "data": {
            "text/html": [
              "<table class=\"simpletable\">\n",
              "<caption>OLS Regression Results</caption>\n",
              "<tr>\n",
              "  <th>Dep. Variable:</th>            <td>0</td>        <th>  R-squared:         </th> <td>   0.915</td>\n",
              "</tr>\n",
              "<tr>\n",
              "  <th>Model:</th>                   <td>OLS</td>       <th>  Adj. R-squared:    </th> <td>   0.900</td>\n",
              "</tr>\n",
              "<tr>\n",
              "  <th>Method:</th>             <td>Least Squares</td>  <th>  F-statistic:       </th> <td>   61.23</td>\n",
              "</tr>\n",
              "<tr>\n",
              "  <th>Date:</th>             <td>Sun, 09 May 2021</td> <th>  Prob (F-statistic):</th> <td>8.03e-91</td>\n",
              "</tr>\n",
              "<tr>\n",
              "  <th>Time:</th>                 <td>14:38:39</td>     <th>  Log-Likelihood:    </th> <td> -1550.6</td>\n",
              "</tr>\n",
              "<tr>\n",
              "  <th>No. Observations:</th>      <td>   242</td>      <th>  AIC:               </th> <td>   3175.</td>\n",
              "</tr>\n",
              "<tr>\n",
              "  <th>Df Residuals:</th>          <td>   205</td>      <th>  BIC:               </th> <td>   3304.</td>\n",
              "</tr>\n",
              "<tr>\n",
              "  <th>Df Model:</th>              <td>    36</td>      <th>                     </th>     <td> </td>   \n",
              "</tr>\n",
              "<tr>\n",
              "  <th>Covariance Type:</th>      <td>nonrobust</td>    <th>                     </th>     <td> </td>   \n",
              "</tr>\n",
              "</table>\n",
              "<table class=\"simpletable\">\n",
              "<tr>\n",
              "    <td></td>       <th>coef</th>     <th>std err</th>      <th>t</th>      <th>P>|t|</th>  <th>[0.025</th>    <th>0.975]</th>  \n",
              "</tr>\n",
              "<tr>\n",
              "  <th>const</th> <td>  626.7792</td> <td>  231.599</td> <td>    2.706</td> <td> 0.007</td> <td>  170.158</td> <td> 1083.400</td>\n",
              "</tr>\n",
              "<tr>\n",
              "  <th>0</th>     <td>    0.0784</td> <td>    0.069</td> <td>    1.142</td> <td> 0.255</td> <td>   -0.057</td> <td>    0.214</td>\n",
              "</tr>\n",
              "<tr>\n",
              "  <th>1</th>     <td>   -0.0304</td> <td>    0.088</td> <td>   -0.346</td> <td> 0.730</td> <td>   -0.204</td> <td>    0.143</td>\n",
              "</tr>\n",
              "<tr>\n",
              "  <th>2</th>     <td>   -0.1002</td> <td>    0.088</td> <td>   -1.143</td> <td> 0.254</td> <td>   -0.273</td> <td>    0.073</td>\n",
              "</tr>\n",
              "<tr>\n",
              "  <th>3</th>     <td>   -0.0411</td> <td>    0.090</td> <td>   -0.458</td> <td> 0.647</td> <td>   -0.218</td> <td>    0.136</td>\n",
              "</tr>\n",
              "<tr>\n",
              "  <th>4</th>     <td>    0.0540</td> <td>    0.090</td> <td>    0.600</td> <td> 0.549</td> <td>   -0.124</td> <td>    0.232</td>\n",
              "</tr>\n",
              "<tr>\n",
              "  <th>5</th>     <td>    0.0777</td> <td>    0.090</td> <td>    0.859</td> <td> 0.391</td> <td>   -0.101</td> <td>    0.256</td>\n",
              "</tr>\n",
              "<tr>\n",
              "  <th>6</th>     <td>   -0.0091</td> <td>    0.090</td> <td>   -0.100</td> <td> 0.920</td> <td>   -0.187</td> <td>    0.169</td>\n",
              "</tr>\n",
              "<tr>\n",
              "  <th>7</th>     <td>   -0.0030</td> <td>    0.091</td> <td>   -0.033</td> <td> 0.974</td> <td>   -0.182</td> <td>    0.176</td>\n",
              "</tr>\n",
              "<tr>\n",
              "  <th>8</th>     <td>   -0.0925</td> <td>    0.090</td> <td>   -1.023</td> <td> 0.308</td> <td>   -0.271</td> <td>    0.086</td>\n",
              "</tr>\n",
              "<tr>\n",
              "  <th>9</th>     <td>   -0.0728</td> <td>    0.090</td> <td>   -0.805</td> <td> 0.422</td> <td>   -0.251</td> <td>    0.106</td>\n",
              "</tr>\n",
              "<tr>\n",
              "  <th>10</th>    <td>    0.0405</td> <td>    0.091</td> <td>    0.446</td> <td> 0.656</td> <td>   -0.139</td> <td>    0.220</td>\n",
              "</tr>\n",
              "<tr>\n",
              "  <th>11</th>    <td>   -0.0252</td> <td>    0.091</td> <td>   -0.278</td> <td> 0.781</td> <td>   -0.204</td> <td>    0.154</td>\n",
              "</tr>\n",
              "<tr>\n",
              "  <th>12</th>    <td>    0.0537</td> <td>    0.091</td> <td>    0.592</td> <td> 0.554</td> <td>   -0.125</td> <td>    0.233</td>\n",
              "</tr>\n",
              "<tr>\n",
              "  <th>13</th>    <td>    0.0490</td> <td>    0.091</td> <td>    0.540</td> <td> 0.590</td> <td>   -0.130</td> <td>    0.228</td>\n",
              "</tr>\n",
              "<tr>\n",
              "  <th>14</th>    <td>   -0.0613</td> <td>    0.091</td> <td>   -0.677</td> <td> 0.499</td> <td>   -0.240</td> <td>    0.117</td>\n",
              "</tr>\n",
              "<tr>\n",
              "  <th>15</th>    <td>    0.0043</td> <td>    0.091</td> <td>    0.047</td> <td> 0.963</td> <td>   -0.176</td> <td>    0.184</td>\n",
              "</tr>\n",
              "<tr>\n",
              "  <th>16</th>    <td>   -0.0839</td> <td>    0.091</td> <td>   -0.919</td> <td> 0.359</td> <td>   -0.264</td> <td>    0.096</td>\n",
              "</tr>\n",
              "<tr>\n",
              "  <th>17</th>    <td>    0.0116</td> <td>    0.092</td> <td>    0.126</td> <td> 0.900</td> <td>   -0.169</td> <td>    0.192</td>\n",
              "</tr>\n",
              "<tr>\n",
              "  <th>18</th>    <td>    0.0819</td> <td>    0.092</td> <td>    0.891</td> <td> 0.374</td> <td>   -0.099</td> <td>    0.263</td>\n",
              "</tr>\n",
              "<tr>\n",
              "  <th>19</th>    <td>   -0.0899</td> <td>    0.092</td> <td>   -0.981</td> <td> 0.328</td> <td>   -0.271</td> <td>    0.091</td>\n",
              "</tr>\n",
              "<tr>\n",
              "  <th>20</th>    <td>    0.0497</td> <td>    0.092</td> <td>    0.541</td> <td> 0.589</td> <td>   -0.131</td> <td>    0.231</td>\n",
              "</tr>\n",
              "<tr>\n",
              "  <th>21</th>    <td>    0.1366</td> <td>    0.091</td> <td>    1.497</td> <td> 0.136</td> <td>   -0.043</td> <td>    0.317</td>\n",
              "</tr>\n",
              "<tr>\n",
              "  <th>22</th>    <td>   -0.0488</td> <td>    0.091</td> <td>   -0.534</td> <td> 0.594</td> <td>   -0.229</td> <td>    0.131</td>\n",
              "</tr>\n",
              "<tr>\n",
              "  <th>23</th>    <td>   -0.0211</td> <td>    0.091</td> <td>   -0.231</td> <td> 0.817</td> <td>   -0.201</td> <td>    0.159</td>\n",
              "</tr>\n",
              "<tr>\n",
              "  <th>24</th>    <td>    0.0253</td> <td>    0.091</td> <td>    0.277</td> <td> 0.782</td> <td>   -0.155</td> <td>    0.206</td>\n",
              "</tr>\n",
              "<tr>\n",
              "  <th>25</th>    <td>   -0.0166</td> <td>    0.092</td> <td>   -0.182</td> <td> 0.856</td> <td>   -0.197</td> <td>    0.164</td>\n",
              "</tr>\n",
              "<tr>\n",
              "  <th>26</th>    <td>    0.1122</td> <td>    0.091</td> <td>    1.227</td> <td> 0.221</td> <td>   -0.068</td> <td>    0.292</td>\n",
              "</tr>\n",
              "<tr>\n",
              "  <th>27</th>    <td>   -0.0674</td> <td>    0.092</td> <td>   -0.737</td> <td> 0.462</td> <td>   -0.248</td> <td>    0.113</td>\n",
              "</tr>\n",
              "<tr>\n",
              "  <th>28</th>    <td>-4.835e-05</td> <td>    0.092</td> <td>   -0.001</td> <td> 1.000</td> <td>   -0.181</td> <td>    0.181</td>\n",
              "</tr>\n",
              "<tr>\n",
              "  <th>29</th>    <td>    0.0801</td> <td>    0.091</td> <td>    0.876</td> <td> 0.382</td> <td>   -0.100</td> <td>    0.260</td>\n",
              "</tr>\n",
              "<tr>\n",
              "  <th>30</th>    <td>   -0.0177</td> <td>    0.091</td> <td>   -0.194</td> <td> 0.847</td> <td>   -0.198</td> <td>    0.162</td>\n",
              "</tr>\n",
              "<tr>\n",
              "  <th>31</th>    <td>   -0.1427</td> <td>    0.091</td> <td>   -1.568</td> <td> 0.118</td> <td>   -0.322</td> <td>    0.037</td>\n",
              "</tr>\n",
              "<tr>\n",
              "  <th>32</th>    <td>   -0.1073</td> <td>    0.091</td> <td>   -1.181</td> <td> 0.239</td> <td>   -0.286</td> <td>    0.072</td>\n",
              "</tr>\n",
              "<tr>\n",
              "  <th>33</th>    <td>    0.2851</td> <td>    0.089</td> <td>    3.214</td> <td> 0.002</td> <td>    0.110</td> <td>    0.460</td>\n",
              "</tr>\n",
              "<tr>\n",
              "  <th>34</th>    <td>    0.0117</td> <td>    0.089</td> <td>    0.131</td> <td> 0.896</td> <td>   -0.164</td> <td>    0.187</td>\n",
              "</tr>\n",
              "<tr>\n",
              "  <th>35</th>    <td>    0.7978</td> <td>    0.070</td> <td>   11.466</td> <td> 0.000</td> <td>    0.661</td> <td>    0.935</td>\n",
              "</tr>\n",
              "</table>\n",
              "<table class=\"simpletable\">\n",
              "<tr>\n",
              "  <th>Omnibus:</th>       <td>27.492</td> <th>  Durbin-Watson:     </th> <td>   2.000</td>\n",
              "</tr>\n",
              "<tr>\n",
              "  <th>Prob(Omnibus):</th> <td> 0.000</td> <th>  Jarque-Bera (JB):  </th> <td> 138.413</td>\n",
              "</tr>\n",
              "<tr>\n",
              "  <th>Skew:</th>          <td>-0.125</td> <th>  Prob(JB):          </th> <td>8.79e-31</td>\n",
              "</tr>\n",
              "<tr>\n",
              "  <th>Kurtosis:</th>      <td> 6.697</td> <th>  Cond. No.          </th> <td>1.05e+06</td>\n",
              "</tr>\n",
              "</table><br/><br/>Warnings:<br/>[1] Standard Errors assume that the covariance matrix of the errors is correctly specified.<br/>[2] The condition number is large, 1.05e+06. This might indicate that there are<br/>strong multicollinearity or other numerical problems."
            ],
            "text/plain": [
              "<class 'statsmodels.iolib.summary.Summary'>\n",
              "\"\"\"\n",
              "                            OLS Regression Results                            \n",
              "==============================================================================\n",
              "Dep. Variable:                      0   R-squared:                       0.915\n",
              "Model:                            OLS   Adj. R-squared:                  0.900\n",
              "Method:                 Least Squares   F-statistic:                     61.23\n",
              "Date:                Sun, 09 May 2021   Prob (F-statistic):           8.03e-91\n",
              "Time:                        14:38:39   Log-Likelihood:                -1550.6\n",
              "No. Observations:                 242   AIC:                             3175.\n",
              "Df Residuals:                     205   BIC:                             3304.\n",
              "Df Model:                          36                                         \n",
              "Covariance Type:            nonrobust                                         \n",
              "==============================================================================\n",
              "                 coef    std err          t      P>|t|      [0.025      0.975]\n",
              "------------------------------------------------------------------------------\n",
              "const        626.7792    231.599      2.706      0.007     170.158    1083.400\n",
              "0              0.0784      0.069      1.142      0.255      -0.057       0.214\n",
              "1             -0.0304      0.088     -0.346      0.730      -0.204       0.143\n",
              "2             -0.1002      0.088     -1.143      0.254      -0.273       0.073\n",
              "3             -0.0411      0.090     -0.458      0.647      -0.218       0.136\n",
              "4              0.0540      0.090      0.600      0.549      -0.124       0.232\n",
              "5              0.0777      0.090      0.859      0.391      -0.101       0.256\n",
              "6             -0.0091      0.090     -0.100      0.920      -0.187       0.169\n",
              "7             -0.0030      0.091     -0.033      0.974      -0.182       0.176\n",
              "8             -0.0925      0.090     -1.023      0.308      -0.271       0.086\n",
              "9             -0.0728      0.090     -0.805      0.422      -0.251       0.106\n",
              "10             0.0405      0.091      0.446      0.656      -0.139       0.220\n",
              "11            -0.0252      0.091     -0.278      0.781      -0.204       0.154\n",
              "12             0.0537      0.091      0.592      0.554      -0.125       0.233\n",
              "13             0.0490      0.091      0.540      0.590      -0.130       0.228\n",
              "14            -0.0613      0.091     -0.677      0.499      -0.240       0.117\n",
              "15             0.0043      0.091      0.047      0.963      -0.176       0.184\n",
              "16            -0.0839      0.091     -0.919      0.359      -0.264       0.096\n",
              "17             0.0116      0.092      0.126      0.900      -0.169       0.192\n",
              "18             0.0819      0.092      0.891      0.374      -0.099       0.263\n",
              "19            -0.0899      0.092     -0.981      0.328      -0.271       0.091\n",
              "20             0.0497      0.092      0.541      0.589      -0.131       0.231\n",
              "21             0.1366      0.091      1.497      0.136      -0.043       0.317\n",
              "22            -0.0488      0.091     -0.534      0.594      -0.229       0.131\n",
              "23            -0.0211      0.091     -0.231      0.817      -0.201       0.159\n",
              "24             0.0253      0.091      0.277      0.782      -0.155       0.206\n",
              "25            -0.0166      0.092     -0.182      0.856      -0.197       0.164\n",
              "26             0.1122      0.091      1.227      0.221      -0.068       0.292\n",
              "27            -0.0674      0.092     -0.737      0.462      -0.248       0.113\n",
              "28         -4.835e-05      0.092     -0.001      1.000      -0.181       0.181\n",
              "29             0.0801      0.091      0.876      0.382      -0.100       0.260\n",
              "30            -0.0177      0.091     -0.194      0.847      -0.198       0.162\n",
              "31            -0.1427      0.091     -1.568      0.118      -0.322       0.037\n",
              "32            -0.1073      0.091     -1.181      0.239      -0.286       0.072\n",
              "33             0.2851      0.089      3.214      0.002       0.110       0.460\n",
              "34             0.0117      0.089      0.131      0.896      -0.164       0.187\n",
              "35             0.7978      0.070     11.466      0.000       0.661       0.935\n",
              "==============================================================================\n",
              "Omnibus:                       27.492   Durbin-Watson:                   2.000\n",
              "Prob(Omnibus):                  0.000   Jarque-Bera (JB):              138.413\n",
              "Skew:                          -0.125   Prob(JB):                     8.79e-31\n",
              "Kurtosis:                       6.697   Cond. No.                     1.05e+06\n",
              "==============================================================================\n",
              "\n",
              "Warnings:\n",
              "[1] Standard Errors assume that the covariance matrix of the errors is correctly specified.\n",
              "[2] The condition number is large, 1.05e+06. This might indicate that there are\n",
              "strong multicollinearity or other numerical problems.\n",
              "\"\"\""
            ]
          },
          "metadata": {
            "tags": []
          },
          "execution_count": 62
        }
      ]
    }
  ]
}