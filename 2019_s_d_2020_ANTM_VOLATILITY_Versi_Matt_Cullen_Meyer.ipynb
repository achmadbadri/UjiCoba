{
  "nbformat": 4,
  "nbformat_minor": 0,
  "metadata": {
    "colab": {
      "name": "2019 s.d. 2020 - ANTM - VOLATILITY - Versi Matt Cullen-Meyer",
      "provenance": [],
      "collapsed_sections": [],
      "authorship_tag": "ABX9TyPpSpfV31YN/R5uome23BH/",
      "include_colab_link": true
    },
    "kernelspec": {
      "name": "python3",
      "display_name": "Python 3"
    }
  },
  "cells": [
    {
      "cell_type": "markdown",
      "metadata": {
        "id": "view-in-github",
        "colab_type": "text"
      },
      "source": [
        "<a href=\"https://colab.research.google.com/github/achmadbadri/UjiCoba/blob/main/2019_s_d_2020_ANTM_VOLATILITY_Versi_Matt_Cullen_Meyer.ipynb\" target=\"_parent\"><img src=\"https://colab.research.google.com/assets/colab-badge.svg\" alt=\"Open In Colab\"/></a>"
      ]
    },
    {
      "cell_type": "markdown",
      "metadata": {
        "id": "nJJl5h57VdzE"
      },
      "source": [
        "https://tinytrader.io/how-to-calculate-historical-price-volatility-with-python/\n",
        "\n",
        "By Matt Cullen-Meyer, CFA"
      ]
    },
    {
      "cell_type": "code",
      "metadata": {
        "colab": {
          "base_uri": "https://localhost:8080/"
        },
        "id": "RSLv7cTjV7jQ",
        "outputId": "c55c402d-abca-4883-ba11-f388aedb99d5"
      },
      "source": [
        "pip install yahoofinancials"
      ],
      "execution_count": 1,
      "outputs": [
        {
          "output_type": "stream",
          "text": [
            "Collecting yahoofinancials\n",
            "  Downloading yahoofinancials-1.6.tar.gz (27 kB)\n",
            "Requirement already satisfied: beautifulsoup4 in /usr/local/lib/python3.7/dist-packages (from yahoofinancials) (4.6.3)\n",
            "Requirement already satisfied: pytz in /usr/local/lib/python3.7/dist-packages (from yahoofinancials) (2018.9)\n",
            "Building wheels for collected packages: yahoofinancials\n",
            "  Building wheel for yahoofinancials (setup.py) ... \u001b[?25l\u001b[?25hdone\n",
            "  Created wheel for yahoofinancials: filename=yahoofinancials-1.6-py3-none-any.whl size=15190 sha256=5a162b823233fbc7b79ee77c0319c9b86eec9dc6cfcb2dae2ec05fa37a8bb49d\n",
            "  Stored in directory: /root/.cache/pip/wheels/4b/63/46/e7110bfee88685fe69e338d1b14d1748921862aa57b6705b60\n",
            "Successfully built yahoofinancials\n",
            "Installing collected packages: yahoofinancials\n",
            "Successfully installed yahoofinancials-1.6\n"
          ],
          "name": "stdout"
        }
      ]
    },
    {
      "cell_type": "code",
      "metadata": {
        "id": "u7Ufor5sl5z_"
      },
      "source": [
        "from yahoofinancials import YahooFinancials\n",
        "from datetime import date, timedelta\n",
        "import datetime\n",
        "import pandas as pd\n",
        "import numpy as np\n",
        "import matplotlib.pyplot as plt\n",
        "from google.colab import files\n",
        "\n"
      ],
      "execution_count": 2,
      "outputs": []
    },
    {
      "cell_type": "code",
      "metadata": {
        "id": "CvywLxNiVx-S"
      },
      "source": [
        "# set stock ticker symbol\n",
        "stock_symbol = 'ANTM.JK'\n",
        " \n",
        "# set date range for historical prices\n",
        "end_time = date(2020,1,1)\n",
        "start_time = datetime.date(2019,1,1)\n",
        " \n",
        "# reformat date range\n",
        "end = end_time.strftime('%Y-%m-%d')\n",
        "start = start_time.strftime('%Y-%m-%d')\n",
        " \n",
        "# get daily stock prices over date range\n",
        "json_prices = YahooFinancials(stock_symbol\n",
        "    ).get_historical_price_data(start, end, 'daily')"
      ],
      "execution_count": 3,
      "outputs": []
    },
    {
      "cell_type": "code",
      "metadata": {
        "id": "37E1bAmDWc5y"
      },
      "source": [
        "# transform json file to dataframe\n",
        "prices = pd.DataFrame(json_prices[stock_symbol]\n",
        "    ['prices'])[['formatted_date', 'close']]\n",
        " \n",
        "# sort dates in descending order\n",
        "prices.sort_index(ascending=False, inplace=True)"
      ],
      "execution_count": 4,
      "outputs": []
    },
    {
      "cell_type": "code",
      "metadata": {
        "colab": {
          "base_uri": "https://localhost:8080/",
          "height": 414
        },
        "id": "t4C8lkI36SFx",
        "outputId": "4e67f13a-657d-44a0-a38d-455a0d536111"
      },
      "source": [
        "prices"
      ],
      "execution_count": 5,
      "outputs": [
        {
          "output_type": "execute_result",
          "data": {
            "text/html": [
              "<div>\n",
              "<style scoped>\n",
              "    .dataframe tbody tr th:only-of-type {\n",
              "        vertical-align: middle;\n",
              "    }\n",
              "\n",
              "    .dataframe tbody tr th {\n",
              "        vertical-align: top;\n",
              "    }\n",
              "\n",
              "    .dataframe thead th {\n",
              "        text-align: right;\n",
              "    }\n",
              "</style>\n",
              "<table border=\"1\" class=\"dataframe\">\n",
              "  <thead>\n",
              "    <tr style=\"text-align: right;\">\n",
              "      <th></th>\n",
              "      <th>formatted_date</th>\n",
              "      <th>close</th>\n",
              "    </tr>\n",
              "  </thead>\n",
              "  <tbody>\n",
              "    <tr>\n",
              "      <th>257</th>\n",
              "      <td>2019-12-30</td>\n",
              "      <td>840.0</td>\n",
              "    </tr>\n",
              "    <tr>\n",
              "      <th>256</th>\n",
              "      <td>2019-12-27</td>\n",
              "      <td>835.0</td>\n",
              "    </tr>\n",
              "    <tr>\n",
              "      <th>255</th>\n",
              "      <td>2019-12-26</td>\n",
              "      <td>840.0</td>\n",
              "    </tr>\n",
              "    <tr>\n",
              "      <th>254</th>\n",
              "      <td>2019-12-23</td>\n",
              "      <td>825.0</td>\n",
              "    </tr>\n",
              "    <tr>\n",
              "      <th>253</th>\n",
              "      <td>2019-12-20</td>\n",
              "      <td>830.0</td>\n",
              "    </tr>\n",
              "    <tr>\n",
              "      <th>...</th>\n",
              "      <td>...</td>\n",
              "      <td>...</td>\n",
              "    </tr>\n",
              "    <tr>\n",
              "      <th>4</th>\n",
              "      <td>2019-01-07</td>\n",
              "      <td>770.0</td>\n",
              "    </tr>\n",
              "    <tr>\n",
              "      <th>3</th>\n",
              "      <td>2019-01-04</td>\n",
              "      <td>760.0</td>\n",
              "    </tr>\n",
              "    <tr>\n",
              "      <th>2</th>\n",
              "      <td>2019-01-03</td>\n",
              "      <td>750.0</td>\n",
              "    </tr>\n",
              "    <tr>\n",
              "      <th>1</th>\n",
              "      <td>2019-01-02</td>\n",
              "      <td>740.0</td>\n",
              "    </tr>\n",
              "    <tr>\n",
              "      <th>0</th>\n",
              "      <td>2019-01-01</td>\n",
              "      <td>765.0</td>\n",
              "    </tr>\n",
              "  </tbody>\n",
              "</table>\n",
              "<p>258 rows × 2 columns</p>\n",
              "</div>"
            ],
            "text/plain": [
              "    formatted_date  close\n",
              "257     2019-12-30  840.0\n",
              "256     2019-12-27  835.0\n",
              "255     2019-12-26  840.0\n",
              "254     2019-12-23  825.0\n",
              "253     2019-12-20  830.0\n",
              "..             ...    ...\n",
              "4       2019-01-07  770.0\n",
              "3       2019-01-04  760.0\n",
              "2       2019-01-03  750.0\n",
              "1       2019-01-02  740.0\n",
              "0       2019-01-01  765.0\n",
              "\n",
              "[258 rows x 2 columns]"
            ]
          },
          "metadata": {
            "tags": []
          },
          "execution_count": 5
        }
      ]
    },
    {
      "cell_type": "code",
      "metadata": {
        "colab": {
          "base_uri": "https://localhost:8080/",
          "height": 202
        },
        "id": "KqlICrl7XzCa",
        "outputId": "7962dc02-195e-4126-92f9-504bf55fc98a"
      },
      "source": [
        "prices.tail()"
      ],
      "execution_count": 6,
      "outputs": [
        {
          "output_type": "execute_result",
          "data": {
            "text/html": [
              "<div>\n",
              "<style scoped>\n",
              "    .dataframe tbody tr th:only-of-type {\n",
              "        vertical-align: middle;\n",
              "    }\n",
              "\n",
              "    .dataframe tbody tr th {\n",
              "        vertical-align: top;\n",
              "    }\n",
              "\n",
              "    .dataframe thead th {\n",
              "        text-align: right;\n",
              "    }\n",
              "</style>\n",
              "<table border=\"1\" class=\"dataframe\">\n",
              "  <thead>\n",
              "    <tr style=\"text-align: right;\">\n",
              "      <th></th>\n",
              "      <th>formatted_date</th>\n",
              "      <th>close</th>\n",
              "    </tr>\n",
              "  </thead>\n",
              "  <tbody>\n",
              "    <tr>\n",
              "      <th>4</th>\n",
              "      <td>2019-01-07</td>\n",
              "      <td>770.0</td>\n",
              "    </tr>\n",
              "    <tr>\n",
              "      <th>3</th>\n",
              "      <td>2019-01-04</td>\n",
              "      <td>760.0</td>\n",
              "    </tr>\n",
              "    <tr>\n",
              "      <th>2</th>\n",
              "      <td>2019-01-03</td>\n",
              "      <td>750.0</td>\n",
              "    </tr>\n",
              "    <tr>\n",
              "      <th>1</th>\n",
              "      <td>2019-01-02</td>\n",
              "      <td>740.0</td>\n",
              "    </tr>\n",
              "    <tr>\n",
              "      <th>0</th>\n",
              "      <td>2019-01-01</td>\n",
              "      <td>765.0</td>\n",
              "    </tr>\n",
              "  </tbody>\n",
              "</table>\n",
              "</div>"
            ],
            "text/plain": [
              "  formatted_date  close\n",
              "4     2019-01-07  770.0\n",
              "3     2019-01-04  760.0\n",
              "2     2019-01-03  750.0\n",
              "1     2019-01-02  740.0\n",
              "0     2019-01-01  765.0"
            ]
          },
          "metadata": {
            "tags": []
          },
          "execution_count": 6
        }
      ]
    },
    {
      "cell_type": "code",
      "metadata": {
        "id": "r26DmzvMWgu6"
      },
      "source": [
        "# calculate daily logarithmic return\n",
        "prices['returns'] = (np.log(prices.close /\n",
        "    prices.close.shift(-1)))\n",
        "      \n",
        "# calculate daily standard deviation of returns\n",
        "daily_std = np.std(prices.returns)\n",
        "  \n",
        "# annualized daily standard deviation\n",
        "std = daily_std * 252 ** 0.5"
      ],
      "execution_count": 7,
      "outputs": []
    },
    {
      "cell_type": "code",
      "metadata": {
        "colab": {
          "base_uri": "https://localhost:8080/",
          "height": 368
        },
        "id": "94549k7QWrNC",
        "outputId": "8971ed07-1e19-4c76-f726-d17d26d31835"
      },
      "source": [
        "# Plot histograms\n",
        "fig, ax = plt.subplots(1, 1, figsize=(7, 5))\n",
        "n, bins, patches = ax.hist(\n",
        "    prices.returns.values,\n",
        "    bins=50, alpha=0.65, color='blue')\n",
        " \n",
        "ax.set_xlabel('log return of stock price')\n",
        "ax.set_ylabel('frequency of log return')\n",
        "ax.set_title('Historical Volatility for ' +\n",
        "    stock_symbol)\n",
        "  \n",
        "# get x and y coordinate limits\n",
        "x_corr = ax.get_xlim()\n",
        "y_corr = ax.get_ylim()\n",
        "  \n",
        "# make room for text\n",
        "header = y_corr[1] / 5\n",
        "y_corr = (y_corr[0], y_corr[1] + header)\n",
        "ax.set_ylim(y_corr[0], y_corr[1])\n",
        " \n",
        "# print historical volatility on plot\n",
        "x = x_corr[0] + (x_corr[1] - x_corr[0]) / 30\n",
        "y = y_corr[1] - (y_corr[1] - y_corr[0]) / 15\n",
        "ax.text(x, y , 'Annualized Volatility: ' + str(np.round(std*100, 1))+'%',\n",
        "    fontsize=11, fontweight='bold')\n",
        "x = x_corr[0] + (x_corr[1] - x_corr[0]) / 15\n",
        "y -= (y_corr[1] - y_corr[0]) / 20\n",
        " \n",
        "# save histogram plot of historical price volatility\n",
        "fig.tight_layout()\n",
        "fig.savefig('Historical Volatility - ANTM.png')\n",
        "files.download(\"Historical Volatility - ANTM.png\") "
      ],
      "execution_count": 8,
      "outputs": [
        {
          "output_type": "display_data",
          "data": {
            "application/javascript": [
              "\n",
              "    async function download(id, filename, size) {\n",
              "      if (!google.colab.kernel.accessAllowed) {\n",
              "        return;\n",
              "      }\n",
              "      const div = document.createElement('div');\n",
              "      const label = document.createElement('label');\n",
              "      label.textContent = `Downloading \"${filename}\": `;\n",
              "      div.appendChild(label);\n",
              "      const progress = document.createElement('progress');\n",
              "      progress.max = size;\n",
              "      div.appendChild(progress);\n",
              "      document.body.appendChild(div);\n",
              "\n",
              "      const buffers = [];\n",
              "      let downloaded = 0;\n",
              "\n",
              "      const channel = await google.colab.kernel.comms.open(id);\n",
              "      // Send a message to notify the kernel that we're ready.\n",
              "      channel.send({})\n",
              "\n",
              "      for await (const message of channel.messages) {\n",
              "        // Send a message to notify the kernel that we're ready.\n",
              "        channel.send({})\n",
              "        if (message.buffers) {\n",
              "          for (const buffer of message.buffers) {\n",
              "            buffers.push(buffer);\n",
              "            downloaded += buffer.byteLength;\n",
              "            progress.value = downloaded;\n",
              "          }\n",
              "        }\n",
              "      }\n",
              "      const blob = new Blob(buffers, {type: 'application/binary'});\n",
              "      const a = document.createElement('a');\n",
              "      a.href = window.URL.createObjectURL(blob);\n",
              "      a.download = filename;\n",
              "      div.appendChild(a);\n",
              "      a.click();\n",
              "      div.remove();\n",
              "    }\n",
              "  "
            ],
            "text/plain": [
              "<IPython.core.display.Javascript object>"
            ]
          },
          "metadata": {
            "tags": []
          }
        },
        {
          "output_type": "display_data",
          "data": {
            "application/javascript": [
              "download(\"download_dc09a53a-95e2-4e83-bbbc-ab20fc7a1954\", \"Historical Volatility - ANTM.png\", 15579)"
            ],
            "text/plain": [
              "<IPython.core.display.Javascript object>"
            ]
          },
          "metadata": {
            "tags": []
          }
        },
        {
          "output_type": "display_data",
          "data": {
            "image/png": "[encoded data removed]",
            "text/plain": [
              "<Figure size 504x360 with 1 Axes>"
            ]
          },
          "metadata": {
            "tags": [],
            "needs_background": "light"
          }
        }
      ]
    }
  ]
}