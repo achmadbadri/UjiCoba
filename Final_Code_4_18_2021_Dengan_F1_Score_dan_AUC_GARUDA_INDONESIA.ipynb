{
  "nbformat": 4,
  "nbformat_minor": 0,
  "metadata": {
    "colab": {
      "name": "Final Code - 4/18/2021 - Dengan F1 Score dan AUC - GARUDA INDONESIA",
      "provenance": [],
      "collapsed_sections": [],
      "authorship_tag": "ABX9TyNdyc4BHFOdNHMc8LB3fJJU",
      "include_colab_link": true
    },
    "kernelspec": {
      "display_name": "Python 3",
      "name": "python3"
    }
  },
  "cells": [
    {
      "cell_type": "markdown",
      "metadata": {
        "id": "view-in-github",
        "colab_type": "text"
      },
      "source": [
        "<a href=\"https://colab.research.google.com/github/achmadbadri/UjiCoba/blob/main/Final_Code_4_18_2021_Dengan_F1_Score_dan_AUC_GARUDA_INDONESIA.ipynb\" target=\"_parent\"><img src=\"https://colab.research.google.com/assets/colab-badge.svg\" alt=\"Open In Colab\"/></a>"
      ]
    },
    {
      "cell_type": "markdown",
      "metadata": {
        "id": "nG5q7aQ2T7yt"
      },
      "source": [
        "https://towardsdatascience.com/walking-through-support-vector-regression-and-lstms-with-stock-price-prediction-45e11b620650"
      ]
    },
    {
      "cell_type": "code",
      "metadata": {
        "id": "imVL_RBkSiEM"
      },
      "source": [
        "import keras\n",
        "from keras.layers import Dense\n",
        "from keras.layers import LSTM\n",
        "from keras.layers import Dropout\n",
        "import pandas as pd \n",
        "import pandas_datareader.data as web\n",
        "import datetime\n",
        "import numpy as np \n",
        "from matplotlib import style\n",
        "from google.colab import files\n",
        "# Visualize the training stock data:\n",
        "import matplotlib.pyplot as plt\n",
        "%matplotlib inline\n",
        "\n",
        "# ignore warnings \n",
        "import warnings\n",
        "warnings.filterwarnings('ignore')"
      ],
      "execution_count": 1,
      "outputs": []
    },
    {
      "cell_type": "code",
      "metadata": {
        "colab": {
          "base_uri": "https://localhost:8080/"
        },
        "id": "7mgHVWneS0-0",
        "outputId": "25360d2e-5f45-4d3a-c9ed-4a1b0507c863"
      },
      "source": [
        "# Get the stock data using yahoo API:\n",
        "style.use('ggplot')\n",
        "\n",
        "# get 2014-2018 data to train our model\n",
        "start = datetime.datetime(2014,1,1)\n",
        "end = datetime.datetime(2018,12,31)\n",
        "df = web.DataReader(\"GIAA.JK\", 'yahoo', start, end) \n",
        "\n",
        "# get 2019 data to test our model on \n",
        "start = datetime.datetime(2018,11,13)\n",
        "end = datetime.datetime(2019,12,31)\n",
        "test_df = web.DataReader(\"GIAA.JK\", 'yahoo', start, end) \n",
        "print(df.shape)\n",
        "print(test_df.shape)"
      ],
      "execution_count": 2,
      "outputs": [
        {
          "output_type": "stream",
          "text": [
            "(1251, 6)\n",
            "(292, 6)\n"
          ],
          "name": "stdout"
        }
      ]
    },
    {
      "cell_type": "markdown",
      "metadata": {
        "id": "q6AYvdKIMFZ8"
      },
      "source": [
        ""
      ]
    },
    {
      "cell_type": "code",
      "metadata": {
        "colab": {
          "base_uri": "https://localhost:8080/"
        },
        "id": "H598YUDjU7Sd",
        "outputId": "20be28a7-5696-4abd-e21a-d90e295e43a9"
      },
      "source": [
        "# Create train set of adj close prices data:\n",
        "train_data = df.loc[:,'Adj Close'].to_numpy()\n",
        "print(train_data.shape) # 1258 \n",
        "\n",
        "\n",
        "# Apply normalization before feeding to LSTM using sklearn:\n",
        "from sklearn.preprocessing import MinMaxScaler\n",
        "\n",
        "scaler = MinMaxScaler()\n",
        "train_data = train_data.reshape(-1,1)\n",
        "\n",
        "scaler.fit(train_data)\n",
        "train_data = scaler.transform(train_data)"
      ],
      "execution_count": 3,
      "outputs": [
        {
          "output_type": "stream",
          "text": [
            "(1251,)\n"
          ],
          "name": "stdout"
        }
      ]
    },
    {
      "cell_type": "code",
      "metadata": {
        "colab": {
          "base_uri": "https://localhost:8080/"
        },
        "id": "8ITZZaGnVFTQ",
        "outputId": "2735107c-8020-41f3-a86d-6581fd49b266"
      },
      "source": [
        "'''Function to create a dataset to feed into an LSTM'''\n",
        "def create_dataset(dataset, look_back):\n",
        "    dataX, dataY = [], []\n",
        "    for i in range(len(dataset)-look_back):\n",
        "        a = dataset[i:(i + look_back), 0]\n",
        "        dataX.append(a)\n",
        "        dataY.append(dataset[i + look_back, 0])\n",
        "    return np.array(dataX), np.array(dataY)\n",
        "    \n",
        "    \n",
        "# Create the data to train our model on:\n",
        "time_steps = 36\n",
        "X_train, y_train = create_dataset(train_data, time_steps)\n",
        "\n",
        "# reshape it [samples, time steps, features]\n",
        "X_train = np.reshape(X_train, (X_train.shape[0], 36, 1))\n",
        "\n",
        "print(X_train.shape)\n",
        "\n",
        "\n",
        "# Visualizing our data with prints: \n",
        "print('X_train:')\n",
        "print(str(scaler.inverse_transform(X_train[0])))\n",
        "print(\"\\n\")\n",
        "print('y_train: ' + str(scaler.inverse_transform(y_train[0].reshape(-1,1)))+'\\n')"
      ],
      "execution_count": 4,
      "outputs": [
        {
          "output_type": "stream",
          "text": [
            "(1215, 36, 1)\n",
            "X_train:\n",
            "[[495.94219971]\n",
            " [481.06393433]\n",
            " [487.01522827]\n",
            " [486.02334595]\n",
            " [495.94219971]\n",
            " [491.97467041]\n",
            " [493.95843506]\n",
            " [491.97467041]\n",
            " [491.97467041]\n",
            " [491.97467041]\n",
            " [486.02334595]\n",
            " [486.02334595]\n",
            " [485.03146362]\n",
            " [485.03146362]\n",
            " [484.0395813 ]\n",
            " [486.02334595]\n",
            " [481.06393433]\n",
            " [476.10452271]\n",
            " [481.06393433]\n",
            " [479.08016968]\n",
            " [481.06393433]\n",
            " [478.08828735]\n",
            " [478.08828735]\n",
            " [479.08016968]\n",
            " [479.08016968]\n",
            " [479.08016968]\n",
            " [477.09640503]\n",
            " [478.08828735]\n",
            " [480.072052  ]\n",
            " [479.08016968]\n",
            " [480.072052  ]\n",
            " [479.08016968]\n",
            " [480.072052  ]\n",
            " [480.072052  ]\n",
            " [479.08016968]\n",
            " [479.08016968]]\n",
            "\n",
            "\n",
            "y_train: [[479.08016968]]\n",
            "\n"
          ],
          "name": "stdout"
        }
      ]
    },
    {
      "cell_type": "code",
      "metadata": {
        "colab": {
          "base_uri": "https://localhost:8080/"
        },
        "id": "pmuzZ5TqVR8O",
        "outputId": "d5c007f6-e6a8-4ad1-e12a-2ebe53070525"
      },
      "source": [
        "# Build the model \n",
        "model = keras.Sequential()\n",
        "\n",
        "model.add(LSTM(units = 128, return_sequences = True, input_shape = (X_train.shape[1], 1)))\n",
        "#model.add(Dropout(0.2))\n",
        "\n",
        "model.add(LSTM(units = 64, return_sequences = False))\n",
        "#model.add(Dropout(0.2))\n",
        "\n",
        "# Output layer\n",
        "model.add(Dense(units = 32, activation='relu'))\n",
        "model.add(Dense(units = 16,  activation='relu'))\n",
        "model.add(Dense(units = 1, activation= 'linear'))\n",
        "# Compiling the model\n",
        "model.compile(optimizer = 'adam', loss = 'mean_squared_error')\n",
        "\n",
        "# Fitting the model to the Training set\n",
        "history = model.fit(X_train, y_train, epochs = 20, batch_size = 10, validation_split=.30)"
      ],
      "execution_count": 31,
      "outputs": [
        {
          "output_type": "stream",
          "text": [
            "Epoch 1/20\n",
            "85/85 [==============================] - 7s 49ms/step - loss: 0.0601 - val_loss: 0.0011\n",
            "Epoch 2/20\n",
            "85/85 [==============================] - 3s 39ms/step - loss: 0.0029 - val_loss: 0.0011\n",
            "Epoch 3/20\n",
            "85/85 [==============================] - 3s 39ms/step - loss: 0.0023 - val_loss: 0.0010\n",
            "Epoch 4/20\n",
            "85/85 [==============================] - 3s 39ms/step - loss: 0.0022 - val_loss: 6.9344e-04\n",
            "Epoch 5/20\n",
            "85/85 [==============================] - 3s 38ms/step - loss: 0.0016 - val_loss: 8.2565e-04\n",
            "Epoch 6/20\n",
            "85/85 [==============================] - 3s 38ms/step - loss: 0.0018 - val_loss: 9.7710e-04\n",
            "Epoch 7/20\n",
            "85/85 [==============================] - 3s 39ms/step - loss: 0.0015 - val_loss: 5.4460e-04\n",
            "Epoch 8/20\n",
            "85/85 [==============================] - 3s 39ms/step - loss: 0.0014 - val_loss: 6.2473e-04\n",
            "Epoch 9/20\n",
            "85/85 [==============================] - 3s 39ms/step - loss: 0.0013 - val_loss: 0.0010\n",
            "Epoch 10/20\n",
            "85/85 [==============================] - 3s 39ms/step - loss: 0.0012 - val_loss: 6.2784e-04\n",
            "Epoch 11/20\n",
            "85/85 [==============================] - 3s 39ms/step - loss: 0.0012 - val_loss: 7.9898e-04\n",
            "Epoch 12/20\n",
            "85/85 [==============================] - 3s 39ms/step - loss: 9.5158e-04 - val_loss: 5.5032e-04\n",
            "Epoch 13/20\n",
            "85/85 [==============================] - 3s 38ms/step - loss: 9.8006e-04 - val_loss: 5.6865e-04\n",
            "Epoch 14/20\n",
            "85/85 [==============================] - 3s 39ms/step - loss: 0.0015 - val_loss: 5.7029e-04\n",
            "Epoch 15/20\n",
            "85/85 [==============================] - 3s 38ms/step - loss: 9.0498e-04 - val_loss: 4.5504e-04\n",
            "Epoch 16/20\n",
            "85/85 [==============================] - 3s 39ms/step - loss: 9.6139e-04 - val_loss: 5.0782e-04\n",
            "Epoch 17/20\n",
            "85/85 [==============================] - 3s 38ms/step - loss: 0.0012 - val_loss: 8.1454e-04\n",
            "Epoch 18/20\n",
            "85/85 [==============================] - 3s 39ms/step - loss: 7.0593e-04 - val_loss: 4.8330e-04\n",
            "Epoch 19/20\n",
            "85/85 [==============================] - 3s 38ms/step - loss: 8.3452e-04 - val_loss: 4.1789e-04\n",
            "Epoch 20/20\n",
            "85/85 [==============================] - 3s 39ms/step - loss: 8.9495e-04 - val_loss: 6.6811e-04\n"
          ],
          "name": "stdout"
        }
      ]
    },
    {
      "cell_type": "code",
      "metadata": {
        "colab": {
          "base_uri": "https://localhost:8080/"
        },
        "id": "VJAAJ_3JRVIu",
        "outputId": "33003066-db67-482e-8d79-19651bfa13ff"
      },
      "source": [
        "model.summary()"
      ],
      "execution_count": 6,
      "outputs": [
        {
          "output_type": "stream",
          "text": [
            "Model: \"sequential\"\n",
            "_________________________________________________________________\n",
            "Layer (type)                 Output Shape              Param #   \n",
            "=================================================================\n",
            "lstm (LSTM)                  (None, 36, 128)           66560     \n",
            "_________________________________________________________________\n",
            "lstm_1 (LSTM)                (None, 64)                49408     \n",
            "_________________________________________________________________\n",
            "dense (Dense)                (None, 32)                2080      \n",
            "_________________________________________________________________\n",
            "dense_1 (Dense)              (None, 16)                528       \n",
            "_________________________________________________________________\n",
            "dense_2 (Dense)              (None, 1)                 17        \n",
            "=================================================================\n",
            "Total params: 118,593\n",
            "Trainable params: 118,593\n",
            "Non-trainable params: 0\n",
            "_________________________________________________________________\n"
          ],
          "name": "stdout"
        }
      ]
    },
    {
      "cell_type": "code",
      "metadata": {
        "colab": {
          "base_uri": "https://localhost:8080/",
          "height": 299
        },
        "id": "gSKBnwssVVJf",
        "outputId": "44ed6e10-bd40-4431-d0ff-ea866ecf98df"
      },
      "source": [
        "# Plot training & validation loss values\n",
        "plt.plot(history.history['loss'])\n",
        "plt.plot(history.history['val_loss'])\n",
        "plt.title('Model loss')\n",
        "plt.ylabel('Loss')\n",
        "plt.xlabel('Epoch')\n",
        "plt.legend(['Train', 'Test'], loc='upper left')\n",
        "plt.show()"
      ],
      "execution_count": 7,
      "outputs": [
        {
          "output_type": "display_data",
          "data": {
            "image/png": "[encoded data removed]",
            "text/plain": [
              "<Figure size 432x288 with 1 Axes>"
            ]
          },
          "metadata": {
            "tags": []
          }
        }
      ]
    },
    {
      "cell_type": "code",
      "metadata": {
        "id": "bawmbe-aVYTG"
      },
      "source": [
        "# Get the stock prices for 2019 to have our model make the predictions\n",
        "test_data = test_df['Adj Close'].values\n",
        "test_data = test_data.reshape(-1,1)\n",
        "test_data = scaler.transform(test_data)\n",
        "\n",
        "# Create the data to test our model on:\n",
        "time_steps = 36\n",
        "X_test, y_test = create_dataset(test_data, time_steps)\n",
        "\n",
        "# store the original vals for plotting the predictions \n",
        "y_test = y_test.reshape(-1,1)\n",
        "true = y_test\n",
        "org_y = scaler.inverse_transform(y_test)\n",
        "\n",
        "# reshape it [samples, time steps, features]\n",
        "X_test = np.reshape(X_test, (X_test.shape[0], 36, 1))\n",
        "\n",
        "# Predict the prices with the model\n",
        "predicted_y = model.predict(X_test)\n",
        "pred = predicted_y\n",
        "predicted_y = scaler.inverse_transform(predicted_y)\n"
      ],
      "execution_count": 8,
      "outputs": []
    },
    {
      "cell_type": "code",
      "metadata": {
        "colab": {
          "base_uri": "https://localhost:8080/"
        },
        "id": "TCYMPV6E6iAl",
        "outputId": "4010bf14-eb18-4493-8d96-6320bdeb040a"
      },
      "source": [
        "# MSE\n",
        "difference_array = np.subtract(true, pred)\n",
        "squared_array = np.square(difference_array)\n",
        "mse = squared_array.mean()\n",
        "print(\"MSE :\", mse)\n",
        "\n",
        "# The RMSE\n",
        "from sklearn.metrics import mean_squared_error, mean_absolute_error\n",
        "print(\"RMSE : %.2f\" % mean_squared_error(true, pred, squared=False))\n",
        "\n",
        "# The MAE\n",
        "print(\"MAE : %.2f\" % mean_absolute_error(true, pred))\n",
        "\n",
        "#Mean Absolute Percentange Error\n",
        "MAPE = (np.mean(np.abs((true - pred) / true))) * 100\n",
        "print('MAPE : ', MAPE)\n",
        "\n",
        "# Explained variance score: 1 is perfect prediction\n",
        "from sklearn.metrics import r2_score\n",
        "print('R2 score: %.2f' % r2_score(true, pred))"
      ],
      "execution_count": 9,
      "outputs": [
        {
          "output_type": "stream",
          "text": [
            "MSE : 0.0025260645938599067\n",
            "RMSE : 0.05\n",
            "MAE : 0.04\n",
            "MAPE :  5.827968551581036\n",
            "R2 score: 0.92\n"
          ],
          "name": "stdout"
        }
      ]
    },
    {
      "cell_type": "markdown",
      "metadata": {
        "id": "m0RAfWtxDfnB"
      },
      "source": [
        "We choose the mean square error MSE of all samples as our metric. It can be calculated through Eqn. (47) using test set. Notice that the MSE we calculated are derived from normalized data. That's because there exists huge value gap among di\u000berent stocks. if we use original stock price to evaluate error, the error of high price stocks would probably be much more larger than low price ones, which implies models perform better on high price stocks would very likely to have better overall performance. Thus the performance on low price stocks would become dispensable. To avoid the bias caused by the aforementioned problem we evaluate the error with normalized stock price ranged from -1 to 1. (Li, H., Shen, Y., dan Zhu, Y. 2018. Stock Price Prediction Using attention-based Multi-Input LSTM)"
      ]
    },
    {
      "cell_type": "code",
      "metadata": {
        "id": "Y47_DyXm9Ysk",
        "colab": {
          "base_uri": "https://localhost:8080/",
          "height": 297
        },
        "outputId": "30e99a7b-adb4-4bc6-8476-ebf5a8131556"
      },
      "source": [
        "predicted_y = pd.DataFrame(predicted_y)\n",
        "org_y = pd.DataFrame(org_y)\n",
        "describe = pd.DataFrame()\n",
        "describe['True Price'] = org_y[0]\n",
        "describe['Prediction'] = predicted_y[0]\n",
        "describe['difference'] = org_y[0] - predicted_y[0]\n",
        "describe['MAPE (%)'] = abs(describe['difference']/org_y[0]*100)\n",
        "describe.describe()"
      ],
      "execution_count": 10,
      "outputs": [
        {
          "output_type": "execute_result",
          "data": {
            "text/html": [
              "<div>\n",
              "<style scoped>\n",
              "    .dataframe tbody tr th:only-of-type {\n",
              "        vertical-align: middle;\n",
              "    }\n",
              "\n",
              "    .dataframe tbody tr th {\n",
              "        vertical-align: top;\n",
              "    }\n",
              "\n",
              "    .dataframe thead th {\n",
              "        text-align: right;\n",
              "    }\n",
              "</style>\n",
              "<table border=\"1\" class=\"dataframe\">\n",
              "  <thead>\n",
              "    <tr style=\"text-align: right;\">\n",
              "      <th></th>\n",
              "      <th>True Price</th>\n",
              "      <th>Prediction</th>\n",
              "      <th>difference</th>\n",
              "      <th>MAPE (%)</th>\n",
              "    </tr>\n",
              "  </thead>\n",
              "  <tbody>\n",
              "    <tr>\n",
              "      <th>count</th>\n",
              "      <td>256.000000</td>\n",
              "      <td>256.000000</td>\n",
              "      <td>256.000000</td>\n",
              "      <td>256.000000</td>\n",
              "    </tr>\n",
              "    <tr>\n",
              "      <th>mean</th>\n",
              "      <td>474.242188</td>\n",
              "      <td>467.502136</td>\n",
              "      <td>6.740032</td>\n",
              "      <td>3.223256</td>\n",
              "    </tr>\n",
              "    <tr>\n",
              "      <th>std</th>\n",
              "      <td>75.265985</td>\n",
              "      <td>73.932632</td>\n",
              "      <td>20.838977</td>\n",
              "      <td>3.243456</td>\n",
              "    </tr>\n",
              "    <tr>\n",
              "      <th>min</th>\n",
              "      <td>290.000000</td>\n",
              "      <td>291.619202</td>\n",
              "      <td>-77.371765</td>\n",
              "      <td>0.031748</td>\n",
              "    </tr>\n",
              "    <tr>\n",
              "      <th>25%</th>\n",
              "      <td>420.000000</td>\n",
              "      <td>415.838387</td>\n",
              "      <td>-4.523514</td>\n",
              "      <td>0.938155</td>\n",
              "    </tr>\n",
              "    <tr>\n",
              "      <th>50%</th>\n",
              "      <td>484.000000</td>\n",
              "      <td>480.424667</td>\n",
              "      <td>4.527985</td>\n",
              "      <td>2.113085</td>\n",
              "    </tr>\n",
              "    <tr>\n",
              "      <th>75%</th>\n",
              "      <td>521.250000</td>\n",
              "      <td>511.455811</td>\n",
              "      <td>15.675255</td>\n",
              "      <td>4.434707</td>\n",
              "    </tr>\n",
              "    <tr>\n",
              "      <th>max</th>\n",
              "      <td>630.000000</td>\n",
              "      <td>618.811401</td>\n",
              "      <td>110.236908</td>\n",
              "      <td>21.829091</td>\n",
              "    </tr>\n",
              "  </tbody>\n",
              "</table>\n",
              "</div>"
            ],
            "text/plain": [
              "       True Price  Prediction  difference    MAPE (%)\n",
              "count  256.000000  256.000000  256.000000  256.000000\n",
              "mean   474.242188  467.502136    6.740032    3.223256\n",
              "std     75.265985   73.932632   20.838977    3.243456\n",
              "min    290.000000  291.619202  -77.371765    0.031748\n",
              "25%    420.000000  415.838387   -4.523514    0.938155\n",
              "50%    484.000000  480.424667    4.527985    2.113085\n",
              "75%    521.250000  511.455811   15.675255    4.434707\n",
              "max    630.000000  618.811401  110.236908   21.829091"
            ]
          },
          "metadata": {
            "tags": []
          },
          "execution_count": 10
        }
      ]
    },
    {
      "cell_type": "code",
      "metadata": {
        "colab": {
          "base_uri": "https://localhost:8080/",
          "height": 359
        },
        "id": "UoSeLi8altE4",
        "outputId": "e0c6a63a-b946-4d5f-a08e-0e7278b4ad8d"
      },
      "source": [
        "describe.head(10)"
      ],
      "execution_count": 11,
      "outputs": [
        {
          "output_type": "execute_result",
          "data": {
            "text/html": [
              "<div>\n",
              "<style scoped>\n",
              "    .dataframe tbody tr th:only-of-type {\n",
              "        vertical-align: middle;\n",
              "    }\n",
              "\n",
              "    .dataframe tbody tr th {\n",
              "        vertical-align: top;\n",
              "    }\n",
              "\n",
              "    .dataframe thead th {\n",
              "        text-align: right;\n",
              "    }\n",
              "</style>\n",
              "<table border=\"1\" class=\"dataframe\">\n",
              "  <thead>\n",
              "    <tr style=\"text-align: right;\">\n",
              "      <th></th>\n",
              "      <th>True Price</th>\n",
              "      <th>Prediction</th>\n",
              "      <th>difference</th>\n",
              "      <th>MAPE (%)</th>\n",
              "    </tr>\n",
              "  </thead>\n",
              "  <tbody>\n",
              "    <tr>\n",
              "      <th>0</th>\n",
              "      <td>290.0</td>\n",
              "      <td>291.619202</td>\n",
              "      <td>-1.619202</td>\n",
              "      <td>0.558345</td>\n",
              "    </tr>\n",
              "    <tr>\n",
              "      <th>1</th>\n",
              "      <td>314.0</td>\n",
              "      <td>296.506836</td>\n",
              "      <td>17.493164</td>\n",
              "      <td>5.571071</td>\n",
              "    </tr>\n",
              "    <tr>\n",
              "      <th>2</th>\n",
              "      <td>312.0</td>\n",
              "      <td>303.105103</td>\n",
              "      <td>8.894897</td>\n",
              "      <td>2.850929</td>\n",
              "    </tr>\n",
              "    <tr>\n",
              "      <th>3</th>\n",
              "      <td>306.0</td>\n",
              "      <td>307.906860</td>\n",
              "      <td>-1.906860</td>\n",
              "      <td>0.623157</td>\n",
              "    </tr>\n",
              "    <tr>\n",
              "      <th>4</th>\n",
              "      <td>318.0</td>\n",
              "      <td>308.996429</td>\n",
              "      <td>9.003571</td>\n",
              "      <td>2.831311</td>\n",
              "    </tr>\n",
              "    <tr>\n",
              "      <th>5</th>\n",
              "      <td>318.0</td>\n",
              "      <td>311.453644</td>\n",
              "      <td>6.546356</td>\n",
              "      <td>2.058603</td>\n",
              "    </tr>\n",
              "    <tr>\n",
              "      <th>6</th>\n",
              "      <td>320.0</td>\n",
              "      <td>313.708191</td>\n",
              "      <td>6.291809</td>\n",
              "      <td>1.966190</td>\n",
              "    </tr>\n",
              "    <tr>\n",
              "      <th>7</th>\n",
              "      <td>322.0</td>\n",
              "      <td>315.852966</td>\n",
              "      <td>6.147034</td>\n",
              "      <td>1.909017</td>\n",
              "    </tr>\n",
              "    <tr>\n",
              "      <th>8</th>\n",
              "      <td>312.0</td>\n",
              "      <td>317.938507</td>\n",
              "      <td>-5.938507</td>\n",
              "      <td>1.903368</td>\n",
              "    </tr>\n",
              "    <tr>\n",
              "      <th>9</th>\n",
              "      <td>310.0</td>\n",
              "      <td>316.681458</td>\n",
              "      <td>-6.681458</td>\n",
              "      <td>2.155309</td>\n",
              "    </tr>\n",
              "  </tbody>\n",
              "</table>\n",
              "</div>"
            ],
            "text/plain": [
              "   True Price  Prediction  difference  MAPE (%)\n",
              "0       290.0  291.619202   -1.619202  0.558345\n",
              "1       314.0  296.506836   17.493164  5.571071\n",
              "2       312.0  303.105103    8.894897  2.850929\n",
              "3       306.0  307.906860   -1.906860  0.623157\n",
              "4       318.0  308.996429    9.003571  2.831311\n",
              "5       318.0  311.453644    6.546356  2.058603\n",
              "6       320.0  313.708191    6.291809  1.966190\n",
              "7       322.0  315.852966    6.147034  1.909017\n",
              "8       312.0  317.938507   -5.938507  1.903368\n",
              "9       310.0  316.681458   -6.681458  2.155309"
            ]
          },
          "metadata": {
            "tags": []
          },
          "execution_count": 11
        }
      ]
    },
    {
      "cell_type": "code",
      "metadata": {
        "id": "xriB7R_tWpAM",
        "colab": {
          "base_uri": "https://localhost:8080/"
        },
        "outputId": "2061db1f-06d9-4714-ca61-9649a0589dfd"
      },
      "source": [
        "a = np.array(describe['True Price'])\n",
        "b = np.array(describe['Prediction'])\n",
        "\n",
        "# MSE\n",
        "difference_array = np.subtract(a, b)\n",
        "squared_array = np.square(difference_array)\n",
        "mse = squared_array.mean()\n",
        "print(\"MSE :\", mse)\n",
        "\n",
        "# The RMSE\n",
        "print(\"RMSE: %.2f\" % mean_squared_error(a, b, squared=False))\n",
        "\n",
        "# The MAE\n",
        "print(\"MAE: %.2f\" % mean_absolute_error(a, b))\n",
        "\n",
        "#Mean Absolute Percentange Error\n",
        "c = (np.mean(np.abs((a - b) / a))) * 100\n",
        "print('MAPE : ', c)\n",
        "\n",
        "# Explained variance score: 1 is perfect prediction\n",
        "from sklearn.metrics import r2_score\n",
        "print('R2 score: %.2f' % r2_score(a, b))\n",
        "\n"
      ],
      "execution_count": 12,
      "outputs": [
        {
          "output_type": "stream",
          "text": [
            "MSE : 477.9946562164005\n",
            "RMSE: 21.86\n",
            "MAE: 15.26\n",
            "MAPE :  3.2232561014955854\n",
            "R2 score: 0.92\n"
          ],
          "name": "stdout"
        }
      ]
    },
    {
      "cell_type": "code",
      "metadata": {
        "id": "iozJ262YxuM8",
        "colab": {
          "base_uri": "https://localhost:8080/"
        },
        "outputId": "dfbfe2fc-4fd5-496c-f3ae-a8ae76000d32"
      },
      "source": [
        "print(model.evaluate(X_train, y_train))\n",
        "print(model.evaluate(X_test, y_test))"
      ],
      "execution_count": 13,
      "outputs": [
        {
          "output_type": "stream",
          "text": [
            "38/38 [==============================] - 1s 16ms/step - loss: 6.4216e-04\n",
            "0.0006421563448384404\n",
            "8/8 [==============================] - 1s 17ms/step - loss: 0.0025\n",
            "0.0025260646361857653\n"
          ],
          "name": "stdout"
        }
      ]
    },
    {
      "cell_type": "code",
      "metadata": {
        "colab": {
          "base_uri": "https://localhost:8080/"
        },
        "id": "JRT-OjnyZ0PP",
        "outputId": "88f2e1f5-e2d9-4ce8-e804-f20f49235739"
      },
      "source": [
        "print(model.metrics_names)"
      ],
      "execution_count": 14,
      "outputs": [
        {
          "output_type": "stream",
          "text": [
            "['loss']\n"
          ],
          "name": "stdout"
        }
      ]
    },
    {
      "cell_type": "code",
      "metadata": {
        "id": "qNCPEkeaXNIT"
      },
      "source": [
        "graph  = test_df.drop(test_df.index[0:36])\n",
        "graph.reset_index(inplace=True)\n",
        "graph.rename(columns = {'index':'Date'})\n",
        "graph = graph.drop(columns=['High','Low','Open','Volume','Close'])\n",
        "graph['Predict_Value'] = predicted_y[0]\n",
        "graph.head()\n",
        "graph.set_index('Date', inplace=True)"
      ],
      "execution_count": 15,
      "outputs": []
    },
    {
      "cell_type": "code",
      "metadata": {
        "id": "QF5LdxyJb0bT",
        "colab": {
          "base_uri": "https://localhost:8080/",
          "height": 299
        },
        "outputId": "e30469c3-622e-47a9-abce-fe7ec94e2c89"
      },
      "source": [
        "# plot the results \n",
        "plt.plot(graph['Adj Close'], color = 'red', label = 'Real Stock Price')\n",
        "plt.plot(graph['Predict_Value'], color = 'blue', label = 'Predicted Stock Price')\n",
        "#plt.plot(df['Adj Close'], color = 'black', label = 'Past Stock')\n",
        "plt.title('Stock Price Prediction')\n",
        "plt.xlabel('Time')\n",
        "plt.ylabel('Stock Price')\n",
        "plt.legend()\n",
        "plt.savefig('Stock Price SVR LSTM 1.png')\n",
        "files.download(\"Stock Price SVR LSTM 1.png\")\n",
        "plt.show()"
      ],
      "execution_count": 16,
      "outputs": [
        {
          "output_type": "display_data",
          "data": {
            "application/javascript": [
              "\n",
              "    async function download(id, filename, size) {\n",
              "      if (!google.colab.kernel.accessAllowed) {\n",
              "        return;\n",
              "      }\n",
              "      const div = document.createElement('div');\n",
              "      const label = document.createElement('label');\n",
              "      label.textContent = `Downloading \"${filename}\": `;\n",
              "      div.appendChild(label);\n",
              "      const progress = document.createElement('progress');\n",
              "      progress.max = size;\n",
              "      div.appendChild(progress);\n",
              "      document.body.appendChild(div);\n",
              "\n",
              "      const buffers = [];\n",
              "      let downloaded = 0;\n",
              "\n",
              "      const channel = await google.colab.kernel.comms.open(id);\n",
              "      // Send a message to notify the kernel that we're ready.\n",
              "      channel.send({})\n",
              "\n",
              "      for await (const message of channel.messages) {\n",
              "        // Send a message to notify the kernel that we're ready.\n",
              "        channel.send({})\n",
              "        if (message.buffers) {\n",
              "          for (const buffer of message.buffers) {\n",
              "            buffers.push(buffer);\n",
              "            downloaded += buffer.byteLength;\n",
              "            progress.value = downloaded;\n",
              "          }\n",
              "        }\n",
              "      }\n",
              "      const blob = new Blob(buffers, {type: 'application/binary'});\n",
              "      const a = document.createElement('a');\n",
              "      a.href = window.URL.createObjectURL(blob);\n",
              "      a.download = filename;\n",
              "      div.appendChild(a);\n",
              "      a.click();\n",
              "      div.remove();\n",
              "    }\n",
              "  "
            ],
            "text/plain": [
              "<IPython.core.display.Javascript object>"
            ]
          },
          "metadata": {
            "tags": []
          }
        },
        {
          "output_type": "display_data",
          "data": {
            "application/javascript": [
              "download(\"download_91dc67b4-c290-48c8-ba88-50fef7803aea\", \"Stock Price SVR LSTM 1.png\", 33973)"
            ],
            "text/plain": [
              "<IPython.core.display.Javascript object>"
            ]
          },
          "metadata": {
            "tags": []
          }
        },
        {
          "output_type": "display_data",
          "data": {
            "image/png": "[encoded data removed]",
            "text/plain": [
              "<Figure size 432x288 with 1 Axes>"
            ]
          },
          "metadata": {
            "tags": []
          }
        }
      ]
    },
    {
      "cell_type": "code",
      "metadata": {
        "id": "RRepTsPgEuXx"
      },
      "source": [
        "final  = test_df.drop(test_df.index[0:36])\n",
        "final.reset_index(inplace=True)\n",
        "final.rename(columns = {'index':'Date'})\n",
        "final = final.drop(columns=['High','Low','Open','Volume','Close'])\n",
        "final['Predict_Value'] = predicted_y[0]\n",
        "final['Selisih'] = final['Adj Close'] - final['Predict_Value']\n",
        "final['Lost/Risk (%)'] = abs((final['Adj Close'] - final['Predict_Value'])/final['Predict_Value']*100)\n",
        "final = final.drop(columns=['Adj Close'])"
      ],
      "execution_count": 17,
      "outputs": []
    },
    {
      "cell_type": "code",
      "metadata": {
        "id": "DhwcCvlTySN1"
      },
      "source": [
        "percent = test_df.drop(test_df.index[0:35])\n",
        "percent = percent.drop(test_df.index[-1])\n",
        "percent.reset_index(inplace=True)\n",
        "percent.rename(columns = {'index':'Date'}) \n",
        "percent = percent.drop(columns=['High','Low','Open','Volume','Close'])\n",
        "percent['Next Day'] = predicted_y\n",
        "percent['Plus or Minus']= percent['Adj Close'] - percent['Next Day']\n",
        "percent['Next Day (%)']= abs(((percent['Adj Close'] - percent['Next Day'])/percent['Adj Close'])*100)"
      ],
      "execution_count": 18,
      "outputs": []
    },
    {
      "cell_type": "markdown",
      "metadata": {
        "id": "ib825d-fXMwk"
      },
      "source": [
        ""
      ]
    },
    {
      "cell_type": "code",
      "metadata": {
        "id": "sllI6VucG__o"
      },
      "source": [
        "True_Next_Day = test_df.drop(test_df.index[0:35])\n",
        "True_Next_Day = True_Next_Day.drop(test_df.index[-1])\n",
        "True_Next_Day.reset_index(inplace=True)\n",
        "True_Next_Day.rename(columns = {'index':'Date'}) \n",
        "True_Next_Day = True_Next_Day.drop(columns=['High','Low','Open','Volume','Close'])\n",
        "True_Next_Day['True Next Day'] = org_y\n",
        "True_Next_Day['True Plus or Minus']= (True_Next_Day['Adj Close'] - True_Next_Day['True Next Day'])\n",
        "True_Next_Day['True Next Day (%)']= abs(((True_Next_Day['Adj Close'] - True_Next_Day['True Next Day'])/True_Next_Day['Adj Close'])*100)\n",
        "True_Next_Day = True_Next_Day.drop(columns=['Adj Close','True Next Day'])"
      ],
      "execution_count": 19,
      "outputs": []
    },
    {
      "cell_type": "code",
      "metadata": {
        "id": "121c4YuD-aJq",
        "colab": {
          "base_uri": "https://localhost:8080/"
        },
        "outputId": "710fcb27-c358-4c6a-84f1-4f77e1096197"
      },
      "source": [
        "Concating = percent.merge(final, how='outer', on='Date')\n",
        "Concating = Concating.merge(True_Next_Day, how='outer', on='Date')\n",
        "#Concating.set_index('Date', inplace=True)\n",
        "Final_Predict = Concating.copy()\n",
        "Final_Predict['Harga Saham Hari ini'] = Concating['Adj Close']\n",
        "Final_Predict['Prediksi Besok'] = Concating['Plus or Minus']\n",
        "Final_Predict['Harga Besok Sebenarnya'] = Concating['True Plus or Minus']\n",
        "Final_Predict['Prediksi Besok (%)'] = (Concating['Next Day (%)'])\n",
        "Final_Predict['Harga Besok Sebenarnya (%)'] = Concating['True Next Day (%)']\n",
        "Final_Predict['Selisih Prediksi'] = (Final_Predict['Harga Besok Sebenarnya'] - Final_Predict['Prediksi Besok'])\n",
        "Final_Predict['Risk/MAPE(%)'] = abs(((Final_Predict['Harga Besok Sebenarnya'] - Final_Predict['Prediksi Besok'])/Final_Predict['Harga Besok Sebenarnya'])*100)\n",
        "Final_Predict['Risk/MAPE(%)'] = round(Final_Predict['Risk/MAPE(%)'], 2)\n",
        "Final_Predict = Final_Predict.drop(columns=['Adj Close', 'Next Day', 'Plus or Minus', 'Next Day (%)',\n",
        "                                            'Predict_Value', 'Selisih', 'Lost/Risk (%)', 'True Plus or Minus',\n",
        "                                            'True Next Day (%)'])\n",
        "Final_Predict = Final_Predict.replace(0, np.nan)\n",
        "Final_Predict = Final_Predict.dropna()\n",
        "Final_Predict['Prediksi Uptrend'] = Final_Predict['Prediksi Besok'].apply(lambda x: 1 if x >= 0 else 0)\n",
        "Final_Predict['Asli Uptrend'] = Final_Predict['Harga Besok Sebenarnya'].apply(lambda x: 1 if x >= 0 else 0)\n",
        "Final_Predict.set_index('Date', inplace=True)\n",
        "Final_Predict.shape"
      ],
      "execution_count": 20,
      "outputs": [
        {
          "output_type": "execute_result",
          "data": {
            "text/plain": [
              "(229, 9)"
            ]
          },
          "metadata": {
            "tags": []
          },
          "execution_count": 20
        }
      ]
    },
    {
      "cell_type": "code",
      "metadata": {
        "colab": {
          "base_uri": "https://localhost:8080/",
          "height": 337
        },
        "id": "ookffGOJ-lmk",
        "outputId": "31af0e70-aefc-4505-9a7e-0aa9ae13a4fa"
      },
      "source": [
        "Final_Predict.head()"
      ],
      "execution_count": 21,
      "outputs": [
        {
          "output_type": "execute_result",
          "data": {
            "text/html": [
              "<div>\n",
              "<style scoped>\n",
              "    .dataframe tbody tr th:only-of-type {\n",
              "        vertical-align: middle;\n",
              "    }\n",
              "\n",
              "    .dataframe tbody tr th {\n",
              "        vertical-align: top;\n",
              "    }\n",
              "\n",
              "    .dataframe thead th {\n",
              "        text-align: right;\n",
              "    }\n",
              "</style>\n",
              "<table border=\"1\" class=\"dataframe\">\n",
              "  <thead>\n",
              "    <tr style=\"text-align: right;\">\n",
              "      <th></th>\n",
              "      <th>Harga Saham Hari ini</th>\n",
              "      <th>Prediksi Besok</th>\n",
              "      <th>Harga Besok Sebenarnya</th>\n",
              "      <th>Prediksi Besok (%)</th>\n",
              "      <th>Harga Besok Sebenarnya (%)</th>\n",
              "      <th>Selisih Prediksi</th>\n",
              "      <th>Risk/MAPE(%)</th>\n",
              "      <th>Prediksi Uptrend</th>\n",
              "      <th>Asli Uptrend</th>\n",
              "    </tr>\n",
              "    <tr>\n",
              "      <th>Date</th>\n",
              "      <th></th>\n",
              "      <th></th>\n",
              "      <th></th>\n",
              "      <th></th>\n",
              "      <th></th>\n",
              "      <th></th>\n",
              "      <th></th>\n",
              "      <th></th>\n",
              "      <th></th>\n",
              "    </tr>\n",
              "  </thead>\n",
              "  <tbody>\n",
              "    <tr>\n",
              "      <th>2019-01-01</th>\n",
              "      <td>298.0</td>\n",
              "      <td>6.380798</td>\n",
              "      <td>8.0</td>\n",
              "      <td>2.141207</td>\n",
              "      <td>2.684564</td>\n",
              "      <td>1.619202</td>\n",
              "      <td>20.24</td>\n",
              "      <td>1</td>\n",
              "      <td>1</td>\n",
              "    </tr>\n",
              "    <tr>\n",
              "      <th>2019-01-02</th>\n",
              "      <td>290.0</td>\n",
              "      <td>-6.506836</td>\n",
              "      <td>-24.0</td>\n",
              "      <td>2.243737</td>\n",
              "      <td>8.275862</td>\n",
              "      <td>-17.493164</td>\n",
              "      <td>72.89</td>\n",
              "      <td>0</td>\n",
              "      <td>0</td>\n",
              "    </tr>\n",
              "    <tr>\n",
              "      <th>2019-01-03</th>\n",
              "      <td>314.0</td>\n",
              "      <td>10.894897</td>\n",
              "      <td>2.0</td>\n",
              "      <td>3.469713</td>\n",
              "      <td>0.636943</td>\n",
              "      <td>-8.894897</td>\n",
              "      <td>444.74</td>\n",
              "      <td>1</td>\n",
              "      <td>1</td>\n",
              "    </tr>\n",
              "    <tr>\n",
              "      <th>2019-01-04</th>\n",
              "      <td>312.0</td>\n",
              "      <td>4.093140</td>\n",
              "      <td>6.0</td>\n",
              "      <td>1.311904</td>\n",
              "      <td>1.923077</td>\n",
              "      <td>1.906860</td>\n",
              "      <td>31.78</td>\n",
              "      <td>1</td>\n",
              "      <td>1</td>\n",
              "    </tr>\n",
              "    <tr>\n",
              "      <th>2019-01-07</th>\n",
              "      <td>306.0</td>\n",
              "      <td>-2.996429</td>\n",
              "      <td>-12.0</td>\n",
              "      <td>0.979225</td>\n",
              "      <td>3.921569</td>\n",
              "      <td>-9.003571</td>\n",
              "      <td>75.03</td>\n",
              "      <td>0</td>\n",
              "      <td>0</td>\n",
              "    </tr>\n",
              "  </tbody>\n",
              "</table>\n",
              "</div>"
            ],
            "text/plain": [
              "            Harga Saham Hari ini  ...  Asli Uptrend\n",
              "Date                              ...              \n",
              "2019-01-01                 298.0  ...             1\n",
              "2019-01-02                 290.0  ...             0\n",
              "2019-01-03                 314.0  ...             1\n",
              "2019-01-04                 312.0  ...             1\n",
              "2019-01-07                 306.0  ...             0\n",
              "\n",
              "[5 rows x 9 columns]"
            ]
          },
          "metadata": {
            "tags": []
          },
          "execution_count": 21
        }
      ]
    },
    {
      "cell_type": "code",
      "metadata": {
        "colab": {
          "base_uri": "https://localhost:8080/"
        },
        "id": "wmiuagMCKc3w",
        "outputId": "5388ff53-1c96-4477-ffcd-bf3f357655a5"
      },
      "source": [
        "pred_uptrend = Final_Predict['Prediksi Uptrend']\n",
        "true_trend = Final_Predict['Asli Uptrend']\n",
        "\n",
        "# calculate accuracy\n",
        "from sklearn.metrics import accuracy_score\n",
        "Accuracy = accuracy_score(true_trend, pred_uptrend)\n",
        "print('Accuracy :', Accuracy)\n",
        "\n",
        "\n",
        "# calculate prediction\n",
        "from sklearn.metrics import precision_score\n",
        "precision = precision_score(true_trend, pred_uptrend, average='binary')\n",
        "print('Precision : %.3f' % precision)\n",
        "\n",
        "# calculate recall\n",
        "from sklearn.metrics import recall_score\n",
        "recall = recall_score(true_trend, pred_uptrend, average='binary')\n",
        "print('Recall : %.3f' % recall)\n",
        "\n",
        "# calculate score\n",
        "from sklearn.metrics import f1_score\n",
        "score = f1_score(true_trend, pred_uptrend, average='binary')\n",
        "print('F1 Score : %.3f' % score)\n",
        "\n",
        "#AUC Score\n",
        "from sklearn.metrics import roc_auc_score \n",
        "auc = roc_auc_score(true_trend, pred_uptrend)\n",
        "print('AUC Score : ', auc)"
      ],
      "execution_count": 22,
      "outputs": [
        {
          "output_type": "stream",
          "text": [
            "Accuracy : 0.5633187772925764\n",
            "Precision : 0.595\n",
            "Recall : 0.758\n",
            "F1 Score : 0.667\n",
            "AUC Score :  0.528272414870353\n"
          ],
          "name": "stdout"
        }
      ]
    },
    {
      "cell_type": "code",
      "metadata": {
        "colab": {
          "base_uri": "https://localhost:8080/",
          "height": 341
        },
        "id": "J7yPx3k8WolI",
        "outputId": "52c9eef1-7234-4b78-a1b2-9b1c76e1410d"
      },
      "source": [
        "from sklearn.metrics import confusion_matrix\n",
        "import seaborn as sns\n",
        "import matplotlib.pyplot as plt\n",
        "\n",
        "confusion_matrix(true_trend, pred_uptrend)\n",
        "plt.figure(figsize = (6, 5))\n",
        "sns.heatmap(confusion_matrix(true_trend, pred_uptrend), annot = True)"
      ],
      "execution_count": 23,
      "outputs": [
        {
          "output_type": "execute_result",
          "data": {
            "text/plain": [
              "<matplotlib.axes._subplots.AxesSubplot at 0x7f84288b1250>"
            ]
          },
          "metadata": {
            "tags": []
          },
          "execution_count": 23
        },
        {
          "output_type": "display_data",
          "data": {
            "image/png": "[encoded data removed]",
            "text/plain": [
              "<Figure size 432x360 with 2 Axes>"
            ]
          },
          "metadata": {
            "tags": []
          }
        }
      ]
    },
    {
      "cell_type": "code",
      "metadata": {
        "colab": {
          "base_uri": "https://localhost:8080/",
          "height": 282
        },
        "id": "GL0g9D5qPtTK",
        "outputId": "44f7087b-5aee-4bff-9563-7acd3e05b192"
      },
      "source": [
        "from sklearn.metrics import roc_curve \n",
        "fpr, tpr, thresholds = roc_curve(true_trend, pred_uptrend)\n",
        "\n",
        "\n",
        "import matplotlib.pyplot as plt \n",
        "plt.plot(fpr, tpr) \n",
        "plt.xlabel(\"False Positive Rate\") \n",
        "plt.ylabel(\"True Positive Rate\") \n",
        "plt.plot([0, 1], [0, 1], \"k--\") \n",
        "plt.show()"
      ],
      "execution_count": 24,
      "outputs": [
        {
          "output_type": "display_data",
          "data": {
            "image/png": "[encoded data removed]",
            "text/plain": [
              "<Figure size 432x288 with 1 Axes>"
            ]
          },
          "metadata": {
            "tags": []
          }
        }
      ]
    },
    {
      "cell_type": "code",
      "metadata": {
        "colab": {
          "base_uri": "https://localhost:8080/",
          "height": 299
        },
        "id": "kgXVUoOccIB1",
        "outputId": "fd87ae85-9c87-4b7a-a89e-6013da4f5d6c"
      },
      "source": [
        "# plot the results \n",
        "plt.plot(Final_Predict['Prediksi Besok'], color = 'red', label = 'Real Stock Price')\n",
        "plt.plot(Final_Predict['Harga Besok Sebenarnya'], color = 'blue', label = 'Predicted Stock Price')\n",
        "#plt.plot(Final_Predict['Risk/MAPE(%)'], color = 'black', label = 'RISK/MAPE(%)')\n",
        "plt.title('Stock Price Prediction')\n",
        "plt.xlabel('Time')\n",
        "plt.ylabel('Stock Price')\n",
        "plt.legend()\n",
        "plt.savefig('Stock Price SVR LSTM 1.png')\n",
        "files.download(\"Stock Price SVR LSTM 1.png\")\n",
        "plt.show()"
      ],
      "execution_count": 25,
      "outputs": [
        {
          "output_type": "display_data",
          "data": {
            "application/javascript": [
              "\n",
              "    async function download(id, filename, size) {\n",
              "      if (!google.colab.kernel.accessAllowed) {\n",
              "        return;\n",
              "      }\n",
              "      const div = document.createElement('div');\n",
              "      const label = document.createElement('label');\n",
              "      label.textContent = `Downloading \"${filename}\": `;\n",
              "      div.appendChild(label);\n",
              "      const progress = document.createElement('progress');\n",
              "      progress.max = size;\n",
              "      div.appendChild(progress);\n",
              "      document.body.appendChild(div);\n",
              "\n",
              "      const buffers = [];\n",
              "      let downloaded = 0;\n",
              "\n",
              "      const channel = await google.colab.kernel.comms.open(id);\n",
              "      // Send a message to notify the kernel that we're ready.\n",
              "      channel.send({})\n",
              "\n",
              "      for await (const message of channel.messages) {\n",
              "        // Send a message to notify the kernel that we're ready.\n",
              "        channel.send({})\n",
              "        if (message.buffers) {\n",
              "          for (const buffer of message.buffers) {\n",
              "            buffers.push(buffer);\n",
              "            downloaded += buffer.byteLength;\n",
              "            progress.value = downloaded;\n",
              "          }\n",
              "        }\n",
              "      }\n",
              "      const blob = new Blob(buffers, {type: 'application/binary'});\n",
              "      const a = document.createElement('a');\n",
              "      a.href = window.URL.createObjectURL(blob);\n",
              "      a.download = filename;\n",
              "      div.appendChild(a);\n",
              "      a.click();\n",
              "      div.remove();\n",
              "    }\n",
              "  "
            ],
            "text/plain": [
              "<IPython.core.display.Javascript object>"
            ]
          },
          "metadata": {
            "tags": []
          }
        },
        {
          "output_type": "display_data",
          "data": {
            "application/javascript": [
              "download(\"download_34be6f62-bc91-474f-9b03-0ad76c79a86c\", \"Stock Price SVR LSTM 1.png\", 43131)"
            ],
            "text/plain": [
              "<IPython.core.display.Javascript object>"
            ]
          },
          "metadata": {
            "tags": []
          }
        },
        {
          "output_type": "display_data",
          "data": {
            "image/png": "[encoded data removed]",
            "text/plain": [
              "<Figure size 432x288 with 1 Axes>"
            ]
          },
          "metadata": {
            "tags": []
          }
        }
      ]
    },
    {
      "cell_type": "code",
      "metadata": {
        "id": "towGbwPBLWUk"
      },
      "source": [
        "#### Mencari Data STAT MODEL"
      ],
      "execution_count": 26,
      "outputs": []
    },
    {
      "cell_type": "code",
      "metadata": {
        "id": "UiadXxndQ2NX"
      },
      "source": [
        "a = X_test\n",
        "a = np.reshape(a, (-1, 36))\n",
        "a = scaler.inverse_transform(a)\n",
        "a = pd.DataFrame(a)"
      ],
      "execution_count": 27,
      "outputs": []
    },
    {
      "cell_type": "code",
      "metadata": {
        "id": "ErHLvejACioW"
      },
      "source": [
        "b = y_test\n",
        "#b = np.reshape(b, (-1, 36))\n",
        "b = scaler.inverse_transform(b)\n",
        "b = pd.DataFrame(b)"
      ],
      "execution_count": 28,
      "outputs": []
    },
    {
      "cell_type": "code",
      "metadata": {
        "id": "O62uEaEkLyWO"
      },
      "source": [
        "#OLS Model\n",
        "import statsmodels.api as sm\n",
        "X = a\n",
        "Y = b\n",
        "X = sm.add_constant(X)\n",
        "model_ols = sm.OLS(Y,X)\n",
        "results = model_ols.fit()"
      ],
      "execution_count": 29,
      "outputs": []
    },
    {
      "cell_type": "code",
      "metadata": {
        "id": "_CaG_RGcMpzM",
        "colab": {
          "base_uri": "https://localhost:8080/",
          "height": 1000
        },
        "outputId": "78db47de-5567-4395-da46-f2d572d19676"
      },
      "source": [
        "results.summary()"
      ],
      "execution_count": 30,
      "outputs": [
        {
          "output_type": "execute_result",
          "data": {
            "text/html": [
              "<table class=\"simpletable\">\n",
              "<caption>OLS Regression Results</caption>\n",
              "<tr>\n",
              "  <th>Dep. Variable:</th>            <td>0</td>        <th>  R-squared:         </th> <td>   0.951</td> \n",
              "</tr>\n",
              "<tr>\n",
              "  <th>Model:</th>                   <td>OLS</td>       <th>  Adj. R-squared:    </th> <td>   0.943</td> \n",
              "</tr>\n",
              "<tr>\n",
              "  <th>Method:</th>             <td>Least Squares</td>  <th>  F-statistic:       </th> <td>   117.6</td> \n",
              "</tr>\n",
              "<tr>\n",
              "  <th>Date:</th>             <td>Sun, 18 Apr 2021</td> <th>  Prob (F-statistic):</th> <td>1.25e-123</td>\n",
              "</tr>\n",
              "<tr>\n",
              "  <th>Time:</th>                 <td>10:17:46</td>     <th>  Log-Likelihood:    </th> <td> -1083.4</td> \n",
              "</tr>\n",
              "<tr>\n",
              "  <th>No. Observations:</th>      <td>   256</td>      <th>  AIC:               </th> <td>   2241.</td> \n",
              "</tr>\n",
              "<tr>\n",
              "  <th>Df Residuals:</th>          <td>   219</td>      <th>  BIC:               </th> <td>   2372.</td> \n",
              "</tr>\n",
              "<tr>\n",
              "  <th>Df Model:</th>              <td>    36</td>      <th>                     </th>     <td> </td>    \n",
              "</tr>\n",
              "<tr>\n",
              "  <th>Covariance Type:</th>      <td>nonrobust</td>    <th>                     </th>     <td> </td>    \n",
              "</tr>\n",
              "</table>\n",
              "<table class=\"simpletable\">\n",
              "<tr>\n",
              "    <td></td>       <th>coef</th>     <th>std err</th>      <th>t</th>      <th>P>|t|</th>  <th>[0.025</th>    <th>0.975]</th>  \n",
              "</tr>\n",
              "<tr>\n",
              "  <th>const</th> <td>   21.2666</td> <td>    7.608</td> <td>    2.795</td> <td> 0.006</td> <td>    6.272</td> <td>   36.261</td>\n",
              "</tr>\n",
              "<tr>\n",
              "  <th>0</th>     <td>    0.0482</td> <td>    0.068</td> <td>    0.707</td> <td> 0.480</td> <td>   -0.086</td> <td>    0.183</td>\n",
              "</tr>\n",
              "<tr>\n",
              "  <th>1</th>     <td>   -0.0202</td> <td>    0.093</td> <td>   -0.219</td> <td> 0.827</td> <td>   -0.203</td> <td>    0.162</td>\n",
              "</tr>\n",
              "<tr>\n",
              "  <th>2</th>     <td>   -0.0232</td> <td>    0.093</td> <td>   -0.250</td> <td> 0.803</td> <td>   -0.206</td> <td>    0.160</td>\n",
              "</tr>\n",
              "<tr>\n",
              "  <th>3</th>     <td>   -0.0153</td> <td>    0.095</td> <td>   -0.161</td> <td> 0.872</td> <td>   -0.202</td> <td>    0.172</td>\n",
              "</tr>\n",
              "<tr>\n",
              "  <th>4</th>     <td>    0.0162</td> <td>    0.095</td> <td>    0.170</td> <td> 0.865</td> <td>   -0.171</td> <td>    0.204</td>\n",
              "</tr>\n",
              "<tr>\n",
              "  <th>5</th>     <td>   -0.1294</td> <td>    0.094</td> <td>   -1.370</td> <td> 0.172</td> <td>   -0.316</td> <td>    0.057</td>\n",
              "</tr>\n",
              "<tr>\n",
              "  <th>6</th>     <td>   -0.0008</td> <td>    0.094</td> <td>   -0.009</td> <td> 0.993</td> <td>   -0.186</td> <td>    0.184</td>\n",
              "</tr>\n",
              "<tr>\n",
              "  <th>7</th>     <td>    0.0464</td> <td>    0.093</td> <td>    0.497</td> <td> 0.620</td> <td>   -0.138</td> <td>    0.230</td>\n",
              "</tr>\n",
              "<tr>\n",
              "  <th>8</th>     <td>    0.0053</td> <td>    0.093</td> <td>    0.057</td> <td> 0.955</td> <td>   -0.179</td> <td>    0.189</td>\n",
              "</tr>\n",
              "<tr>\n",
              "  <th>9</th>     <td>    0.0774</td> <td>    0.093</td> <td>    0.830</td> <td> 0.407</td> <td>   -0.106</td> <td>    0.261</td>\n",
              "</tr>\n",
              "<tr>\n",
              "  <th>10</th>    <td>   -0.0339</td> <td>    0.093</td> <td>   -0.364</td> <td> 0.716</td> <td>   -0.217</td> <td>    0.149</td>\n",
              "</tr>\n",
              "<tr>\n",
              "  <th>11</th>    <td>    0.0260</td> <td>    0.093</td> <td>    0.280</td> <td> 0.780</td> <td>   -0.157</td> <td>    0.209</td>\n",
              "</tr>\n",
              "<tr>\n",
              "  <th>12</th>    <td>   -0.0719</td> <td>    0.093</td> <td>   -0.774</td> <td> 0.440</td> <td>   -0.255</td> <td>    0.111</td>\n",
              "</tr>\n",
              "<tr>\n",
              "  <th>13</th>    <td>    0.1145</td> <td>    0.093</td> <td>    1.236</td> <td> 0.218</td> <td>   -0.068</td> <td>    0.297</td>\n",
              "</tr>\n",
              "<tr>\n",
              "  <th>14</th>    <td>   -0.0170</td> <td>    0.093</td> <td>   -0.182</td> <td> 0.856</td> <td>   -0.200</td> <td>    0.167</td>\n",
              "</tr>\n",
              "<tr>\n",
              "  <th>15</th>    <td>   -0.1461</td> <td>    0.092</td> <td>   -1.580</td> <td> 0.115</td> <td>   -0.328</td> <td>    0.036</td>\n",
              "</tr>\n",
              "<tr>\n",
              "  <th>16</th>    <td>    0.0036</td> <td>    0.092</td> <td>    0.040</td> <td> 0.969</td> <td>   -0.178</td> <td>    0.185</td>\n",
              "</tr>\n",
              "<tr>\n",
              "  <th>17</th>    <td>    0.0837</td> <td>    0.092</td> <td>    0.909</td> <td> 0.364</td> <td>   -0.098</td> <td>    0.265</td>\n",
              "</tr>\n",
              "<tr>\n",
              "  <th>18</th>    <td>   -0.0409</td> <td>    0.092</td> <td>   -0.446</td> <td> 0.656</td> <td>   -0.221</td> <td>    0.140</td>\n",
              "</tr>\n",
              "<tr>\n",
              "  <th>19</th>    <td>    0.1672</td> <td>    0.091</td> <td>    1.838</td> <td> 0.067</td> <td>   -0.012</td> <td>    0.346</td>\n",
              "</tr>\n",
              "<tr>\n",
              "  <th>20</th>    <td>    0.0126</td> <td>    0.091</td> <td>    0.138</td> <td> 0.890</td> <td>   -0.167</td> <td>    0.192</td>\n",
              "</tr>\n",
              "<tr>\n",
              "  <th>21</th>    <td>    0.0277</td> <td>    0.091</td> <td>    0.302</td> <td> 0.763</td> <td>   -0.153</td> <td>    0.208</td>\n",
              "</tr>\n",
              "<tr>\n",
              "  <th>22</th>    <td>   -0.1481</td> <td>    0.091</td> <td>   -1.627</td> <td> 0.105</td> <td>   -0.327</td> <td>    0.031</td>\n",
              "</tr>\n",
              "<tr>\n",
              "  <th>23</th>    <td>   -0.0281</td> <td>    0.091</td> <td>   -0.308</td> <td> 0.758</td> <td>   -0.208</td> <td>    0.152</td>\n",
              "</tr>\n",
              "<tr>\n",
              "  <th>24</th>    <td>    0.0077</td> <td>    0.091</td> <td>    0.084</td> <td> 0.933</td> <td>   -0.172</td> <td>    0.188</td>\n",
              "</tr>\n",
              "<tr>\n",
              "  <th>25</th>    <td>    0.0462</td> <td>    0.091</td> <td>    0.506</td> <td> 0.613</td> <td>   -0.134</td> <td>    0.226</td>\n",
              "</tr>\n",
              "<tr>\n",
              "  <th>26</th>    <td>    0.0025</td> <td>    0.091</td> <td>    0.028</td> <td> 0.978</td> <td>   -0.177</td> <td>    0.182</td>\n",
              "</tr>\n",
              "<tr>\n",
              "  <th>27</th>    <td>    0.0077</td> <td>    0.091</td> <td>    0.085</td> <td> 0.933</td> <td>   -0.172</td> <td>    0.188</td>\n",
              "</tr>\n",
              "<tr>\n",
              "  <th>28</th>    <td>    0.0162</td> <td>    0.091</td> <td>    0.178</td> <td> 0.859</td> <td>   -0.164</td> <td>    0.196</td>\n",
              "</tr>\n",
              "<tr>\n",
              "  <th>29</th>    <td>   -0.0599</td> <td>    0.091</td> <td>   -0.656</td> <td> 0.513</td> <td>   -0.240</td> <td>    0.120</td>\n",
              "</tr>\n",
              "<tr>\n",
              "  <th>30</th>    <td>   -0.1134</td> <td>    0.091</td> <td>   -1.246</td> <td> 0.214</td> <td>   -0.293</td> <td>    0.066</td>\n",
              "</tr>\n",
              "<tr>\n",
              "  <th>31</th>    <td>    0.1112</td> <td>    0.091</td> <td>    1.222</td> <td> 0.223</td> <td>   -0.068</td> <td>    0.291</td>\n",
              "</tr>\n",
              "<tr>\n",
              "  <th>32</th>    <td>   -0.0870</td> <td>    0.091</td> <td>   -0.958</td> <td> 0.339</td> <td>   -0.266</td> <td>    0.092</td>\n",
              "</tr>\n",
              "<tr>\n",
              "  <th>33</th>    <td>    0.2280</td> <td>    0.090</td> <td>    2.544</td> <td> 0.012</td> <td>    0.051</td> <td>    0.405</td>\n",
              "</tr>\n",
              "<tr>\n",
              "  <th>34</th>    <td>   -0.0350</td> <td>    0.090</td> <td>   -0.389</td> <td> 0.697</td> <td>   -0.212</td> <td>    0.142</td>\n",
              "</tr>\n",
              "<tr>\n",
              "  <th>35</th>    <td>    0.8770</td> <td>    0.067</td> <td>   12.998</td> <td> 0.000</td> <td>    0.744</td> <td>    1.010</td>\n",
              "</tr>\n",
              "</table>\n",
              "<table class=\"simpletable\">\n",
              "<tr>\n",
              "  <th>Omnibus:</th>       <td>50.167</td> <th>  Durbin-Watson:     </th> <td>   2.006</td>\n",
              "</tr>\n",
              "<tr>\n",
              "  <th>Prob(Omnibus):</th> <td> 0.000</td> <th>  Jarque-Bera (JB):  </th> <td> 164.922</td>\n",
              "</tr>\n",
              "<tr>\n",
              "  <th>Skew:</th>          <td> 0.798</td> <th>  Prob(JB):          </th> <td>1.54e-36</td>\n",
              "</tr>\n",
              "<tr>\n",
              "  <th>Kurtosis:</th>      <td> 6.594</td> <th>  Cond. No.          </th> <td>1.88e+04</td>\n",
              "</tr>\n",
              "</table><br/><br/>Warnings:<br/>[1] Standard Errors assume that the covariance matrix of the errors is correctly specified.<br/>[2] The condition number is large, 1.88e+04. This might indicate that there are<br/>strong multicollinearity or other numerical problems."
            ],
            "text/plain": [
              "<class 'statsmodels.iolib.summary.Summary'>\n",
              "\"\"\"\n",
              "                            OLS Regression Results                            \n",
              "==============================================================================\n",
              "Dep. Variable:                      0   R-squared:                       0.951\n",
              "Model:                            OLS   Adj. R-squared:                  0.943\n",
              "Method:                 Least Squares   F-statistic:                     117.6\n",
              "Date:                Sun, 18 Apr 2021   Prob (F-statistic):          1.25e-123\n",
              "Time:                        10:17:46   Log-Likelihood:                -1083.4\n",
              "No. Observations:                 256   AIC:                             2241.\n",
              "Df Residuals:                     219   BIC:                             2372.\n",
              "Df Model:                          36                                         \n",
              "Covariance Type:            nonrobust                                         \n",
              "==============================================================================\n",
              "                 coef    std err          t      P>|t|      [0.025      0.975]\n",
              "------------------------------------------------------------------------------\n",
              "const         21.2666      7.608      2.795      0.006       6.272      36.261\n",
              "0              0.0482      0.068      0.707      0.480      -0.086       0.183\n",
              "1             -0.0202      0.093     -0.219      0.827      -0.203       0.162\n",
              "2             -0.0232      0.093     -0.250      0.803      -0.206       0.160\n",
              "3             -0.0153      0.095     -0.161      0.872      -0.202       0.172\n",
              "4              0.0162      0.095      0.170      0.865      -0.171       0.204\n",
              "5             -0.1294      0.094     -1.370      0.172      -0.316       0.057\n",
              "6             -0.0008      0.094     -0.009      0.993      -0.186       0.184\n",
              "7              0.0464      0.093      0.497      0.620      -0.138       0.230\n",
              "8              0.0053      0.093      0.057      0.955      -0.179       0.189\n",
              "9              0.0774      0.093      0.830      0.407      -0.106       0.261\n",
              "10            -0.0339      0.093     -0.364      0.716      -0.217       0.149\n",
              "11             0.0260      0.093      0.280      0.780      -0.157       0.209\n",
              "12            -0.0719      0.093     -0.774      0.440      -0.255       0.111\n",
              "13             0.1145      0.093      1.236      0.218      -0.068       0.297\n",
              "14            -0.0170      0.093     -0.182      0.856      -0.200       0.167\n",
              "15            -0.1461      0.092     -1.580      0.115      -0.328       0.036\n",
              "16             0.0036      0.092      0.040      0.969      -0.178       0.185\n",
              "17             0.0837      0.092      0.909      0.364      -0.098       0.265\n",
              "18            -0.0409      0.092     -0.446      0.656      -0.221       0.140\n",
              "19             0.1672      0.091      1.838      0.067      -0.012       0.346\n",
              "20             0.0126      0.091      0.138      0.890      -0.167       0.192\n",
              "21             0.0277      0.091      0.302      0.763      -0.153       0.208\n",
              "22            -0.1481      0.091     -1.627      0.105      -0.327       0.031\n",
              "23            -0.0281      0.091     -0.308      0.758      -0.208       0.152\n",
              "24             0.0077      0.091      0.084      0.933      -0.172       0.188\n",
              "25             0.0462      0.091      0.506      0.613      -0.134       0.226\n",
              "26             0.0025      0.091      0.028      0.978      -0.177       0.182\n",
              "27             0.0077      0.091      0.085      0.933      -0.172       0.188\n",
              "28             0.0162      0.091      0.178      0.859      -0.164       0.196\n",
              "29            -0.0599      0.091     -0.656      0.513      -0.240       0.120\n",
              "30            -0.1134      0.091     -1.246      0.214      -0.293       0.066\n",
              "31             0.1112      0.091      1.222      0.223      -0.068       0.291\n",
              "32            -0.0870      0.091     -0.958      0.339      -0.266       0.092\n",
              "33             0.2280      0.090      2.544      0.012       0.051       0.405\n",
              "34            -0.0350      0.090     -0.389      0.697      -0.212       0.142\n",
              "35             0.8770      0.067     12.998      0.000       0.744       1.010\n",
              "==============================================================================\n",
              "Omnibus:                       50.167   Durbin-Watson:                   2.006\n",
              "Prob(Omnibus):                  0.000   Jarque-Bera (JB):              164.922\n",
              "Skew:                           0.798   Prob(JB):                     1.54e-36\n",
              "Kurtosis:                       6.594   Cond. No.                     1.88e+04\n",
              "==============================================================================\n",
              "\n",
              "Warnings:\n",
              "[1] Standard Errors assume that the covariance matrix of the errors is correctly specified.\n",
              "[2] The condition number is large, 1.88e+04. This might indicate that there are\n",
              "strong multicollinearity or other numerical problems.\n",
              "\"\"\""
            ]
          },
          "metadata": {
            "tags": []
          },
          "execution_count": 30
        }
      ]
    }
  ]
}