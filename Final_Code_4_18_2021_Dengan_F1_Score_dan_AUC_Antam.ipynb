{
  "nbformat": 4,
  "nbformat_minor": 0,
  "metadata": {
    "colab": {
      "name": "Final Code - 4/18/2021 - Dengan F1 Score dan AUC - Antam",
      "provenance": [],
      "collapsed_sections": [],
      "authorship_tag": "ABX9TyOZrxUzhrr7ZsNDrBv35HVC",
      "include_colab_link": true
    },
    "kernelspec": {
      "display_name": "Python 3",
      "name": "python3"
    }
  },
  "cells": [
    {
      "cell_type": "markdown",
      "metadata": {
        "id": "view-in-github",
        "colab_type": "text"
      },
      "source": [
        "<a href=\"https://colab.research.google.com/github/achmadbadri/UjiCoba/blob/main/Final_Code_4_18_2021_Dengan_F1_Score_dan_AUC_Antam.ipynb\" target=\"_parent\"><img src=\"https://colab.research.google.com/assets/colab-badge.svg\" alt=\"Open In Colab\"/></a>"
      ]
    },
    {
      "cell_type": "markdown",
      "metadata": {
        "id": "nG5q7aQ2T7yt"
      },
      "source": [
        "https://towardsdatascience.com/walking-through-support-vector-regression-and-lstms-with-stock-price-prediction-45e11b620650"
      ]
    },
    {
      "cell_type": "code",
      "metadata": {
        "id": "imVL_RBkSiEM"
      },
      "source": [
        "import keras\n",
        "from keras.layers import Dense\n",
        "from keras.layers import LSTM\n",
        "from keras.layers import Dropout\n",
        "import pandas as pd \n",
        "import pandas_datareader.data as web\n",
        "import datetime\n",
        "import numpy as np \n",
        "from matplotlib import style\n",
        "from google.colab import files\n",
        "# Visualize the training stock data:\n",
        "import matplotlib.pyplot as plt\n",
        "%matplotlib inline\n",
        "\n",
        "# ignore warnings \n",
        "import warnings\n",
        "warnings.filterwarnings('ignore')"
      ],
      "execution_count": 34,
      "outputs": []
    },
    {
      "cell_type": "code",
      "metadata": {
        "colab": {
          "base_uri": "https://localhost:8080/"
        },
        "id": "7mgHVWneS0-0",
        "outputId": "36124d7b-1eb4-4e7e-e25b-7ffb9c3f20ae"
      },
      "source": [
        "# Get the stock data using yahoo API:\n",
        "style.use('ggplot')\n",
        "\n",
        "# get 2014-2018 data to train our model\n",
        "start = datetime.datetime(2014,1,1)\n",
        "end = datetime.datetime(2018,12,31)\n",
        "df = web.DataReader(\"ANTM.JK\", 'yahoo', start, end) \n",
        "\n",
        "# get 2019 data to test our model on \n",
        "start = datetime.datetime(2018,11,13)\n",
        "end = datetime.datetime(2019,12,31)\n",
        "test_df = web.DataReader(\"ANTM.JK\", 'yahoo', start, end) \n",
        "print(df.shape)\n",
        "print(test_df.shape)"
      ],
      "execution_count": 35,
      "outputs": [
        {
          "output_type": "stream",
          "text": [
            "(1251, 6)\n",
            "(292, 6)\n"
          ],
          "name": "stdout"
        }
      ]
    },
    {
      "cell_type": "markdown",
      "metadata": {
        "id": "q6AYvdKIMFZ8"
      },
      "source": [
        ""
      ]
    },
    {
      "cell_type": "code",
      "metadata": {
        "colab": {
          "base_uri": "https://localhost:8080/"
        },
        "id": "H598YUDjU7Sd",
        "outputId": "aed778fc-8dbc-400a-8484-bae331f7e81e"
      },
      "source": [
        "# Create train set of adj close prices data:\n",
        "train_data = df.loc[:,'Adj Close'].to_numpy()\n",
        "print(train_data.shape) # 1258 \n",
        "\n",
        "\n",
        "# Apply normalization before feeding to LSTM using sklearn:\n",
        "from sklearn.preprocessing import MinMaxScaler\n",
        "\n",
        "scaler = MinMaxScaler()\n",
        "train_data = train_data.reshape(-1,1)\n",
        "\n",
        "scaler.fit(train_data)\n",
        "train_data = scaler.transform(train_data)"
      ],
      "execution_count": 36,
      "outputs": [
        {
          "output_type": "stream",
          "text": [
            "(1251,)\n"
          ],
          "name": "stdout"
        }
      ]
    },
    {
      "cell_type": "code",
      "metadata": {
        "colab": {
          "base_uri": "https://localhost:8080/"
        },
        "id": "8ITZZaGnVFTQ",
        "outputId": "5b13d43c-fd59-4715-ac4a-4f86f0d41ad1"
      },
      "source": [
        "'''Function to create a dataset to feed into an LSTM'''\n",
        "def create_dataset(dataset, look_back):\n",
        "    dataX, dataY = [], []\n",
        "    for i in range(len(dataset)-look_back):\n",
        "        a = dataset[i:(i + look_back), 0]\n",
        "        dataX.append(a)\n",
        "        dataY.append(dataset[i + look_back, 0])\n",
        "    return np.array(dataX), np.array(dataY)\n",
        "    \n",
        "    \n",
        "# Create the data to train our model on:\n",
        "time_steps = 36\n",
        "X_train, y_train = create_dataset(train_data, time_steps)\n",
        "\n",
        "# reshape it [samples, time steps, features]\n",
        "X_train = np.reshape(X_train, (X_train.shape[0], 36, 1))\n",
        "\n",
        "print(X_train.shape)\n",
        "\n",
        "\n",
        "# Visualizing our data with prints: \n",
        "print('X_train:')\n",
        "print(str(scaler.inverse_transform(X_train[0])))\n",
        "print(\"\\n\")\n",
        "print('y_train: ' + str(scaler.inverse_transform(y_train[0].reshape(-1,1)))+'\\n')"
      ],
      "execution_count": 37,
      "outputs": [
        {
          "output_type": "stream",
          "text": [
            "(1215, 36, 1)\n",
            "X_train:\n",
            "[[872.93395996]\n",
            " [840.60314941]\n",
            " [812.31359863]\n",
            " [812.31359863]\n",
            " [816.35498047]\n",
            " [812.31359863]\n",
            " [792.10675049]\n",
            " [800.18951416]\n",
            " [800.18951416]\n",
            " [824.43762207]\n",
            " [812.31359863]\n",
            " [832.52032471]\n",
            " [872.93395996]\n",
            " [864.85125732]\n",
            " [844.64447021]\n",
            " [840.60314941]\n",
            " [816.35498047]\n",
            " [812.31359863]\n",
            " [816.35498047]\n",
            " [832.52032471]\n",
            " [824.43762207]\n",
            " [812.31359863]\n",
            " [808.2722168 ]\n",
            " [808.2722168 ]\n",
            " [816.35498047]\n",
            " [820.39630127]\n",
            " [840.60314941]\n",
            " [836.56170654]\n",
            " [820.39630127]\n",
            " [820.39630127]\n",
            " [836.56170654]\n",
            " [856.76855469]\n",
            " [856.76855469]\n",
            " [844.64447021]\n",
            " [852.72723389]\n",
            " [848.68585205]]\n",
            "\n",
            "\n",
            "y_train: [[836.56170654]]\n",
            "\n"
          ],
          "name": "stdout"
        }
      ]
    },
    {
      "cell_type": "code",
      "metadata": {
        "colab": {
          "base_uri": "https://localhost:8080/"
        },
        "id": "pmuzZ5TqVR8O",
        "outputId": "a38a5a5c-4323-47c9-cc30-0ba35c15a58b"
      },
      "source": [
        "# Build the model \n",
        "model = keras.Sequential()\n",
        "\n",
        "model.add(LSTM(units = 128, return_sequences = True, input_shape = (X_train.shape[1], 1)))\n",
        "model.add(Dropout(0.2))\n",
        "\n",
        "model.add(LSTM(units = 64, return_sequences = False))\n",
        "model.add(Dropout(0.2))\n",
        "\n",
        "# Output layer\n",
        "model.add(Dense(units = 32, activation='relu'))\n",
        "model.add(Dense(units = 16,  activation='relu'))\n",
        "model.add(Dense(units = 1, activation= 'linear'))\n",
        "# Compiling the model\n",
        "model.compile(optimizer = 'adam', loss = 'mean_squared_error')\n",
        "\n",
        "# Fitting the model to the Training set\n",
        "history = model.fit(X_train, y_train, epochs = 20, batch_size = 10, validation_split=.30)"
      ],
      "execution_count": 38,
      "outputs": [
        {
          "output_type": "stream",
          "text": [
            "Epoch 1/20\n",
            "85/85 [==============================] - 7s 48ms/step - loss: 0.0912 - val_loss: 0.0046\n",
            "Epoch 2/20\n",
            "85/85 [==============================] - 3s 39ms/step - loss: 0.0063 - val_loss: 0.0033\n",
            "Epoch 3/20\n",
            "85/85 [==============================] - 3s 39ms/step - loss: 0.0058 - val_loss: 0.0045\n",
            "Epoch 4/20\n",
            "85/85 [==============================] - 3s 39ms/step - loss: 0.0060 - val_loss: 0.0025\n",
            "Epoch 5/20\n",
            "85/85 [==============================] - 3s 39ms/step - loss: 0.0038 - val_loss: 0.0035\n",
            "Epoch 6/20\n",
            "85/85 [==============================] - 3s 39ms/step - loss: 0.0041 - val_loss: 0.0028\n",
            "Epoch 7/20\n",
            "85/85 [==============================] - 3s 39ms/step - loss: 0.0034 - val_loss: 0.0021\n",
            "Epoch 8/20\n",
            "85/85 [==============================] - 3s 39ms/step - loss: 0.0032 - val_loss: 0.0044\n",
            "Epoch 9/20\n",
            "85/85 [==============================] - 3s 39ms/step - loss: 0.0030 - val_loss: 0.0022\n",
            "Epoch 10/20\n",
            "85/85 [==============================] - 3s 39ms/step - loss: 0.0032 - val_loss: 0.0018\n",
            "Epoch 11/20\n",
            "85/85 [==============================] - 3s 39ms/step - loss: 0.0029 - val_loss: 0.0040\n",
            "Epoch 12/20\n",
            "85/85 [==============================] - 3s 40ms/step - loss: 0.0027 - val_loss: 0.0022\n",
            "Epoch 13/20\n",
            "85/85 [==============================] - 3s 39ms/step - loss: 0.0022 - val_loss: 0.0022\n",
            "Epoch 14/20\n",
            "85/85 [==============================] - 3s 39ms/step - loss: 0.0022 - val_loss: 0.0015\n",
            "Epoch 15/20\n",
            "85/85 [==============================] - 3s 39ms/step - loss: 0.0022 - val_loss: 0.0016\n",
            "Epoch 16/20\n",
            "85/85 [==============================] - 3s 38ms/step - loss: 0.0024 - val_loss: 0.0016\n",
            "Epoch 17/20\n",
            "85/85 [==============================] - 3s 39ms/step - loss: 0.0018 - val_loss: 0.0024\n",
            "Epoch 18/20\n",
            "85/85 [==============================] - 3s 39ms/step - loss: 0.0018 - val_loss: 0.0032\n",
            "Epoch 19/20\n",
            "85/85 [==============================] - 3s 38ms/step - loss: 0.0017 - val_loss: 0.0020\n",
            "Epoch 20/20\n",
            "85/85 [==============================] - 3s 39ms/step - loss: 0.0018 - val_loss: 0.0013\n"
          ],
          "name": "stdout"
        }
      ]
    },
    {
      "cell_type": "code",
      "metadata": {
        "colab": {
          "base_uri": "https://localhost:8080/"
        },
        "id": "VJAAJ_3JRVIu",
        "outputId": "ab3f1661-0aaf-46c8-b35a-d7d5f85e2721"
      },
      "source": [
        "model.summary()"
      ],
      "execution_count": 39,
      "outputs": [
        {
          "output_type": "stream",
          "text": [
            "Model: \"sequential_1\"\n",
            "_________________________________________________________________\n",
            "Layer (type)                 Output Shape              Param #   \n",
            "=================================================================\n",
            "lstm_2 (LSTM)                (None, 36, 128)           66560     \n",
            "_________________________________________________________________\n",
            "dropout_2 (Dropout)          (None, 36, 128)           0         \n",
            "_________________________________________________________________\n",
            "lstm_3 (LSTM)                (None, 64)                49408     \n",
            "_________________________________________________________________\n",
            "dropout_3 (Dropout)          (None, 64)                0         \n",
            "_________________________________________________________________\n",
            "dense_3 (Dense)              (None, 32)                2080      \n",
            "_________________________________________________________________\n",
            "dense_4 (Dense)              (None, 16)                528       \n",
            "_________________________________________________________________\n",
            "dense_5 (Dense)              (None, 1)                 17        \n",
            "=================================================================\n",
            "Total params: 118,593\n",
            "Trainable params: 118,593\n",
            "Non-trainable params: 0\n",
            "_________________________________________________________________\n"
          ],
          "name": "stdout"
        }
      ]
    },
    {
      "cell_type": "code",
      "metadata": {
        "colab": {
          "base_uri": "https://localhost:8080/",
          "height": 299
        },
        "id": "gSKBnwssVVJf",
        "outputId": "4eebd101-848e-4134-c5bf-d7d0c9624b7c"
      },
      "source": [
        "# Plot training & validation loss values\n",
        "plt.plot(history.history['loss'])\n",
        "plt.plot(history.history['val_loss'])\n",
        "plt.title('Model loss')\n",
        "plt.ylabel('Loss')\n",
        "plt.xlabel('Epoch')\n",
        "plt.legend(['Train', 'Test'], loc='upper left')\n",
        "plt.show()"
      ],
      "execution_count": 40,
      "outputs": [
        {
          "output_type": "display_data",
          "data": {
            "image/png": "[encoded data removed]",
            "text/plain": [
              "<Figure size 432x288 with 1 Axes>"
            ]
          },
          "metadata": {
            "tags": []
          }
        }
      ]
    },
    {
      "cell_type": "code",
      "metadata": {
        "id": "bawmbe-aVYTG"
      },
      "source": [
        "# Get the stock prices for 2019 to have our model make the predictions\n",
        "test_data = test_df['Adj Close'].values\n",
        "test_data = test_data.reshape(-1,1)\n",
        "test_data = scaler.transform(test_data)\n",
        "\n",
        "# Create the data to test our model on:\n",
        "time_steps = 36\n",
        "X_test, y_test = create_dataset(test_data, time_steps)\n",
        "\n",
        "# store the original vals for plotting the predictions \n",
        "y_test = y_test.reshape(-1,1)\n",
        "true = y_test\n",
        "org_y = scaler.inverse_transform(y_test)\n",
        "\n",
        "# reshape it [samples, time steps, features]\n",
        "X_test = np.reshape(X_test, (X_test.shape[0], 36, 1))\n",
        "\n",
        "# Predict the prices with the model\n",
        "predicted_y = model.predict(X_test)\n",
        "pred = predicted_y\n",
        "predicted_y = scaler.inverse_transform(predicted_y)\n"
      ],
      "execution_count": 41,
      "outputs": []
    },
    {
      "cell_type": "code",
      "metadata": {
        "colab": {
          "base_uri": "https://localhost:8080/"
        },
        "id": "TCYMPV6E6iAl",
        "outputId": "81dc0d0f-499e-4d75-8ade-553a2fbe6599"
      },
      "source": [
        "# MSE\n",
        "difference_array = np.subtract(true, pred)\n",
        "squared_array = np.square(difference_array)\n",
        "mse = squared_array.mean()\n",
        "print(\"MSE :\", mse)\n",
        "\n",
        "# The RMSE\n",
        "from sklearn.metrics import mean_squared_error, mean_absolute_error\n",
        "print(\"RMSE : %.2f\" % mean_squared_error(true, pred, squared=False))\n",
        "\n",
        "# The MAE\n",
        "print(\"MAE : %.2f\" % mean_absolute_error(true, pred))\n",
        "\n",
        "#Mean Absolute Percentange Error\n",
        "MAPE = (np.mean(np.abs((true - pred) / true))) * 100\n",
        "print('MAPE : ', MAPE)\n",
        "\n",
        "# Explained variance score: 1 is perfect prediction\n",
        "from sklearn.metrics import r2_score\n",
        "print('R2 score: %.2f' % r2_score(true, pred))"
      ],
      "execution_count": 42,
      "outputs": [
        {
          "output_type": "stream",
          "text": [
            "MSE : 0.0025184316641090653\n",
            "RMSE : 0.05\n",
            "MAE : 0.04\n",
            "MAPE :  4.568789507152615\n",
            "R2 score: 0.88\n"
          ],
          "name": "stdout"
        }
      ]
    },
    {
      "cell_type": "markdown",
      "metadata": {
        "id": "m0RAfWtxDfnB"
      },
      "source": [
        "We choose the mean square error MSE of all samples as our metric. It can be calculated through Eqn. (47) using test set. Notice that the MSE we calculated are derived from normalized data. That's because there exists huge value gap among di\u000berent stocks. if we use original stock price to evaluate error, the error of high price stocks would probably be much more larger than low price ones, which implies models perform better on high price stocks would very likely to have better overall performance. Thus the performance on low price stocks would become dispensable. To avoid the bias caused by the aforementioned problem we evaluate the error with normalized stock price ranged from -1 to 1. (Li, H., Shen, Y., dan Zhu, Y. 2018. Stock Price Prediction Using attention-based Multi-Input LSTM)"
      ]
    },
    {
      "cell_type": "code",
      "metadata": {
        "colab": {
          "base_uri": "https://localhost:8080/",
          "height": 299
        },
        "id": "Olr7wej49Nty",
        "outputId": "ed17fa5a-ea82-43a3-eff4-a88dfc1ba82a"
      },
      "source": [
        "# plot the results \n",
        "plt.plot(true, color = 'red', label = 'Real Stock Price')\n",
        "plt.plot(pred, color = 'blue', label = 'Predicted Stock Price')\n",
        "#plt.plot(df['Adj Close'], color = 'black', label = 'Past Stock')\n",
        "plt.title('Stock Price Prediction')\n",
        "plt.xlabel('Time')\n",
        "plt.ylabel('Stock Price')\n",
        "plt.legend()\n",
        "plt.savefig('Stock Price SVR LSTM 1.png')\n",
        "files.download(\"Stock Price SVR LSTM 1.png\")\n",
        "plt.show()"
      ],
      "execution_count": 43,
      "outputs": [
        {
          "output_type": "display_data",
          "data": {
            "application/javascript": [
              "\n",
              "    async function download(id, filename, size) {\n",
              "      if (!google.colab.kernel.accessAllowed) {\n",
              "        return;\n",
              "      }\n",
              "      const div = document.createElement('div');\n",
              "      const label = document.createElement('label');\n",
              "      label.textContent = `Downloading \"${filename}\": `;\n",
              "      div.appendChild(label);\n",
              "      const progress = document.createElement('progress');\n",
              "      progress.max = size;\n",
              "      div.appendChild(progress);\n",
              "      document.body.appendChild(div);\n",
              "\n",
              "      const buffers = [];\n",
              "      let downloaded = 0;\n",
              "\n",
              "      const channel = await google.colab.kernel.comms.open(id);\n",
              "      // Send a message to notify the kernel that we're ready.\n",
              "      channel.send({})\n",
              "\n",
              "      for await (const message of channel.messages) {\n",
              "        // Send a message to notify the kernel that we're ready.\n",
              "        channel.send({})\n",
              "        if (message.buffers) {\n",
              "          for (const buffer of message.buffers) {\n",
              "            buffers.push(buffer);\n",
              "            downloaded += buffer.byteLength;\n",
              "            progress.value = downloaded;\n",
              "          }\n",
              "        }\n",
              "      }\n",
              "      const blob = new Blob(buffers, {type: 'application/binary'});\n",
              "      const a = document.createElement('a');\n",
              "      a.href = window.URL.createObjectURL(blob);\n",
              "      a.download = filename;\n",
              "      div.appendChild(a);\n",
              "      a.click();\n",
              "      div.remove();\n",
              "    }\n",
              "  "
            ],
            "text/plain": [
              "<IPython.core.display.Javascript object>"
            ]
          },
          "metadata": {
            "tags": []
          }
        },
        {
          "output_type": "display_data",
          "data": {
            "application/javascript": [
              "download(\"download_352a854d-23f0-4d84-8deb-64d47091a5c9\", \"Stock Price SVR LSTM 1.png\", 32395)"
            ],
            "text/plain": [
              "<IPython.core.display.Javascript object>"
            ]
          },
          "metadata": {
            "tags": []
          }
        },
        {
          "output_type": "display_data",
          "data": {
            "image/png": "[encoded data removed]",
            "text/plain": [
              "<Figure size 432x288 with 1 Axes>"
            ]
          },
          "metadata": {
            "tags": []
          }
        }
      ]
    },
    {
      "cell_type": "code",
      "metadata": {
        "id": "Y47_DyXm9Ysk",
        "colab": {
          "base_uri": "https://localhost:8080/",
          "height": 297
        },
        "outputId": "c69fd5b3-4c39-496c-e96a-6ab798aa86bb"
      },
      "source": [
        "predicted_y = pd.DataFrame(predicted_y)\n",
        "org_y = pd.DataFrame(org_y)\n",
        "describe = pd.DataFrame()\n",
        "describe['True Price'] = org_y[0]\n",
        "describe['Prediction'] = predicted_y[0]\n",
        "describe['difference'] = org_y[0] - predicted_y[0]\n",
        "describe['MAPE (%)'] = abs(describe['difference']/org_y[0]*100)\n",
        "describe.describe()"
      ],
      "execution_count": 44,
      "outputs": [
        {
          "output_type": "execute_result",
          "data": {
            "text/html": [
              "<div>\n",
              "<style scoped>\n",
              "    .dataframe tbody tr th:only-of-type {\n",
              "        vertical-align: middle;\n",
              "    }\n",
              "\n",
              "    .dataframe tbody tr th {\n",
              "        vertical-align: top;\n",
              "    }\n",
              "\n",
              "    .dataframe thead th {\n",
              "        text-align: right;\n",
              "    }\n",
              "</style>\n",
              "<table border=\"1\" class=\"dataframe\">\n",
              "  <thead>\n",
              "    <tr style=\"text-align: right;\">\n",
              "      <th></th>\n",
              "      <th>True Price</th>\n",
              "      <th>Prediction</th>\n",
              "      <th>difference</th>\n",
              "      <th>MAPE (%)</th>\n",
              "    </tr>\n",
              "  </thead>\n",
              "  <tbody>\n",
              "    <tr>\n",
              "      <th>count</th>\n",
              "      <td>256.000000</td>\n",
              "      <td>256.000000</td>\n",
              "      <td>256.000000</td>\n",
              "      <td>256.000000</td>\n",
              "    </tr>\n",
              "    <tr>\n",
              "      <th>mean</th>\n",
              "      <td>885.951885</td>\n",
              "      <td>869.154663</td>\n",
              "      <td>16.797475</td>\n",
              "      <td>3.133424</td>\n",
              "    </tr>\n",
              "    <tr>\n",
              "      <th>std</th>\n",
              "      <td>109.317800</td>\n",
              "      <td>98.551857</td>\n",
              "      <td>34.108902</td>\n",
              "      <td>2.534219</td>\n",
              "    </tr>\n",
              "    <tr>\n",
              "      <th>min</th>\n",
              "      <td>662.090576</td>\n",
              "      <td>685.172729</td>\n",
              "      <td>-55.128113</td>\n",
              "      <td>0.000966</td>\n",
              "    </tr>\n",
              "    <tr>\n",
              "      <th>25%</th>\n",
              "      <td>810.319885</td>\n",
              "      <td>799.679855</td>\n",
              "      <td>-6.137344</td>\n",
              "      <td>1.208004</td>\n",
              "    </tr>\n",
              "    <tr>\n",
              "      <th>50%</th>\n",
              "      <td>872.602203</td>\n",
              "      <td>860.903229</td>\n",
              "      <td>14.575745</td>\n",
              "      <td>2.424264</td>\n",
              "    </tr>\n",
              "    <tr>\n",
              "      <th>75%</th>\n",
              "      <td>968.612732</td>\n",
              "      <td>943.030426</td>\n",
              "      <td>35.135712</td>\n",
              "      <td>4.647807</td>\n",
              "    </tr>\n",
              "    <tr>\n",
              "      <th>max</th>\n",
              "      <td>1156.188110</td>\n",
              "      <td>1068.826660</td>\n",
              "      <td>149.455383</td>\n",
              "      <td>12.926563</td>\n",
              "    </tr>\n",
              "  </tbody>\n",
              "</table>\n",
              "</div>"
            ],
            "text/plain": [
              "        True Price   Prediction  difference    MAPE (%)\n",
              "count   256.000000   256.000000  256.000000  256.000000\n",
              "mean    885.951885   869.154663   16.797475    3.133424\n",
              "std     109.317800    98.551857   34.108902    2.534219\n",
              "min     662.090576   685.172729  -55.128113    0.000966\n",
              "25%     810.319885   799.679855   -6.137344    1.208004\n",
              "50%     872.602203   860.903229   14.575745    2.424264\n",
              "75%     968.612732   943.030426   35.135712    4.647807\n",
              "max    1156.188110  1068.826660  149.455383   12.926563"
            ]
          },
          "metadata": {
            "tags": []
          },
          "execution_count": 44
        }
      ]
    },
    {
      "cell_type": "code",
      "metadata": {
        "colab": {
          "base_uri": "https://localhost:8080/",
          "height": 359
        },
        "id": "UoSeLi8altE4",
        "outputId": "f3d455dc-41cf-4812-f48d-402409f29e1c"
      },
      "source": [
        "describe.head(10)"
      ],
      "execution_count": 45,
      "outputs": [
        {
          "output_type": "execute_result",
          "data": {
            "text/html": [
              "<div>\n",
              "<style scoped>\n",
              "    .dataframe tbody tr th:only-of-type {\n",
              "        vertical-align: middle;\n",
              "    }\n",
              "\n",
              "    .dataframe tbody tr th {\n",
              "        vertical-align: top;\n",
              "    }\n",
              "\n",
              "    .dataframe thead th {\n",
              "        text-align: right;\n",
              "    }\n",
              "</style>\n",
              "<table border=\"1\" class=\"dataframe\">\n",
              "  <thead>\n",
              "    <tr style=\"text-align: right;\">\n",
              "      <th></th>\n",
              "      <th>True Price</th>\n",
              "      <th>Prediction</th>\n",
              "      <th>difference</th>\n",
              "      <th>MAPE (%)</th>\n",
              "    </tr>\n",
              "  </thead>\n",
              "  <tbody>\n",
              "    <tr>\n",
              "      <th>0</th>\n",
              "      <td>719.471497</td>\n",
              "      <td>742.831116</td>\n",
              "      <td>-23.359619</td>\n",
              "      <td>3.246775</td>\n",
              "    </tr>\n",
              "    <tr>\n",
              "      <th>1</th>\n",
              "      <td>729.194092</td>\n",
              "      <td>737.577271</td>\n",
              "      <td>-8.383179</td>\n",
              "      <td>1.149650</td>\n",
              "    </tr>\n",
              "    <tr>\n",
              "      <th>2</th>\n",
              "      <td>738.916626</td>\n",
              "      <td>733.025024</td>\n",
              "      <td>5.891602</td>\n",
              "      <td>0.797330</td>\n",
              "    </tr>\n",
              "    <tr>\n",
              "      <th>3</th>\n",
              "      <td>748.639221</td>\n",
              "      <td>731.417603</td>\n",
              "      <td>17.221619</td>\n",
              "      <td>2.300390</td>\n",
              "    </tr>\n",
              "    <tr>\n",
              "      <th>4</th>\n",
              "      <td>738.916626</td>\n",
              "      <td>733.441223</td>\n",
              "      <td>5.475403</td>\n",
              "      <td>0.741004</td>\n",
              "    </tr>\n",
              "    <tr>\n",
              "      <th>5</th>\n",
              "      <td>758.361755</td>\n",
              "      <td>735.379578</td>\n",
              "      <td>22.982178</td>\n",
              "      <td>3.030503</td>\n",
              "    </tr>\n",
              "    <tr>\n",
              "      <th>6</th>\n",
              "      <td>768.084351</td>\n",
              "      <td>740.157959</td>\n",
              "      <td>27.926392</td>\n",
              "      <td>3.635850</td>\n",
              "    </tr>\n",
              "    <tr>\n",
              "      <th>7</th>\n",
              "      <td>768.084351</td>\n",
              "      <td>747.084961</td>\n",
              "      <td>20.999390</td>\n",
              "      <td>2.733995</td>\n",
              "    </tr>\n",
              "    <tr>\n",
              "      <th>8</th>\n",
              "      <td>758.361755</td>\n",
              "      <td>753.705383</td>\n",
              "      <td>4.656372</td>\n",
              "      <td>0.614004</td>\n",
              "    </tr>\n",
              "    <tr>\n",
              "      <th>9</th>\n",
              "      <td>797.252136</td>\n",
              "      <td>757.043518</td>\n",
              "      <td>40.208618</td>\n",
              "      <td>5.043400</td>\n",
              "    </tr>\n",
              "  </tbody>\n",
              "</table>\n",
              "</div>"
            ],
            "text/plain": [
              "   True Price  Prediction  difference  MAPE (%)\n",
              "0  719.471497  742.831116  -23.359619  3.246775\n",
              "1  729.194092  737.577271   -8.383179  1.149650\n",
              "2  738.916626  733.025024    5.891602  0.797330\n",
              "3  748.639221  731.417603   17.221619  2.300390\n",
              "4  738.916626  733.441223    5.475403  0.741004\n",
              "5  758.361755  735.379578   22.982178  3.030503\n",
              "6  768.084351  740.157959   27.926392  3.635850\n",
              "7  768.084351  747.084961   20.999390  2.733995\n",
              "8  758.361755  753.705383    4.656372  0.614004\n",
              "9  797.252136  757.043518   40.208618  5.043400"
            ]
          },
          "metadata": {
            "tags": []
          },
          "execution_count": 45
        }
      ]
    },
    {
      "cell_type": "code",
      "metadata": {
        "id": "xriB7R_tWpAM",
        "colab": {
          "base_uri": "https://localhost:8080/"
        },
        "outputId": "128171ec-f198-4f25-8953-99608d3a31af"
      },
      "source": [
        "a = np.array(describe['True Price'])\n",
        "b = np.array(describe['Prediction'])\n",
        "\n",
        "# MSE\n",
        "difference_array = np.subtract(a, b)\n",
        "squared_array = np.square(difference_array)\n",
        "mse = squared_array.mean()\n",
        "print(\"MSE :\", mse)\n",
        "\n",
        "# The RMSE\n",
        "print(\"RMSE: %.2f\" % mean_squared_error(a, b, squared=False))\n",
        "\n",
        "# The MAE\n",
        "print(\"MAE: %.2f\" % mean_absolute_error(a, b))\n",
        "\n",
        "#Mean Absolute Percentange Error\n",
        "c = (np.mean(np.abs((a - b) / a))) * 100\n",
        "print('MAPE : ', c)\n",
        "\n",
        "# Explained variance score: 1 is perfect prediction\n",
        "from sklearn.metrics import r2_score\n",
        "print('R2 score: %.2f' % r2_score(a, b))\n",
        "\n"
      ],
      "execution_count": 46,
      "outputs": [
        {
          "output_type": "stream",
          "text": [
            "MSE : 1441.0277679090796\n",
            "RMSE: 37.96\n",
            "MAE: 28.49\n",
            "MAPE :  3.1334239716589956\n",
            "R2 score: 0.88\n"
          ],
          "name": "stdout"
        }
      ]
    },
    {
      "cell_type": "code",
      "metadata": {
        "id": "iozJ262YxuM8",
        "colab": {
          "base_uri": "https://localhost:8080/"
        },
        "outputId": "55aad647-659b-41f9-ae3b-420731310e39"
      },
      "source": [
        "print(model.evaluate(X_train, y_train))\n",
        "print(model.evaluate(X_test, y_test))"
      ],
      "execution_count": 47,
      "outputs": [
        {
          "output_type": "stream",
          "text": [
            "38/38 [==============================] - 1s 16ms/step - loss: 0.0013\n",
            "0.0012835898669436574\n",
            "8/8 [==============================] - 1s 19ms/step - loss: 0.0025\n",
            "0.002518431516364217\n"
          ],
          "name": "stdout"
        }
      ]
    },
    {
      "cell_type": "code",
      "metadata": {
        "colab": {
          "base_uri": "https://localhost:8080/"
        },
        "id": "JRT-OjnyZ0PP",
        "outputId": "551a6d71-fd2b-41d9-9168-2a8ef022cbfa"
      },
      "source": [
        "print(model.metrics_names)"
      ],
      "execution_count": 48,
      "outputs": [
        {
          "output_type": "stream",
          "text": [
            "['loss']\n"
          ],
          "name": "stdout"
        }
      ]
    },
    {
      "cell_type": "code",
      "metadata": {
        "id": "qNCPEkeaXNIT"
      },
      "source": [
        "graph  = test_df.drop(test_df.index[0:36])\n",
        "graph.reset_index(inplace=True)\n",
        "graph.rename(columns = {'index':'Date'})\n",
        "graph = graph.drop(columns=['High','Low','Open','Volume','Close'])\n",
        "graph['Predict_Value'] = predicted_y[0]\n",
        "graph.head()\n",
        "graph.set_index('Date', inplace=True)"
      ],
      "execution_count": 49,
      "outputs": []
    },
    {
      "cell_type": "code",
      "metadata": {
        "id": "QF5LdxyJb0bT",
        "colab": {
          "base_uri": "https://localhost:8080/",
          "height": 299
        },
        "outputId": "67619949-9aca-4564-97a2-85be7afc582f"
      },
      "source": [
        "# plot the results \n",
        "plt.plot(graph['Adj Close'], color = 'red', label = 'Real Stock Price')\n",
        "plt.plot(graph['Predict_Value'], color = 'blue', label = 'Predicted Stock Price')\n",
        "#plt.plot(df['Adj Close'], color = 'black', label = 'Past Stock')\n",
        "plt.title('Stock Price Prediction')\n",
        "plt.xlabel('Time')\n",
        "plt.ylabel('Stock Price')\n",
        "plt.legend()\n",
        "plt.savefig('Stock Price SVR LSTM 1.png')\n",
        "files.download(\"Stock Price SVR LSTM 1.png\")\n",
        "plt.show()"
      ],
      "execution_count": 50,
      "outputs": [
        {
          "output_type": "display_data",
          "data": {
            "application/javascript": [
              "\n",
              "    async function download(id, filename, size) {\n",
              "      if (!google.colab.kernel.accessAllowed) {\n",
              "        return;\n",
              "      }\n",
              "      const div = document.createElement('div');\n",
              "      const label = document.createElement('label');\n",
              "      label.textContent = `Downloading \"${filename}\": `;\n",
              "      div.appendChild(label);\n",
              "      const progress = document.createElement('progress');\n",
              "      progress.max = size;\n",
              "      div.appendChild(progress);\n",
              "      document.body.appendChild(div);\n",
              "\n",
              "      const buffers = [];\n",
              "      let downloaded = 0;\n",
              "\n",
              "      const channel = await google.colab.kernel.comms.open(id);\n",
              "      // Send a message to notify the kernel that we're ready.\n",
              "      channel.send({})\n",
              "\n",
              "      for await (const message of channel.messages) {\n",
              "        // Send a message to notify the kernel that we're ready.\n",
              "        channel.send({})\n",
              "        if (message.buffers) {\n",
              "          for (const buffer of message.buffers) {\n",
              "            buffers.push(buffer);\n",
              "            downloaded += buffer.byteLength;\n",
              "            progress.value = downloaded;\n",
              "          }\n",
              "        }\n",
              "      }\n",
              "      const blob = new Blob(buffers, {type: 'application/binary'});\n",
              "      const a = document.createElement('a');\n",
              "      a.href = window.URL.createObjectURL(blob);\n",
              "      a.download = filename;\n",
              "      div.appendChild(a);\n",
              "      a.click();\n",
              "      div.remove();\n",
              "    }\n",
              "  "
            ],
            "text/plain": [
              "<IPython.core.display.Javascript object>"
            ]
          },
          "metadata": {
            "tags": []
          }
        },
        {
          "output_type": "display_data",
          "data": {
            "application/javascript": [
              "download(\"download_ccc8c552-3177-4360-ada2-7f457224e215\", \"Stock Price SVR LSTM 1.png\", 32841)"
            ],
            "text/plain": [
              "<IPython.core.display.Javascript object>"
            ]
          },
          "metadata": {
            "tags": []
          }
        },
        {
          "output_type": "display_data",
          "data": {
            "image/png": "[encoded data removed]",
            "text/plain": [
              "<Figure size 432x288 with 1 Axes>"
            ]
          },
          "metadata": {
            "tags": []
          }
        }
      ]
    },
    {
      "cell_type": "code",
      "metadata": {
        "id": "RRepTsPgEuXx"
      },
      "source": [
        "final  = test_df.drop(test_df.index[0:36])\n",
        "final.reset_index(inplace=True)\n",
        "final.rename(columns = {'index':'Date'})\n",
        "final = final.drop(columns=['High','Low','Open','Volume','Close'])\n",
        "final['Predict_Value'] = predicted_y[0]\n",
        "final['Selisih'] = final['Adj Close'] - final['Predict_Value']\n",
        "final['Lost/Risk (%)'] = abs((final['Adj Close'] - final['Predict_Value'])/final['Predict_Value']*100)\n",
        "final = final.drop(columns=['Adj Close'])"
      ],
      "execution_count": 51,
      "outputs": []
    },
    {
      "cell_type": "code",
      "metadata": {
        "id": "DhwcCvlTySN1"
      },
      "source": [
        "percent = test_df.drop(test_df.index[0:35])\n",
        "percent = percent.drop(test_df.index[-1])\n",
        "percent.reset_index(inplace=True)\n",
        "percent.rename(columns = {'index':'Date'}) \n",
        "percent = percent.drop(columns=['High','Low','Open','Volume','Close'])\n",
        "percent['Next Day'] = predicted_y\n",
        "percent['Plus or Minus']= percent['Adj Close'] - percent['Next Day']\n",
        "percent['Next Day (%)']= abs(((percent['Adj Close'] - percent['Next Day'])/percent['Adj Close'])*100)"
      ],
      "execution_count": 52,
      "outputs": []
    },
    {
      "cell_type": "markdown",
      "metadata": {
        "id": "ib825d-fXMwk"
      },
      "source": [
        ""
      ]
    },
    {
      "cell_type": "code",
      "metadata": {
        "id": "sllI6VucG__o"
      },
      "source": [
        "True_Next_Day = test_df.drop(test_df.index[0:35])\n",
        "True_Next_Day = True_Next_Day.drop(test_df.index[-1])\n",
        "True_Next_Day.reset_index(inplace=True)\n",
        "True_Next_Day.rename(columns = {'index':'Date'}) \n",
        "True_Next_Day = True_Next_Day.drop(columns=['High','Low','Open','Volume','Close'])\n",
        "True_Next_Day['True Next Day'] = org_y\n",
        "True_Next_Day['True Plus or Minus']= (True_Next_Day['Adj Close'] - True_Next_Day['True Next Day'])\n",
        "True_Next_Day['True Next Day (%)']= abs(((True_Next_Day['Adj Close'] - True_Next_Day['True Next Day'])/True_Next_Day['Adj Close'])*100)\n",
        "True_Next_Day = True_Next_Day.drop(columns=['Adj Close','True Next Day'])"
      ],
      "execution_count": 53,
      "outputs": []
    },
    {
      "cell_type": "code",
      "metadata": {
        "id": "121c4YuD-aJq",
        "colab": {
          "base_uri": "https://localhost:8080/"
        },
        "outputId": "821480d6-1dd6-4775-f87f-e496fc31aaa4"
      },
      "source": [
        "Concating = percent.merge(final, how='outer', on='Date')\n",
        "Concating = Concating.merge(True_Next_Day, how='outer', on='Date')\n",
        "#Concating.set_index('Date', inplace=True)\n",
        "Final_Predict = Concating.copy()\n",
        "Final_Predict['Harga Saham Hari ini'] = Concating['Adj Close']\n",
        "Final_Predict['Prediksi Besok'] = Concating['Plus or Minus']\n",
        "Final_Predict['Harga Besok Sebenarnya'] = Concating['True Plus or Minus']\n",
        "Final_Predict['Prediksi Besok (%)'] = (Concating['Next Day (%)'])\n",
        "Final_Predict['Harga Besok Sebenarnya (%)'] = Concating['True Next Day (%)']\n",
        "Final_Predict['Selisih Prediksi'] = (Final_Predict['Harga Besok Sebenarnya'] - Final_Predict['Prediksi Besok'])\n",
        "Final_Predict['Risk/MAPE(%)'] = abs(((Final_Predict['Harga Besok Sebenarnya'] - Final_Predict['Prediksi Besok'])/Final_Predict['Harga Besok Sebenarnya'])*100)\n",
        "Final_Predict['Risk/MAPE(%)'] = round(Final_Predict['Risk/MAPE(%)'], 2)\n",
        "Final_Predict = Final_Predict.drop(columns=['Adj Close', 'Next Day', 'Plus or Minus', 'Next Day (%)',\n",
        "                                            'Predict_Value', 'Selisih', 'Lost/Risk (%)', 'True Plus or Minus',\n",
        "                                            'True Next Day (%)'])\n",
        "Final_Predict = Final_Predict.replace(0, np.nan)\n",
        "Final_Predict = Final_Predict.dropna()\n",
        "Final_Predict['Prediksi Uptrend'] = Final_Predict['Prediksi Besok'].apply(lambda x: 1 if x >= 0 else 0)\n",
        "Final_Predict['Asli Uptrend'] = Final_Predict['Harga Besok Sebenarnya'].apply(lambda x: 1 if x >= 0 else 0)\n",
        "Final_Predict.set_index('Date', inplace=True)\n",
        "Final_Predict.shape"
      ],
      "execution_count": 54,
      "outputs": [
        {
          "output_type": "execute_result",
          "data": {
            "text/plain": [
              "(236, 9)"
            ]
          },
          "metadata": {
            "tags": []
          },
          "execution_count": 54
        }
      ]
    },
    {
      "cell_type": "code",
      "metadata": {
        "colab": {
          "base_uri": "https://localhost:8080/",
          "height": 337
        },
        "id": "ookffGOJ-lmk",
        "outputId": "d7625370-1bb5-4b5d-f9a0-affd6b397d4a"
      },
      "source": [
        "Final_Predict.head()"
      ],
      "execution_count": 55,
      "outputs": [
        {
          "output_type": "execute_result",
          "data": {
            "text/html": [
              "<div>\n",
              "<style scoped>\n",
              "    .dataframe tbody tr th:only-of-type {\n",
              "        vertical-align: middle;\n",
              "    }\n",
              "\n",
              "    .dataframe tbody tr th {\n",
              "        vertical-align: top;\n",
              "    }\n",
              "\n",
              "    .dataframe thead th {\n",
              "        text-align: right;\n",
              "    }\n",
              "</style>\n",
              "<table border=\"1\" class=\"dataframe\">\n",
              "  <thead>\n",
              "    <tr style=\"text-align: right;\">\n",
              "      <th></th>\n",
              "      <th>Harga Saham Hari ini</th>\n",
              "      <th>Prediksi Besok</th>\n",
              "      <th>Harga Besok Sebenarnya</th>\n",
              "      <th>Prediksi Besok (%)</th>\n",
              "      <th>Harga Besok Sebenarnya (%)</th>\n",
              "      <th>Selisih Prediksi</th>\n",
              "      <th>Risk/MAPE(%)</th>\n",
              "      <th>Prediksi Uptrend</th>\n",
              "      <th>Asli Uptrend</th>\n",
              "    </tr>\n",
              "    <tr>\n",
              "      <th>Date</th>\n",
              "      <th></th>\n",
              "      <th></th>\n",
              "      <th></th>\n",
              "      <th></th>\n",
              "      <th></th>\n",
              "      <th></th>\n",
              "      <th></th>\n",
              "      <th></th>\n",
              "      <th></th>\n",
              "    </tr>\n",
              "  </thead>\n",
              "  <tbody>\n",
              "    <tr>\n",
              "      <th>2019-01-01</th>\n",
              "      <td>743.777893</td>\n",
              "      <td>0.946777</td>\n",
              "      <td>24.306396</td>\n",
              "      <td>0.127293</td>\n",
              "      <td>3.267964</td>\n",
              "      <td>23.359619</td>\n",
              "      <td>96.10</td>\n",
              "      <td>1</td>\n",
              "      <td>1</td>\n",
              "    </tr>\n",
              "    <tr>\n",
              "      <th>2019-01-02</th>\n",
              "      <td>719.471497</td>\n",
              "      <td>-18.105774</td>\n",
              "      <td>-9.722595</td>\n",
              "      <td>2.516538</td>\n",
              "      <td>1.351352</td>\n",
              "      <td>8.383179</td>\n",
              "      <td>86.22</td>\n",
              "      <td>0</td>\n",
              "      <td>0</td>\n",
              "    </tr>\n",
              "    <tr>\n",
              "      <th>2019-01-03</th>\n",
              "      <td>729.194092</td>\n",
              "      <td>-3.830933</td>\n",
              "      <td>-9.722534</td>\n",
              "      <td>0.525365</td>\n",
              "      <td>1.333326</td>\n",
              "      <td>-5.891602</td>\n",
              "      <td>60.60</td>\n",
              "      <td>0</td>\n",
              "      <td>0</td>\n",
              "    </tr>\n",
              "    <tr>\n",
              "      <th>2019-01-04</th>\n",
              "      <td>738.916626</td>\n",
              "      <td>7.499023</td>\n",
              "      <td>-9.722595</td>\n",
              "      <td>1.014867</td>\n",
              "      <td>1.315791</td>\n",
              "      <td>-17.221619</td>\n",
              "      <td>177.13</td>\n",
              "      <td>1</td>\n",
              "      <td>0</td>\n",
              "    </tr>\n",
              "    <tr>\n",
              "      <th>2019-01-07</th>\n",
              "      <td>748.639221</td>\n",
              "      <td>15.197998</td>\n",
              "      <td>9.722595</td>\n",
              "      <td>2.030083</td>\n",
              "      <td>1.298702</td>\n",
              "      <td>-5.475403</td>\n",
              "      <td>56.32</td>\n",
              "      <td>1</td>\n",
              "      <td>1</td>\n",
              "    </tr>\n",
              "  </tbody>\n",
              "</table>\n",
              "</div>"
            ],
            "text/plain": [
              "            Harga Saham Hari ini  ...  Asli Uptrend\n",
              "Date                              ...              \n",
              "2019-01-01            743.777893  ...             1\n",
              "2019-01-02            719.471497  ...             0\n",
              "2019-01-03            729.194092  ...             0\n",
              "2019-01-04            738.916626  ...             0\n",
              "2019-01-07            748.639221  ...             1\n",
              "\n",
              "[5 rows x 9 columns]"
            ]
          },
          "metadata": {
            "tags": []
          },
          "execution_count": 55
        }
      ]
    },
    {
      "cell_type": "code",
      "metadata": {
        "colab": {
          "base_uri": "https://localhost:8080/"
        },
        "id": "wmiuagMCKc3w",
        "outputId": "51e369ee-eb35-4615-c910-501f7c383213"
      },
      "source": [
        "pred_uptrend = Final_Predict['Prediksi Uptrend']\n",
        "true_trend = Final_Predict['Asli Uptrend']\n",
        "\n",
        "# calculate accuracy\n",
        "from sklearn.metrics import accuracy_score\n",
        "Accuracy = accuracy_score(true_trend, pred_uptrend)\n",
        "print('Accuracy :', Accuracy)\n",
        "\n",
        "\n",
        "# calculate prediction\n",
        "from sklearn.metrics import precision_score\n",
        "precision = precision_score(true_trend, pred_uptrend, average='binary')\n",
        "print('Precision : %.3f' % precision)\n",
        "\n",
        "# calculate recall\n",
        "from sklearn.metrics import recall_score\n",
        "recall = recall_score(true_trend, pred_uptrend, average='binary')\n",
        "print('Recall : %.3f' % recall)\n",
        "\n",
        "# calculate score\n",
        "from sklearn.metrics import f1_score\n",
        "score = f1_score(true_trend, pred_uptrend, average='binary')\n",
        "print('F1 Score : %.3f' % score)\n",
        "\n",
        "#AUC Score\n",
        "from sklearn.metrics import roc_auc_score \n",
        "auc = roc_auc_score(true_trend, pred_uptrend)\n",
        "print('AUC Score : ', auc)"
      ],
      "execution_count": 56,
      "outputs": [
        {
          "output_type": "stream",
          "text": [
            "Accuracy : 0.576271186440678\n",
            "Precision : 0.583\n",
            "Recall : 0.791\n",
            "F1 Score : 0.671\n",
            "AUC Score :  0.5542273418821996\n"
          ],
          "name": "stdout"
        }
      ]
    },
    {
      "cell_type": "code",
      "metadata": {
        "colab": {
          "base_uri": "https://localhost:8080/",
          "height": 282
        },
        "id": "GL0g9D5qPtTK",
        "outputId": "a11b309b-1cc6-49a6-e5e8-d3919e534955"
      },
      "source": [
        "from sklearn.metrics import roc_curve \n",
        "fpr, tpr, thresholds = roc_curve(true_trend, pred_uptrend)\n",
        "\n",
        "\n",
        "import matplotlib.pyplot as plt \n",
        "plt.plot(fpr, tpr) \n",
        "plt.xlabel(\"False Positive Rate\") \n",
        "plt.ylabel(\"True Positive Rate\") \n",
        "plt.plot([0, 1], [0, 1], \"k--\") \n",
        "plt.show()"
      ],
      "execution_count": 57,
      "outputs": [
        {
          "output_type": "display_data",
          "data": {
            "image/png": "[encoded data removed]",
            "text/plain": [
              "<Figure size 432x288 with 1 Axes>"
            ]
          },
          "metadata": {
            "tags": []
          }
        }
      ]
    },
    {
      "cell_type": "code",
      "metadata": {
        "colab": {
          "base_uri": "https://localhost:8080/",
          "height": 299
        },
        "id": "kgXVUoOccIB1",
        "outputId": "3705b989-a85e-4ff7-df90-9e3ee5a20153"
      },
      "source": [
        "# plot the results \n",
        "plt.plot(Final_Predict['Prediksi Besok'], color = 'red', label = 'Real Stock Price')\n",
        "plt.plot(Final_Predict['Harga Besok Sebenarnya'], color = 'blue', label = 'Predicted Stock Price')\n",
        "#plt.plot(Final_Predict['Risk/MAPE(%)'], color = 'black', label = 'RISK/MAPE(%)')\n",
        "plt.title('Stock Price Prediction')\n",
        "plt.xlabel('Time')\n",
        "plt.ylabel('Stock Price')\n",
        "plt.legend()\n",
        "plt.savefig('Stock Price SVR LSTM 1.png')\n",
        "files.download(\"Stock Price SVR LSTM 1.png\")\n",
        "plt.show()"
      ],
      "execution_count": 58,
      "outputs": [
        {
          "output_type": "display_data",
          "data": {
            "application/javascript": [
              "\n",
              "    async function download(id, filename, size) {\n",
              "      if (!google.colab.kernel.accessAllowed) {\n",
              "        return;\n",
              "      }\n",
              "      const div = document.createElement('div');\n",
              "      const label = document.createElement('label');\n",
              "      label.textContent = `Downloading \"${filename}\": `;\n",
              "      div.appendChild(label);\n",
              "      const progress = document.createElement('progress');\n",
              "      progress.max = size;\n",
              "      div.appendChild(progress);\n",
              "      document.body.appendChild(div);\n",
              "\n",
              "      const buffers = [];\n",
              "      let downloaded = 0;\n",
              "\n",
              "      const channel = await google.colab.kernel.comms.open(id);\n",
              "      // Send a message to notify the kernel that we're ready.\n",
              "      channel.send({})\n",
              "\n",
              "      for await (const message of channel.messages) {\n",
              "        // Send a message to notify the kernel that we're ready.\n",
              "        channel.send({})\n",
              "        if (message.buffers) {\n",
              "          for (const buffer of message.buffers) {\n",
              "            buffers.push(buffer);\n",
              "            downloaded += buffer.byteLength;\n",
              "            progress.value = downloaded;\n",
              "          }\n",
              "        }\n",
              "      }\n",
              "      const blob = new Blob(buffers, {type: 'application/binary'});\n",
              "      const a = document.createElement('a');\n",
              "      a.href = window.URL.createObjectURL(blob);\n",
              "      a.download = filename;\n",
              "      div.appendChild(a);\n",
              "      a.click();\n",
              "      div.remove();\n",
              "    }\n",
              "  "
            ],
            "text/plain": [
              "<IPython.core.display.Javascript object>"
            ]
          },
          "metadata": {
            "tags": []
          }
        },
        {
          "output_type": "display_data",
          "data": {
            "application/javascript": [
              "download(\"download_20bb29b7-a144-4a18-adf5-73e04932776f\", \"Stock Price SVR LSTM 1.png\", 43383)"
            ],
            "text/plain": [
              "<IPython.core.display.Javascript object>"
            ]
          },
          "metadata": {
            "tags": []
          }
        },
        {
          "output_type": "display_data",
          "data": {
            "image/png": "[encoded data removed]",
            "text/plain": [
              "<Figure size 432x288 with 1 Axes>"
            ]
          },
          "metadata": {
            "tags": []
          }
        }
      ]
    },
    {
      "cell_type": "code",
      "metadata": {
        "id": "towGbwPBLWUk"
      },
      "source": [
        "#### Mencari Data STAT MODEL"
      ],
      "execution_count": 59,
      "outputs": []
    },
    {
      "cell_type": "code",
      "metadata": {
        "id": "UiadXxndQ2NX"
      },
      "source": [
        "a = X_test\n",
        "a = np.reshape(a, (-1, 36))\n",
        "a = scaler.inverse_transform(a)\n",
        "a = pd.DataFrame(a)"
      ],
      "execution_count": 60,
      "outputs": []
    },
    {
      "cell_type": "code",
      "metadata": {
        "id": "ErHLvejACioW"
      },
      "source": [
        "b = y_test\n",
        "#b = np.reshape(b, (-1, 36))\n",
        "b = scaler.inverse_transform(b)\n",
        "b = pd.DataFrame(b)"
      ],
      "execution_count": 61,
      "outputs": []
    },
    {
      "cell_type": "code",
      "metadata": {
        "id": "O62uEaEkLyWO"
      },
      "source": [
        "#OLS Model\n",
        "import statsmodels.api as sm\n",
        "X = a\n",
        "Y = b\n",
        "X = sm.add_constant(X)\n",
        "model_ols = sm.OLS(Y,X)\n",
        "results = model_ols.fit()"
      ],
      "execution_count": 62,
      "outputs": []
    },
    {
      "cell_type": "code",
      "metadata": {
        "id": "_CaG_RGcMpzM",
        "colab": {
          "base_uri": "https://localhost:8080/",
          "height": 1000
        },
        "outputId": "7a584b30-dfed-4139-f393-e780f1ac9391"
      },
      "source": [
        "results.summary()"
      ],
      "execution_count": 63,
      "outputs": [
        {
          "output_type": "execute_result",
          "data": {
            "text/html": [
              "<table class=\"simpletable\">\n",
              "<caption>OLS Regression Results</caption>\n",
              "<tr>\n",
              "  <th>Dep. Variable:</th>            <td>0</td>        <th>  R-squared:         </th> <td>   0.959</td> \n",
              "</tr>\n",
              "<tr>\n",
              "  <th>Model:</th>                   <td>OLS</td>       <th>  Adj. R-squared:    </th> <td>   0.953</td> \n",
              "</tr>\n",
              "<tr>\n",
              "  <th>Method:</th>             <td>Least Squares</td>  <th>  F-statistic:       </th> <td>   143.6</td> \n",
              "</tr>\n",
              "<tr>\n",
              "  <th>Date:</th>             <td>Sun, 18 Apr 2021</td> <th>  Prob (F-statistic):</th> <td>1.18e-132</td>\n",
              "</tr>\n",
              "<tr>\n",
              "  <th>Time:</th>                 <td>09:22:02</td>     <th>  Log-Likelihood:    </th> <td> -1154.5</td> \n",
              "</tr>\n",
              "<tr>\n",
              "  <th>No. Observations:</th>      <td>   256</td>      <th>  AIC:               </th> <td>   2383.</td> \n",
              "</tr>\n",
              "<tr>\n",
              "  <th>Df Residuals:</th>          <td>   219</td>      <th>  BIC:               </th> <td>   2514.</td> \n",
              "</tr>\n",
              "<tr>\n",
              "  <th>Df Model:</th>              <td>    36</td>      <th>                     </th>     <td> </td>    \n",
              "</tr>\n",
              "<tr>\n",
              "  <th>Covariance Type:</th>      <td>nonrobust</td>    <th>                     </th>     <td> </td>    \n",
              "</tr>\n",
              "</table>\n",
              "<table class=\"simpletable\">\n",
              "<tr>\n",
              "    <td></td>       <th>coef</th>     <th>std err</th>      <th>t</th>      <th>P>|t|</th>  <th>[0.025</th>    <th>0.975]</th>  \n",
              "</tr>\n",
              "<tr>\n",
              "  <th>const</th> <td>   49.9509</td> <td>   16.051</td> <td>    3.112</td> <td> 0.002</td> <td>   18.317</td> <td>   81.585</td>\n",
              "</tr>\n",
              "<tr>\n",
              "  <th>0</th>     <td>    0.0584</td> <td>    0.063</td> <td>    0.920</td> <td> 0.358</td> <td>   -0.067</td> <td>    0.183</td>\n",
              "</tr>\n",
              "<tr>\n",
              "  <th>1</th>     <td>   -0.0659</td> <td>    0.087</td> <td>   -0.755</td> <td> 0.451</td> <td>   -0.238</td> <td>    0.106</td>\n",
              "</tr>\n",
              "<tr>\n",
              "  <th>2</th>     <td>    0.0307</td> <td>    0.087</td> <td>    0.351</td> <td> 0.726</td> <td>   -0.141</td> <td>    0.203</td>\n",
              "</tr>\n",
              "<tr>\n",
              "  <th>3</th>     <td>   -0.0725</td> <td>    0.087</td> <td>   -0.830</td> <td> 0.407</td> <td>   -0.244</td> <td>    0.100</td>\n",
              "</tr>\n",
              "<tr>\n",
              "  <th>4</th>     <td>   -0.0218</td> <td>    0.087</td> <td>   -0.250</td> <td> 0.803</td> <td>   -0.194</td> <td>    0.150</td>\n",
              "</tr>\n",
              "<tr>\n",
              "  <th>5</th>     <td>    0.0178</td> <td>    0.088</td> <td>    0.202</td> <td> 0.840</td> <td>   -0.155</td> <td>    0.191</td>\n",
              "</tr>\n",
              "<tr>\n",
              "  <th>6</th>     <td>    0.0315</td> <td>    0.088</td> <td>    0.357</td> <td> 0.721</td> <td>   -0.142</td> <td>    0.205</td>\n",
              "</tr>\n",
              "<tr>\n",
              "  <th>7</th>     <td>   -0.0219</td> <td>    0.089</td> <td>   -0.247</td> <td> 0.805</td> <td>   -0.197</td> <td>    0.153</td>\n",
              "</tr>\n",
              "<tr>\n",
              "  <th>8</th>     <td>   -0.0365</td> <td>    0.089</td> <td>   -0.409</td> <td> 0.683</td> <td>   -0.212</td> <td>    0.139</td>\n",
              "</tr>\n",
              "<tr>\n",
              "  <th>9</th>     <td>    0.2115</td> <td>    0.088</td> <td>    2.394</td> <td> 0.018</td> <td>    0.037</td> <td>    0.386</td>\n",
              "</tr>\n",
              "<tr>\n",
              "  <th>10</th>    <td>   -0.1701</td> <td>    0.088</td> <td>   -1.938</td> <td> 0.054</td> <td>   -0.343</td> <td>    0.003</td>\n",
              "</tr>\n",
              "<tr>\n",
              "  <th>11</th>    <td>   -0.0129</td> <td>    0.088</td> <td>   -0.147</td> <td> 0.884</td> <td>   -0.186</td> <td>    0.160</td>\n",
              "</tr>\n",
              "<tr>\n",
              "  <th>12</th>    <td>    0.0236</td> <td>    0.088</td> <td>    0.269</td> <td> 0.788</td> <td>   -0.150</td> <td>    0.197</td>\n",
              "</tr>\n",
              "<tr>\n",
              "  <th>13</th>    <td>    0.0549</td> <td>    0.088</td> <td>    0.625</td> <td> 0.533</td> <td>   -0.118</td> <td>    0.228</td>\n",
              "</tr>\n",
              "<tr>\n",
              "  <th>14</th>    <td>   -0.1624</td> <td>    0.090</td> <td>   -1.807</td> <td> 0.072</td> <td>   -0.339</td> <td>    0.015</td>\n",
              "</tr>\n",
              "<tr>\n",
              "  <th>15</th>    <td>    0.1312</td> <td>    0.093</td> <td>    1.414</td> <td> 0.159</td> <td>   -0.052</td> <td>    0.314</td>\n",
              "</tr>\n",
              "<tr>\n",
              "  <th>16</th>    <td>   -0.1052</td> <td>    0.093</td> <td>   -1.128</td> <td> 0.260</td> <td>   -0.289</td> <td>    0.079</td>\n",
              "</tr>\n",
              "<tr>\n",
              "  <th>17</th>    <td>   -0.0610</td> <td>    0.093</td> <td>   -0.654</td> <td> 0.514</td> <td>   -0.245</td> <td>    0.123</td>\n",
              "</tr>\n",
              "<tr>\n",
              "  <th>18</th>    <td>    0.0984</td> <td>    0.093</td> <td>    1.060</td> <td> 0.290</td> <td>   -0.085</td> <td>    0.281</td>\n",
              "</tr>\n",
              "<tr>\n",
              "  <th>19</th>    <td>    0.0740</td> <td>    0.093</td> <td>    0.798</td> <td> 0.426</td> <td>   -0.109</td> <td>    0.257</td>\n",
              "</tr>\n",
              "<tr>\n",
              "  <th>20</th>    <td>   -0.0746</td> <td>    0.093</td> <td>   -0.801</td> <td> 0.424</td> <td>   -0.258</td> <td>    0.109</td>\n",
              "</tr>\n",
              "<tr>\n",
              "  <th>21</th>    <td>   -0.0350</td> <td>    0.093</td> <td>   -0.374</td> <td> 0.709</td> <td>   -0.219</td> <td>    0.149</td>\n",
              "</tr>\n",
              "<tr>\n",
              "  <th>22</th>    <td>    0.0518</td> <td>    0.094</td> <td>    0.551</td> <td> 0.582</td> <td>   -0.133</td> <td>    0.237</td>\n",
              "</tr>\n",
              "<tr>\n",
              "  <th>23</th>    <td>    0.0137</td> <td>    0.094</td> <td>    0.146</td> <td> 0.884</td> <td>   -0.172</td> <td>    0.199</td>\n",
              "</tr>\n",
              "<tr>\n",
              "  <th>24</th>    <td>    0.0301</td> <td>    0.094</td> <td>    0.319</td> <td> 0.750</td> <td>   -0.156</td> <td>    0.216</td>\n",
              "</tr>\n",
              "<tr>\n",
              "  <th>25</th>    <td>   -0.0402</td> <td>    0.095</td> <td>   -0.425</td> <td> 0.672</td> <td>   -0.227</td> <td>    0.146</td>\n",
              "</tr>\n",
              "<tr>\n",
              "  <th>26</th>    <td>    0.1439</td> <td>    0.095</td> <td>    1.514</td> <td> 0.132</td> <td>   -0.043</td> <td>    0.331</td>\n",
              "</tr>\n",
              "<tr>\n",
              "  <th>27</th>    <td>   -0.1967</td> <td>    0.095</td> <td>   -2.065</td> <td> 0.040</td> <td>   -0.385</td> <td>   -0.009</td>\n",
              "</tr>\n",
              "<tr>\n",
              "  <th>28</th>    <td>    0.1757</td> <td>    0.095</td> <td>    1.858</td> <td> 0.065</td> <td>   -0.011</td> <td>    0.362</td>\n",
              "</tr>\n",
              "<tr>\n",
              "  <th>29</th>    <td>   -0.0905</td> <td>    0.094</td> <td>   -0.960</td> <td> 0.338</td> <td>   -0.276</td> <td>    0.095</td>\n",
              "</tr>\n",
              "<tr>\n",
              "  <th>30</th>    <td>   -0.0891</td> <td>    0.094</td> <td>   -0.948</td> <td> 0.344</td> <td>   -0.274</td> <td>    0.096</td>\n",
              "</tr>\n",
              "<tr>\n",
              "  <th>31</th>    <td>    0.1501</td> <td>    0.093</td> <td>    1.607</td> <td> 0.110</td> <td>   -0.034</td> <td>    0.334</td>\n",
              "</tr>\n",
              "<tr>\n",
              "  <th>32</th>    <td>   -0.0451</td> <td>    0.093</td> <td>   -0.483</td> <td> 0.630</td> <td>   -0.229</td> <td>    0.139</td>\n",
              "</tr>\n",
              "<tr>\n",
              "  <th>33</th>    <td>    0.0371</td> <td>    0.093</td> <td>    0.397</td> <td> 0.691</td> <td>   -0.147</td> <td>    0.221</td>\n",
              "</tr>\n",
              "<tr>\n",
              "  <th>34</th>    <td>   -0.0534</td> <td>    0.093</td> <td>   -0.572</td> <td> 0.568</td> <td>   -0.238</td> <td>    0.131</td>\n",
              "</tr>\n",
              "<tr>\n",
              "  <th>35</th>    <td>    0.9640</td> <td>    0.067</td> <td>   14.336</td> <td> 0.000</td> <td>    0.832</td> <td>    1.097</td>\n",
              "</tr>\n",
              "</table>\n",
              "<table class=\"simpletable\">\n",
              "<tr>\n",
              "  <th>Omnibus:</th>       <td>19.405</td> <th>  Durbin-Watson:     </th> <td>   2.004</td>\n",
              "</tr>\n",
              "<tr>\n",
              "  <th>Prob(Omnibus):</th> <td> 0.000</td> <th>  Jarque-Bera (JB):  </th> <td>  23.386</td>\n",
              "</tr>\n",
              "<tr>\n",
              "  <th>Skew:</th>          <td> 0.590</td> <th>  Prob(JB):          </th> <td>8.35e-06</td>\n",
              "</tr>\n",
              "<tr>\n",
              "  <th>Kurtosis:</th>      <td> 3.895</td> <th>  Cond. No.          </th> <td>5.73e+04</td>\n",
              "</tr>\n",
              "</table><br/><br/>Warnings:<br/>[1] Standard Errors assume that the covariance matrix of the errors is correctly specified.<br/>[2] The condition number is large, 5.73e+04. This might indicate that there are<br/>strong multicollinearity or other numerical problems."
            ],
            "text/plain": [
              "<class 'statsmodels.iolib.summary.Summary'>\n",
              "\"\"\"\n",
              "                            OLS Regression Results                            \n",
              "==============================================================================\n",
              "Dep. Variable:                      0   R-squared:                       0.959\n",
              "Model:                            OLS   Adj. R-squared:                  0.953\n",
              "Method:                 Least Squares   F-statistic:                     143.6\n",
              "Date:                Sun, 18 Apr 2021   Prob (F-statistic):          1.18e-132\n",
              "Time:                        09:22:02   Log-Likelihood:                -1154.5\n",
              "No. Observations:                 256   AIC:                             2383.\n",
              "Df Residuals:                     219   BIC:                             2514.\n",
              "Df Model:                          36                                         \n",
              "Covariance Type:            nonrobust                                         \n",
              "==============================================================================\n",
              "                 coef    std err          t      P>|t|      [0.025      0.975]\n",
              "------------------------------------------------------------------------------\n",
              "const         49.9509     16.051      3.112      0.002      18.317      81.585\n",
              "0              0.0584      0.063      0.920      0.358      -0.067       0.183\n",
              "1             -0.0659      0.087     -0.755      0.451      -0.238       0.106\n",
              "2              0.0307      0.087      0.351      0.726      -0.141       0.203\n",
              "3             -0.0725      0.087     -0.830      0.407      -0.244       0.100\n",
              "4             -0.0218      0.087     -0.250      0.803      -0.194       0.150\n",
              "5              0.0178      0.088      0.202      0.840      -0.155       0.191\n",
              "6              0.0315      0.088      0.357      0.721      -0.142       0.205\n",
              "7             -0.0219      0.089     -0.247      0.805      -0.197       0.153\n",
              "8             -0.0365      0.089     -0.409      0.683      -0.212       0.139\n",
              "9              0.2115      0.088      2.394      0.018       0.037       0.386\n",
              "10            -0.1701      0.088     -1.938      0.054      -0.343       0.003\n",
              "11            -0.0129      0.088     -0.147      0.884      -0.186       0.160\n",
              "12             0.0236      0.088      0.269      0.788      -0.150       0.197\n",
              "13             0.0549      0.088      0.625      0.533      -0.118       0.228\n",
              "14            -0.1624      0.090     -1.807      0.072      -0.339       0.015\n",
              "15             0.1312      0.093      1.414      0.159      -0.052       0.314\n",
              "16            -0.1052      0.093     -1.128      0.260      -0.289       0.079\n",
              "17            -0.0610      0.093     -0.654      0.514      -0.245       0.123\n",
              "18             0.0984      0.093      1.060      0.290      -0.085       0.281\n",
              "19             0.0740      0.093      0.798      0.426      -0.109       0.257\n",
              "20            -0.0746      0.093     -0.801      0.424      -0.258       0.109\n",
              "21            -0.0350      0.093     -0.374      0.709      -0.219       0.149\n",
              "22             0.0518      0.094      0.551      0.582      -0.133       0.237\n",
              "23             0.0137      0.094      0.146      0.884      -0.172       0.199\n",
              "24             0.0301      0.094      0.319      0.750      -0.156       0.216\n",
              "25            -0.0402      0.095     -0.425      0.672      -0.227       0.146\n",
              "26             0.1439      0.095      1.514      0.132      -0.043       0.331\n",
              "27            -0.1967      0.095     -2.065      0.040      -0.385      -0.009\n",
              "28             0.1757      0.095      1.858      0.065      -0.011       0.362\n",
              "29            -0.0905      0.094     -0.960      0.338      -0.276       0.095\n",
              "30            -0.0891      0.094     -0.948      0.344      -0.274       0.096\n",
              "31             0.1501      0.093      1.607      0.110      -0.034       0.334\n",
              "32            -0.0451      0.093     -0.483      0.630      -0.229       0.139\n",
              "33             0.0371      0.093      0.397      0.691      -0.147       0.221\n",
              "34            -0.0534      0.093     -0.572      0.568      -0.238       0.131\n",
              "35             0.9640      0.067     14.336      0.000       0.832       1.097\n",
              "==============================================================================\n",
              "Omnibus:                       19.405   Durbin-Watson:                   2.004\n",
              "Prob(Omnibus):                  0.000   Jarque-Bera (JB):               23.386\n",
              "Skew:                           0.590   Prob(JB):                     8.35e-06\n",
              "Kurtosis:                       3.895   Cond. No.                     5.73e+04\n",
              "==============================================================================\n",
              "\n",
              "Warnings:\n",
              "[1] Standard Errors assume that the covariance matrix of the errors is correctly specified.\n",
              "[2] The condition number is large, 5.73e+04. This might indicate that there are\n",
              "strong multicollinearity or other numerical problems.\n",
              "\"\"\""
            ]
          },
          "metadata": {
            "tags": []
          },
          "execution_count": 63
        }
      ]
    }
  ]
}