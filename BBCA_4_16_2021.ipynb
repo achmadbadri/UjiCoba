{
  "nbformat": 4,
  "nbformat_minor": 0,
  "metadata": {
    "colab": {
      "name": "BBCA - 4/16/2021",
      "provenance": [],
      "collapsed_sections": [],
      "authorship_tag": "ABX9TyNPVMCSrAy374l1TapkmeC3",
      "include_colab_link": true
    },
    "kernelspec": {
      "display_name": "Python 3",
      "name": "python3"
    }
  },
  "cells": [
    {
      "cell_type": "markdown",
      "metadata": {
        "id": "view-in-github",
        "colab_type": "text"
      },
      "source": [
        "<a href=\"https://colab.research.google.com/github/achmadbadri/UjiCoba/blob/main/BBCA_4_16_2021.ipynb\" target=\"_parent\"><img src=\"https://colab.research.google.com/assets/colab-badge.svg\" alt=\"Open In Colab\"/></a>"
      ]
    },
    {
      "cell_type": "markdown",
      "metadata": {
        "id": "nG5q7aQ2T7yt"
      },
      "source": [
        "https://towardsdatascience.com/walking-through-support-vector-regression-and-lstms-with-stock-price-prediction-45e11b620650"
      ]
    },
    {
      "cell_type": "code",
      "metadata": {
        "id": "imVL_RBkSiEM"
      },
      "source": [
        "import keras\n",
        "from keras.layers import Dense\n",
        "from keras.layers import LSTM\n",
        "from keras.layers import Dropout\n",
        "import pandas as pd \n",
        "import pandas_datareader.data as web\n",
        "import datetime\n",
        "import numpy as np \n",
        "from matplotlib import style\n",
        "from google.colab import files\n",
        "# Visualize the training stock data:\n",
        "import matplotlib.pyplot as plt\n",
        "%matplotlib inline\n",
        "\n",
        "# ignore warnings \n",
        "import warnings\n",
        "warnings.filterwarnings('ignore')"
      ],
      "execution_count": null,
      "outputs": []
    },
    {
      "cell_type": "code",
      "metadata": {
        "colab": {
          "base_uri": "https://localhost:8080/"
        },
        "id": "7mgHVWneS0-0",
        "outputId": "56803fd0-8806-4f1e-c51c-e8075a7db224"
      },
      "source": [
        "# Get the stock data using yahoo API:\n",
        "style.use('ggplot')\n",
        "\n",
        "# get 2014-2018 data to train our model\n",
        "start = datetime.datetime(2014,1,1)\n",
        "end = datetime.datetime(2018,12,31)\n",
        "df = web.DataReader(\"BBCA.JK\", 'yahoo', start, end) \n",
        "\n",
        "# get 2019 data to test our model on \n",
        "start = datetime.datetime(2018,11,13)\n",
        "end = datetime.datetime(2019,12,31)\n",
        "test_df = web.DataReader(\"BBCA.JK\", 'yahoo', start, end) \n",
        "print(df.shape)\n",
        "print(test_df.shape)"
      ],
      "execution_count": null,
      "outputs": [
        {
          "output_type": "stream",
          "text": [
            "(1251, 6)\n",
            "(292, 6)\n"
          ],
          "name": "stdout"
        }
      ]
    },
    {
      "cell_type": "markdown",
      "metadata": {
        "id": "q6AYvdKIMFZ8"
      },
      "source": [
        ""
      ]
    },
    {
      "cell_type": "code",
      "metadata": {
        "colab": {
          "base_uri": "https://localhost:8080/"
        },
        "id": "H598YUDjU7Sd",
        "outputId": "a02e547e-5177-40e3-8688-6001cdfb00e7"
      },
      "source": [
        "# Create train set of adj close prices data:\n",
        "train_data = df.loc[:,'Adj Close'].to_numpy()\n",
        "print(train_data.shape) # 1258 \n",
        "\n",
        "\n",
        "# Apply normalization before feeding to LSTM using sklearn:\n",
        "from sklearn.preprocessing import MinMaxScaler\n",
        "\n",
        "scaler = MinMaxScaler()\n",
        "train_data = train_data.reshape(-1,1)\n",
        "\n",
        "scaler.fit(train_data)\n",
        "train_data = scaler.transform(train_data)"
      ],
      "execution_count": null,
      "outputs": [
        {
          "output_type": "stream",
          "text": [
            "(1251,)\n"
          ],
          "name": "stdout"
        }
      ]
    },
    {
      "cell_type": "code",
      "metadata": {
        "colab": {
          "base_uri": "https://localhost:8080/"
        },
        "id": "8ITZZaGnVFTQ",
        "outputId": "fcffe620-bc33-4341-acd9-ae1d63a9bea7"
      },
      "source": [
        "'''Function to create a dataset to feed into an LSTM'''\n",
        "def create_dataset(dataset, look_back):\n",
        "    dataX, dataY = [], []\n",
        "    for i in range(len(dataset)-look_back):\n",
        "        a = dataset[i:(i + look_back), 0]\n",
        "        dataX.append(a)\n",
        "        dataY.append(dataset[i + look_back, 0])\n",
        "    return np.array(dataX), np.array(dataY)\n",
        "    \n",
        "    \n",
        "# Create the data to train our model on:\n",
        "time_steps = 36\n",
        "X_train, y_train = create_dataset(train_data, time_steps)\n",
        "\n",
        "# reshape it [samples, time steps, features]\n",
        "X_train = np.reshape(X_train, (X_train.shape[0], 36, 1))\n",
        "\n",
        "print(X_train.shape)\n",
        "\n",
        "\n",
        "# Visualizing our data with prints: \n",
        "print('X_train:')\n",
        "print(str(scaler.inverse_transform(X_train[0])))\n",
        "print(\"\\n\")\n",
        "print('y_train: ' + str(scaler.inverse_transform(y_train[0].reshape(-1,1)))+'\\n')"
      ],
      "execution_count": null,
      "outputs": [
        {
          "output_type": "stream",
          "text": [
            "(1215, 36, 1)\n",
            "X_train:\n",
            "[[8841.38378906]\n",
            " [8570.72753906]\n",
            " [8435.40136719]\n",
            " [8457.95410156]\n",
            " [8412.84667969]\n",
            " [8480.51171875]\n",
            " [8480.51171875]\n",
            " [8841.38378906]\n",
            " [8976.71191406]\n",
            " [9021.8203125 ]\n",
            " [8931.6015625 ]\n",
            " [8863.93652344]\n",
            " [8886.4921875 ]\n",
            " [8931.6015625 ]\n",
            " [9202.25878906]\n",
            " [9179.70117188]\n",
            " [8841.38378906]\n",
            " [9021.8203125 ]\n",
            " [9021.8203125 ]\n",
            " [8954.15722656]\n",
            " [8863.93652344]\n",
            " [8886.4921875 ]\n",
            " [8976.71191406]\n",
            " [9157.14746094]\n",
            " [9247.36621094]\n",
            " [9066.92773438]\n",
            " [9157.14746094]\n",
            " [9292.47460938]\n",
            " [9247.36621094]\n",
            " [9360.13769531]\n",
            " [9450.35839844]\n",
            " [9382.69140625]\n",
            " [9247.36621094]\n",
            " [9382.69140625]\n",
            " [9427.80078125]\n",
            " [9382.69140625]]\n",
            "\n",
            "\n",
            "y_train: [[9360.13769531]]\n",
            "\n"
          ],
          "name": "stdout"
        }
      ]
    },
    {
      "cell_type": "code",
      "metadata": {
        "colab": {
          "base_uri": "https://localhost:8080/"
        },
        "id": "pmuzZ5TqVR8O",
        "outputId": "26198ac2-7ca4-4ddd-a007-47d905905625"
      },
      "source": [
        "# Build the model \n",
        "model = keras.Sequential()\n",
        "\n",
        "model.add(LSTM(units = 128, return_sequences = True, input_shape = (X_train.shape[1], 1)))\n",
        "model.add(Dropout(0.2))\n",
        "\n",
        "model.add(LSTM(units = 64, return_sequences = False))\n",
        "model.add(Dropout(0.2))\n",
        "\n",
        "# Output layer\n",
        "model.add(Dense(units = 32,  activation='relu'))\n",
        "model.add(Dense(units = 16, activation= 'linear'))\n",
        "model.add(Dense(units = 1))\n",
        "# Compiling the model\n",
        "model.compile(optimizer = 'adam', loss = 'mean_squared_error')\n",
        "\n",
        "# Fitting the model to the Training set\n",
        "history = model.fit(X_train, y_train, epochs = 20, batch_size = 10, validation_split=.30)"
      ],
      "execution_count": null,
      "outputs": [
        {
          "output_type": "stream",
          "text": [
            "Epoch 1/20\n",
            "85/85 [==============================] - 7s 54ms/step - loss: 0.0182 - val_loss: 0.0018\n",
            "Epoch 2/20\n",
            "85/85 [==============================] - 4s 44ms/step - loss: 7.9592e-04 - val_loss: 0.0010\n",
            "Epoch 3/20\n",
            "85/85 [==============================] - 4s 46ms/step - loss: 7.4813e-04 - val_loss: 7.9782e-04\n",
            "Epoch 4/20\n",
            "85/85 [==============================] - 4s 46ms/step - loss: 6.3613e-04 - val_loss: 0.0029\n",
            "Epoch 5/20\n",
            "85/85 [==============================] - 4s 45ms/step - loss: 5.4468e-04 - val_loss: 0.0010\n",
            "Epoch 6/20\n",
            "85/85 [==============================] - 4s 44ms/step - loss: 6.1984e-04 - val_loss: 0.0016\n",
            "Epoch 7/20\n",
            "85/85 [==============================] - 4s 44ms/step - loss: 5.5700e-04 - val_loss: 6.5485e-04\n",
            "Epoch 8/20\n",
            "85/85 [==============================] - 4s 44ms/step - loss: 4.9407e-04 - val_loss: 0.0020\n",
            "Epoch 9/20\n",
            "85/85 [==============================] - 4s 44ms/step - loss: 4.6461e-04 - val_loss: 6.5183e-04\n",
            "Epoch 10/20\n",
            "85/85 [==============================] - 4s 44ms/step - loss: 4.4760e-04 - val_loss: 0.0019\n",
            "Epoch 11/20\n",
            "85/85 [==============================] - 4s 45ms/step - loss: 3.7151e-04 - val_loss: 8.6557e-04\n",
            "Epoch 12/20\n",
            "85/85 [==============================] - 4s 44ms/step - loss: 3.8769e-04 - val_loss: 7.6039e-04\n",
            "Epoch 13/20\n",
            "85/85 [==============================] - 4s 44ms/step - loss: 4.4728e-04 - val_loss: 5.7462e-04\n",
            "Epoch 14/20\n",
            "85/85 [==============================] - 4s 44ms/step - loss: 3.8868e-04 - val_loss: 6.5791e-04\n",
            "Epoch 15/20\n",
            "85/85 [==============================] - 4s 44ms/step - loss: 4.2235e-04 - val_loss: 0.0020\n",
            "Epoch 16/20\n",
            "85/85 [==============================] - 4s 45ms/step - loss: 4.6074e-04 - val_loss: 0.0017\n",
            "Epoch 17/20\n",
            "85/85 [==============================] - 4s 44ms/step - loss: 3.8285e-04 - val_loss: 5.9559e-04\n",
            "Epoch 18/20\n",
            "85/85 [==============================] - 4s 44ms/step - loss: 4.1367e-04 - val_loss: 6.0822e-04\n",
            "Epoch 19/20\n",
            "85/85 [==============================] - 4s 44ms/step - loss: 3.1139e-04 - val_loss: 0.0017\n",
            "Epoch 20/20\n",
            "85/85 [==============================] - 4s 45ms/step - loss: 3.5346e-04 - val_loss: 6.7072e-04\n"
          ],
          "name": "stdout"
        }
      ]
    },
    {
      "cell_type": "code",
      "metadata": {
        "colab": {
          "base_uri": "https://localhost:8080/"
        },
        "id": "VJAAJ_3JRVIu",
        "outputId": "46ee5dd2-9baf-453f-9a23-2b633b1e4d47"
      },
      "source": [
        "model.summary()"
      ],
      "execution_count": null,
      "outputs": [
        {
          "output_type": "stream",
          "text": [
            "Model: \"sequential_1\"\n",
            "_________________________________________________________________\n",
            "Layer (type)                 Output Shape              Param #   \n",
            "=================================================================\n",
            "lstm_2 (LSTM)                (None, 36, 128)           66560     \n",
            "_________________________________________________________________\n",
            "dropout_2 (Dropout)          (None, 36, 128)           0         \n",
            "_________________________________________________________________\n",
            "lstm_3 (LSTM)                (None, 64)                49408     \n",
            "_________________________________________________________________\n",
            "dropout_3 (Dropout)          (None, 64)                0         \n",
            "_________________________________________________________________\n",
            "dense_3 (Dense)              (None, 32)                2080      \n",
            "_________________________________________________________________\n",
            "dense_4 (Dense)              (None, 16)                528       \n",
            "_________________________________________________________________\n",
            "dense_5 (Dense)              (None, 1)                 17        \n",
            "=================================================================\n",
            "Total params: 118,593\n",
            "Trainable params: 118,593\n",
            "Non-trainable params: 0\n",
            "_________________________________________________________________\n"
          ],
          "name": "stdout"
        }
      ]
    },
    {
      "cell_type": "code",
      "metadata": {
        "colab": {
          "base_uri": "https://localhost:8080/",
          "height": 299
        },
        "id": "gSKBnwssVVJf",
        "outputId": "325523d8-69f7-42f7-a2be-db594a72d5e7"
      },
      "source": [
        "# Plot training & validation loss values\n",
        "plt.plot(history.history['loss'])\n",
        "plt.plot(history.history['val_loss'])\n",
        "plt.title('Model loss')\n",
        "plt.ylabel('Loss')\n",
        "plt.xlabel('Epoch')\n",
        "plt.legend(['Train', 'Test'], loc='upper left')\n",
        "plt.show()"
      ],
      "execution_count": null,
      "outputs": [
        {
          "output_type": "display_data",
          "data": {
            "image/png": "[encoded data removed]",
            "text/plain": [
              "<Figure size 432x288 with 1 Axes>"
            ]
          },
          "metadata": {
            "tags": []
          }
        }
      ]
    },
    {
      "cell_type": "code",
      "metadata": {
        "id": "bawmbe-aVYTG"
      },
      "source": [
        "# Get the stock prices for 2019 to have our model make the predictions\n",
        "test_data = test_df['Adj Close'].values\n",
        "test_data = test_data.reshape(-1,1)\n",
        "test_data = scaler.transform(test_data)\n",
        "\n",
        "# Create the data to test our model on:\n",
        "time_steps = 36\n",
        "X_test, y_test = create_dataset(test_data, time_steps)\n",
        "\n",
        "# store the original vals for plotting the predictions \n",
        "y_test = y_test.reshape(-1,1)\n",
        "org_y = scaler.inverse_transform(y_test)\n",
        "\n",
        "# reshape it [samples, time steps, features]\n",
        "X_test = np.reshape(X_test, (X_test.shape[0], 36, 1))\n",
        "\n",
        "# Predict the prices with the model\n",
        "predicted_y = model.predict(X_test)\n",
        "predicted_y = scaler.inverse_transform(predicted_y)\n"
      ],
      "execution_count": null,
      "outputs": []
    },
    {
      "cell_type": "code",
      "metadata": {
        "id": "Y47_DyXm9Ysk",
        "colab": {
          "base_uri": "https://localhost:8080/",
          "height": 297
        },
        "outputId": "11cd777e-206e-4ee0-f5ba-de78853d6926"
      },
      "source": [
        "predicted_y = pd.DataFrame(predicted_y)\n",
        "org_y = pd.DataFrame(org_y)\n",
        "describe = pd.DataFrame()\n",
        "describe['True Price'] = org_y[0]\n",
        "describe['Prediction'] = predicted_y[0]\n",
        "describe['difference'] = org_y[0] - predicted_y[0]\n",
        "describe['MAPE (%)'] = abs(describe['difference']/org_y[0]*100)\n",
        "describe.describe()"
      ],
      "execution_count": null,
      "outputs": [
        {
          "output_type": "execute_result",
          "data": {
            "text/html": [
              "<div>\n",
              "<style scoped>\n",
              "    .dataframe tbody tr th:only-of-type {\n",
              "        vertical-align: middle;\n",
              "    }\n",
              "\n",
              "    .dataframe tbody tr th {\n",
              "        vertical-align: top;\n",
              "    }\n",
              "\n",
              "    .dataframe thead th {\n",
              "        text-align: right;\n",
              "    }\n",
              "</style>\n",
              "<table border=\"1\" class=\"dataframe\">\n",
              "  <thead>\n",
              "    <tr style=\"text-align: right;\">\n",
              "      <th></th>\n",
              "      <th>True Price</th>\n",
              "      <th>Prediction</th>\n",
              "      <th>difference</th>\n",
              "      <th>MAPE (%)</th>\n",
              "    </tr>\n",
              "  </thead>\n",
              "  <tbody>\n",
              "    <tr>\n",
              "      <th>count</th>\n",
              "      <td>256.000000</td>\n",
              "      <td>256.000000</td>\n",
              "      <td>256.000000</td>\n",
              "      <td>256.000000</td>\n",
              "    </tr>\n",
              "    <tr>\n",
              "      <th>mean</th>\n",
              "      <td>28201.570602</td>\n",
              "      <td>28395.753906</td>\n",
              "      <td>-194.184334</td>\n",
              "      <td>1.171020</td>\n",
              "    </tr>\n",
              "    <tr>\n",
              "      <th>std</th>\n",
              "      <td>1824.618878</td>\n",
              "      <td>1756.925781</td>\n",
              "      <td>379.180469</td>\n",
              "      <td>1.021065</td>\n",
              "    </tr>\n",
              "    <tr>\n",
              "      <th>min</th>\n",
              "      <td>24727.080078</td>\n",
              "      <td>25138.416016</td>\n",
              "      <td>-1924.435547</td>\n",
              "      <td>0.004028</td>\n",
              "    </tr>\n",
              "    <tr>\n",
              "      <th>25%</th>\n",
              "      <td>26350.091797</td>\n",
              "      <td>26640.647461</td>\n",
              "      <td>-381.909180</td>\n",
              "      <td>0.517233</td>\n",
              "    </tr>\n",
              "    <tr>\n",
              "      <th>50%</th>\n",
              "      <td>28590.111328</td>\n",
              "      <td>28820.549805</td>\n",
              "      <td>-233.531250</td>\n",
              "      <td>0.953478</td>\n",
              "    </tr>\n",
              "    <tr>\n",
              "      <th>75%</th>\n",
              "      <td>29637.851562</td>\n",
              "      <td>29723.392578</td>\n",
              "      <td>19.946289</td>\n",
              "      <td>1.521844</td>\n",
              "    </tr>\n",
              "    <tr>\n",
              "      <th>max</th>\n",
              "      <td>32643.193359</td>\n",
              "      <td>32368.958984</td>\n",
              "      <td>1555.718750</td>\n",
              "      <td>7.712204</td>\n",
              "    </tr>\n",
              "  </tbody>\n",
              "</table>\n",
              "</div>"
            ],
            "text/plain": [
              "         True Price    Prediction   difference    MAPE (%)\n",
              "count    256.000000    256.000000   256.000000  256.000000\n",
              "mean   28201.570602  28395.753906  -194.184334    1.171020\n",
              "std     1824.618878   1756.925781   379.180469    1.021065\n",
              "min    24727.080078  25138.416016 -1924.435547    0.004028\n",
              "25%    26350.091797  26640.647461  -381.909180    0.517233\n",
              "50%    28590.111328  28820.549805  -233.531250    0.953478\n",
              "75%    29637.851562  29723.392578    19.946289    1.521844\n",
              "max    32643.193359  32368.958984  1555.718750    7.712204"
            ]
          },
          "metadata": {
            "tags": []
          },
          "execution_count": 31
        }
      ]
    },
    {
      "cell_type": "code",
      "metadata": {
        "colab": {
          "base_uri": "https://localhost:8080/",
          "height": 359
        },
        "id": "UoSeLi8altE4",
        "outputId": "f11a644a-5cd9-4c8d-dc81-d7ab36402e46"
      },
      "source": [
        "describe.head(10)"
      ],
      "execution_count": null,
      "outputs": [
        {
          "output_type": "execute_result",
          "data": {
            "text/html": [
              "<div>\n",
              "<style scoped>\n",
              "    .dataframe tbody tr th:only-of-type {\n",
              "        vertical-align: middle;\n",
              "    }\n",
              "\n",
              "    .dataframe tbody tr th {\n",
              "        vertical-align: top;\n",
              "    }\n",
              "\n",
              "    .dataframe thead th {\n",
              "        text-align: right;\n",
              "    }\n",
              "</style>\n",
              "<table border=\"1\" class=\"dataframe\">\n",
              "  <thead>\n",
              "    <tr style=\"text-align: right;\">\n",
              "      <th></th>\n",
              "      <th>True Price</th>\n",
              "      <th>Prediction</th>\n",
              "      <th>difference</th>\n",
              "      <th>MAPE (%)</th>\n",
              "    </tr>\n",
              "  </thead>\n",
              "  <tbody>\n",
              "    <tr>\n",
              "      <th>0</th>\n",
              "      <td>25013.494141</td>\n",
              "      <td>25138.416016</td>\n",
              "      <td>-124.921875</td>\n",
              "      <td>0.499418</td>\n",
              "    </tr>\n",
              "    <tr>\n",
              "      <th>1</th>\n",
              "      <td>24727.080078</td>\n",
              "      <td>25178.554688</td>\n",
              "      <td>-451.474609</td>\n",
              "      <td>1.825831</td>\n",
              "    </tr>\n",
              "    <tr>\n",
              "      <th>2</th>\n",
              "      <td>24846.419922</td>\n",
              "      <td>25181.343750</td>\n",
              "      <td>-334.923828</td>\n",
              "      <td>1.347976</td>\n",
              "    </tr>\n",
              "    <tr>\n",
              "      <th>3</th>\n",
              "      <td>25037.361328</td>\n",
              "      <td>25181.906250</td>\n",
              "      <td>-144.544922</td>\n",
              "      <td>0.577317</td>\n",
              "    </tr>\n",
              "    <tr>\n",
              "      <th>4</th>\n",
              "      <td>25013.494141</td>\n",
              "      <td>25207.937500</td>\n",
              "      <td>-194.443359</td>\n",
              "      <td>0.777354</td>\n",
              "    </tr>\n",
              "    <tr>\n",
              "      <th>5</th>\n",
              "      <td>25085.099609</td>\n",
              "      <td>25239.896484</td>\n",
              "      <td>-154.796875</td>\n",
              "      <td>0.617087</td>\n",
              "    </tr>\n",
              "    <tr>\n",
              "      <th>6</th>\n",
              "      <td>25085.099609</td>\n",
              "      <td>25281.119141</td>\n",
              "      <td>-196.019531</td>\n",
              "      <td>0.781418</td>\n",
              "    </tr>\n",
              "    <tr>\n",
              "      <th>7</th>\n",
              "      <td>25061.228516</td>\n",
              "      <td>25321.335938</td>\n",
              "      <td>-260.107422</td>\n",
              "      <td>1.037888</td>\n",
              "    </tr>\n",
              "    <tr>\n",
              "      <th>8</th>\n",
              "      <td>24822.550781</td>\n",
              "      <td>25351.986328</td>\n",
              "      <td>-529.435547</td>\n",
              "      <td>2.132881</td>\n",
              "    </tr>\n",
              "    <tr>\n",
              "      <th>9</th>\n",
              "      <td>25108.966797</td>\n",
              "      <td>25338.980469</td>\n",
              "      <td>-230.013672</td>\n",
              "      <td>0.916062</td>\n",
              "    </tr>\n",
              "  </tbody>\n",
              "</table>\n",
              "</div>"
            ],
            "text/plain": [
              "     True Price    Prediction  difference  MAPE (%)\n",
              "0  25013.494141  25138.416016 -124.921875  0.499418\n",
              "1  24727.080078  25178.554688 -451.474609  1.825831\n",
              "2  24846.419922  25181.343750 -334.923828  1.347976\n",
              "3  25037.361328  25181.906250 -144.544922  0.577317\n",
              "4  25013.494141  25207.937500 -194.443359  0.777354\n",
              "5  25085.099609  25239.896484 -154.796875  0.617087\n",
              "6  25085.099609  25281.119141 -196.019531  0.781418\n",
              "7  25061.228516  25321.335938 -260.107422  1.037888\n",
              "8  24822.550781  25351.986328 -529.435547  2.132881\n",
              "9  25108.966797  25338.980469 -230.013672  0.916062"
            ]
          },
          "metadata": {
            "tags": []
          },
          "execution_count": 32
        }
      ]
    },
    {
      "cell_type": "code",
      "metadata": {
        "id": "xriB7R_tWpAM",
        "colab": {
          "base_uri": "https://localhost:8080/"
        },
        "outputId": "418474aa-5f9d-401d-b270-ad8a06cd5eae"
      },
      "source": [
        "a = np.array(describe['True Price'])\n",
        "b = np.array(describe['Prediction'])\n",
        "\n",
        "# MSE\n",
        "from sklearn.metrics import mean_squared_error, mean_absolute_error\n",
        "print(\"MSE: %.2f\" % mean_squared_error(a, b))\n",
        "\n",
        "# The RMSE\n",
        "print(\"RMSE: %.2f\" % mean_squared_error(a, b, squared=False))\n",
        "\n",
        "# The MAE\n",
        "print(\"MAE: %.2f\" % mean_absolute_error(a, b))\n",
        "\n",
        "#Mean Absolute Percentange Error\n",
        "c = (np.mean(np.abs((a - b) / a))) * 100\n",
        "print('MAPE : ', c)\n",
        "\n",
        "# Explained variance score: 1 is perfect prediction\n",
        "from sklearn.metrics import r2_score\n",
        "print('R2 score: %.2f' % r2_score(a, b))\n"
      ],
      "execution_count": null,
      "outputs": [
        {
          "output_type": "stream",
          "text": [
            "MSE: 180923.75\n",
            "RMSE: 425.35\n",
            "MAE: 325.37\n",
            "MAPE :  1.1710203508000554\n",
            "R2 score: 0.95\n"
          ],
          "name": "stdout"
        }
      ]
    },
    {
      "cell_type": "code",
      "metadata": {
        "id": "iozJ262YxuM8",
        "colab": {
          "base_uri": "https://localhost:8080/"
        },
        "outputId": "bdbdff5b-9e5f-481f-ac06-de611488d84f"
      },
      "source": [
        "print(model.evaluate(X_train, y_train))\n",
        "print(model.evaluate(X_test, y_test))"
      ],
      "execution_count": null,
      "outputs": [
        {
          "output_type": "stream",
          "text": [
            "38/38 [==============================] - 1s 19ms/step - loss: 3.9020e-04\n",
            "0.00039020171971060336\n",
            "8/8 [==============================] - 1s 20ms/step - loss: 6.4903e-04\n",
            "0.0006490284577012062\n"
          ],
          "name": "stdout"
        }
      ]
    },
    {
      "cell_type": "code",
      "metadata": {
        "colab": {
          "base_uri": "https://localhost:8080/"
        },
        "id": "JRT-OjnyZ0PP",
        "outputId": "c3caf473-f1d6-4aa0-cae8-528509c5e3a2"
      },
      "source": [
        "print(model.metrics_names)"
      ],
      "execution_count": null,
      "outputs": [
        {
          "output_type": "stream",
          "text": [
            "['loss']\n"
          ],
          "name": "stdout"
        }
      ]
    },
    {
      "cell_type": "code",
      "metadata": {
        "id": "qNCPEkeaXNIT"
      },
      "source": [
        "graph  = test_df.drop(test_df.index[0:36])\n",
        "graph.reset_index(inplace=True)\n",
        "graph.rename(columns = {'index':'Date'})\n",
        "graph = graph.drop(columns=['High','Low','Open','Volume','Close'])\n",
        "graph['Predict_Value'] = predicted_y[0]\n",
        "graph.head()\n",
        "graph.set_index('Date', inplace=True)"
      ],
      "execution_count": null,
      "outputs": []
    },
    {
      "cell_type": "code",
      "metadata": {
        "id": "QF5LdxyJb0bT",
        "colab": {
          "base_uri": "https://localhost:8080/",
          "height": 299
        },
        "outputId": "91c117c8-34a4-4b7a-8ba2-64e6d621800c"
      },
      "source": [
        "# plot the results \n",
        "plt.plot(graph['Adj Close'], color = 'red', label = 'Real Stock Price')\n",
        "plt.plot(graph['Predict_Value'], color = 'blue', label = 'Predicted Stock Price')\n",
        "#plt.plot(df['Adj Close'], color = 'black', label = 'Past Stock')\n",
        "plt.title('Stock Price Prediction')\n",
        "plt.xlabel('Time')\n",
        "plt.ylabel('Stock Price')\n",
        "plt.legend()\n",
        "plt.savefig('Stock Price SVR LSTM 1.png')\n",
        "files.download(\"Stock Price SVR LSTM 1.png\")\n",
        "plt.show()"
      ],
      "execution_count": null,
      "outputs": [
        {
          "output_type": "display_data",
          "data": {
            "application/javascript": [
              "\n",
              "    async function download(id, filename, size) {\n",
              "      if (!google.colab.kernel.accessAllowed) {\n",
              "        return;\n",
              "      }\n",
              "      const div = document.createElement('div');\n",
              "      const label = document.createElement('label');\n",
              "      label.textContent = `Downloading \"${filename}\": `;\n",
              "      div.appendChild(label);\n",
              "      const progress = document.createElement('progress');\n",
              "      progress.max = size;\n",
              "      div.appendChild(progress);\n",
              "      document.body.appendChild(div);\n",
              "\n",
              "      const buffers = [];\n",
              "      let downloaded = 0;\n",
              "\n",
              "      const channel = await google.colab.kernel.comms.open(id);\n",
              "      // Send a message to notify the kernel that we're ready.\n",
              "      channel.send({})\n",
              "\n",
              "      for await (const message of channel.messages) {\n",
              "        // Send a message to notify the kernel that we're ready.\n",
              "        channel.send({})\n",
              "        if (message.buffers) {\n",
              "          for (const buffer of message.buffers) {\n",
              "            buffers.push(buffer);\n",
              "            downloaded += buffer.byteLength;\n",
              "            progress.value = downloaded;\n",
              "          }\n",
              "        }\n",
              "      }\n",
              "      const blob = new Blob(buffers, {type: 'application/binary'});\n",
              "      const a = document.createElement('a');\n",
              "      a.href = window.URL.createObjectURL(blob);\n",
              "      a.download = filename;\n",
              "      div.appendChild(a);\n",
              "      a.click();\n",
              "      div.remove();\n",
              "    }\n",
              "  "
            ],
            "text/plain": [
              "<IPython.core.display.Javascript object>"
            ]
          },
          "metadata": {
            "tags": []
          }
        },
        {
          "output_type": "display_data",
          "data": {
            "application/javascript": [
              "download(\"download_b4ee3952-16c6-4614-8d78-2c4046b3440a\", \"Stock Price SVR LSTM 1.png\", 32020)"
            ],
            "text/plain": [
              "<IPython.core.display.Javascript object>"
            ]
          },
          "metadata": {
            "tags": []
          }
        },
        {
          "output_type": "display_data",
          "data": {
            "image/png": "[encoded data removed]",
            "text/plain": [
              "<Figure size 432x288 with 1 Axes>"
            ]
          },
          "metadata": {
            "tags": []
          }
        }
      ]
    },
    {
      "cell_type": "code",
      "metadata": {
        "id": "RRepTsPgEuXx"
      },
      "source": [
        "final  = test_df.drop(test_df.index[0:36])\n",
        "final.reset_index(inplace=True)\n",
        "final.rename(columns = {'index':'Date'})\n",
        "final = final.drop(columns=['High','Low','Open','Volume','Close'])\n",
        "final['Predict_Value'] = predicted_y[0]\n",
        "final['Selisih'] = final['Adj Close'] - final['Predict_Value']\n",
        "final['Lost/Risk (%)'] = abs((final['Adj Close'] - final['Predict_Value'])/final['Predict_Value']*100)\n",
        "final = final.drop(columns=['Adj Close'])"
      ],
      "execution_count": null,
      "outputs": []
    },
    {
      "cell_type": "code",
      "metadata": {
        "id": "DhwcCvlTySN1"
      },
      "source": [
        "percent = test_df.drop(test_df.index[0:35])\n",
        "percent = percent.drop(test_df.index[-1])\n",
        "percent.reset_index(inplace=True)\n",
        "percent.rename(columns = {'index':'Date'}) \n",
        "percent = percent.drop(columns=['High','Low','Open','Volume','Close'])\n",
        "percent['Next Day'] = predicted_y\n",
        "percent['Plus or Minus']= percent['Adj Close'] - percent['Next Day']\n",
        "percent['Next Day (%)']= abs(((percent['Adj Close'] - percent['Next Day'])/percent['Adj Close'])*100)"
      ],
      "execution_count": null,
      "outputs": []
    },
    {
      "cell_type": "markdown",
      "metadata": {
        "id": "ib825d-fXMwk"
      },
      "source": [
        ""
      ]
    },
    {
      "cell_type": "code",
      "metadata": {
        "id": "sllI6VucG__o"
      },
      "source": [
        "True_Next_Day = test_df.drop(test_df.index[0:35])\n",
        "True_Next_Day = True_Next_Day.drop(test_df.index[-1])\n",
        "True_Next_Day.reset_index(inplace=True)\n",
        "True_Next_Day.rename(columns = {'index':'Date'}) \n",
        "True_Next_Day = True_Next_Day.drop(columns=['High','Low','Open','Volume','Close'])\n",
        "True_Next_Day['True Next Day'] = org_y\n",
        "True_Next_Day['True Plus or Minus']= (True_Next_Day['Adj Close'] - True_Next_Day['True Next Day'])\n",
        "True_Next_Day['True Next Day (%)']= abs(((True_Next_Day['Adj Close'] - True_Next_Day['True Next Day'])/True_Next_Day['Adj Close'])*100)\n",
        "True_Next_Day = True_Next_Day.drop(columns=['Adj Close','True Next Day'])"
      ],
      "execution_count": null,
      "outputs": []
    },
    {
      "cell_type": "code",
      "metadata": {
        "id": "121c4YuD-aJq",
        "colab": {
          "base_uri": "https://localhost:8080/"
        },
        "outputId": "f3623e1d-c369-4474-8f4b-84c29377c7ed"
      },
      "source": [
        "Concating = percent.merge(final, how='outer', on='Date')\n",
        "Concating = Concating.merge(True_Next_Day, how='outer', on='Date')\n",
        "#Concating.set_index('Date', inplace=True)\n",
        "Final_Predict = Concating.copy()\n",
        "Final_Predict['Harga Saham Hari ini'] = Concating['Adj Close']\n",
        "Final_Predict['Prediksi Besok'] = Concating['Plus or Minus']\n",
        "Final_Predict['Harga Besok Sebenarnya'] = Concating['True Plus or Minus']\n",
        "Final_Predict['Prediksi Besok (%)'] = (Concating['Next Day (%)'])\n",
        "Final_Predict['Harga Besok Sebenarnya (%)'] = Concating['True Next Day (%)']\n",
        "Final_Predict['Selisih Prediksi'] = (Final_Predict['Harga Besok Sebenarnya'] - Final_Predict['Prediksi Besok'])\n",
        "Final_Predict['Risk/MAPE(%)'] = abs(((Final_Predict['Harga Besok Sebenarnya'] - Final_Predict['Prediksi Besok'])/Final_Predict['Harga Besok Sebenarnya'])*100)\n",
        "Final_Predict['Risk/MAPE(%)'] = round(Final_Predict['Risk/MAPE(%)'], 2)\n",
        "Final_Predict = Final_Predict.drop(columns=['Adj Close', 'Next Day', 'Plus or Minus', 'Next Day (%)',\n",
        "                                            'Predict_Value', 'Selisih', 'Lost/Risk (%)', 'True Plus or Minus',\n",
        "                                            'True Next Day (%)'])\n",
        "Final_Predict = Final_Predict.replace(0, np.nan)\n",
        "Final_Predict = Final_Predict.dropna()\n",
        "Final_Predict.set_index('Date', inplace=True)\n",
        "Final_Predict.shape"
      ],
      "execution_count": null,
      "outputs": [
        {
          "output_type": "execute_result",
          "data": {
            "text/plain": [
              "(229, 7)"
            ]
          },
          "metadata": {
            "tags": []
          },
          "execution_count": 41
        }
      ]
    },
    {
      "cell_type": "code",
      "metadata": {
        "colab": {
          "base_uri": "https://localhost:8080/",
          "height": 235
        },
        "id": "ookffGOJ-lmk",
        "outputId": "5965358d-c01f-4741-c3da-a7848506ace5"
      },
      "source": [
        "Final_Predict.head()"
      ],
      "execution_count": null,
      "outputs": [
        {
          "output_type": "execute_result",
          "data": {
            "text/html": [
              "<div>\n",
              "<style scoped>\n",
              "    .dataframe tbody tr th:only-of-type {\n",
              "        vertical-align: middle;\n",
              "    }\n",
              "\n",
              "    .dataframe tbody tr th {\n",
              "        vertical-align: top;\n",
              "    }\n",
              "\n",
              "    .dataframe thead th {\n",
              "        text-align: right;\n",
              "    }\n",
              "</style>\n",
              "<table border=\"1\" class=\"dataframe\">\n",
              "  <thead>\n",
              "    <tr style=\"text-align: right;\">\n",
              "      <th></th>\n",
              "      <th>Harga Saham Hari ini</th>\n",
              "      <th>Prediksi Besok</th>\n",
              "      <th>Harga Besok Sebenarnya</th>\n",
              "      <th>Prediksi Besok (%)</th>\n",
              "      <th>Harga Besok Sebenarnya (%)</th>\n",
              "      <th>Selisih Prediksi</th>\n",
              "      <th>Risk/MAPE(%)</th>\n",
              "    </tr>\n",
              "    <tr>\n",
              "      <th>Date</th>\n",
              "      <th></th>\n",
              "      <th></th>\n",
              "      <th></th>\n",
              "      <th></th>\n",
              "      <th></th>\n",
              "      <th></th>\n",
              "      <th></th>\n",
              "    </tr>\n",
              "  </thead>\n",
              "  <tbody>\n",
              "    <tr>\n",
              "      <th>2019-01-01</th>\n",
              "      <td>24822.550781</td>\n",
              "      <td>-315.865234</td>\n",
              "      <td>-190.943359</td>\n",
              "      <td>1.272493</td>\n",
              "      <td>0.769233</td>\n",
              "      <td>124.921875</td>\n",
              "      <td>65.42</td>\n",
              "    </tr>\n",
              "    <tr>\n",
              "      <th>2019-01-02</th>\n",
              "      <td>25013.494141</td>\n",
              "      <td>-165.060547</td>\n",
              "      <td>286.414062</td>\n",
              "      <td>0.659886</td>\n",
              "      <td>1.145038</td>\n",
              "      <td>451.474609</td>\n",
              "      <td>157.63</td>\n",
              "    </tr>\n",
              "    <tr>\n",
              "      <th>2019-01-03</th>\n",
              "      <td>24727.080078</td>\n",
              "      <td>-454.263672</td>\n",
              "      <td>-119.339844</td>\n",
              "      <td>1.837110</td>\n",
              "      <td>0.482628</td>\n",
              "      <td>334.923828</td>\n",
              "      <td>280.65</td>\n",
              "    </tr>\n",
              "    <tr>\n",
              "      <th>2019-01-04</th>\n",
              "      <td>24846.419922</td>\n",
              "      <td>-335.486328</td>\n",
              "      <td>-190.941406</td>\n",
              "      <td>1.350240</td>\n",
              "      <td>0.768487</td>\n",
              "      <td>144.544922</td>\n",
              "      <td>75.70</td>\n",
              "    </tr>\n",
              "    <tr>\n",
              "      <th>2019-01-07</th>\n",
              "      <td>25037.361328</td>\n",
              "      <td>-170.576172</td>\n",
              "      <td>23.867188</td>\n",
              "      <td>0.681287</td>\n",
              "      <td>0.095326</td>\n",
              "      <td>194.443359</td>\n",
              "      <td>814.69</td>\n",
              "    </tr>\n",
              "  </tbody>\n",
              "</table>\n",
              "</div>"
            ],
            "text/plain": [
              "            Harga Saham Hari ini  ...  Risk/MAPE(%)\n",
              "Date                              ...              \n",
              "2019-01-01          24822.550781  ...         65.42\n",
              "2019-01-02          25013.494141  ...        157.63\n",
              "2019-01-03          24727.080078  ...        280.65\n",
              "2019-01-04          24846.419922  ...         75.70\n",
              "2019-01-07          25037.361328  ...        814.69\n",
              "\n",
              "[5 rows x 7 columns]"
            ]
          },
          "metadata": {
            "tags": []
          },
          "execution_count": 42
        }
      ]
    },
    {
      "cell_type": "code",
      "metadata": {
        "colab": {
          "base_uri": "https://localhost:8080/",
          "height": 299
        },
        "id": "kgXVUoOccIB1",
        "outputId": "6db376f7-c078-4f01-fe3b-30e04409f43b"
      },
      "source": [
        "# plot the results \n",
        "plt.plot(Final_Predict['Prediksi Besok'], color = 'red', label = 'Real Stock Price')\n",
        "plt.plot(Final_Predict['Harga Besok Sebenarnya'], color = 'blue', label = 'Predicted Stock Price')\n",
        "#plt.plot(Final_Predict['Risk/MAPE(%)'], color = 'black', label = 'RISK/MAPE(%)')\n",
        "plt.title('Stock Price Prediction')\n",
        "plt.xlabel('Time')\n",
        "plt.ylabel('Stock Price')\n",
        "plt.legend()\n",
        "plt.savefig('Stock Price SVR LSTM 1.png')\n",
        "files.download(\"Stock Price SVR LSTM 1.png\")\n",
        "plt.show()"
      ],
      "execution_count": null,
      "outputs": [
        {
          "output_type": "display_data",
          "data": {
            "application/javascript": [
              "\n",
              "    async function download(id, filename, size) {\n",
              "      if (!google.colab.kernel.accessAllowed) {\n",
              "        return;\n",
              "      }\n",
              "      const div = document.createElement('div');\n",
              "      const label = document.createElement('label');\n",
              "      label.textContent = `Downloading \"${filename}\": `;\n",
              "      div.appendChild(label);\n",
              "      const progress = document.createElement('progress');\n",
              "      progress.max = size;\n",
              "      div.appendChild(progress);\n",
              "      document.body.appendChild(div);\n",
              "\n",
              "      const buffers = [];\n",
              "      let downloaded = 0;\n",
              "\n",
              "      const channel = await google.colab.kernel.comms.open(id);\n",
              "      // Send a message to notify the kernel that we're ready.\n",
              "      channel.send({})\n",
              "\n",
              "      for await (const message of channel.messages) {\n",
              "        // Send a message to notify the kernel that we're ready.\n",
              "        channel.send({})\n",
              "        if (message.buffers) {\n",
              "          for (const buffer of message.buffers) {\n",
              "            buffers.push(buffer);\n",
              "            downloaded += buffer.byteLength;\n",
              "            progress.value = downloaded;\n",
              "          }\n",
              "        }\n",
              "      }\n",
              "      const blob = new Blob(buffers, {type: 'application/binary'});\n",
              "      const a = document.createElement('a');\n",
              "      a.href = window.URL.createObjectURL(blob);\n",
              "      a.download = filename;\n",
              "      div.appendChild(a);\n",
              "      a.click();\n",
              "      div.remove();\n",
              "    }\n",
              "  "
            ],
            "text/plain": [
              "<IPython.core.display.Javascript object>"
            ]
          },
          "metadata": {
            "tags": []
          }
        },
        {
          "output_type": "display_data",
          "data": {
            "application/javascript": [
              "download(\"download_bdc23bc3-e0b9-49de-92ac-c4c05fa2c230\", \"Stock Price SVR LSTM 1.png\", 41301)"
            ],
            "text/plain": [
              "<IPython.core.display.Javascript object>"
            ]
          },
          "metadata": {
            "tags": []
          }
        },
        {
          "output_type": "display_data",
          "data": {
            "image/png": "[encoded data removed]",
            "text/plain": [
              "<Figure size 432x288 with 1 Axes>"
            ]
          },
          "metadata": {
            "tags": []
          }
        }
      ]
    },
    {
      "cell_type": "code",
      "metadata": {
        "id": "towGbwPBLWUk"
      },
      "source": [
        "#### Mencari Data STAT MODEL"
      ],
      "execution_count": null,
      "outputs": []
    },
    {
      "cell_type": "code",
      "metadata": {
        "id": "UiadXxndQ2NX"
      },
      "source": [
        "a = X_test\n",
        "a = np.reshape(a, (-1, 36))\n",
        "a = scaler.inverse_transform(a)\n",
        "a = pd.DataFrame(a)"
      ],
      "execution_count": null,
      "outputs": []
    },
    {
      "cell_type": "code",
      "metadata": {
        "id": "ErHLvejACioW"
      },
      "source": [
        "b = y_test\n",
        "#b = np.reshape(b, (-1, 36))\n",
        "b = scaler.inverse_transform(b)\n",
        "b = pd.DataFrame(b)"
      ],
      "execution_count": null,
      "outputs": []
    },
    {
      "cell_type": "code",
      "metadata": {
        "id": "O62uEaEkLyWO"
      },
      "source": [
        "#OLS Model\n",
        "import statsmodels.api as sm\n",
        "X = a\n",
        "Y = b\n",
        "X = sm.add_constant(X)\n",
        "model_ols = sm.OLS(Y,X)\n",
        "results = model_ols.fit()"
      ],
      "execution_count": null,
      "outputs": []
    },
    {
      "cell_type": "code",
      "metadata": {
        "id": "_CaG_RGcMpzM",
        "colab": {
          "base_uri": "https://localhost:8080/",
          "height": 1000
        },
        "outputId": "26946f6b-e001-4813-9f44-424a3c6aec63"
      },
      "source": [
        "results.summary()"
      ],
      "execution_count": null,
      "outputs": [
        {
          "output_type": "execute_result",
          "data": {
            "text/html": [
              "<table class=\"simpletable\">\n",
              "<caption>OLS Regression Results</caption>\n",
              "<tr>\n",
              "  <th>Dep. Variable:</th>            <td>0</td>        <th>  R-squared:         </th> <td>   0.981</td> \n",
              "</tr>\n",
              "<tr>\n",
              "  <th>Model:</th>                   <td>OLS</td>       <th>  Adj. R-squared:    </th> <td>   0.978</td> \n",
              "</tr>\n",
              "<tr>\n",
              "  <th>Method:</th>             <td>Least Squares</td>  <th>  F-statistic:       </th> <td>   320.6</td> \n",
              "</tr>\n",
              "<tr>\n",
              "  <th>Date:</th>             <td>Fri, 16 Apr 2021</td> <th>  Prob (F-statistic):</th> <td>1.33e-169</td>\n",
              "</tr>\n",
              "<tr>\n",
              "  <th>Time:</th>                 <td>02:55:42</td>     <th>  Log-Likelihood:    </th> <td> -1775.2</td> \n",
              "</tr>\n",
              "<tr>\n",
              "  <th>No. Observations:</th>      <td>   256</td>      <th>  AIC:               </th> <td>   3624.</td> \n",
              "</tr>\n",
              "<tr>\n",
              "  <th>Df Residuals:</th>          <td>   219</td>      <th>  BIC:               </th> <td>   3756.</td> \n",
              "</tr>\n",
              "<tr>\n",
              "  <th>Df Model:</th>              <td>    36</td>      <th>                     </th>     <td> </td>    \n",
              "</tr>\n",
              "<tr>\n",
              "  <th>Covariance Type:</th>      <td>nonrobust</td>    <th>                     </th>     <td> </td>    \n",
              "</tr>\n",
              "</table>\n",
              "<table class=\"simpletable\">\n",
              "<tr>\n",
              "    <td></td>       <th>coef</th>     <th>std err</th>      <th>t</th>      <th>P>|t|</th>  <th>[0.025</th>    <th>0.975]</th>  \n",
              "</tr>\n",
              "<tr>\n",
              "  <th>const</th> <td>   96.9326</td> <td>  270.856</td> <td>    0.358</td> <td> 0.721</td> <td> -436.886</td> <td>  630.751</td>\n",
              "</tr>\n",
              "<tr>\n",
              "  <th>0</th>     <td>   -0.0425</td> <td>    0.070</td> <td>   -0.605</td> <td> 0.546</td> <td>   -0.181</td> <td>    0.096</td>\n",
              "</tr>\n",
              "<tr>\n",
              "  <th>1</th>     <td>    0.0127</td> <td>    0.095</td> <td>    0.133</td> <td> 0.894</td> <td>   -0.175</td> <td>    0.200</td>\n",
              "</tr>\n",
              "<tr>\n",
              "  <th>2</th>     <td>    0.0921</td> <td>    0.095</td> <td>    0.969</td> <td> 0.334</td> <td>   -0.095</td> <td>    0.279</td>\n",
              "</tr>\n",
              "<tr>\n",
              "  <th>3</th>     <td>    0.0470</td> <td>    0.095</td> <td>    0.493</td> <td> 0.622</td> <td>   -0.141</td> <td>    0.235</td>\n",
              "</tr>\n",
              "<tr>\n",
              "  <th>4</th>     <td>   -0.1529</td> <td>    0.095</td> <td>   -1.617</td> <td> 0.107</td> <td>   -0.339</td> <td>    0.034</td>\n",
              "</tr>\n",
              "<tr>\n",
              "  <th>5</th>     <td>    0.1427</td> <td>    0.094</td> <td>    1.518</td> <td> 0.131</td> <td>   -0.043</td> <td>    0.328</td>\n",
              "</tr>\n",
              "<tr>\n",
              "  <th>6</th>     <td>   -0.1075</td> <td>    0.094</td> <td>   -1.143</td> <td> 0.254</td> <td>   -0.293</td> <td>    0.078</td>\n",
              "</tr>\n",
              "<tr>\n",
              "  <th>7</th>     <td>    0.0609</td> <td>    0.094</td> <td>    0.646</td> <td> 0.519</td> <td>   -0.125</td> <td>    0.246</td>\n",
              "</tr>\n",
              "<tr>\n",
              "  <th>8</th>     <td>   -0.0525</td> <td>    0.094</td> <td>   -0.557</td> <td> 0.578</td> <td>   -0.239</td> <td>    0.133</td>\n",
              "</tr>\n",
              "<tr>\n",
              "  <th>9</th>     <td>    0.0568</td> <td>    0.094</td> <td>    0.602</td> <td> 0.548</td> <td>   -0.129</td> <td>    0.243</td>\n",
              "</tr>\n",
              "<tr>\n",
              "  <th>10</th>    <td>   -0.0114</td> <td>    0.094</td> <td>   -0.121</td> <td> 0.904</td> <td>   -0.198</td> <td>    0.175</td>\n",
              "</tr>\n",
              "<tr>\n",
              "  <th>11</th>    <td>   -0.1102</td> <td>    0.094</td> <td>   -1.177</td> <td> 0.240</td> <td>   -0.295</td> <td>    0.074</td>\n",
              "</tr>\n",
              "<tr>\n",
              "  <th>12</th>    <td>    0.0485</td> <td>    0.094</td> <td>    0.517</td> <td> 0.605</td> <td>   -0.136</td> <td>    0.233</td>\n",
              "</tr>\n",
              "<tr>\n",
              "  <th>13</th>    <td>    0.0761</td> <td>    0.094</td> <td>    0.810</td> <td> 0.419</td> <td>   -0.109</td> <td>    0.261</td>\n",
              "</tr>\n",
              "<tr>\n",
              "  <th>14</th>    <td>   -0.1063</td> <td>    0.095</td> <td>   -1.119</td> <td> 0.264</td> <td>   -0.293</td> <td>    0.081</td>\n",
              "</tr>\n",
              "<tr>\n",
              "  <th>15</th>    <td>    0.1300</td> <td>    0.096</td> <td>    1.355</td> <td> 0.177</td> <td>   -0.059</td> <td>    0.319</td>\n",
              "</tr>\n",
              "<tr>\n",
              "  <th>16</th>    <td>   -0.1117</td> <td>    0.095</td> <td>   -1.172</td> <td> 0.243</td> <td>   -0.300</td> <td>    0.076</td>\n",
              "</tr>\n",
              "<tr>\n",
              "  <th>17</th>    <td>    0.1646</td> <td>    0.095</td> <td>    1.740</td> <td> 0.083</td> <td>   -0.022</td> <td>    0.351</td>\n",
              "</tr>\n",
              "<tr>\n",
              "  <th>18</th>    <td>   -0.0871</td> <td>    0.094</td> <td>   -0.925</td> <td> 0.356</td> <td>   -0.273</td> <td>    0.098</td>\n",
              "</tr>\n",
              "<tr>\n",
              "  <th>19</th>    <td>    0.0165</td> <td>    0.095</td> <td>    0.173</td> <td> 0.863</td> <td>   -0.171</td> <td>    0.204</td>\n",
              "</tr>\n",
              "<tr>\n",
              "  <th>20</th>    <td>   -0.0020</td> <td>    0.096</td> <td>   -0.021</td> <td> 0.983</td> <td>   -0.192</td> <td>    0.188</td>\n",
              "</tr>\n",
              "<tr>\n",
              "  <th>21</th>    <td>   -0.0687</td> <td>    0.097</td> <td>   -0.709</td> <td> 0.479</td> <td>   -0.260</td> <td>    0.122</td>\n",
              "</tr>\n",
              "<tr>\n",
              "  <th>22</th>    <td>    0.1484</td> <td>    0.097</td> <td>    1.533</td> <td> 0.127</td> <td>   -0.042</td> <td>    0.339</td>\n",
              "</tr>\n",
              "<tr>\n",
              "  <th>23</th>    <td>   -0.1227</td> <td>    0.096</td> <td>   -1.273</td> <td> 0.204</td> <td>   -0.313</td> <td>    0.067</td>\n",
              "</tr>\n",
              "<tr>\n",
              "  <th>24</th>    <td>    0.0734</td> <td>    0.096</td> <td>    0.767</td> <td> 0.444</td> <td>   -0.115</td> <td>    0.262</td>\n",
              "</tr>\n",
              "<tr>\n",
              "  <th>25</th>    <td>    0.0278</td> <td>    0.096</td> <td>    0.290</td> <td> 0.772</td> <td>   -0.161</td> <td>    0.216</td>\n",
              "</tr>\n",
              "<tr>\n",
              "  <th>26</th>    <td>   -0.0549</td> <td>    0.097</td> <td>   -0.567</td> <td> 0.571</td> <td>   -0.246</td> <td>    0.136</td>\n",
              "</tr>\n",
              "<tr>\n",
              "  <th>27</th>    <td>   -0.1560</td> <td>    0.099</td> <td>   -1.582</td> <td> 0.115</td> <td>   -0.350</td> <td>    0.038</td>\n",
              "</tr>\n",
              "<tr>\n",
              "  <th>28</th>    <td>    0.1545</td> <td>    0.099</td> <td>    1.561</td> <td> 0.120</td> <td>   -0.041</td> <td>    0.349</td>\n",
              "</tr>\n",
              "<tr>\n",
              "  <th>29</th>    <td>   -0.1007</td> <td>    0.099</td> <td>   -1.022</td> <td> 0.308</td> <td>   -0.295</td> <td>    0.093</td>\n",
              "</tr>\n",
              "<tr>\n",
              "  <th>30</th>    <td>    0.1221</td> <td>    0.093</td> <td>    1.317</td> <td> 0.189</td> <td>   -0.061</td> <td>    0.305</td>\n",
              "</tr>\n",
              "<tr>\n",
              "  <th>31</th>    <td>   -0.0226</td> <td>    0.092</td> <td>   -0.246</td> <td> 0.806</td> <td>   -0.203</td> <td>    0.158</td>\n",
              "</tr>\n",
              "<tr>\n",
              "  <th>32</th>    <td>   -0.0536</td> <td>    0.092</td> <td>   -0.582</td> <td> 0.561</td> <td>   -0.235</td> <td>    0.128</td>\n",
              "</tr>\n",
              "<tr>\n",
              "  <th>33</th>    <td>    0.0865</td> <td>    0.092</td> <td>    0.940</td> <td> 0.348</td> <td>   -0.095</td> <td>    0.268</td>\n",
              "</tr>\n",
              "<tr>\n",
              "  <th>34</th>    <td>   -0.0308</td> <td>    0.092</td> <td>   -0.333</td> <td> 0.739</td> <td>   -0.213</td> <td>    0.151</td>\n",
              "</tr>\n",
              "<tr>\n",
              "  <th>35</th>    <td>    0.9325</td> <td>    0.068</td> <td>   13.808</td> <td> 0.000</td> <td>    0.799</td> <td>    1.066</td>\n",
              "</tr>\n",
              "</table>\n",
              "<table class=\"simpletable\">\n",
              "<tr>\n",
              "  <th>Omnibus:</th>       <td>21.845</td> <th>  Durbin-Watson:     </th> <td>   2.011</td>\n",
              "</tr>\n",
              "<tr>\n",
              "  <th>Prob(Omnibus):</th> <td> 0.000</td> <th>  Jarque-Bera (JB):  </th> <td>  67.595</td>\n",
              "</tr>\n",
              "<tr>\n",
              "  <th>Skew:</th>          <td> 0.249</td> <th>  Prob(JB):          </th> <td>2.10e-15</td>\n",
              "</tr>\n",
              "<tr>\n",
              "  <th>Kurtosis:</th>      <td> 5.467</td> <th>  Cond. No.          </th> <td>2.69e+06</td>\n",
              "</tr>\n",
              "</table><br/><br/>Warnings:<br/>[1] Standard Errors assume that the covariance matrix of the errors is correctly specified.<br/>[2] The condition number is large, 2.69e+06. This might indicate that there are<br/>strong multicollinearity or other numerical problems."
            ],
            "text/plain": [
              "<class 'statsmodels.iolib.summary.Summary'>\n",
              "\"\"\"\n",
              "                            OLS Regression Results                            \n",
              "==============================================================================\n",
              "Dep. Variable:                      0   R-squared:                       0.981\n",
              "Model:                            OLS   Adj. R-squared:                  0.978\n",
              "Method:                 Least Squares   F-statistic:                     320.6\n",
              "Date:                Fri, 16 Apr 2021   Prob (F-statistic):          1.33e-169\n",
              "Time:                        02:55:42   Log-Likelihood:                -1775.2\n",
              "No. Observations:                 256   AIC:                             3624.\n",
              "Df Residuals:                     219   BIC:                             3756.\n",
              "Df Model:                          36                                         \n",
              "Covariance Type:            nonrobust                                         \n",
              "==============================================================================\n",
              "                 coef    std err          t      P>|t|      [0.025      0.975]\n",
              "------------------------------------------------------------------------------\n",
              "const         96.9326    270.856      0.358      0.721    -436.886     630.751\n",
              "0             -0.0425      0.070     -0.605      0.546      -0.181       0.096\n",
              "1              0.0127      0.095      0.133      0.894      -0.175       0.200\n",
              "2              0.0921      0.095      0.969      0.334      -0.095       0.279\n",
              "3              0.0470      0.095      0.493      0.622      -0.141       0.235\n",
              "4             -0.1529      0.095     -1.617      0.107      -0.339       0.034\n",
              "5              0.1427      0.094      1.518      0.131      -0.043       0.328\n",
              "6             -0.1075      0.094     -1.143      0.254      -0.293       0.078\n",
              "7              0.0609      0.094      0.646      0.519      -0.125       0.246\n",
              "8             -0.0525      0.094     -0.557      0.578      -0.239       0.133\n",
              "9              0.0568      0.094      0.602      0.548      -0.129       0.243\n",
              "10            -0.0114      0.094     -0.121      0.904      -0.198       0.175\n",
              "11            -0.1102      0.094     -1.177      0.240      -0.295       0.074\n",
              "12             0.0485      0.094      0.517      0.605      -0.136       0.233\n",
              "13             0.0761      0.094      0.810      0.419      -0.109       0.261\n",
              "14            -0.1063      0.095     -1.119      0.264      -0.293       0.081\n",
              "15             0.1300      0.096      1.355      0.177      -0.059       0.319\n",
              "16            -0.1117      0.095     -1.172      0.243      -0.300       0.076\n",
              "17             0.1646      0.095      1.740      0.083      -0.022       0.351\n",
              "18            -0.0871      0.094     -0.925      0.356      -0.273       0.098\n",
              "19             0.0165      0.095      0.173      0.863      -0.171       0.204\n",
              "20            -0.0020      0.096     -0.021      0.983      -0.192       0.188\n",
              "21            -0.0687      0.097     -0.709      0.479      -0.260       0.122\n",
              "22             0.1484      0.097      1.533      0.127      -0.042       0.339\n",
              "23            -0.1227      0.096     -1.273      0.204      -0.313       0.067\n",
              "24             0.0734      0.096      0.767      0.444      -0.115       0.262\n",
              "25             0.0278      0.096      0.290      0.772      -0.161       0.216\n",
              "26            -0.0549      0.097     -0.567      0.571      -0.246       0.136\n",
              "27            -0.1560      0.099     -1.582      0.115      -0.350       0.038\n",
              "28             0.1545      0.099      1.561      0.120      -0.041       0.349\n",
              "29            -0.1007      0.099     -1.022      0.308      -0.295       0.093\n",
              "30             0.1221      0.093      1.317      0.189      -0.061       0.305\n",
              "31            -0.0226      0.092     -0.246      0.806      -0.203       0.158\n",
              "32            -0.0536      0.092     -0.582      0.561      -0.235       0.128\n",
              "33             0.0865      0.092      0.940      0.348      -0.095       0.268\n",
              "34            -0.0308      0.092     -0.333      0.739      -0.213       0.151\n",
              "35             0.9325      0.068     13.808      0.000       0.799       1.066\n",
              "==============================================================================\n",
              "Omnibus:                       21.845   Durbin-Watson:                   2.011\n",
              "Prob(Omnibus):                  0.000   Jarque-Bera (JB):               67.595\n",
              "Skew:                           0.249   Prob(JB):                     2.10e-15\n",
              "Kurtosis:                       5.467   Cond. No.                     2.69e+06\n",
              "==============================================================================\n",
              "\n",
              "Warnings:\n",
              "[1] Standard Errors assume that the covariance matrix of the errors is correctly specified.\n",
              "[2] The condition number is large, 2.69e+06. This might indicate that there are\n",
              "strong multicollinearity or other numerical problems.\n",
              "\"\"\""
            ]
          },
          "metadata": {
            "tags": []
          },
          "execution_count": 48
        }
      ]
    }
  ]
}