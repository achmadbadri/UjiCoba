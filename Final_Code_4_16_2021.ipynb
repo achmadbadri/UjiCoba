{
  "nbformat": 4,
  "nbformat_minor": 0,
  "metadata": {
    "colab": {
      "name": "Final Code - 4/16/2021",
      "provenance": [],
      "collapsed_sections": [],
      "authorship_tag": "ABX9TyMmW5KS1UC6wz/3gUk0/FHf",
      "include_colab_link": true
    },
    "kernelspec": {
      "display_name": "Python 3",
      "name": "python3"
    }
  },
  "cells": [
    {
      "cell_type": "markdown",
      "metadata": {
        "id": "view-in-github",
        "colab_type": "text"
      },
      "source": [
        "<a href=\"https://colab.research.google.com/github/achmadbadri/UjiCoba/blob/main/Final_Code_4_16_2021.ipynb\" target=\"_parent\"><img src=\"https://colab.research.google.com/assets/colab-badge.svg\" alt=\"Open In Colab\"/></a>"
      ]
    },
    {
      "cell_type": "markdown",
      "metadata": {
        "id": "nG5q7aQ2T7yt"
      },
      "source": [
        "https://towardsdatascience.com/walking-through-support-vector-regression-and-lstms-with-stock-price-prediction-45e11b620650"
      ]
    },
    {
      "cell_type": "code",
      "metadata": {
        "id": "imVL_RBkSiEM"
      },
      "source": [
        "import keras\n",
        "from keras.layers import Dense\n",
        "from keras.layers import LSTM\n",
        "from keras.layers import Dropout\n",
        "import pandas as pd \n",
        "import pandas_datareader.data as web\n",
        "import datetime\n",
        "import numpy as np \n",
        "from matplotlib import style\n",
        "from google.colab import files\n",
        "# Visualize the training stock data:\n",
        "import matplotlib.pyplot as plt\n",
        "%matplotlib inline\n",
        "\n",
        "# ignore warnings \n",
        "import warnings\n",
        "warnings.filterwarnings('ignore')"
      ],
      "execution_count": null,
      "outputs": []
    },
    {
      "cell_type": "code",
      "metadata": {
        "colab": {
          "base_uri": "https://localhost:8080/"
        },
        "id": "7mgHVWneS0-0",
        "outputId": "dc8fd187-2dd3-49b1-edbe-534f368f661f"
      },
      "source": [
        "# Get the stock data using yahoo API:\n",
        "style.use('ggplot')\n",
        "\n",
        "# get 2014-2018 data to train our model\n",
        "start = datetime.datetime(2014,1,1)\n",
        "end = datetime.datetime(2018,12,31)\n",
        "df = web.DataReader(\"ANTM.JK\", 'yahoo', start, end) \n",
        "\n",
        "# get 2019 data to test our model on \n",
        "start = datetime.datetime(2018,11,13)\n",
        "end = datetime.datetime(2019,12,31)\n",
        "test_df = web.DataReader(\"ANTM.JK\", 'yahoo', start, end) \n",
        "print(df.shape)\n",
        "print(test_df.shape)"
      ],
      "execution_count": null,
      "outputs": [
        {
          "output_type": "stream",
          "text": [
            "(1251, 6)\n",
            "(292, 6)\n"
          ],
          "name": "stdout"
        }
      ]
    },
    {
      "cell_type": "markdown",
      "metadata": {
        "id": "q6AYvdKIMFZ8"
      },
      "source": [
        ""
      ]
    },
    {
      "cell_type": "code",
      "metadata": {
        "colab": {
          "base_uri": "https://localhost:8080/"
        },
        "id": "H598YUDjU7Sd",
        "outputId": "484bffb0-326b-482f-95d2-a10ce5e5efb6"
      },
      "source": [
        "# Create train set of adj close prices data:\n",
        "train_data = df.loc[:,'Adj Close'].to_numpy()\n",
        "print(train_data.shape) # 1258 \n",
        "\n",
        "\n",
        "# Apply normalization before feeding to LSTM using sklearn:\n",
        "from sklearn.preprocessing import MinMaxScaler\n",
        "\n",
        "scaler = MinMaxScaler()\n",
        "train_data = train_data.reshape(-1,1)\n",
        "\n",
        "scaler.fit(train_data)\n",
        "train_data = scaler.transform(train_data)"
      ],
      "execution_count": null,
      "outputs": [
        {
          "output_type": "stream",
          "text": [
            "(1251,)\n"
          ],
          "name": "stdout"
        }
      ]
    },
    {
      "cell_type": "code",
      "metadata": {
        "colab": {
          "base_uri": "https://localhost:8080/"
        },
        "id": "8ITZZaGnVFTQ",
        "outputId": "298a2d07-1829-4427-9e8e-05ed6800915b"
      },
      "source": [
        "'''Function to create a dataset to feed into an LSTM'''\n",
        "def create_dataset(dataset, look_back):\n",
        "    dataX, dataY = [], []\n",
        "    for i in range(len(dataset)-look_back):\n",
        "        a = dataset[i:(i + look_back), 0]\n",
        "        dataX.append(a)\n",
        "        dataY.append(dataset[i + look_back, 0])\n",
        "    return np.array(dataX), np.array(dataY)\n",
        "    \n",
        "    \n",
        "# Create the data to train our model on:\n",
        "time_steps = 36\n",
        "X_train, y_train = create_dataset(train_data, time_steps)\n",
        "\n",
        "# reshape it [samples, time steps, features]\n",
        "X_train = np.reshape(X_train, (X_train.shape[0], 36, 1))\n",
        "\n",
        "print(X_train.shape)\n",
        "\n",
        "\n",
        "# Visualizing our data with prints: \n",
        "print('X_train:')\n",
        "print(str(scaler.inverse_transform(X_train[0])))\n",
        "print(\"\\n\")\n",
        "print('y_train: ' + str(scaler.inverse_transform(y_train[0].reshape(-1,1)))+'\\n')"
      ],
      "execution_count": null,
      "outputs": [
        {
          "output_type": "stream",
          "text": [
            "(1215, 36, 1)\n",
            "X_train:\n",
            "[[879.27844238]\n",
            " [846.71258545]\n",
            " [818.21740723]\n",
            " [818.21740723]\n",
            " [822.28820801]\n",
            " [818.21740723]\n",
            " [797.86383057]\n",
            " [806.00531006]\n",
            " [806.00531006]\n",
            " [830.42956543]\n",
            " [818.21740723]\n",
            " [838.57110596]\n",
            " [879.27844238]\n",
            " [871.13696289]\n",
            " [850.78338623]\n",
            " [846.71258545]\n",
            " [822.28820801]\n",
            " [818.21740723]\n",
            " [822.28820801]\n",
            " [838.57110596]\n",
            " [830.42956543]\n",
            " [818.21740723]\n",
            " [814.14678955]\n",
            " [814.14678955]\n",
            " [822.28820801]\n",
            " [826.35888672]\n",
            " [846.71258545]\n",
            " [842.6418457 ]\n",
            " [826.35888672]\n",
            " [826.35888672]\n",
            " [842.6418457 ]\n",
            " [862.99554443]\n",
            " [862.99554443]\n",
            " [850.78338623]\n",
            " [858.92480469]\n",
            " [854.85406494]]\n",
            "\n",
            "\n",
            "y_train: [[842.6418457]]\n",
            "\n"
          ],
          "name": "stdout"
        }
      ]
    },
    {
      "cell_type": "code",
      "metadata": {
        "colab": {
          "base_uri": "https://localhost:8080/"
        },
        "id": "pmuzZ5TqVR8O",
        "outputId": "15a32de0-11eb-43ce-ddac-fc6ab2a7926a"
      },
      "source": [
        "# Build the model \n",
        "model = keras.Sequential()\n",
        "\n",
        "model.add(LSTM(units = 100, return_sequences = True, input_shape = (X_train.shape[1], 1)))\n",
        "model.add(Dropout(0.2))\n",
        "\n",
        "model.add(LSTM(units = 100))\n",
        "model.add(Dropout(0.2))\n",
        "\n",
        "# Output layer\n",
        "model.add(Dense(units = 1))\n",
        "\n",
        "# Compiling the model\n",
        "model.compile(optimizer = 'adam', loss = 'mean_squared_error')\n",
        "\n",
        "# Fitting the model to the Training set\n",
        "history = model.fit(X_train, y_train, epochs = 20, batch_size = 10, validation_split=.30)"
      ],
      "execution_count": null,
      "outputs": [
        {
          "output_type": "stream",
          "text": [
            "Epoch 1/20\n",
            "85/85 [==============================] - 7s 48ms/step - loss: 0.0476 - val_loss: 0.0031\n",
            "Epoch 2/20\n",
            "85/85 [==============================] - 3s 37ms/step - loss: 0.0053 - val_loss: 0.0051\n",
            "Epoch 3/20\n",
            "85/85 [==============================] - 3s 36ms/step - loss: 0.0054 - val_loss: 0.0034\n",
            "Epoch 4/20\n",
            "85/85 [==============================] - 3s 36ms/step - loss: 0.0043 - val_loss: 0.0022\n",
            "Epoch 5/20\n",
            "85/85 [==============================] - 3s 36ms/step - loss: 0.0037 - val_loss: 0.0049\n",
            "Epoch 6/20\n",
            "85/85 [==============================] - 3s 37ms/step - loss: 0.0039 - val_loss: 0.0020\n",
            "Epoch 7/20\n",
            "85/85 [==============================] - 3s 36ms/step - loss: 0.0043 - val_loss: 0.0018\n",
            "Epoch 8/20\n",
            "85/85 [==============================] - 3s 36ms/step - loss: 0.0037 - val_loss: 0.0018\n",
            "Epoch 9/20\n",
            "85/85 [==============================] - 3s 37ms/step - loss: 0.0031 - val_loss: 0.0021\n",
            "Epoch 10/20\n",
            "85/85 [==============================] - 3s 36ms/step - loss: 0.0031 - val_loss: 0.0016\n",
            "Epoch 11/20\n",
            "85/85 [==============================] - 3s 36ms/step - loss: 0.0028 - val_loss: 0.0018\n",
            "Epoch 12/20\n",
            "85/85 [==============================] - 3s 37ms/step - loss: 0.0028 - val_loss: 0.0014\n",
            "Epoch 13/20\n",
            "85/85 [==============================] - 3s 37ms/step - loss: 0.0026 - val_loss: 0.0018\n",
            "Epoch 14/20\n",
            "85/85 [==============================] - 3s 37ms/step - loss: 0.0035 - val_loss: 0.0014\n",
            "Epoch 15/20\n",
            "85/85 [==============================] - 3s 37ms/step - loss: 0.0027 - val_loss: 0.0019\n",
            "Epoch 16/20\n",
            "85/85 [==============================] - 3s 36ms/step - loss: 0.0028 - val_loss: 0.0014\n",
            "Epoch 17/20\n",
            "85/85 [==============================] - 3s 37ms/step - loss: 0.0028 - val_loss: 0.0030\n",
            "Epoch 18/20\n",
            "85/85 [==============================] - 3s 37ms/step - loss: 0.0027 - val_loss: 0.0015\n",
            "Epoch 19/20\n",
            "85/85 [==============================] - 3s 37ms/step - loss: 0.0020 - val_loss: 0.0012\n",
            "Epoch 20/20\n",
            "85/85 [==============================] - 3s 37ms/step - loss: 0.0026 - val_loss: 0.0013\n"
          ],
          "name": "stdout"
        }
      ]
    },
    {
      "cell_type": "code",
      "metadata": {
        "colab": {
          "base_uri": "https://localhost:8080/"
        },
        "id": "VJAAJ_3JRVIu",
        "outputId": "df8a95c4-6bd9-4c83-d2a0-2b748adef3d9"
      },
      "source": [
        "model.summary()"
      ],
      "execution_count": null,
      "outputs": [
        {
          "output_type": "stream",
          "text": [
            "Model: \"sequential\"\n",
            "_________________________________________________________________\n",
            "Layer (type)                 Output Shape              Param #   \n",
            "=================================================================\n",
            "lstm (LSTM)                  (None, 36, 100)           40800     \n",
            "_________________________________________________________________\n",
            "dropout (Dropout)            (None, 36, 100)           0         \n",
            "_________________________________________________________________\n",
            "lstm_1 (LSTM)                (None, 100)               80400     \n",
            "_________________________________________________________________\n",
            "dropout_1 (Dropout)          (None, 100)               0         \n",
            "_________________________________________________________________\n",
            "dense (Dense)                (None, 1)                 101       \n",
            "=================================================================\n",
            "Total params: 121,301\n",
            "Trainable params: 121,301\n",
            "Non-trainable params: 0\n",
            "_________________________________________________________________\n"
          ],
          "name": "stdout"
        }
      ]
    },
    {
      "cell_type": "code",
      "metadata": {
        "colab": {
          "base_uri": "https://localhost:8080/",
          "height": 54
        },
        "id": "gSKBnwssVVJf",
        "outputId": "4e7b96b8-fe72-4fd2-d4f2-3b0771b593be"
      },
      "source": [
        "# Plot training & validation loss values\n",
        "plt.plot(history.history['loss'])\n",
        "plt.plot(history.history['val_loss'])\n",
        "plt.title('Model loss')\n",
        "plt.ylabel('Loss')\n",
        "plt.xlabel('Epoch')\n",
        "plt.legend(['Train', 'Test'], loc='upper left')\n",
        "plt.show()"
      ],
      "execution_count": null,
      "outputs": [
        {
          "output_type": "display_data",
          "data": {
            "image/png": "[encoded data removed]",
            "text/plain": [
              "<Figure size 432x288 with 1 Axes>"
            ]
          },
          "metadata": {
            "tags": []
          }
        }
      ]
    },
    {
      "cell_type": "code",
      "metadata": {
        "id": "bawmbe-aVYTG"
      },
      "source": [
        "# Get the stock prices for 2019 to have our model make the predictions\n",
        "test_data = test_df['Adj Close'].values\n",
        "test_data = test_data.reshape(-1,1)\n",
        "test_data = scaler.transform(test_data)\n",
        "\n",
        "# Create the data to test our model on:\n",
        "time_steps = 36\n",
        "X_test, y_test = create_dataset(test_data, time_steps)\n",
        "\n",
        "# store the original vals for plotting the predictions \n",
        "y_test = y_test.reshape(-1,1)\n",
        "org_y = scaler.inverse_transform(y_test)\n",
        "\n",
        "# reshape it [samples, time steps, features]\n",
        "X_test = np.reshape(X_test, (X_test.shape[0], 36, 1))\n",
        "\n",
        "# Predict the prices with the model\n",
        "predicted_y = model.predict(X_test)\n",
        "predicted_y = scaler.inverse_transform(predicted_y)\n"
      ],
      "execution_count": null,
      "outputs": []
    },
    {
      "cell_type": "code",
      "metadata": {
        "id": "Y47_DyXm9Ysk",
        "colab": {
          "base_uri": "https://localhost:8080/",
          "height": 317
        },
        "outputId": "b789b9e4-0ef3-472f-d8ba-4b60f135a9d0"
      },
      "source": [
        "predicted_y = pd.DataFrame(predicted_y)\n",
        "org_y = pd.DataFrame(org_y)\n",
        "describe = pd.DataFrame()\n",
        "describe['True Price'] = org_y[0]\n",
        "describe['Prediction'] = predicted_y[0]\n",
        "describe['difference'] = org_y[0] - predicted_y[0]\n",
        "describe['MAPE (%)'] = abs(describe['difference']/org_y[0]*100)\n",
        "describe.describe()"
      ],
      "execution_count": null,
      "outputs": [
        {
          "output_type": "execute_result",
          "data": {
            "text/html": [
              "<div>\n",
              "<style scoped>\n",
              "    .dataframe tbody tr th:only-of-type {\n",
              "        vertical-align: middle;\n",
              "    }\n",
              "\n",
              "    .dataframe tbody tr th {\n",
              "        vertical-align: top;\n",
              "    }\n",
              "\n",
              "    .dataframe thead th {\n",
              "        text-align: right;\n",
              "    }\n",
              "</style>\n",
              "<table border=\"1\" class=\"dataframe\">\n",
              "  <thead>\n",
              "    <tr style=\"text-align: right;\">\n",
              "      <th></th>\n",
              "      <th>True Price</th>\n",
              "      <th>Prediction</th>\n",
              "      <th>difference</th>\n",
              "      <th>MAPE (%)</th>\n",
              "    </tr>\n",
              "  </thead>\n",
              "  <tbody>\n",
              "    <tr>\n",
              "      <th>count</th>\n",
              "      <td>256.000000</td>\n",
              "      <td>256.000000</td>\n",
              "      <td>256.000000</td>\n",
              "      <td>256.000000</td>\n",
              "    </tr>\n",
              "    <tr>\n",
              "      <th>mean</th>\n",
              "      <td>892.390932</td>\n",
              "      <td>878.023010</td>\n",
              "      <td>14.368193</td>\n",
              "      <td>2.947887</td>\n",
              "    </tr>\n",
              "    <tr>\n",
              "      <th>std</th>\n",
              "      <td>110.112318</td>\n",
              "      <td>104.926117</td>\n",
              "      <td>32.109791</td>\n",
              "      <td>2.316107</td>\n",
              "    </tr>\n",
              "    <tr>\n",
              "      <th>min</th>\n",
              "      <td>666.902649</td>\n",
              "      <td>672.053162</td>\n",
              "      <td>-54.883362</td>\n",
              "      <td>0.008576</td>\n",
              "    </tr>\n",
              "    <tr>\n",
              "      <th>25%</th>\n",
              "      <td>816.209167</td>\n",
              "      <td>805.545135</td>\n",
              "      <td>-6.219360</td>\n",
              "      <td>1.189583</td>\n",
              "    </tr>\n",
              "    <tr>\n",
              "      <th>50%</th>\n",
              "      <td>878.944214</td>\n",
              "      <td>868.683746</td>\n",
              "      <td>11.803741</td>\n",
              "      <td>2.460580</td>\n",
              "    </tr>\n",
              "    <tr>\n",
              "      <th>75%</th>\n",
              "      <td>975.652557</td>\n",
              "      <td>957.177887</td>\n",
              "      <td>31.732529</td>\n",
              "      <td>4.301208</td>\n",
              "    </tr>\n",
              "    <tr>\n",
              "      <th>max</th>\n",
              "      <td>1164.591187</td>\n",
              "      <td>1089.776367</td>\n",
              "      <td>143.399170</td>\n",
              "      <td>12.313263</td>\n",
              "    </tr>\n",
              "  </tbody>\n",
              "</table>\n",
              "</div>"
            ],
            "text/plain": [
              "        True Price   Prediction  difference    MAPE (%)\n",
              "count   256.000000   256.000000  256.000000  256.000000\n",
              "mean    892.390932   878.023010   14.368193    2.947887\n",
              "std     110.112318   104.926117   32.109791    2.316107\n",
              "min     666.902649   672.053162  -54.883362    0.008576\n",
              "25%     816.209167   805.545135   -6.219360    1.189583\n",
              "50%     878.944214   868.683746   11.803741    2.460580\n",
              "75%     975.652557   957.177887   31.732529    4.301208\n",
              "max    1164.591187  1089.776367  143.399170   12.313263"
            ]
          },
          "metadata": {
            "tags": []
          },
          "execution_count": 9
        }
      ]
    },
    {
      "cell_type": "code",
      "metadata": {
        "colab": {
          "base_uri": "https://localhost:8080/",
          "height": 359
        },
        "id": "UoSeLi8altE4",
        "outputId": "9ee91d9e-0691-4f85-98ad-70a688be6f86"
      },
      "source": [
        "describe.head(10)"
      ],
      "execution_count": null,
      "outputs": [
        {
          "output_type": "execute_result",
          "data": {
            "text/html": [
              "<div>\n",
              "<style scoped>\n",
              "    .dataframe tbody tr th:only-of-type {\n",
              "        vertical-align: middle;\n",
              "    }\n",
              "\n",
              "    .dataframe tbody tr th {\n",
              "        vertical-align: top;\n",
              "    }\n",
              "\n",
              "    .dataframe thead th {\n",
              "        text-align: right;\n",
              "    }\n",
              "</style>\n",
              "<table border=\"1\" class=\"dataframe\">\n",
              "  <thead>\n",
              "    <tr style=\"text-align: right;\">\n",
              "      <th></th>\n",
              "      <th>True Price</th>\n",
              "      <th>Prediction</th>\n",
              "      <th>difference</th>\n",
              "      <th>MAPE (%)</th>\n",
              "    </tr>\n",
              "  </thead>\n",
              "  <tbody>\n",
              "    <tr>\n",
              "      <th>0</th>\n",
              "      <td>724.700562</td>\n",
              "      <td>743.171692</td>\n",
              "      <td>-18.471130</td>\n",
              "      <td>2.548795</td>\n",
              "    </tr>\n",
              "    <tr>\n",
              "      <th>1</th>\n",
              "      <td>734.493774</td>\n",
              "      <td>736.450684</td>\n",
              "      <td>-1.956909</td>\n",
              "      <td>0.266430</td>\n",
              "    </tr>\n",
              "    <tr>\n",
              "      <th>2</th>\n",
              "      <td>744.286987</td>\n",
              "      <td>731.370422</td>\n",
              "      <td>12.916565</td>\n",
              "      <td>1.735428</td>\n",
              "    </tr>\n",
              "    <tr>\n",
              "      <th>3</th>\n",
              "      <td>754.080261</td>\n",
              "      <td>730.154846</td>\n",
              "      <td>23.925415</td>\n",
              "      <td>3.172794</td>\n",
              "    </tr>\n",
              "    <tr>\n",
              "      <th>4</th>\n",
              "      <td>744.286987</td>\n",
              "      <td>733.050537</td>\n",
              "      <td>11.236450</td>\n",
              "      <td>1.509693</td>\n",
              "    </tr>\n",
              "    <tr>\n",
              "      <th>5</th>\n",
              "      <td>763.873535</td>\n",
              "      <td>734.813293</td>\n",
              "      <td>29.060242</td>\n",
              "      <td>3.804326</td>\n",
              "    </tr>\n",
              "    <tr>\n",
              "      <th>6</th>\n",
              "      <td>773.666809</td>\n",
              "      <td>740.390320</td>\n",
              "      <td>33.276489</td>\n",
              "      <td>4.301140</td>\n",
              "    </tr>\n",
              "    <tr>\n",
              "      <th>7</th>\n",
              "      <td>773.666809</td>\n",
              "      <td>748.479309</td>\n",
              "      <td>25.187500</td>\n",
              "      <td>3.255600</td>\n",
              "    </tr>\n",
              "    <tr>\n",
              "      <th>8</th>\n",
              "      <td>763.873535</td>\n",
              "      <td>755.845520</td>\n",
              "      <td>8.028015</td>\n",
              "      <td>1.050961</td>\n",
              "    </tr>\n",
              "    <tr>\n",
              "      <th>9</th>\n",
              "      <td>803.046509</td>\n",
              "      <td>759.050659</td>\n",
              "      <td>43.995850</td>\n",
              "      <td>5.478618</td>\n",
              "    </tr>\n",
              "  </tbody>\n",
              "</table>\n",
              "</div>"
            ],
            "text/plain": [
              "   True Price  Prediction  difference  MAPE (%)\n",
              "0  724.700562  743.171692  -18.471130  2.548795\n",
              "1  734.493774  736.450684   -1.956909  0.266430\n",
              "2  744.286987  731.370422   12.916565  1.735428\n",
              "3  754.080261  730.154846   23.925415  3.172794\n",
              "4  744.286987  733.050537   11.236450  1.509693\n",
              "5  763.873535  734.813293   29.060242  3.804326\n",
              "6  773.666809  740.390320   33.276489  4.301140\n",
              "7  773.666809  748.479309   25.187500  3.255600\n",
              "8  763.873535  755.845520    8.028015  1.050961\n",
              "9  803.046509  759.050659   43.995850  5.478618"
            ]
          },
          "metadata": {
            "tags": []
          },
          "execution_count": 10
        }
      ]
    },
    {
      "cell_type": "code",
      "metadata": {
        "id": "xriB7R_tWpAM",
        "colab": {
          "base_uri": "https://localhost:8080/"
        },
        "outputId": "9f6710bb-4283-487e-f89a-321d43bdc3b3"
      },
      "source": [
        "a = np.array(describe['True Price'])\n",
        "b = np.array(describe['Prediction'])\n",
        "\n",
        "# MSE\n",
        "from sklearn.metrics import mean_squared_error, mean_absolute_error\n",
        "print(\"MSE: %.2f\" % mean_squared_error(a, b))\n",
        "\n",
        "# The RMSE\n",
        "print(\"RMSE: %.2f\" % mean_squared_error(a, b, squared=False))\n",
        "\n",
        "# The MAE\n",
        "print(\"MAE: %.2f\" % mean_absolute_error(a, b))\n",
        "\n",
        "#Mean Absolute Percentange Error\n",
        "c = (np.mean(np.abs((a - b) / a))) * 100\n",
        "print('MAPE : ', c)\n",
        "\n",
        "# Explained variance score: 1 is perfect prediction\n",
        "from sklearn.metrics import r2_score\n",
        "print('R2 score: %.2f' % r2_score(a, b))\n"
      ],
      "execution_count": null,
      "outputs": [
        {
          "output_type": "stream",
          "text": [
            "MSE: 1233.46\n",
            "RMSE: 35.12\n",
            "MAE: 26.80\n",
            "MAPE :  2.947886528386611\n",
            "R2 score: 0.90\n"
          ],
          "name": "stdout"
        }
      ]
    },
    {
      "cell_type": "code",
      "metadata": {
        "id": "iozJ262YxuM8",
        "colab": {
          "base_uri": "https://localhost:8080/"
        },
        "outputId": "3086bd3c-0399-4984-be51-32a72702c6df"
      },
      "source": [
        "print(model.evaluate(X_train, y_train))\n",
        "print(model.evaluate(X_test, y_test))"
      ],
      "execution_count": null,
      "outputs": [
        {
          "output_type": "stream",
          "text": [
            "38/38 [==============================] - 1s 18ms/step - loss: 0.0011\n",
            "0.0011399724753573537\n",
            "8/8 [==============================] - 1s 18ms/step - loss: 0.0021\n",
            "0.0021246708929538727\n"
          ],
          "name": "stdout"
        }
      ]
    },
    {
      "cell_type": "code",
      "metadata": {
        "colab": {
          "base_uri": "https://localhost:8080/"
        },
        "id": "JRT-OjnyZ0PP",
        "outputId": "10df62ce-f39a-4df6-865e-00babbbb0633"
      },
      "source": [
        "print(model.metrics_names)"
      ],
      "execution_count": null,
      "outputs": [
        {
          "output_type": "stream",
          "text": [
            "['loss']\n"
          ],
          "name": "stdout"
        }
      ]
    },
    {
      "cell_type": "code",
      "metadata": {
        "id": "qNCPEkeaXNIT"
      },
      "source": [
        "graph  = test_df.drop(test_df.index[0:36])\n",
        "graph.reset_index(inplace=True)\n",
        "graph.rename(columns = {'index':'Date'})\n",
        "graph = graph.drop(columns=['High','Low','Open','Volume','Close'])\n",
        "graph['Predict_Value'] = predicted_y[0]\n",
        "graph.head()\n",
        "graph.set_index('Date', inplace=True)"
      ],
      "execution_count": null,
      "outputs": []
    },
    {
      "cell_type": "code",
      "metadata": {
        "id": "QF5LdxyJb0bT",
        "colab": {
          "base_uri": "https://localhost:8080/",
          "height": 299
        },
        "outputId": "96c86891-6b12-4bc0-bbf9-dfc6297fe317"
      },
      "source": [
        "# plot the results \n",
        "plt.plot(graph['Adj Close'], color = 'red', label = 'Real Stock Price')\n",
        "plt.plot(graph['Predict_Value'], color = 'blue', label = 'Predicted Stock Price')\n",
        "#plt.plot(df['Adj Close'], color = 'black', label = 'Past Stock')\n",
        "plt.title('Stock Price Prediction')\n",
        "plt.xlabel('Time')\n",
        "plt.ylabel('Stock Price')\n",
        "plt.legend()\n",
        "plt.savefig('Stock Price SVR LSTM 1.png')\n",
        "files.download(\"Stock Price SVR LSTM 1.png\")\n",
        "plt.show()"
      ],
      "execution_count": null,
      "outputs": [
        {
          "output_type": "display_data",
          "data": {
            "application/javascript": [
              "\n",
              "    async function download(id, filename, size) {\n",
              "      if (!google.colab.kernel.accessAllowed) {\n",
              "        return;\n",
              "      }\n",
              "      const div = document.createElement('div');\n",
              "      const label = document.createElement('label');\n",
              "      label.textContent = `Downloading \"${filename}\": `;\n",
              "      div.appendChild(label);\n",
              "      const progress = document.createElement('progress');\n",
              "      progress.max = size;\n",
              "      div.appendChild(progress);\n",
              "      document.body.appendChild(div);\n",
              "\n",
              "      const buffers = [];\n",
              "      let downloaded = 0;\n",
              "\n",
              "      const channel = await google.colab.kernel.comms.open(id);\n",
              "      // Send a message to notify the kernel that we're ready.\n",
              "      channel.send({})\n",
              "\n",
              "      for await (const message of channel.messages) {\n",
              "        // Send a message to notify the kernel that we're ready.\n",
              "        channel.send({})\n",
              "        if (message.buffers) {\n",
              "          for (const buffer of message.buffers) {\n",
              "            buffers.push(buffer);\n",
              "            downloaded += buffer.byteLength;\n",
              "            progress.value = downloaded;\n",
              "          }\n",
              "        }\n",
              "      }\n",
              "      const blob = new Blob(buffers, {type: 'application/binary'});\n",
              "      const a = document.createElement('a');\n",
              "      a.href = window.URL.createObjectURL(blob);\n",
              "      a.download = filename;\n",
              "      div.appendChild(a);\n",
              "      a.click();\n",
              "      div.remove();\n",
              "    }\n",
              "  "
            ],
            "text/plain": [
              "<IPython.core.display.Javascript object>"
            ]
          },
          "metadata": {
            "tags": []
          }
        },
        {
          "output_type": "display_data",
          "data": {
            "application/javascript": [
              "download(\"download_c561953c-1363-42be-8230-115979360a31\", \"Stock Price SVR LSTM 1.png\", 33211)"
            ],
            "text/plain": [
              "<IPython.core.display.Javascript object>"
            ]
          },
          "metadata": {
            "tags": []
          }
        },
        {
          "output_type": "display_data",
          "data": {
            "image/png": "[encoded data removed]",
            "text/plain": [
              "<Figure size 432x288 with 1 Axes>"
            ]
          },
          "metadata": {
            "tags": []
          }
        }
      ]
    },
    {
      "cell_type": "code",
      "metadata": {
        "id": "RRepTsPgEuXx"
      },
      "source": [
        "final  = test_df.drop(test_df.index[0:36])\n",
        "final.reset_index(inplace=True)\n",
        "final.rename(columns = {'index':'Date'})\n",
        "final = final.drop(columns=['High','Low','Open','Volume','Close'])\n",
        "final['Predict_Value'] = predicted_y[0]\n",
        "final['Selisih'] = final['Adj Close'] - final['Predict_Value']\n",
        "final['Lost/Risk (%)'] = abs((final['Adj Close'] - final['Predict_Value'])/final['Predict_Value']*100)\n",
        "final = final.drop(columns=['Adj Close'])"
      ],
      "execution_count": null,
      "outputs": []
    },
    {
      "cell_type": "code",
      "metadata": {
        "id": "DhwcCvlTySN1"
      },
      "source": [
        "percent = test_df.drop(test_df.index[0:35])\n",
        "percent = percent.drop(test_df.index[-1])\n",
        "percent.reset_index(inplace=True)\n",
        "percent.rename(columns = {'index':'Date'}) \n",
        "percent = percent.drop(columns=['High','Low','Open','Volume','Close'])\n",
        "percent['Next Day'] = predicted_y\n",
        "percent['Plus or Minus']= percent['Adj Close'] - percent['Next Day']\n",
        "percent['Next Day (%)']= abs(((percent['Adj Close'] - percent['Next Day'])/percent['Adj Close'])*100)"
      ],
      "execution_count": null,
      "outputs": []
    },
    {
      "cell_type": "markdown",
      "metadata": {
        "id": "ib825d-fXMwk"
      },
      "source": [
        ""
      ]
    },
    {
      "cell_type": "code",
      "metadata": {
        "id": "sllI6VucG__o"
      },
      "source": [
        "True_Next_Day = test_df.drop(test_df.index[0:35])\n",
        "True_Next_Day = True_Next_Day.drop(test_df.index[-1])\n",
        "True_Next_Day.reset_index(inplace=True)\n",
        "True_Next_Day.rename(columns = {'index':'Date'}) \n",
        "True_Next_Day = True_Next_Day.drop(columns=['High','Low','Open','Volume','Close'])\n",
        "True_Next_Day['True Next Day'] = org_y\n",
        "True_Next_Day['True Plus or Minus']= (True_Next_Day['Adj Close'] - True_Next_Day['True Next Day'])\n",
        "True_Next_Day['True Next Day (%)']= abs(((True_Next_Day['Adj Close'] - True_Next_Day['True Next Day'])/True_Next_Day['Adj Close'])*100)\n",
        "True_Next_Day = True_Next_Day.drop(columns=['Adj Close','True Next Day'])"
      ],
      "execution_count": null,
      "outputs": []
    },
    {
      "cell_type": "code",
      "metadata": {
        "id": "121c4YuD-aJq",
        "colab": {
          "base_uri": "https://localhost:8080/"
        },
        "outputId": "f05837c3-3872-4140-ac7d-b8ea437be696"
      },
      "source": [
        "Concating = percent.merge(final, how='outer', on='Date')\n",
        "Concating = Concating.merge(True_Next_Day, how='outer', on='Date')\n",
        "#Concating.set_index('Date', inplace=True)\n",
        "Final_Predict = Concating.copy()\n",
        "Final_Predict['Harga Saham Hari ini'] = Concating['Adj Close']\n",
        "Final_Predict['Prediksi Besok'] = Concating['Plus or Minus']\n",
        "Final_Predict['Harga Besok Sebenarnya'] = Concating['True Plus or Minus']\n",
        "Final_Predict['Prediksi Besok (%)'] = (Concating['Next Day (%)'])\n",
        "Final_Predict['Harga Besok Sebenarnya (%)'] = Concating['True Next Day (%)']\n",
        "Final_Predict['Selisih Prediksi'] = (Final_Predict['Harga Besok Sebenarnya'] - Final_Predict['Prediksi Besok'])\n",
        "Final_Predict['Risk/MAPE(%)'] = abs(((Final_Predict['Harga Besok Sebenarnya'] - Final_Predict['Prediksi Besok'])/Final_Predict['Harga Besok Sebenarnya'])*100)\n",
        "Final_Predict['Risk/MAPE(%)'] = round(Final_Predict['Risk/MAPE(%)'], 2)\n",
        "Final_Predict = Final_Predict.drop(columns=['Adj Close', 'Next Day', 'Plus or Minus', 'Next Day (%)',\n",
        "                                            'Predict_Value', 'Selisih', 'Lost/Risk (%)', 'True Plus or Minus',\n",
        "                                            'True Next Day (%)'])\n",
        "Final_Predict = Final_Predict.replace(0, np.nan)\n",
        "Final_Predict = Final_Predict.dropna()\n",
        "Final_Predict.set_index('Date', inplace=True)\n",
        "Final_Predict.shape"
      ],
      "execution_count": null,
      "outputs": [
        {
          "output_type": "execute_result",
          "data": {
            "text/plain": [
              "(231, 7)"
            ]
          },
          "metadata": {
            "tags": []
          },
          "execution_count": 19
        }
      ]
    },
    {
      "cell_type": "code",
      "metadata": {
        "colab": {
          "base_uri": "https://localhost:8080/",
          "height": 235
        },
        "id": "ookffGOJ-lmk",
        "outputId": "56024ba2-dd3d-48c2-957d-5ea8c270d975"
      },
      "source": [
        "Final_Predict.head()"
      ],
      "execution_count": null,
      "outputs": [
        {
          "output_type": "execute_result",
          "data": {
            "text/html": [
              "<div>\n",
              "<style scoped>\n",
              "    .dataframe tbody tr th:only-of-type {\n",
              "        vertical-align: middle;\n",
              "    }\n",
              "\n",
              "    .dataframe tbody tr th {\n",
              "        vertical-align: top;\n",
              "    }\n",
              "\n",
              "    .dataframe thead th {\n",
              "        text-align: right;\n",
              "    }\n",
              "</style>\n",
              "<table border=\"1\" class=\"dataframe\">\n",
              "  <thead>\n",
              "    <tr style=\"text-align: right;\">\n",
              "      <th></th>\n",
              "      <th>Harga Saham Hari ini</th>\n",
              "      <th>Prediksi Besok</th>\n",
              "      <th>Harga Besok Sebenarnya</th>\n",
              "      <th>Prediksi Besok (%)</th>\n",
              "      <th>Harga Besok Sebenarnya (%)</th>\n",
              "      <th>Selisih Prediksi</th>\n",
              "      <th>Risk/MAPE(%)</th>\n",
              "    </tr>\n",
              "    <tr>\n",
              "      <th>Date</th>\n",
              "      <th></th>\n",
              "      <th></th>\n",
              "      <th></th>\n",
              "      <th></th>\n",
              "      <th></th>\n",
              "      <th></th>\n",
              "      <th></th>\n",
              "    </tr>\n",
              "  </thead>\n",
              "  <tbody>\n",
              "    <tr>\n",
              "      <th>2019-01-01</th>\n",
              "      <td>749.183655</td>\n",
              "      <td>6.011963</td>\n",
              "      <td>24.483093</td>\n",
              "      <td>0.802469</td>\n",
              "      <td>3.267969</td>\n",
              "      <td>18.471130</td>\n",
              "      <td>75.44</td>\n",
              "    </tr>\n",
              "    <tr>\n",
              "      <th>2019-01-02</th>\n",
              "      <td>724.700562</td>\n",
              "      <td>-11.750122</td>\n",
              "      <td>-9.793213</td>\n",
              "      <td>1.621376</td>\n",
              "      <td>1.351346</td>\n",
              "      <td>1.956909</td>\n",
              "      <td>19.98</td>\n",
              "    </tr>\n",
              "    <tr>\n",
              "      <th>2019-01-03</th>\n",
              "      <td>734.493774</td>\n",
              "      <td>3.123352</td>\n",
              "      <td>-9.793213</td>\n",
              "      <td>0.425239</td>\n",
              "      <td>1.333328</td>\n",
              "      <td>-12.916565</td>\n",
              "      <td>131.89</td>\n",
              "    </tr>\n",
              "    <tr>\n",
              "      <th>2019-01-04</th>\n",
              "      <td>744.286987</td>\n",
              "      <td>14.132141</td>\n",
              "      <td>-9.793274</td>\n",
              "      <td>1.898749</td>\n",
              "      <td>1.315793</td>\n",
              "      <td>-23.925415</td>\n",
              "      <td>244.30</td>\n",
              "    </tr>\n",
              "    <tr>\n",
              "      <th>2019-01-07</th>\n",
              "      <td>754.080261</td>\n",
              "      <td>21.029724</td>\n",
              "      <td>9.793274</td>\n",
              "      <td>2.788791</td>\n",
              "      <td>1.298704</td>\n",
              "      <td>-11.236450</td>\n",
              "      <td>114.74</td>\n",
              "    </tr>\n",
              "  </tbody>\n",
              "</table>\n",
              "</div>"
            ],
            "text/plain": [
              "            Harga Saham Hari ini  ...  Risk/MAPE(%)\n",
              "Date                              ...              \n",
              "2019-01-01            749.183655  ...         75.44\n",
              "2019-01-02            724.700562  ...         19.98\n",
              "2019-01-03            734.493774  ...        131.89\n",
              "2019-01-04            744.286987  ...        244.30\n",
              "2019-01-07            754.080261  ...        114.74\n",
              "\n",
              "[5 rows x 7 columns]"
            ]
          },
          "metadata": {
            "tags": []
          },
          "execution_count": 20
        }
      ]
    },
    {
      "cell_type": "code",
      "metadata": {
        "colab": {
          "base_uri": "https://localhost:8080/",
          "height": 299
        },
        "id": "kgXVUoOccIB1",
        "outputId": "d5d0d108-5d77-4bbd-f291-b95daf61f119"
      },
      "source": [
        "# plot the results \n",
        "plt.plot(Final_Predict['Prediksi Besok'], color = 'red', label = 'Real Stock Price')\n",
        "plt.plot(Final_Predict['Harga Besok Sebenarnya'], color = 'blue', label = 'Predicted Stock Price')\n",
        "#plt.plot(Final_Predict['Risk/MAPE(%)'], color = 'black', label = 'RISK/MAPE(%)')\n",
        "plt.title('Stock Price Prediction')\n",
        "plt.xlabel('Time')\n",
        "plt.ylabel('Stock Price')\n",
        "plt.legend()\n",
        "plt.savefig('Stock Price SVR LSTM 1.png')\n",
        "files.download(\"Stock Price SVR LSTM 1.png\")\n",
        "plt.show()"
      ],
      "execution_count": null,
      "outputs": [
        {
          "output_type": "display_data",
          "data": {
            "application/javascript": [
              "\n",
              "    async function download(id, filename, size) {\n",
              "      if (!google.colab.kernel.accessAllowed) {\n",
              "        return;\n",
              "      }\n",
              "      const div = document.createElement('div');\n",
              "      const label = document.createElement('label');\n",
              "      label.textContent = `Downloading \"${filename}\": `;\n",
              "      div.appendChild(label);\n",
              "      const progress = document.createElement('progress');\n",
              "      progress.max = size;\n",
              "      div.appendChild(progress);\n",
              "      document.body.appendChild(div);\n",
              "\n",
              "      const buffers = [];\n",
              "      let downloaded = 0;\n",
              "\n",
              "      const channel = await google.colab.kernel.comms.open(id);\n",
              "      // Send a message to notify the kernel that we're ready.\n",
              "      channel.send({})\n",
              "\n",
              "      for await (const message of channel.messages) {\n",
              "        // Send a message to notify the kernel that we're ready.\n",
              "        channel.send({})\n",
              "        if (message.buffers) {\n",
              "          for (const buffer of message.buffers) {\n",
              "            buffers.push(buffer);\n",
              "            downloaded += buffer.byteLength;\n",
              "            progress.value = downloaded;\n",
              "          }\n",
              "        }\n",
              "      }\n",
              "      const blob = new Blob(buffers, {type: 'application/binary'});\n",
              "      const a = document.createElement('a');\n",
              "      a.href = window.URL.createObjectURL(blob);\n",
              "      a.download = filename;\n",
              "      div.appendChild(a);\n",
              "      a.click();\n",
              "      div.remove();\n",
              "    }\n",
              "  "
            ],
            "text/plain": [
              "<IPython.core.display.Javascript object>"
            ]
          },
          "metadata": {
            "tags": []
          }
        },
        {
          "output_type": "display_data",
          "data": {
            "application/javascript": [
              "download(\"download_a30d27ac-be4a-4ba2-ad94-6dfc03571506\", \"Stock Price SVR LSTM 1.png\", 43673)"
            ],
            "text/plain": [
              "<IPython.core.display.Javascript object>"
            ]
          },
          "metadata": {
            "tags": []
          }
        },
        {
          "output_type": "display_data",
          "data": {
            "image/png": "[encoded data removed]",
            "text/plain": [
              "<Figure size 432x288 with 1 Axes>"
            ]
          },
          "metadata": {
            "tags": []
          }
        }
      ]
    },
    {
      "cell_type": "code",
      "metadata": {
        "id": "towGbwPBLWUk"
      },
      "source": [
        "#### Mencari Data STAT MODEL"
      ],
      "execution_count": null,
      "outputs": []
    },
    {
      "cell_type": "code",
      "metadata": {
        "id": "UiadXxndQ2NX"
      },
      "source": [
        "a = X_test\n",
        "a = np.reshape(a, (-1, 36))\n",
        "a = scaler.inverse_transform(a)\n",
        "a = pd.DataFrame(a)"
      ],
      "execution_count": null,
      "outputs": []
    },
    {
      "cell_type": "code",
      "metadata": {
        "id": "ErHLvejACioW"
      },
      "source": [
        "b = y_test\n",
        "#b = np.reshape(b, (-1, 36))\n",
        "b = scaler.inverse_transform(b)\n",
        "b = pd.DataFrame(b)"
      ],
      "execution_count": null,
      "outputs": []
    },
    {
      "cell_type": "code",
      "metadata": {
        "id": "O62uEaEkLyWO"
      },
      "source": [
        "#OLS Model\n",
        "import statsmodels.api as sm\n",
        "X = a\n",
        "Y = b\n",
        "X = sm.add_constant(X)\n",
        "model_ols = sm.OLS(Y,X)\n",
        "results = model_ols.fit()"
      ],
      "execution_count": null,
      "outputs": []
    },
    {
      "cell_type": "code",
      "metadata": {
        "id": "_CaG_RGcMpzM",
        "colab": {
          "base_uri": "https://localhost:8080/",
          "height": 1000
        },
        "outputId": "14364f58-d8ff-474e-8c68-d695f03b72a1"
      },
      "source": [
        "results.summary()"
      ],
      "execution_count": null,
      "outputs": [
        {
          "output_type": "execute_result",
          "data": {
            "text/html": [
              "<table class=\"simpletable\">\n",
              "<caption>OLS Regression Results</caption>\n",
              "<tr>\n",
              "  <th>Dep. Variable:</th>            <td>0</td>        <th>  R-squared:         </th> <td>   0.959</td> \n",
              "</tr>\n",
              "<tr>\n",
              "  <th>Model:</th>                   <td>OLS</td>       <th>  Adj. R-squared:    </th> <td>   0.953</td> \n",
              "</tr>\n",
              "<tr>\n",
              "  <th>Method:</th>             <td>Least Squares</td>  <th>  F-statistic:       </th> <td>   143.6</td> \n",
              "</tr>\n",
              "<tr>\n",
              "  <th>Date:</th>             <td>Thu, 15 Apr 2021</td> <th>  Prob (F-statistic):</th> <td>1.18e-132</td>\n",
              "</tr>\n",
              "<tr>\n",
              "  <th>Time:</th>                 <td>19:02:14</td>     <th>  Log-Likelihood:    </th> <td> -1156.3</td> \n",
              "</tr>\n",
              "<tr>\n",
              "  <th>No. Observations:</th>      <td>   256</td>      <th>  AIC:               </th> <td>   2387.</td> \n",
              "</tr>\n",
              "<tr>\n",
              "  <th>Df Residuals:</th>          <td>   219</td>      <th>  BIC:               </th> <td>   2518.</td> \n",
              "</tr>\n",
              "<tr>\n",
              "  <th>Df Model:</th>              <td>    36</td>      <th>                     </th>     <td> </td>    \n",
              "</tr>\n",
              "<tr>\n",
              "  <th>Covariance Type:</th>      <td>nonrobust</td>    <th>                     </th>     <td> </td>    \n",
              "</tr>\n",
              "</table>\n",
              "<table class=\"simpletable\">\n",
              "<tr>\n",
              "    <td></td>       <th>coef</th>     <th>std err</th>      <th>t</th>      <th>P>|t|</th>  <th>[0.025</th>    <th>0.975]</th>  \n",
              "</tr>\n",
              "<tr>\n",
              "  <th>const</th> <td>   50.3140</td> <td>   16.168</td> <td>    3.112</td> <td> 0.002</td> <td>   18.450</td> <td>   82.178</td>\n",
              "</tr>\n",
              "<tr>\n",
              "  <th>0</th>     <td>    0.0584</td> <td>    0.063</td> <td>    0.920</td> <td> 0.358</td> <td>   -0.067</td> <td>    0.183</td>\n",
              "</tr>\n",
              "<tr>\n",
              "  <th>1</th>     <td>   -0.0659</td> <td>    0.087</td> <td>   -0.755</td> <td> 0.451</td> <td>   -0.238</td> <td>    0.106</td>\n",
              "</tr>\n",
              "<tr>\n",
              "  <th>2</th>     <td>    0.0307</td> <td>    0.087</td> <td>    0.351</td> <td> 0.726</td> <td>   -0.141</td> <td>    0.203</td>\n",
              "</tr>\n",
              "<tr>\n",
              "  <th>3</th>     <td>   -0.0725</td> <td>    0.087</td> <td>   -0.830</td> <td> 0.407</td> <td>   -0.244</td> <td>    0.100</td>\n",
              "</tr>\n",
              "<tr>\n",
              "  <th>4</th>     <td>   -0.0218</td> <td>    0.087</td> <td>   -0.250</td> <td> 0.803</td> <td>   -0.194</td> <td>    0.150</td>\n",
              "</tr>\n",
              "<tr>\n",
              "  <th>5</th>     <td>    0.0178</td> <td>    0.088</td> <td>    0.202</td> <td> 0.840</td> <td>   -0.155</td> <td>    0.191</td>\n",
              "</tr>\n",
              "<tr>\n",
              "  <th>6</th>     <td>    0.0315</td> <td>    0.088</td> <td>    0.357</td> <td> 0.721</td> <td>   -0.142</td> <td>    0.205</td>\n",
              "</tr>\n",
              "<tr>\n",
              "  <th>7</th>     <td>   -0.0219</td> <td>    0.089</td> <td>   -0.247</td> <td> 0.805</td> <td>   -0.197</td> <td>    0.153</td>\n",
              "</tr>\n",
              "<tr>\n",
              "  <th>8</th>     <td>   -0.0365</td> <td>    0.089</td> <td>   -0.409</td> <td> 0.683</td> <td>   -0.212</td> <td>    0.139</td>\n",
              "</tr>\n",
              "<tr>\n",
              "  <th>9</th>     <td>    0.2115</td> <td>    0.088</td> <td>    2.394</td> <td> 0.018</td> <td>    0.037</td> <td>    0.386</td>\n",
              "</tr>\n",
              "<tr>\n",
              "  <th>10</th>    <td>   -0.1701</td> <td>    0.088</td> <td>   -1.938</td> <td> 0.054</td> <td>   -0.343</td> <td>    0.003</td>\n",
              "</tr>\n",
              "<tr>\n",
              "  <th>11</th>    <td>   -0.0129</td> <td>    0.088</td> <td>   -0.147</td> <td> 0.884</td> <td>   -0.186</td> <td>    0.160</td>\n",
              "</tr>\n",
              "<tr>\n",
              "  <th>12</th>    <td>    0.0236</td> <td>    0.088</td> <td>    0.269</td> <td> 0.788</td> <td>   -0.150</td> <td>    0.197</td>\n",
              "</tr>\n",
              "<tr>\n",
              "  <th>13</th>    <td>    0.0549</td> <td>    0.088</td> <td>    0.625</td> <td> 0.533</td> <td>   -0.118</td> <td>    0.228</td>\n",
              "</tr>\n",
              "<tr>\n",
              "  <th>14</th>    <td>   -0.1624</td> <td>    0.090</td> <td>   -1.807</td> <td> 0.072</td> <td>   -0.339</td> <td>    0.015</td>\n",
              "</tr>\n",
              "<tr>\n",
              "  <th>15</th>    <td>    0.1312</td> <td>    0.093</td> <td>    1.414</td> <td> 0.159</td> <td>   -0.052</td> <td>    0.314</td>\n",
              "</tr>\n",
              "<tr>\n",
              "  <th>16</th>    <td>   -0.1052</td> <td>    0.093</td> <td>   -1.128</td> <td> 0.260</td> <td>   -0.289</td> <td>    0.079</td>\n",
              "</tr>\n",
              "<tr>\n",
              "  <th>17</th>    <td>   -0.0610</td> <td>    0.093</td> <td>   -0.654</td> <td> 0.514</td> <td>   -0.245</td> <td>    0.123</td>\n",
              "</tr>\n",
              "<tr>\n",
              "  <th>18</th>    <td>    0.0984</td> <td>    0.093</td> <td>    1.060</td> <td> 0.290</td> <td>   -0.085</td> <td>    0.281</td>\n",
              "</tr>\n",
              "<tr>\n",
              "  <th>19</th>    <td>    0.0740</td> <td>    0.093</td> <td>    0.798</td> <td> 0.426</td> <td>   -0.109</td> <td>    0.257</td>\n",
              "</tr>\n",
              "<tr>\n",
              "  <th>20</th>    <td>   -0.0746</td> <td>    0.093</td> <td>   -0.801</td> <td> 0.424</td> <td>   -0.258</td> <td>    0.109</td>\n",
              "</tr>\n",
              "<tr>\n",
              "  <th>21</th>    <td>   -0.0350</td> <td>    0.093</td> <td>   -0.374</td> <td> 0.709</td> <td>   -0.219</td> <td>    0.149</td>\n",
              "</tr>\n",
              "<tr>\n",
              "  <th>22</th>    <td>    0.0518</td> <td>    0.094</td> <td>    0.551</td> <td> 0.582</td> <td>   -0.133</td> <td>    0.237</td>\n",
              "</tr>\n",
              "<tr>\n",
              "  <th>23</th>    <td>    0.0137</td> <td>    0.094</td> <td>    0.146</td> <td> 0.884</td> <td>   -0.172</td> <td>    0.199</td>\n",
              "</tr>\n",
              "<tr>\n",
              "  <th>24</th>    <td>    0.0301</td> <td>    0.094</td> <td>    0.319</td> <td> 0.750</td> <td>   -0.156</td> <td>    0.216</td>\n",
              "</tr>\n",
              "<tr>\n",
              "  <th>25</th>    <td>   -0.0402</td> <td>    0.095</td> <td>   -0.425</td> <td> 0.672</td> <td>   -0.227</td> <td>    0.146</td>\n",
              "</tr>\n",
              "<tr>\n",
              "  <th>26</th>    <td>    0.1439</td> <td>    0.095</td> <td>    1.514</td> <td> 0.132</td> <td>   -0.043</td> <td>    0.331</td>\n",
              "</tr>\n",
              "<tr>\n",
              "  <th>27</th>    <td>   -0.1967</td> <td>    0.095</td> <td>   -2.065</td> <td> 0.040</td> <td>   -0.385</td> <td>   -0.009</td>\n",
              "</tr>\n",
              "<tr>\n",
              "  <th>28</th>    <td>    0.1757</td> <td>    0.095</td> <td>    1.858</td> <td> 0.065</td> <td>   -0.011</td> <td>    0.362</td>\n",
              "</tr>\n",
              "<tr>\n",
              "  <th>29</th>    <td>   -0.0905</td> <td>    0.094</td> <td>   -0.960</td> <td> 0.338</td> <td>   -0.276</td> <td>    0.095</td>\n",
              "</tr>\n",
              "<tr>\n",
              "  <th>30</th>    <td>   -0.0891</td> <td>    0.094</td> <td>   -0.948</td> <td> 0.344</td> <td>   -0.274</td> <td>    0.096</td>\n",
              "</tr>\n",
              "<tr>\n",
              "  <th>31</th>    <td>    0.1501</td> <td>    0.093</td> <td>    1.607</td> <td> 0.110</td> <td>   -0.034</td> <td>    0.334</td>\n",
              "</tr>\n",
              "<tr>\n",
              "  <th>32</th>    <td>   -0.0451</td> <td>    0.093</td> <td>   -0.483</td> <td> 0.630</td> <td>   -0.229</td> <td>    0.139</td>\n",
              "</tr>\n",
              "<tr>\n",
              "  <th>33</th>    <td>    0.0371</td> <td>    0.093</td> <td>    0.397</td> <td> 0.691</td> <td>   -0.147</td> <td>    0.221</td>\n",
              "</tr>\n",
              "<tr>\n",
              "  <th>34</th>    <td>   -0.0534</td> <td>    0.093</td> <td>   -0.572</td> <td> 0.568</td> <td>   -0.238</td> <td>    0.131</td>\n",
              "</tr>\n",
              "<tr>\n",
              "  <th>35</th>    <td>    0.9640</td> <td>    0.067</td> <td>   14.336</td> <td> 0.000</td> <td>    0.832</td> <td>    1.097</td>\n",
              "</tr>\n",
              "</table>\n",
              "<table class=\"simpletable\">\n",
              "<tr>\n",
              "  <th>Omnibus:</th>       <td>19.405</td> <th>  Durbin-Watson:     </th> <td>   2.004</td>\n",
              "</tr>\n",
              "<tr>\n",
              "  <th>Prob(Omnibus):</th> <td> 0.000</td> <th>  Jarque-Bera (JB):  </th> <td>  23.386</td>\n",
              "</tr>\n",
              "<tr>\n",
              "  <th>Skew:</th>          <td> 0.590</td> <th>  Prob(JB):          </th> <td>8.35e-06</td>\n",
              "</tr>\n",
              "<tr>\n",
              "  <th>Kurtosis:</th>      <td> 3.895</td> <th>  Cond. No.          </th> <td>5.77e+04</td>\n",
              "</tr>\n",
              "</table><br/><br/>Warnings:<br/>[1] Standard Errors assume that the covariance matrix of the errors is correctly specified.<br/>[2] The condition number is large, 5.77e+04. This might indicate that there are<br/>strong multicollinearity or other numerical problems."
            ],
            "text/plain": [
              "<class 'statsmodels.iolib.summary.Summary'>\n",
              "\"\"\"\n",
              "                            OLS Regression Results                            \n",
              "==============================================================================\n",
              "Dep. Variable:                      0   R-squared:                       0.959\n",
              "Model:                            OLS   Adj. R-squared:                  0.953\n",
              "Method:                 Least Squares   F-statistic:                     143.6\n",
              "Date:                Thu, 15 Apr 2021   Prob (F-statistic):          1.18e-132\n",
              "Time:                        19:02:14   Log-Likelihood:                -1156.3\n",
              "No. Observations:                 256   AIC:                             2387.\n",
              "Df Residuals:                     219   BIC:                             2518.\n",
              "Df Model:                          36                                         \n",
              "Covariance Type:            nonrobust                                         \n",
              "==============================================================================\n",
              "                 coef    std err          t      P>|t|      [0.025      0.975]\n",
              "------------------------------------------------------------------------------\n",
              "const         50.3140     16.168      3.112      0.002      18.450      82.178\n",
              "0              0.0584      0.063      0.920      0.358      -0.067       0.183\n",
              "1             -0.0659      0.087     -0.755      0.451      -0.238       0.106\n",
              "2              0.0307      0.087      0.351      0.726      -0.141       0.203\n",
              "3             -0.0725      0.087     -0.830      0.407      -0.244       0.100\n",
              "4             -0.0218      0.087     -0.250      0.803      -0.194       0.150\n",
              "5              0.0178      0.088      0.202      0.840      -0.155       0.191\n",
              "6              0.0315      0.088      0.357      0.721      -0.142       0.205\n",
              "7             -0.0219      0.089     -0.247      0.805      -0.197       0.153\n",
              "8             -0.0365      0.089     -0.409      0.683      -0.212       0.139\n",
              "9              0.2115      0.088      2.394      0.018       0.037       0.386\n",
              "10            -0.1701      0.088     -1.938      0.054      -0.343       0.003\n",
              "11            -0.0129      0.088     -0.147      0.884      -0.186       0.160\n",
              "12             0.0236      0.088      0.269      0.788      -0.150       0.197\n",
              "13             0.0549      0.088      0.625      0.533      -0.118       0.228\n",
              "14            -0.1624      0.090     -1.807      0.072      -0.339       0.015\n",
              "15             0.1312      0.093      1.414      0.159      -0.052       0.314\n",
              "16            -0.1052      0.093     -1.128      0.260      -0.289       0.079\n",
              "17            -0.0610      0.093     -0.654      0.514      -0.245       0.123\n",
              "18             0.0984      0.093      1.060      0.290      -0.085       0.281\n",
              "19             0.0740      0.093      0.798      0.426      -0.109       0.257\n",
              "20            -0.0746      0.093     -0.801      0.424      -0.258       0.109\n",
              "21            -0.0350      0.093     -0.374      0.709      -0.219       0.149\n",
              "22             0.0518      0.094      0.551      0.582      -0.133       0.237\n",
              "23             0.0137      0.094      0.146      0.884      -0.172       0.199\n",
              "24             0.0301      0.094      0.319      0.750      -0.156       0.216\n",
              "25            -0.0402      0.095     -0.425      0.672      -0.227       0.146\n",
              "26             0.1439      0.095      1.514      0.132      -0.043       0.331\n",
              "27            -0.1967      0.095     -2.065      0.040      -0.385      -0.009\n",
              "28             0.1757      0.095      1.858      0.065      -0.011       0.362\n",
              "29            -0.0905      0.094     -0.960      0.338      -0.276       0.095\n",
              "30            -0.0891      0.094     -0.948      0.344      -0.274       0.096\n",
              "31             0.1501      0.093      1.607      0.110      -0.034       0.334\n",
              "32            -0.0451      0.093     -0.483      0.630      -0.229       0.139\n",
              "33             0.0371      0.093      0.397      0.691      -0.147       0.221\n",
              "34            -0.0534      0.093     -0.572      0.568      -0.238       0.131\n",
              "35             0.9640      0.067     14.336      0.000       0.832       1.097\n",
              "==============================================================================\n",
              "Omnibus:                       19.405   Durbin-Watson:                   2.004\n",
              "Prob(Omnibus):                  0.000   Jarque-Bera (JB):               23.386\n",
              "Skew:                           0.590   Prob(JB):                     8.35e-06\n",
              "Kurtosis:                       3.895   Cond. No.                     5.77e+04\n",
              "==============================================================================\n",
              "\n",
              "Warnings:\n",
              "[1] Standard Errors assume that the covariance matrix of the errors is correctly specified.\n",
              "[2] The condition number is large, 5.77e+04. This might indicate that there are\n",
              "strong multicollinearity or other numerical problems.\n",
              "\"\"\""
            ]
          },
          "metadata": {
            "tags": []
          },
          "execution_count": 26
        }
      ]
    }
  ]
}