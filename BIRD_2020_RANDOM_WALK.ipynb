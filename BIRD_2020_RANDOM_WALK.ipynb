{
  "nbformat": 4,
  "nbformat_minor": 0,
  "metadata": {
    "colab": {
      "name": "BIRD 2020 - RANDOM WALK",
      "provenance": [],
      "collapsed_sections": [],
      "authorship_tag": "ABX9TyMG5ndqWQP5e3tkgCMPqfiw",
      "include_colab_link": true
    },
    "kernelspec": {
      "display_name": "Python 3",
      "name": "python3"
    }
  },
  "cells": [
    {
      "cell_type": "markdown",
      "metadata": {
        "id": "view-in-github",
        "colab_type": "text"
      },
      "source": [
        "<a href=\"https://colab.research.google.com/github/achmadbadri/UjiCoba/blob/main/BIRD_2020_RANDOM_WALK.ipynb\" target=\"_parent\"><img src=\"https://colab.research.google.com/assets/colab-badge.svg\" alt=\"Open In Colab\"/></a>"
      ]
    },
    {
      "cell_type": "markdown",
      "metadata": {
        "id": "nG5q7aQ2T7yt"
      },
      "source": [
        "https://towardsdatascience.com/walking-through-support-vector-regression-and-lstms-with-stock-price-prediction-45e11b620650"
      ]
    },
    {
      "cell_type": "code",
      "metadata": {
        "id": "imVL_RBkSiEM"
      },
      "source": [
        "import keras\n",
        "from keras.layers import Dense\n",
        "from keras.layers import LSTM\n",
        "from keras.layers import Dropout\n",
        "import pandas as pd \n",
        "import pandas_datareader.data as web\n",
        "import datetime\n",
        "import numpy as np \n",
        "from matplotlib import style\n",
        "from google.colab import files\n",
        "# Visualize the training stock data:\n",
        "import matplotlib.pyplot as plt\n",
        "%matplotlib inline\n",
        "\n",
        "# ignore warnings \n",
        "import warnings\n",
        "warnings.filterwarnings('ignore')"
      ],
      "execution_count": 33,
      "outputs": []
    },
    {
      "cell_type": "code",
      "metadata": {
        "colab": {
          "base_uri": "https://localhost:8080/"
        },
        "id": "7mgHVWneS0-0",
        "outputId": "3ffdd48f-8c38-4180-b9eb-4ea93c5cba11"
      },
      "source": [
        "# Get the stock data using yahoo API:\n",
        "style.use('ggplot')\n",
        "\n",
        "# get 2014-2018 data to train our model\n",
        "start = datetime.datetime(2014,1,1)\n",
        "end = datetime.datetime(2019,12,31)\n",
        "df = web.DataReader(\"BIRD.JK\", 'yahoo', start, end) \n",
        "\n",
        "# get 2019 data to test our model on \n",
        "start = datetime.datetime(2019,11,7)\n",
        "end = datetime.datetime(2020,12,31)\n",
        "test_df = web.DataReader(\"BIRD.JK\", 'yahoo', start, end) \n",
        "print(df.shape)\n",
        "print(test_df.shape)"
      ],
      "execution_count": 34,
      "outputs": [
        {
          "output_type": "stream",
          "text": [
            "(1293, 6)\n",
            "(278, 6)\n"
          ],
          "name": "stdout"
        }
      ]
    },
    {
      "cell_type": "code",
      "metadata": {
        "colab": {
          "base_uri": "https://localhost:8080/"
        },
        "id": "H598YUDjU7Sd",
        "outputId": "4c1c94ec-f270-4a0d-a113-64b2b6054a50"
      },
      "source": [
        "# Create train set of adj close prices data:\n",
        "train_data = df.loc[:,'Adj Close'].to_numpy()\n",
        "print(train_data.shape) # 1258 \n",
        "\n",
        "\n",
        "# Apply normalization before feeding to LSTM using sklearn:\n",
        "from sklearn.preprocessing import MinMaxScaler\n",
        "\n",
        "scaler = MinMaxScaler()\n",
        "train_data = train_data.reshape(-1,1)\n",
        "\n",
        "scaler.fit(train_data)\n",
        "train_data = scaler.transform(train_data)"
      ],
      "execution_count": 35,
      "outputs": [
        {
          "output_type": "stream",
          "text": [
            "(1293,)\n"
          ],
          "name": "stdout"
        }
      ]
    },
    {
      "cell_type": "code",
      "metadata": {
        "colab": {
          "base_uri": "https://localhost:8080/"
        },
        "id": "8ITZZaGnVFTQ",
        "outputId": "07e1fece-ac7c-488a-9015-ef332dbaff4f"
      },
      "source": [
        "'''Function to create a dataset to feed into an LSTM'''\n",
        "def create_dataset(dataset, look_back):\n",
        "    dataX, dataY = [], []\n",
        "    for i in range(len(dataset)-look_back):\n",
        "        a = dataset[i:(i + look_back), 0]\n",
        "        dataX.append(a)\n",
        "        dataY.append(dataset[i + look_back, 0])\n",
        "    return np.array(dataX), np.array(dataY)\n",
        "    \n",
        "    \n",
        "# Create the data to train our model on:\n",
        "time_steps = 36\n",
        "X_train, y_train = create_dataset(train_data, time_steps)\n",
        "\n",
        "# reshape it [samples, time steps, features]\n",
        "X_train = np.reshape(X_train, (X_train.shape[0], 36, 1))\n",
        "\n",
        "print(X_train.shape)\n",
        "\n",
        "\n",
        "# Visualizing our data with prints: \n",
        "print('X_train:')\n",
        "print(str(scaler.inverse_transform(X_train[0])))\n",
        "print(\"\\n\")\n",
        "print('y_train: ' + str(scaler.inverse_transform(y_train[0].reshape(-1,1)))+'\\n')"
      ],
      "execution_count": 36,
      "outputs": [
        {
          "output_type": "stream",
          "text": [
            "(1257, 36, 1)\n",
            "X_train:\n",
            "[[6897.30419922]\n",
            " [7059.32128906]\n",
            " [6966.73925781]\n",
            " [6712.14111328]\n",
            " [6943.59423828]\n",
            " [6966.73925781]\n",
            " [7036.17578125]\n",
            " [6920.44873047]\n",
            " [7036.17578125]\n",
            " [6989.88476562]\n",
            " [6943.59423828]\n",
            " [6874.15869141]\n",
            " [7036.17578125]\n",
            " [6943.59423828]\n",
            " [6827.86767578]\n",
            " [6897.30419922]\n",
            " [6920.44873047]\n",
            " [6943.59423828]\n",
            " [6851.01318359]\n",
            " [6758.43164062]\n",
            " [7128.75732422]\n",
            " [6989.88476562]\n",
            " [6989.88476562]\n",
            " [7151.90234375]\n",
            " [7198.19335938]\n",
            " [7684.24414063]\n",
            " [7846.26171875]\n",
            " [7915.69775391]\n",
            " [7915.69775391]\n",
            " [8054.56933594]\n",
            " [8054.56933594]\n",
            " [8124.00537109]\n",
            " [8262.87792969]\n",
            " [8656.34765625]\n",
            " [8772.07421875]\n",
            " [8772.07421875]]\n",
            "\n",
            "\n",
            "y_train: [[8748.92773438]]\n",
            "\n"
          ],
          "name": "stdout"
        }
      ]
    },
    {
      "cell_type": "code",
      "metadata": {
        "colab": {
          "base_uri": "https://localhost:8080/"
        },
        "id": "pmuzZ5TqVR8O",
        "outputId": "75f8d6c4-7486-43c0-dcd3-307bf2589622"
      },
      "source": [
        "# Build the model \n",
        "model = keras.Sequential()\n",
        "\n",
        "model.add(LSTM(units = 128, return_sequences = True, input_shape = (X_train.shape[1], 1)))\n",
        "#model.add(Dropout(0.2))\n",
        "\n",
        "model.add(LSTM(units = 64, return_sequences = False))\n",
        "#model.add(Dropout(0.2))\n",
        "\n",
        "# Output layer\n",
        "model.add(Dense(units = 32, activation='relu'))\n",
        "model.add(Dense(units = 16,  activation='relu'))\n",
        "model.add(Dense(units = 1, activation= 'linear'))\n",
        "# Compiling the model\n",
        "model.compile(optimizer = 'adam', loss = 'mean_squared_error')\n",
        "\n",
        "# Fitting the model to the Training set\n",
        "history = model.fit(X_train, y_train, epochs = 20, batch_size = 10, validation_split=.30)"
      ],
      "execution_count": 37,
      "outputs": [
        {
          "output_type": "stream",
          "text": [
            "Epoch 1/20\n",
            "88/88 [==============================] - 8s 60ms/step - loss: 0.0237 - val_loss: 2.6830e-04\n",
            "Epoch 2/20\n",
            "88/88 [==============================] - 5s 53ms/step - loss: 0.0012 - val_loss: 3.1572e-04\n",
            "Epoch 3/20\n",
            "88/88 [==============================] - 5s 52ms/step - loss: 0.0015 - val_loss: 2.5297e-04\n",
            "Epoch 4/20\n",
            "88/88 [==============================] - 5s 54ms/step - loss: 0.0016 - val_loss: 2.1595e-04\n",
            "Epoch 5/20\n",
            "88/88 [==============================] - 5s 54ms/step - loss: 9.0689e-04 - val_loss: 4.0049e-04\n",
            "Epoch 6/20\n",
            "88/88 [==============================] - 5s 52ms/step - loss: 7.9521e-04 - val_loss: 2.0463e-04\n",
            "Epoch 7/20\n",
            "88/88 [==============================] - 4s 50ms/step - loss: 8.2738e-04 - val_loss: 2.0221e-04\n",
            "Epoch 8/20\n",
            "88/88 [==============================] - 5s 55ms/step - loss: 6.3759e-04 - val_loss: 1.6840e-04\n",
            "Epoch 9/20\n",
            "88/88 [==============================] - 5s 55ms/step - loss: 7.0853e-04 - val_loss: 1.5837e-04\n",
            "Epoch 10/20\n",
            "88/88 [==============================] - 5s 53ms/step - loss: 6.7703e-04 - val_loss: 1.6125e-04\n",
            "Epoch 11/20\n",
            "88/88 [==============================] - 5s 52ms/step - loss: 5.4682e-04 - val_loss: 2.5079e-04\n",
            "Epoch 12/20\n",
            "88/88 [==============================] - 5s 53ms/step - loss: 6.2699e-04 - val_loss: 1.4362e-04\n",
            "Epoch 13/20\n",
            "88/88 [==============================] - 4s 50ms/step - loss: 5.7381e-04 - val_loss: 2.0995e-04\n",
            "Epoch 14/20\n",
            "88/88 [==============================] - 5s 55ms/step - loss: 0.0015 - val_loss: 1.9395e-04\n",
            "Epoch 15/20\n",
            "88/88 [==============================] - 5s 56ms/step - loss: 5.1992e-04 - val_loss: 1.8601e-04\n",
            "Epoch 16/20\n",
            "88/88 [==============================] - 5s 57ms/step - loss: 4.4651e-04 - val_loss: 3.0738e-04\n",
            "Epoch 17/20\n",
            "88/88 [==============================] - 5s 54ms/step - loss: 3.6389e-04 - val_loss: 3.3125e-04\n",
            "Epoch 18/20\n",
            "88/88 [==============================] - 5s 53ms/step - loss: 3.9434e-04 - val_loss: 1.8393e-04\n",
            "Epoch 19/20\n",
            "88/88 [==============================] - 5s 52ms/step - loss: 3.3919e-04 - val_loss: 1.5274e-04\n",
            "Epoch 20/20\n",
            "88/88 [==============================] - 5s 53ms/step - loss: 4.7485e-04 - val_loss: 1.6215e-04\n"
          ],
          "name": "stdout"
        }
      ]
    },
    {
      "cell_type": "code",
      "metadata": {
        "colab": {
          "base_uri": "https://localhost:8080/"
        },
        "id": "VJAAJ_3JRVIu",
        "outputId": "64e7e150-cc46-4060-fde4-1dca6883d88c"
      },
      "source": [
        "model.summary()"
      ],
      "execution_count": 38,
      "outputs": [
        {
          "output_type": "stream",
          "text": [
            "Model: \"sequential_1\"\n",
            "_________________________________________________________________\n",
            "Layer (type)                 Output Shape              Param #   \n",
            "=================================================================\n",
            "lstm_2 (LSTM)                (None, 36, 128)           66560     \n",
            "_________________________________________________________________\n",
            "lstm_3 (LSTM)                (None, 64)                49408     \n",
            "_________________________________________________________________\n",
            "dense_3 (Dense)              (None, 32)                2080      \n",
            "_________________________________________________________________\n",
            "dense_4 (Dense)              (None, 16)                528       \n",
            "_________________________________________________________________\n",
            "dense_5 (Dense)              (None, 1)                 17        \n",
            "=================================================================\n",
            "Total params: 118,593\n",
            "Trainable params: 118,593\n",
            "Non-trainable params: 0\n",
            "_________________________________________________________________\n"
          ],
          "name": "stdout"
        }
      ]
    },
    {
      "cell_type": "code",
      "metadata": {
        "colab": {
          "base_uri": "https://localhost:8080/",
          "height": 298
        },
        "id": "gSKBnwssVVJf",
        "outputId": "54e89b8b-7be5-4374-9c5f-5f3c3964c742"
      },
      "source": [
        "# Plot training & validation loss values\n",
        "plt.plot(history.history['loss'])\n",
        "plt.plot(history.history['val_loss'])\n",
        "plt.title('Model loss')\n",
        "plt.ylabel('Loss')\n",
        "plt.xlabel('Epoch')\n",
        "plt.legend(['Train', 'Test'], loc='upper left')\n",
        "plt.show()"
      ],
      "execution_count": 39,
      "outputs": [
        {
          "output_type": "display_data",
          "data": {
            "image/png": "[encoded data removed]",
            "text/plain": [
              "<Figure size 432x288 with 1 Axes>"
            ]
          },
          "metadata": {
            "tags": []
          }
        }
      ]
    },
    {
      "cell_type": "code",
      "metadata": {
        "id": "bawmbe-aVYTG"
      },
      "source": [
        "# Get the stock prices for 2019 to have our model make the predictions\n",
        "test_data = test_df['Adj Close'].values\n",
        "test_data = test_data.reshape(-1,1)\n",
        "test_data = scaler.transform(test_data)\n",
        "\n",
        "# Create the data to test our model on:\n",
        "time_steps = 36\n",
        "X_test, y_test = create_dataset(test_data, time_steps)\n",
        "\n",
        "# store the original vals for plotting the predictions \n",
        "y_test = y_test.reshape(-1,1)\n",
        "true = y_test\n",
        "org_y = scaler.inverse_transform(y_test)\n",
        "\n",
        "# reshape it [samples, time steps, features]\n",
        "X_test = np.reshape(X_test, (X_test.shape[0], 36, 1))\n",
        "\n",
        "# Predict the prices with the model\n",
        "predicted_y = model.predict(X_test)\n",
        "pred = predicted_y\n",
        "predicted_y = scaler.inverse_transform(predicted_y)\n"
      ],
      "execution_count": 40,
      "outputs": []
    },
    {
      "cell_type": "code",
      "metadata": {
        "colab": {
          "base_uri": "https://localhost:8080/"
        },
        "id": "TCYMPV6E6iAl",
        "outputId": "a9fdbd27-7239-46f5-97e5-32a49076f237"
      },
      "source": [
        "# MSE\n",
        "difference_array = np.subtract(true, pred)\n",
        "squared_array = np.square(difference_array)\n",
        "mse = squared_array.mean()\n",
        "print(\"MSE :\", mse)\n",
        "\n",
        "# The RMSE\n",
        "from sklearn.metrics import mean_squared_error, mean_absolute_error\n",
        "print(\"RMSE : %.2f\" % mean_squared_error(true, pred, squared=False))\n",
        "\n",
        "# The MAE\n",
        "print(\"MAE : %.2f\" % mean_absolute_error(true, pred))\n",
        "\n",
        "#Mean Absolute Percentange Error\n",
        "MAPE = np.mean(np.abs((true - pred) / true)) * 100\n",
        "print('MAPE : ', MAPE)\n",
        "\n",
        "# Explained variance score: 1 is perfect prediction\n",
        "from sklearn.metrics import r2_score\n",
        "print('R2 score: %.2f' % r2_score(true, pred))"
      ],
      "execution_count": 41,
      "outputs": [
        {
          "output_type": "stream",
          "text": [
            "MSE : 0.01711717795863954\n",
            "RMSE : 0.13\n",
            "MAE : 0.12\n",
            "MAPE :  inf\n",
            "R2 score: -3.25\n"
          ],
          "name": "stdout"
        }
      ]
    },
    {
      "cell_type": "markdown",
      "metadata": {
        "id": "m0RAfWtxDfnB"
      },
      "source": [
        "We choose the mean square error MSE of all samples as our metric. It can be calculated through Eqn. (47) using test set. Notice that the MSE we calculated are derived from normalized data. That's because there exists huge value gap among di\u000berent stocks. if we use original stock price to evaluate error, the error of high price stocks would probably be much more larger than low price ones, which implies models perform better on high price stocks would very likely to have better overall performance. Thus the performance on low price stocks would become dispensable. To avoid the bias caused by the aforementioned problem we evaluate the error with normalized stock price ranged from -1 to 1. (Li, H., Shen, Y., dan Zhu, Y. 2018. Stock Price Prediction Using attention-based Multi-Input LSTM)"
      ]
    },
    {
      "cell_type": "code",
      "metadata": {
        "id": "Y47_DyXm9Ysk",
        "colab": {
          "base_uri": "https://localhost:8080/",
          "height": 287
        },
        "outputId": "099244be-a2ec-4df0-d649-f30b7ce49eae"
      },
      "source": [
        "predicted_y = pd.DataFrame(predicted_y)\n",
        "org_y = pd.DataFrame(org_y)\n",
        "describe = pd.DataFrame()\n",
        "describe['True Price'] = org_y[0]\n",
        "describe['Prediction'] = predicted_y[0]\n",
        "describe['difference'] = org_y[0] - predicted_y[0]\n",
        "describe['MAPE (%)'] = abs(describe['difference']/org_y[0]*100)\n",
        "describe.describe()"
      ],
      "execution_count": 42,
      "outputs": [
        {
          "output_type": "execute_result",
          "data": {
            "text/html": [
              "<div>\n",
              "<style scoped>\n",
              "    .dataframe tbody tr th:only-of-type {\n",
              "        vertical-align: middle;\n",
              "    }\n",
              "\n",
              "    .dataframe tbody tr th {\n",
              "        vertical-align: top;\n",
              "    }\n",
              "\n",
              "    .dataframe thead th {\n",
              "        text-align: right;\n",
              "    }\n",
              "</style>\n",
              "<table border=\"1\" class=\"dataframe\">\n",
              "  <thead>\n",
              "    <tr style=\"text-align: right;\">\n",
              "      <th></th>\n",
              "      <th>True Price</th>\n",
              "      <th>Prediction</th>\n",
              "      <th>difference</th>\n",
              "      <th>MAPE (%)</th>\n",
              "    </tr>\n",
              "  </thead>\n",
              "  <tbody>\n",
              "    <tr>\n",
              "      <th>count</th>\n",
              "      <td>242.000000</td>\n",
              "      <td>242.000000</td>\n",
              "      <td>242.000000</td>\n",
              "      <td>242.000000</td>\n",
              "    </tr>\n",
              "    <tr>\n",
              "      <th>mean</th>\n",
              "      <td>1353.016529</td>\n",
              "      <td>2430.981689</td>\n",
              "      <td>-1077.964951</td>\n",
              "      <td>105.336296</td>\n",
              "    </tr>\n",
              "    <tr>\n",
              "      <th>std</th>\n",
              "      <td>585.076326</td>\n",
              "      <td>58.286644</td>\n",
              "      <td>537.324013</td>\n",
              "      <td>61.544281</td>\n",
              "    </tr>\n",
              "    <tr>\n",
              "      <th>min</th>\n",
              "      <td>755.000000</td>\n",
              "      <td>2401.240723</td>\n",
              "      <td>-1649.315186</td>\n",
              "      <td>0.033237</td>\n",
              "    </tr>\n",
              "    <tr>\n",
              "      <th>25%</th>\n",
              "      <td>960.000000</td>\n",
              "      <td>2404.550232</td>\n",
              "      <td>-1446.157654</td>\n",
              "      <td>62.537227</td>\n",
              "    </tr>\n",
              "    <tr>\n",
              "      <th>50%</th>\n",
              "      <td>1080.000000</td>\n",
              "      <td>2406.277954</td>\n",
              "      <td>-1325.986328</td>\n",
              "      <td>122.776512</td>\n",
              "    </tr>\n",
              "    <tr>\n",
              "      <th>75%</th>\n",
              "      <td>1480.000000</td>\n",
              "      <td>2422.412537</td>\n",
              "      <td>-928.126953</td>\n",
              "      <td>150.584564</td>\n",
              "    </tr>\n",
              "    <tr>\n",
              "      <th>max</th>\n",
              "      <td>2690.000000</td>\n",
              "      <td>2650.305176</td>\n",
              "      <td>143.303711</td>\n",
              "      <td>218.452342</td>\n",
              "    </tr>\n",
              "  </tbody>\n",
              "</table>\n",
              "</div>"
            ],
            "text/plain": [
              "        True Price   Prediction   difference    MAPE (%)\n",
              "count   242.000000   242.000000   242.000000  242.000000\n",
              "mean   1353.016529  2430.981689 -1077.964951  105.336296\n",
              "std     585.076326    58.286644   537.324013   61.544281\n",
              "min     755.000000  2401.240723 -1649.315186    0.033237\n",
              "25%     960.000000  2404.550232 -1446.157654   62.537227\n",
              "50%    1080.000000  2406.277954 -1325.986328  122.776512\n",
              "75%    1480.000000  2422.412537  -928.126953  150.584564\n",
              "max    2690.000000  2650.305176   143.303711  218.452342"
            ]
          },
          "metadata": {
            "tags": []
          },
          "execution_count": 42
        }
      ]
    },
    {
      "cell_type": "code",
      "metadata": {
        "colab": {
          "base_uri": "https://localhost:8080/",
          "height": 347
        },
        "id": "UoSeLi8altE4",
        "outputId": "2f27fd56-bc3d-4fab-997b-ae42cbbc5262"
      },
      "source": [
        "describe.head(10)"
      ],
      "execution_count": 43,
      "outputs": [
        {
          "output_type": "execute_result",
          "data": {
            "text/html": [
              "<div>\n",
              "<style scoped>\n",
              "    .dataframe tbody tr th:only-of-type {\n",
              "        vertical-align: middle;\n",
              "    }\n",
              "\n",
              "    .dataframe tbody tr th {\n",
              "        vertical-align: top;\n",
              "    }\n",
              "\n",
              "    .dataframe thead th {\n",
              "        text-align: right;\n",
              "    }\n",
              "</style>\n",
              "<table border=\"1\" class=\"dataframe\">\n",
              "  <thead>\n",
              "    <tr style=\"text-align: right;\">\n",
              "      <th></th>\n",
              "      <th>True Price</th>\n",
              "      <th>Prediction</th>\n",
              "      <th>difference</th>\n",
              "      <th>MAPE (%)</th>\n",
              "    </tr>\n",
              "  </thead>\n",
              "  <tbody>\n",
              "    <tr>\n",
              "      <th>0</th>\n",
              "      <td>2600.0</td>\n",
              "      <td>2541.589355</td>\n",
              "      <td>58.410645</td>\n",
              "      <td>2.246563</td>\n",
              "    </tr>\n",
              "    <tr>\n",
              "      <th>1</th>\n",
              "      <td>2690.0</td>\n",
              "      <td>2546.696289</td>\n",
              "      <td>143.303711</td>\n",
              "      <td>5.327275</td>\n",
              "    </tr>\n",
              "    <tr>\n",
              "      <th>2</th>\n",
              "      <td>2660.0</td>\n",
              "      <td>2584.844238</td>\n",
              "      <td>75.155762</td>\n",
              "      <td>2.825405</td>\n",
              "    </tr>\n",
              "    <tr>\n",
              "      <th>3</th>\n",
              "      <td>2650.0</td>\n",
              "      <td>2622.261475</td>\n",
              "      <td>27.738525</td>\n",
              "      <td>1.046737</td>\n",
              "    </tr>\n",
              "    <tr>\n",
              "      <th>4</th>\n",
              "      <td>2580.0</td>\n",
              "      <td>2647.270996</td>\n",
              "      <td>-67.270996</td>\n",
              "      <td>2.607403</td>\n",
              "    </tr>\n",
              "    <tr>\n",
              "      <th>5</th>\n",
              "      <td>2630.0</td>\n",
              "      <td>2645.376465</td>\n",
              "      <td>-15.376465</td>\n",
              "      <td>0.584656</td>\n",
              "    </tr>\n",
              "    <tr>\n",
              "      <th>6</th>\n",
              "      <td>2680.0</td>\n",
              "      <td>2641.899170</td>\n",
              "      <td>38.100830</td>\n",
              "      <td>1.421673</td>\n",
              "    </tr>\n",
              "    <tr>\n",
              "      <th>7</th>\n",
              "      <td>2640.0</td>\n",
              "      <td>2648.815674</td>\n",
              "      <td>-8.815674</td>\n",
              "      <td>0.333927</td>\n",
              "    </tr>\n",
              "    <tr>\n",
              "      <th>8</th>\n",
              "      <td>2640.0</td>\n",
              "      <td>2650.305176</td>\n",
              "      <td>-10.305176</td>\n",
              "      <td>0.390348</td>\n",
              "    </tr>\n",
              "    <tr>\n",
              "      <th>9</th>\n",
              "      <td>2560.0</td>\n",
              "      <td>2649.039551</td>\n",
              "      <td>-89.039551</td>\n",
              "      <td>3.478107</td>\n",
              "    </tr>\n",
              "  </tbody>\n",
              "</table>\n",
              "</div>"
            ],
            "text/plain": [
              "   True Price   Prediction  difference  MAPE (%)\n",
              "0      2600.0  2541.589355   58.410645  2.246563\n",
              "1      2690.0  2546.696289  143.303711  5.327275\n",
              "2      2660.0  2584.844238   75.155762  2.825405\n",
              "3      2650.0  2622.261475   27.738525  1.046737\n",
              "4      2580.0  2647.270996  -67.270996  2.607403\n",
              "5      2630.0  2645.376465  -15.376465  0.584656\n",
              "6      2680.0  2641.899170   38.100830  1.421673\n",
              "7      2640.0  2648.815674   -8.815674  0.333927\n",
              "8      2640.0  2650.305176  -10.305176  0.390348\n",
              "9      2560.0  2649.039551  -89.039551  3.478107"
            ]
          },
          "metadata": {
            "tags": []
          },
          "execution_count": 43
        }
      ]
    },
    {
      "cell_type": "code",
      "metadata": {
        "id": "xriB7R_tWpAM",
        "colab": {
          "base_uri": "https://localhost:8080/"
        },
        "outputId": "a329e37c-6d7e-483f-bf90-e74ceb67d7aa"
      },
      "source": [
        "a = np.array(describe['True Price'])\n",
        "b = np.array(describe['Prediction'])\n",
        "\n",
        "# MSE\n",
        "difference_array = np.subtract(a, b)\n",
        "squared_array = np.square(difference_array)\n",
        "mse = squared_array.mean()\n",
        "print(\"MSE :\", mse)\n",
        "\n",
        "# The RMSE\n",
        "print(\"RMSE: %.2f\" % mean_squared_error(a, b, squared=False))\n",
        "\n",
        "# The MAE\n",
        "print(\"MAE: %.2f\" % mean_absolute_error(a, b))\n",
        "\n",
        "#Mean Absolute Percentange Error\n",
        "c = (np.mean(np.abs((a - b) / a))) * 100\n",
        "print('MAPE : ', c)\n",
        "\n",
        "# Explained variance score: 1 is perfect prediction\n",
        "from sklearn.metrics import r2_score\n",
        "print('R2 score: %.2f' % r2_score(a, b))\n",
        "\n"
      ],
      "execution_count": 44,
      "outputs": [
        {
          "output_type": "stream",
          "text": [
            "MSE : 1449532.4839502883\n",
            "RMSE: 1203.97\n",
            "MAE: 1081.73\n",
            "MAPE :  105.3362963603973\n",
            "R2 score: -3.25\n"
          ],
          "name": "stdout"
        }
      ]
    },
    {
      "cell_type": "code",
      "metadata": {
        "id": "iozJ262YxuM8",
        "colab": {
          "base_uri": "https://localhost:8080/"
        },
        "outputId": "f40cbca3-1068-46ed-830b-d577f2369165"
      },
      "source": [
        "print(model.evaluate(X_train, y_train))\n",
        "print(model.evaluate(X_test, y_test))"
      ],
      "execution_count": 45,
      "outputs": [
        {
          "output_type": "stream",
          "text": [
            "40/40 [==============================] - 1s 19ms/step - loss: 2.7540e-04\n",
            "0.00027539528673514724\n",
            "8/8 [==============================] - 1s 21ms/step - loss: 0.0171\n",
            "0.017117179930210114\n"
          ],
          "name": "stdout"
        }
      ]
    },
    {
      "cell_type": "code",
      "metadata": {
        "colab": {
          "base_uri": "https://localhost:8080/"
        },
        "id": "JRT-OjnyZ0PP",
        "outputId": "58715ae6-db4a-4117-b570-4393cba1263d"
      },
      "source": [
        "print(model.metrics_names)"
      ],
      "execution_count": 46,
      "outputs": [
        {
          "output_type": "stream",
          "text": [
            "['loss']\n"
          ],
          "name": "stdout"
        }
      ]
    },
    {
      "cell_type": "code",
      "metadata": {
        "id": "qNCPEkeaXNIT"
      },
      "source": [
        "graph  = test_df.drop(test_df.index[0:36])\n",
        "graph.reset_index(inplace=True)\n",
        "graph.rename(columns = {'index':'Date'})\n",
        "graph = graph.drop(columns=['High','Low','Open','Volume','Close'])\n",
        "graph['Predict_Value'] = predicted_y[0]\n",
        "graph.head()\n",
        "graph.set_index('Date', inplace=True)"
      ],
      "execution_count": 47,
      "outputs": []
    },
    {
      "cell_type": "code",
      "metadata": {
        "id": "QF5LdxyJb0bT",
        "colab": {
          "base_uri": "https://localhost:8080/",
          "height": 298
        },
        "outputId": "69180fb9-90fb-412f-e021-dd73e43ecdb0"
      },
      "source": [
        "# plot the results \n",
        "plt.plot(graph['Adj Close'], color = 'red', label = 'Real Stock Price')\n",
        "plt.plot(graph['Predict_Value'], color = 'blue', label = 'Predicted Stock Price')\n",
        "#plt.plot(df['Adj Close'], color = 'black', label = 'Past Stock')\n",
        "plt.title('Stock Price Prediction')\n",
        "plt.xlabel('Time')\n",
        "plt.ylabel('Stock Price')\n",
        "plt.legend()\n",
        "plt.savefig('Stock Price SVR LSTM 1.png')\n",
        "files.download(\"Stock Price SVR LSTM 1.png\")\n",
        "plt.show()"
      ],
      "execution_count": 48,
      "outputs": [
        {
          "output_type": "display_data",
          "data": {
            "application/javascript": [
              "\n",
              "    async function download(id, filename, size) {\n",
              "      if (!google.colab.kernel.accessAllowed) {\n",
              "        return;\n",
              "      }\n",
              "      const div = document.createElement('div');\n",
              "      const label = document.createElement('label');\n",
              "      label.textContent = `Downloading \"${filename}\": `;\n",
              "      div.appendChild(label);\n",
              "      const progress = document.createElement('progress');\n",
              "      progress.max = size;\n",
              "      div.appendChild(progress);\n",
              "      document.body.appendChild(div);\n",
              "\n",
              "      const buffers = [];\n",
              "      let downloaded = 0;\n",
              "\n",
              "      const channel = await google.colab.kernel.comms.open(id);\n",
              "      // Send a message to notify the kernel that we're ready.\n",
              "      channel.send({})\n",
              "\n",
              "      for await (const message of channel.messages) {\n",
              "        // Send a message to notify the kernel that we're ready.\n",
              "        channel.send({})\n",
              "        if (message.buffers) {\n",
              "          for (const buffer of message.buffers) {\n",
              "            buffers.push(buffer);\n",
              "            downloaded += buffer.byteLength;\n",
              "            progress.value = downloaded;\n",
              "          }\n",
              "        }\n",
              "      }\n",
              "      const blob = new Blob(buffers, {type: 'application/binary'});\n",
              "      const a = document.createElement('a');\n",
              "      a.href = window.URL.createObjectURL(blob);\n",
              "      a.download = filename;\n",
              "      div.appendChild(a);\n",
              "      a.click();\n",
              "      div.remove();\n",
              "    }\n",
              "  "
            ],
            "text/plain": [
              "<IPython.core.display.Javascript object>"
            ]
          },
          "metadata": {
            "tags": []
          }
        },
        {
          "output_type": "display_data",
          "data": {
            "application/javascript": [
              "download(\"download_d39022df-f4cf-46ac-88c8-ae31ff2a8585\", \"Stock Price SVR LSTM 1.png\", 26730)"
            ],
            "text/plain": [
              "<IPython.core.display.Javascript object>"
            ]
          },
          "metadata": {
            "tags": []
          }
        },
        {
          "output_type": "display_data",
          "data": {
            "image/png": "[encoded data removed]",
            "text/plain": [
              "<Figure size 432x288 with 1 Axes>"
            ]
          },
          "metadata": {
            "tags": []
          }
        }
      ]
    },
    {
      "cell_type": "code",
      "metadata": {
        "id": "RRepTsPgEuXx"
      },
      "source": [
        "final  = test_df.drop(test_df.index[0:36])\n",
        "final.reset_index(inplace=True)\n",
        "final.rename(columns = {'index':'Date'})\n",
        "final = final.drop(columns=['High','Low','Open','Volume','Close'])\n",
        "final['Predict_Value'] = predicted_y[0]\n",
        "final['Selisih'] = final['Adj Close'] - final['Predict_Value']\n",
        "final['Lost/Risk (%)'] = abs((final['Adj Close'] - final['Predict_Value'])/final['Predict_Value']*100)\n",
        "final = final.drop(columns=['Adj Close'])"
      ],
      "execution_count": 49,
      "outputs": []
    },
    {
      "cell_type": "code",
      "metadata": {
        "id": "DhwcCvlTySN1"
      },
      "source": [
        "percent = test_df.drop(test_df.index[0:35])\n",
        "percent = percent.drop(test_df.index[-1])\n",
        "percent.reset_index(inplace=True)\n",
        "percent.rename(columns = {'index':'Date'}) \n",
        "percent = percent.drop(columns=['High','Low','Open','Volume','Close'])\n",
        "percent['Next Day'] = predicted_y\n",
        "percent['Plus or Minus']= percent['Adj Close'] - percent['Next Day']\n",
        "percent['Next Day (%)']= (((percent['Adj Close'] - percent['Next Day'])/percent['Adj Close'])*100)"
      ],
      "execution_count": 50,
      "outputs": []
    },
    {
      "cell_type": "code",
      "metadata": {
        "id": "sllI6VucG__o"
      },
      "source": [
        "True_Next_Day = test_df.drop(test_df.index[0:35])\n",
        "True_Next_Day = True_Next_Day.drop(test_df.index[-1])\n",
        "True_Next_Day.reset_index(inplace=True)\n",
        "True_Next_Day.rename(columns = {'index':'Date'}) \n",
        "True_Next_Day = True_Next_Day.drop(columns=['High','Low','Open','Volume','Close'])\n",
        "True_Next_Day['True Next Day'] = org_y\n",
        "True_Next_Day['True Plus or Minus']= (True_Next_Day['Adj Close'] - True_Next_Day['True Next Day'])\n",
        "True_Next_Day['True Next Day (%)']= (((True_Next_Day['Adj Close'] - True_Next_Day['True Next Day'])/True_Next_Day['Adj Close'])*100)\n",
        "True_Next_Day = True_Next_Day.drop(columns=['Adj Close'])"
      ],
      "execution_count": 51,
      "outputs": []
    },
    {
      "cell_type": "code",
      "metadata": {
        "id": "121c4YuD-aJq",
        "colab": {
          "base_uri": "https://localhost:8080/"
        },
        "outputId": "3ec97f26-bf24-4946-fbaf-75c79c7bf051"
      },
      "source": [
        "Concating = percent.merge(final, how='outer', on='Date')\n",
        "Concating = Concating.merge(True_Next_Day, how='outer', on='Date')\n",
        "#Concating.set_index('Date', inplace=True)\n",
        "Final_Predict = Concating.copy()\n",
        "Final_Predict['Harga Saham Hari ini'] = Concating['Adj Close']\n",
        "Final_Predict['Prediksi Besok'] = Concating['Plus or Minus']\n",
        "Final_Predict['Harga Besok Sebenarnya'] = Concating['True Plus or Minus']\n",
        "Final_Predict['Prediksi Besok (%)'] = (Concating['Next Day (%)'])\n",
        "Final_Predict['Harga Besok Sebenarnya (%)'] = Concating['True Next Day (%)']\n",
        "Final_Predict['Selisih Prediksi'] = (Final_Predict['Harga Besok Sebenarnya'] - Final_Predict['Prediksi Besok'])\n",
        "Final_Predict['Harga Sebenarnya'] = Concating['True Next Day']\n",
        "Final_Predict['Risk/MAPE(%)'] = (np.abs((Final_Predict['Harga Besok Sebenarnya'] - Final_Predict['Prediksi Besok']) / Final_Predict['True Next Day'])) * 100\n",
        "Final_Predict['Risk/MAPE(%)'] = round(Final_Predict['Risk/MAPE(%)'], 2)\n",
        "Final_Predict = Final_Predict.drop(columns=['Adj Close', 'Next Day', 'Plus or Minus', 'Next Day (%)',\n",
        "                                            'Predict_Value', 'Selisih', 'Lost/Risk (%)', 'True Plus or Minus',\n",
        "                                            'True Next Day (%)','True Next Day'])\n",
        "Final_Predict = Final_Predict.replace(0, np.nan)\n",
        "Final_Predict = Final_Predict.dropna()\n",
        "Final_Predict['Prediksi Uptrend'] = Final_Predict['Prediksi Besok'].apply(lambda x: 1 if x >= 0 else 0)\n",
        "Final_Predict['Asli Uptrend'] = Final_Predict['Harga Besok Sebenarnya'].apply(lambda x: 1 if x >= 0 else 0)\n",
        "Final_Predict.set_index('Date', inplace=True)\n",
        "Final_Predict.shape"
      ],
      "execution_count": 52,
      "outputs": [
        {
          "output_type": "execute_result",
          "data": {
            "text/plain": [
              "(217, 10)"
            ]
          },
          "metadata": {
            "tags": []
          },
          "execution_count": 52
        }
      ]
    },
    {
      "cell_type": "markdown",
      "metadata": {
        "id": "-B7BojpJDQgu"
      },
      "source": [
        "Risk Ekspektasi - Blindly belief\n",
        "\n",
        "Logika ekpektasi - Saham A saya beli kemarin Rp. 1000, dan prediksi ML LSTM menginfokan hari ini naik 200 menjadi 1200 sehingga saya tergetkan jual 1200. ketika saya jual 1200, ternyata harga penutupannya 1500, naik 500. berarti selisihnya dari prediksi dan harga asli adalah Rp 300 (Rp. 500 - Rp. 200), menandakan risiko ekpektasinya adalah 20% (Rp 300/1500) dari harga saham, sedangkan risiko ekpektasi kenaikan dan penurunannya adalah 60% dari ekpektasi kehilangan peluang (Ekpektasi peluang = (500-200)/500*100)\n",
        "\n",
        "Risiko Ekpektasi lainnya - \n",
        "Saham A saya beli kemarin Rp. 1000 dengan prediksi ML LSTM hari ini 1200, naik 200 sehingga saya tergetkan jual Rp. 1200. ketika saya melihat saham menyentuh 800, saya pikir itu adalah kesempatan beli karena perkiraan penutupan ML LSTM adalah 1200, dengan harapan mendapat keutungan ketika penutupan. Namun, prediksinya salah, dan ternyata penutupannya adalah 800 dan saham saya tidak laku, dan terjadi penurunan 200 dari hari kemarin. Disini saya kehilangan kesempatan cut loss dan justru menumpuk saham ketika seharusnya cutloss. Jika dikalkulasikan -400 dari harapan awal 1200 menjadi 800 (-200-200), menandakan risk ekpektasi dari harga sahamnya 50% (-400/800*100), atau perbedaan ekpektasinya 200% dari peluang cutloss. Risiko dari ketamakan."
      ]
    },
    {
      "cell_type": "code",
      "metadata": {
        "colab": {
          "base_uri": "https://localhost:8080/",
          "height": 561
        },
        "id": "ookffGOJ-lmk",
        "outputId": "9bd6a366-6401-4bb4-896c-83518627bf86"
      },
      "source": [
        "Final_Predict.head(10)"
      ],
      "execution_count": 53,
      "outputs": [
        {
          "output_type": "execute_result",
          "data": {
            "text/html": [
              "<div>\n",
              "<style scoped>\n",
              "    .dataframe tbody tr th:only-of-type {\n",
              "        vertical-align: middle;\n",
              "    }\n",
              "\n",
              "    .dataframe tbody tr th {\n",
              "        vertical-align: top;\n",
              "    }\n",
              "\n",
              "    .dataframe thead th {\n",
              "        text-align: right;\n",
              "    }\n",
              "</style>\n",
              "<table border=\"1\" class=\"dataframe\">\n",
              "  <thead>\n",
              "    <tr style=\"text-align: right;\">\n",
              "      <th></th>\n",
              "      <th>Harga Saham Hari ini</th>\n",
              "      <th>Prediksi Besok</th>\n",
              "      <th>Harga Besok Sebenarnya</th>\n",
              "      <th>Prediksi Besok (%)</th>\n",
              "      <th>Harga Besok Sebenarnya (%)</th>\n",
              "      <th>Selisih Prediksi</th>\n",
              "      <th>Harga Sebenarnya</th>\n",
              "      <th>Risk/MAPE(%)</th>\n",
              "      <th>Prediksi Uptrend</th>\n",
              "      <th>Asli Uptrend</th>\n",
              "    </tr>\n",
              "    <tr>\n",
              "      <th>Date</th>\n",
              "      <th></th>\n",
              "      <th></th>\n",
              "      <th></th>\n",
              "      <th></th>\n",
              "      <th></th>\n",
              "      <th></th>\n",
              "      <th></th>\n",
              "      <th></th>\n",
              "      <th></th>\n",
              "      <th></th>\n",
              "    </tr>\n",
              "  </thead>\n",
              "  <tbody>\n",
              "    <tr>\n",
              "      <th>2019-12-30</th>\n",
              "      <td>2490.0</td>\n",
              "      <td>-51.589355</td>\n",
              "      <td>-1.100000e+02</td>\n",
              "      <td>-2.071862</td>\n",
              "      <td>-4.417671e+00</td>\n",
              "      <td>-58.410645</td>\n",
              "      <td>2600.0</td>\n",
              "      <td>2.25</td>\n",
              "      <td>0</td>\n",
              "      <td>0</td>\n",
              "    </tr>\n",
              "    <tr>\n",
              "      <th>2020-01-02</th>\n",
              "      <td>2600.0</td>\n",
              "      <td>53.303711</td>\n",
              "      <td>-9.000000e+01</td>\n",
              "      <td>2.050143</td>\n",
              "      <td>-3.461538e+00</td>\n",
              "      <td>-143.303711</td>\n",
              "      <td>2690.0</td>\n",
              "      <td>5.33</td>\n",
              "      <td>1</td>\n",
              "      <td>0</td>\n",
              "    </tr>\n",
              "    <tr>\n",
              "      <th>2020-01-03</th>\n",
              "      <td>2690.0</td>\n",
              "      <td>105.155762</td>\n",
              "      <td>3.000000e+01</td>\n",
              "      <td>3.909136</td>\n",
              "      <td>1.115242e+00</td>\n",
              "      <td>-75.155762</td>\n",
              "      <td>2660.0</td>\n",
              "      <td>2.83</td>\n",
              "      <td>1</td>\n",
              "      <td>1</td>\n",
              "    </tr>\n",
              "    <tr>\n",
              "      <th>2020-01-06</th>\n",
              "      <td>2660.0</td>\n",
              "      <td>37.738525</td>\n",
              "      <td>1.000000e+01</td>\n",
              "      <td>1.418742</td>\n",
              "      <td>3.759398e-01</td>\n",
              "      <td>-27.738525</td>\n",
              "      <td>2650.0</td>\n",
              "      <td>1.05</td>\n",
              "      <td>1</td>\n",
              "      <td>1</td>\n",
              "    </tr>\n",
              "    <tr>\n",
              "      <th>2020-01-07</th>\n",
              "      <td>2650.0</td>\n",
              "      <td>2.729004</td>\n",
              "      <td>7.000000e+01</td>\n",
              "      <td>0.102981</td>\n",
              "      <td>2.641509e+00</td>\n",
              "      <td>67.270996</td>\n",
              "      <td>2580.0</td>\n",
              "      <td>2.61</td>\n",
              "      <td>1</td>\n",
              "      <td>1</td>\n",
              "    </tr>\n",
              "    <tr>\n",
              "      <th>2020-01-08</th>\n",
              "      <td>2580.0</td>\n",
              "      <td>-65.376465</td>\n",
              "      <td>-5.000000e+01</td>\n",
              "      <td>-2.533972</td>\n",
              "      <td>-1.937984e+00</td>\n",
              "      <td>15.376465</td>\n",
              "      <td>2630.0</td>\n",
              "      <td>0.58</td>\n",
              "      <td>0</td>\n",
              "      <td>0</td>\n",
              "    </tr>\n",
              "    <tr>\n",
              "      <th>2020-01-09</th>\n",
              "      <td>2630.0</td>\n",
              "      <td>-11.899170</td>\n",
              "      <td>-5.000000e+01</td>\n",
              "      <td>-0.452440</td>\n",
              "      <td>-1.901141e+00</td>\n",
              "      <td>-38.100830</td>\n",
              "      <td>2680.0</td>\n",
              "      <td>1.42</td>\n",
              "      <td>0</td>\n",
              "      <td>0</td>\n",
              "    </tr>\n",
              "    <tr>\n",
              "      <th>2020-01-10</th>\n",
              "      <td>2680.0</td>\n",
              "      <td>31.184326</td>\n",
              "      <td>4.000000e+01</td>\n",
              "      <td>1.163594</td>\n",
              "      <td>1.492537e+00</td>\n",
              "      <td>8.815674</td>\n",
              "      <td>2640.0</td>\n",
              "      <td>0.33</td>\n",
              "      <td>1</td>\n",
              "      <td>1</td>\n",
              "    </tr>\n",
              "    <tr>\n",
              "      <th>2020-01-13</th>\n",
              "      <td>2640.0</td>\n",
              "      <td>-10.305176</td>\n",
              "      <td>-4.547474e-13</td>\n",
              "      <td>-0.390348</td>\n",
              "      <td>-1.722528e-14</td>\n",
              "      <td>10.305176</td>\n",
              "      <td>2640.0</td>\n",
              "      <td>0.39</td>\n",
              "      <td>0</td>\n",
              "      <td>0</td>\n",
              "    </tr>\n",
              "    <tr>\n",
              "      <th>2020-01-14</th>\n",
              "      <td>2640.0</td>\n",
              "      <td>-9.039551</td>\n",
              "      <td>8.000000e+01</td>\n",
              "      <td>-0.342407</td>\n",
              "      <td>3.030303e+00</td>\n",
              "      <td>89.039551</td>\n",
              "      <td>2560.0</td>\n",
              "      <td>3.48</td>\n",
              "      <td>0</td>\n",
              "      <td>1</td>\n",
              "    </tr>\n",
              "  </tbody>\n",
              "</table>\n",
              "</div>"
            ],
            "text/plain": [
              "            Harga Saham Hari ini  ...  Asli Uptrend\n",
              "Date                              ...              \n",
              "2019-12-30                2490.0  ...             0\n",
              "2020-01-02                2600.0  ...             0\n",
              "2020-01-03                2690.0  ...             1\n",
              "2020-01-06                2660.0  ...             1\n",
              "2020-01-07                2650.0  ...             1\n",
              "2020-01-08                2580.0  ...             0\n",
              "2020-01-09                2630.0  ...             0\n",
              "2020-01-10                2680.0  ...             1\n",
              "2020-01-13                2640.0  ...             0\n",
              "2020-01-14                2640.0  ...             1\n",
              "\n",
              "[10 rows x 10 columns]"
            ]
          },
          "metadata": {
            "tags": []
          },
          "execution_count": 53
        }
      ]
    },
    {
      "cell_type": "code",
      "metadata": {
        "colab": {
          "base_uri": "https://localhost:8080/"
        },
        "id": "nJ8kSjYQ4Mru",
        "outputId": "1716de0c-a6a7-49d4-e598-803e48822492"
      },
      "source": [
        "MAPE = np.mean(np.abs((Final_Predict['Harga Besok Sebenarnya'] - Final_Predict['Prediksi Besok']) / Final_Predict['Harga Sebenarnya'])) * 100\n",
        "print('Mape :', MAPE)"
      ],
      "execution_count": 54,
      "outputs": [
        {
          "output_type": "stream",
          "text": [
            "Mape : 104.94762509143385\n"
          ],
          "name": "stdout"
        }
      ]
    },
    {
      "cell_type": "code",
      "metadata": {
        "colab": {
          "base_uri": "https://localhost:8080/"
        },
        "id": "wmiuagMCKc3w",
        "outputId": "75a8104b-c930-4cfa-89fc-d166e98fbe5c"
      },
      "source": [
        "pred_uptrend = Final_Predict['Prediksi Uptrend']\n",
        "true_trend = Final_Predict['Asli Uptrend']\n",
        "\n",
        "# calculate accuracy\n",
        "from sklearn.metrics import accuracy_score\n",
        "Accuracy = accuracy_score(true_trend, pred_uptrend)\n",
        "print('Accuracy :', Accuracy)\n",
        "\n",
        "\n",
        "# calculate prediction\n",
        "from sklearn.metrics import precision_score\n",
        "precision = precision_score(true_trend, pred_uptrend, average='binary')\n",
        "print('Precision : %.3f' % precision)\n",
        "\n",
        "# calculate recall\n",
        "from sklearn.metrics import recall_score\n",
        "recall = recall_score(true_trend, pred_uptrend, average='binary')\n",
        "print('Recall : %.3f' % recall)\n",
        "\n",
        "# calculate score\n",
        "from sklearn.metrics import f1_score\n",
        "score = f1_score(true_trend, pred_uptrend, average='binary')\n",
        "print('F1 Score : %.3f' % score)\n",
        "\n",
        "#AUC Score\n",
        "from sklearn.metrics import roc_auc_score \n",
        "auc = roc_auc_score(true_trend, pred_uptrend)\n",
        "print('AUC Score : ', auc)"
      ],
      "execution_count": 55,
      "outputs": [
        {
          "output_type": "stream",
          "text": [
            "Accuracy : 0.4009216589861751\n",
            "Precision : 0.875\n",
            "Recall : 0.051\n",
            "F1 Score : 0.097\n",
            "AUC Score :  0.5195624546114742\n"
          ],
          "name": "stdout"
        }
      ]
    },
    {
      "cell_type": "code",
      "metadata": {
        "colab": {
          "base_uri": "https://localhost:8080/",
          "height": 337
        },
        "id": "J7yPx3k8WolI",
        "outputId": "a69554a1-e193-45a5-b13f-790f89c9a50c"
      },
      "source": [
        "from sklearn.metrics import confusion_matrix\n",
        "import seaborn as sns\n",
        "import matplotlib.pyplot as plt\n",
        "\n",
        "confusion_matrix(true_trend, pred_uptrend)\n",
        "plt.figure(figsize = (6, 5))\n",
        "sns.heatmap(confusion_matrix(true_trend, pred_uptrend), annot = True)"
      ],
      "execution_count": 56,
      "outputs": [
        {
          "output_type": "execute_result",
          "data": {
            "text/plain": [
              "<matplotlib.axes._subplots.AxesSubplot at 0x7f0a100e0d90>"
            ]
          },
          "metadata": {
            "tags": []
          },
          "execution_count": 56
        },
        {
          "output_type": "display_data",
          "data": {
            "image/png": "[encoded data removed]",
            "text/plain": [
              "<Figure size 432x360 with 2 Axes>"
            ]
          },
          "metadata": {
            "tags": []
          }
        }
      ]
    },
    {
      "cell_type": "code",
      "metadata": {
        "colab": {
          "base_uri": "https://localhost:8080/",
          "height": 282
        },
        "id": "GL0g9D5qPtTK",
        "outputId": "63550c37-5e98-454e-fa1f-f3e3cfee8c6e"
      },
      "source": [
        "from sklearn.metrics import roc_curve \n",
        "fpr, tpr, thresholds = roc_curve(true_trend, pred_uptrend)\n",
        "\n",
        "\n",
        "import matplotlib.pyplot as plt \n",
        "plt.plot(fpr, tpr) \n",
        "plt.xlabel(\"False Positive Rate\") \n",
        "plt.ylabel(\"True Positive Rate\") \n",
        "plt.plot([0, 1], [0, 1], \"k--\") \n",
        "plt.show()"
      ],
      "execution_count": 57,
      "outputs": [
        {
          "output_type": "display_data",
          "data": {
            "image/png": "[encoded data removed]",
            "text/plain": [
              "<Figure size 432x288 with 1 Axes>"
            ]
          },
          "metadata": {
            "tags": []
          }
        }
      ]
    },
    {
      "cell_type": "code",
      "metadata": {
        "colab": {
          "base_uri": "https://localhost:8080/",
          "height": 298
        },
        "id": "kgXVUoOccIB1",
        "outputId": "e7bc8278-3b1d-4a83-a370-508557020e6d"
      },
      "source": [
        "# plot the results \n",
        "plt.plot(Final_Predict['Prediksi Besok'], color = 'red', label = 'Real Stock Price')\n",
        "plt.plot(Final_Predict['Harga Besok Sebenarnya'], color = 'blue', label = 'Predicted Stock Price')\n",
        "#plt.plot(Final_Predict['Risk/MAPE(%)'], color = 'black', label = 'RISK/MAPE(%)')\n",
        "plt.title('Stock Price Prediction')\n",
        "plt.xlabel('Time')\n",
        "plt.ylabel('Stock Price')\n",
        "plt.legend()\n",
        "plt.savefig('Stock Price SVR LSTM 1.png')\n",
        "files.download(\"Stock Price SVR LSTM 1.png\")\n",
        "plt.show()"
      ],
      "execution_count": 58,
      "outputs": [
        {
          "output_type": "display_data",
          "data": {
            "application/javascript": [
              "\n",
              "    async function download(id, filename, size) {\n",
              "      if (!google.colab.kernel.accessAllowed) {\n",
              "        return;\n",
              "      }\n",
              "      const div = document.createElement('div');\n",
              "      const label = document.createElement('label');\n",
              "      label.textContent = `Downloading \"${filename}\": `;\n",
              "      div.appendChild(label);\n",
              "      const progress = document.createElement('progress');\n",
              "      progress.max = size;\n",
              "      div.appendChild(progress);\n",
              "      document.body.appendChild(div);\n",
              "\n",
              "      const buffers = [];\n",
              "      let downloaded = 0;\n",
              "\n",
              "      const channel = await google.colab.kernel.comms.open(id);\n",
              "      // Send a message to notify the kernel that we're ready.\n",
              "      channel.send({})\n",
              "\n",
              "      for await (const message of channel.messages) {\n",
              "        // Send a message to notify the kernel that we're ready.\n",
              "        channel.send({})\n",
              "        if (message.buffers) {\n",
              "          for (const buffer of message.buffers) {\n",
              "            buffers.push(buffer);\n",
              "            downloaded += buffer.byteLength;\n",
              "            progress.value = downloaded;\n",
              "          }\n",
              "        }\n",
              "      }\n",
              "      const blob = new Blob(buffers, {type: 'application/binary'});\n",
              "      const a = document.createElement('a');\n",
              "      a.href = window.URL.createObjectURL(blob);\n",
              "      a.download = filename;\n",
              "      div.appendChild(a);\n",
              "      a.click();\n",
              "      div.remove();\n",
              "    }\n",
              "  "
            ],
            "text/plain": [
              "<IPython.core.display.Javascript object>"
            ]
          },
          "metadata": {
            "tags": []
          }
        },
        {
          "output_type": "display_data",
          "data": {
            "application/javascript": [
              "download(\"download_c2b31f1f-f7b0-454f-8877-ce36a22412a3\", \"Stock Price SVR LSTM 1.png\", 30516)"
            ],
            "text/plain": [
              "<IPython.core.display.Javascript object>"
            ]
          },
          "metadata": {
            "tags": []
          }
        },
        {
          "output_type": "display_data",
          "data": {
            "image/png": "[encoded data removed]",
            "text/plain": [
              "<Figure size 432x288 with 1 Axes>"
            ]
          },
          "metadata": {
            "tags": []
          }
        }
      ]
    },
    {
      "cell_type": "code",
      "metadata": {
        "id": "towGbwPBLWUk"
      },
      "source": [
        "#### Mencari Data STAT MODEL"
      ],
      "execution_count": 59,
      "outputs": []
    },
    {
      "cell_type": "code",
      "metadata": {
        "id": "UiadXxndQ2NX"
      },
      "source": [
        "a = X_test\n",
        "a = np.reshape(a, (-1, 36))\n",
        "a = scaler.inverse_transform(a)\n",
        "a = pd.DataFrame(a)"
      ],
      "execution_count": 60,
      "outputs": []
    },
    {
      "cell_type": "code",
      "metadata": {
        "id": "ErHLvejACioW"
      },
      "source": [
        "b = y_test\n",
        "#b = np.reshape(b, (-1, 36))\n",
        "b = scaler.inverse_transform(b)\n",
        "b = pd.DataFrame(b)"
      ],
      "execution_count": 61,
      "outputs": []
    },
    {
      "cell_type": "code",
      "metadata": {
        "id": "O62uEaEkLyWO"
      },
      "source": [
        "#OLS Model\n",
        "import statsmodels.api as sm\n",
        "X = a\n",
        "Y = b\n",
        "X = sm.add_constant(X)\n",
        "model_ols = sm.OLS(Y,X)\n",
        "results = model_ols.fit()"
      ],
      "execution_count": 62,
      "outputs": []
    },
    {
      "cell_type": "code",
      "metadata": {
        "id": "_CaG_RGcMpzM",
        "colab": {
          "base_uri": "https://localhost:8080/",
          "height": 1000
        },
        "outputId": "084f8a96-dde2-4b2b-fbcb-b677a6e476f1"
      },
      "source": [
        "results.summary()"
      ],
      "execution_count": 63,
      "outputs": [
        {
          "output_type": "execute_result",
          "data": {
            "text/html": [
              "<table class=\"simpletable\">\n",
              "<caption>OLS Regression Results</caption>\n",
              "<tr>\n",
              "  <th>Dep. Variable:</th>            <td>0</td>        <th>  R-squared:         </th> <td>   0.995</td> \n",
              "</tr>\n",
              "<tr>\n",
              "  <th>Model:</th>                   <td>OLS</td>       <th>  Adj. R-squared:    </th> <td>   0.994</td> \n",
              "</tr>\n",
              "<tr>\n",
              "  <th>Method:</th>             <td>Least Squares</td>  <th>  F-statistic:       </th> <td>   1094.</td> \n",
              "</tr>\n",
              "<tr>\n",
              "  <th>Date:</th>             <td>Sun, 09 May 2021</td> <th>  Prob (F-statistic):</th> <td>8.26e-215</td>\n",
              "</tr>\n",
              "<tr>\n",
              "  <th>Time:</th>                 <td>14:50:45</td>     <th>  Log-Likelihood:    </th> <td> -1248.0</td> \n",
              "</tr>\n",
              "<tr>\n",
              "  <th>No. Observations:</th>      <td>   242</td>      <th>  AIC:               </th> <td>   2570.</td> \n",
              "</tr>\n",
              "<tr>\n",
              "  <th>Df Residuals:</th>          <td>   205</td>      <th>  BIC:               </th> <td>   2699.</td> \n",
              "</tr>\n",
              "<tr>\n",
              "  <th>Df Model:</th>              <td>    36</td>      <th>                     </th>     <td> </td>    \n",
              "</tr>\n",
              "<tr>\n",
              "  <th>Covariance Type:</th>      <td>nonrobust</td>    <th>                     </th>     <td> </td>    \n",
              "</tr>\n",
              "</table>\n",
              "<table class=\"simpletable\">\n",
              "<tr>\n",
              "    <td></td>       <th>coef</th>     <th>std err</th>      <th>t</th>      <th>P>|t|</th>  <th>[0.025</th>    <th>0.975]</th>  \n",
              "</tr>\n",
              "<tr>\n",
              "  <th>const</th> <td>   13.4935</td> <td>    8.229</td> <td>    1.640</td> <td> 0.103</td> <td>   -2.730</td> <td>   29.717</td>\n",
              "</tr>\n",
              "<tr>\n",
              "  <th>0</th>     <td>   -0.1187</td> <td>    0.058</td> <td>   -2.051</td> <td> 0.042</td> <td>   -0.233</td> <td>   -0.005</td>\n",
              "</tr>\n",
              "<tr>\n",
              "  <th>1</th>     <td>    0.1324</td> <td>    0.094</td> <td>    1.408</td> <td> 0.161</td> <td>   -0.053</td> <td>    0.318</td>\n",
              "</tr>\n",
              "<tr>\n",
              "  <th>2</th>     <td>   -0.0238</td> <td>    0.096</td> <td>   -0.248</td> <td> 0.805</td> <td>   -0.213</td> <td>    0.165</td>\n",
              "</tr>\n",
              "<tr>\n",
              "  <th>3</th>     <td>   -0.0497</td> <td>    0.097</td> <td>   -0.514</td> <td> 0.608</td> <td>   -0.241</td> <td>    0.141</td>\n",
              "</tr>\n",
              "<tr>\n",
              "  <th>4</th>     <td>    0.1176</td> <td>    0.097</td> <td>    1.210</td> <td> 0.228</td> <td>   -0.074</td> <td>    0.309</td>\n",
              "</tr>\n",
              "<tr>\n",
              "  <th>5</th>     <td>   -0.1016</td> <td>    0.097</td> <td>   -1.043</td> <td> 0.298</td> <td>   -0.293</td> <td>    0.090</td>\n",
              "</tr>\n",
              "<tr>\n",
              "  <th>6</th>     <td>    0.1058</td> <td>    0.097</td> <td>    1.086</td> <td> 0.279</td> <td>   -0.086</td> <td>    0.298</td>\n",
              "</tr>\n",
              "<tr>\n",
              "  <th>7</th>     <td>   -0.0833</td> <td>    0.098</td> <td>   -0.852</td> <td> 0.395</td> <td>   -0.276</td> <td>    0.110</td>\n",
              "</tr>\n",
              "<tr>\n",
              "  <th>8</th>     <td>    0.0520</td> <td>    0.098</td> <td>    0.531</td> <td> 0.596</td> <td>   -0.141</td> <td>    0.245</td>\n",
              "</tr>\n",
              "<tr>\n",
              "  <th>9</th>     <td>    0.0385</td> <td>    0.098</td> <td>    0.391</td> <td> 0.696</td> <td>   -0.155</td> <td>    0.232</td>\n",
              "</tr>\n",
              "<tr>\n",
              "  <th>10</th>    <td>   -0.1524</td> <td>    0.099</td> <td>   -1.544</td> <td> 0.124</td> <td>   -0.347</td> <td>    0.042</td>\n",
              "</tr>\n",
              "<tr>\n",
              "  <th>11</th>    <td>    0.1780</td> <td>    0.099</td> <td>    1.792</td> <td> 0.075</td> <td>   -0.018</td> <td>    0.374</td>\n",
              "</tr>\n",
              "<tr>\n",
              "  <th>12</th>    <td>   -0.1774</td> <td>    0.100</td> <td>   -1.780</td> <td> 0.077</td> <td>   -0.374</td> <td>    0.019</td>\n",
              "</tr>\n",
              "<tr>\n",
              "  <th>13</th>    <td>    0.0648</td> <td>    0.100</td> <td>    0.647</td> <td> 0.518</td> <td>   -0.133</td> <td>    0.262</td>\n",
              "</tr>\n",
              "<tr>\n",
              "  <th>14</th>    <td>    0.0013</td> <td>    0.101</td> <td>    0.013</td> <td> 0.990</td> <td>   -0.197</td> <td>    0.200</td>\n",
              "</tr>\n",
              "<tr>\n",
              "  <th>15</th>    <td>   -0.0223</td> <td>    0.101</td> <td>   -0.220</td> <td> 0.826</td> <td>   -0.222</td> <td>    0.178</td>\n",
              "</tr>\n",
              "<tr>\n",
              "  <th>16</th>    <td>    0.1564</td> <td>    0.101</td> <td>    1.545</td> <td> 0.124</td> <td>   -0.043</td> <td>    0.356</td>\n",
              "</tr>\n",
              "<tr>\n",
              "  <th>17</th>    <td>   -0.2412</td> <td>    0.100</td> <td>   -2.418</td> <td> 0.017</td> <td>   -0.438</td> <td>   -0.044</td>\n",
              "</tr>\n",
              "<tr>\n",
              "  <th>18</th>    <td>    0.1783</td> <td>    0.099</td> <td>    1.795</td> <td> 0.074</td> <td>   -0.018</td> <td>    0.374</td>\n",
              "</tr>\n",
              "<tr>\n",
              "  <th>19</th>    <td>   -0.1245</td> <td>    0.100</td> <td>   -1.244</td> <td> 0.215</td> <td>   -0.322</td> <td>    0.073</td>\n",
              "</tr>\n",
              "<tr>\n",
              "  <th>20</th>    <td>    0.0620</td> <td>    0.100</td> <td>    0.618</td> <td> 0.537</td> <td>   -0.136</td> <td>    0.260</td>\n",
              "</tr>\n",
              "<tr>\n",
              "  <th>21</th>    <td>    0.1291</td> <td>    0.100</td> <td>    1.296</td> <td> 0.196</td> <td>   -0.067</td> <td>    0.325</td>\n",
              "</tr>\n",
              "<tr>\n",
              "  <th>22</th>    <td>   -0.2035</td> <td>    0.099</td> <td>   -2.058</td> <td> 0.041</td> <td>   -0.398</td> <td>   -0.009</td>\n",
              "</tr>\n",
              "<tr>\n",
              "  <th>23</th>    <td>    0.1535</td> <td>    0.099</td> <td>    1.558</td> <td> 0.121</td> <td>   -0.041</td> <td>    0.348</td>\n",
              "</tr>\n",
              "<tr>\n",
              "  <th>24</th>    <td>   -0.1896</td> <td>    0.098</td> <td>   -1.936</td> <td> 0.054</td> <td>   -0.383</td> <td>    0.003</td>\n",
              "</tr>\n",
              "<tr>\n",
              "  <th>25</th>    <td>    0.0303</td> <td>    0.098</td> <td>    0.308</td> <td> 0.759</td> <td>   -0.164</td> <td>    0.224</td>\n",
              "</tr>\n",
              "<tr>\n",
              "  <th>26</th>    <td>    0.1224</td> <td>    0.102</td> <td>    1.199</td> <td> 0.232</td> <td>   -0.079</td> <td>    0.324</td>\n",
              "</tr>\n",
              "<tr>\n",
              "  <th>27</th>    <td>   -0.0735</td> <td>    0.118</td> <td>   -0.622</td> <td> 0.535</td> <td>   -0.306</td> <td>    0.160</td>\n",
              "</tr>\n",
              "<tr>\n",
              "  <th>28</th>    <td>    0.0975</td> <td>    0.122</td> <td>    0.800</td> <td> 0.424</td> <td>   -0.143</td> <td>    0.338</td>\n",
              "</tr>\n",
              "<tr>\n",
              "  <th>29</th>    <td>   -0.1717</td> <td>    0.122</td> <td>   -1.412</td> <td> 0.160</td> <td>   -0.412</td> <td>    0.068</td>\n",
              "</tr>\n",
              "<tr>\n",
              "  <th>30</th>    <td>    0.1330</td> <td>    0.122</td> <td>    1.091</td> <td> 0.276</td> <td>   -0.107</td> <td>    0.373</td>\n",
              "</tr>\n",
              "<tr>\n",
              "  <th>31</th>    <td>   -0.0422</td> <td>    0.121</td> <td>   -0.348</td> <td> 0.728</td> <td>   -0.281</td> <td>    0.197</td>\n",
              "</tr>\n",
              "<tr>\n",
              "  <th>32</th>    <td>   -0.1021</td> <td>    0.122</td> <td>   -0.839</td> <td> 0.402</td> <td>   -0.342</td> <td>    0.138</td>\n",
              "</tr>\n",
              "<tr>\n",
              "  <th>33</th>    <td>    0.2359</td> <td>    0.120</td> <td>    1.957</td> <td> 0.052</td> <td>   -0.002</td> <td>    0.473</td>\n",
              "</tr>\n",
              "<tr>\n",
              "  <th>34</th>    <td>   -0.4537</td> <td>    0.116</td> <td>   -3.904</td> <td> 0.000</td> <td>   -0.683</td> <td>   -0.225</td>\n",
              "</tr>\n",
              "<tr>\n",
              "  <th>35</th>    <td>    1.3313</td> <td>    0.070</td> <td>   19.061</td> <td> 0.000</td> <td>    1.194</td> <td>    1.469</td>\n",
              "</tr>\n",
              "</table>\n",
              "<table class=\"simpletable\">\n",
              "<tr>\n",
              "  <th>Omnibus:</th>       <td>23.659</td> <th>  Durbin-Watson:     </th> <td>   1.982</td>\n",
              "</tr>\n",
              "<tr>\n",
              "  <th>Prob(Omnibus):</th> <td> 0.000</td> <th>  Jarque-Bera (JB):  </th> <td>  43.645</td>\n",
              "</tr>\n",
              "<tr>\n",
              "  <th>Skew:</th>          <td> 0.529</td> <th>  Prob(JB):          </th> <td>3.33e-10</td>\n",
              "</tr>\n",
              "<tr>\n",
              "  <th>Kurtosis:</th>      <td> 4.791</td> <th>  Cond. No.          </th> <td>2.62e+04</td>\n",
              "</tr>\n",
              "</table><br/><br/>Warnings:<br/>[1] Standard Errors assume that the covariance matrix of the errors is correctly specified.<br/>[2] The condition number is large, 2.62e+04. This might indicate that there are<br/>strong multicollinearity or other numerical problems."
            ],
            "text/plain": [
              "<class 'statsmodels.iolib.summary.Summary'>\n",
              "\"\"\"\n",
              "                            OLS Regression Results                            \n",
              "==============================================================================\n",
              "Dep. Variable:                      0   R-squared:                       0.995\n",
              "Model:                            OLS   Adj. R-squared:                  0.994\n",
              "Method:                 Least Squares   F-statistic:                     1094.\n",
              "Date:                Sun, 09 May 2021   Prob (F-statistic):          8.26e-215\n",
              "Time:                        14:50:45   Log-Likelihood:                -1248.0\n",
              "No. Observations:                 242   AIC:                             2570.\n",
              "Df Residuals:                     205   BIC:                             2699.\n",
              "Df Model:                          36                                         \n",
              "Covariance Type:            nonrobust                                         \n",
              "==============================================================================\n",
              "                 coef    std err          t      P>|t|      [0.025      0.975]\n",
              "------------------------------------------------------------------------------\n",
              "const         13.4935      8.229      1.640      0.103      -2.730      29.717\n",
              "0             -0.1187      0.058     -2.051      0.042      -0.233      -0.005\n",
              "1              0.1324      0.094      1.408      0.161      -0.053       0.318\n",
              "2             -0.0238      0.096     -0.248      0.805      -0.213       0.165\n",
              "3             -0.0497      0.097     -0.514      0.608      -0.241       0.141\n",
              "4              0.1176      0.097      1.210      0.228      -0.074       0.309\n",
              "5             -0.1016      0.097     -1.043      0.298      -0.293       0.090\n",
              "6              0.1058      0.097      1.086      0.279      -0.086       0.298\n",
              "7             -0.0833      0.098     -0.852      0.395      -0.276       0.110\n",
              "8              0.0520      0.098      0.531      0.596      -0.141       0.245\n",
              "9              0.0385      0.098      0.391      0.696      -0.155       0.232\n",
              "10            -0.1524      0.099     -1.544      0.124      -0.347       0.042\n",
              "11             0.1780      0.099      1.792      0.075      -0.018       0.374\n",
              "12            -0.1774      0.100     -1.780      0.077      -0.374       0.019\n",
              "13             0.0648      0.100      0.647      0.518      -0.133       0.262\n",
              "14             0.0013      0.101      0.013      0.990      -0.197       0.200\n",
              "15            -0.0223      0.101     -0.220      0.826      -0.222       0.178\n",
              "16             0.1564      0.101      1.545      0.124      -0.043       0.356\n",
              "17            -0.2412      0.100     -2.418      0.017      -0.438      -0.044\n",
              "18             0.1783      0.099      1.795      0.074      -0.018       0.374\n",
              "19            -0.1245      0.100     -1.244      0.215      -0.322       0.073\n",
              "20             0.0620      0.100      0.618      0.537      -0.136       0.260\n",
              "21             0.1291      0.100      1.296      0.196      -0.067       0.325\n",
              "22            -0.2035      0.099     -2.058      0.041      -0.398      -0.009\n",
              "23             0.1535      0.099      1.558      0.121      -0.041       0.348\n",
              "24            -0.1896      0.098     -1.936      0.054      -0.383       0.003\n",
              "25             0.0303      0.098      0.308      0.759      -0.164       0.224\n",
              "26             0.1224      0.102      1.199      0.232      -0.079       0.324\n",
              "27            -0.0735      0.118     -0.622      0.535      -0.306       0.160\n",
              "28             0.0975      0.122      0.800      0.424      -0.143       0.338\n",
              "29            -0.1717      0.122     -1.412      0.160      -0.412       0.068\n",
              "30             0.1330      0.122      1.091      0.276      -0.107       0.373\n",
              "31            -0.0422      0.121     -0.348      0.728      -0.281       0.197\n",
              "32            -0.1021      0.122     -0.839      0.402      -0.342       0.138\n",
              "33             0.2359      0.120      1.957      0.052      -0.002       0.473\n",
              "34            -0.4537      0.116     -3.904      0.000      -0.683      -0.225\n",
              "35             1.3313      0.070     19.061      0.000       1.194       1.469\n",
              "==============================================================================\n",
              "Omnibus:                       23.659   Durbin-Watson:                   1.982\n",
              "Prob(Omnibus):                  0.000   Jarque-Bera (JB):               43.645\n",
              "Skew:                           0.529   Prob(JB):                     3.33e-10\n",
              "Kurtosis:                       4.791   Cond. No.                     2.62e+04\n",
              "==============================================================================\n",
              "\n",
              "Warnings:\n",
              "[1] Standard Errors assume that the covariance matrix of the errors is correctly specified.\n",
              "[2] The condition number is large, 2.62e+04. This might indicate that there are\n",
              "strong multicollinearity or other numerical problems.\n",
              "\"\"\""
            ]
          },
          "metadata": {
            "tags": []
          },
          "execution_count": 63
        }
      ]
    }
  ]
}