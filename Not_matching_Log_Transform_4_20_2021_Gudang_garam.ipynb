{
  "nbformat": 4,
  "nbformat_minor": 0,
  "metadata": {
    "colab": {
      "name": "Not matching Log Transform - 4/20/2021 - Gudang garam",
      "provenance": [],
      "collapsed_sections": [],
      "authorship_tag": "ABX9TyNqZgb+1/BNaE0xJOAcZ2uD",
      "include_colab_link": true
    },
    "kernelspec": {
      "display_name": "Python 3",
      "name": "python3"
    }
  },
  "cells": [
    {
      "cell_type": "markdown",
      "metadata": {
        "id": "view-in-github",
        "colab_type": "text"
      },
      "source": [
        "<a href=\"https://colab.research.google.com/github/achmadbadri/UjiCoba/blob/main/Not_matching_Log_Transform_4_20_2021_Gudang_garam.ipynb\" target=\"_parent\"><img src=\"https://colab.research.google.com/assets/colab-badge.svg\" alt=\"Open In Colab\"/></a>"
      ]
    },
    {
      "cell_type": "markdown",
      "metadata": {
        "id": "nG5q7aQ2T7yt"
      },
      "source": [
        "https://towardsdatascience.com/walking-through-support-vector-regression-and-lstms-with-stock-price-prediction-45e11b620650"
      ]
    },
    {
      "cell_type": "code",
      "metadata": {
        "id": "imVL_RBkSiEM"
      },
      "source": [
        "import keras\n",
        "from keras.layers import Dense\n",
        "from keras.layers import LSTM\n",
        "from keras.layers import Dropout\n",
        "import pandas as pd \n",
        "import pandas_datareader.data as web\n",
        "import datetime\n",
        "import numpy as np \n",
        "from matplotlib import style\n",
        "from google.colab import files\n",
        "# Visualize the training stock data:\n",
        "import matplotlib.pyplot as plt\n",
        "%matplotlib inline\n",
        "\n",
        "# ignore warnings \n",
        "import warnings\n",
        "warnings.filterwarnings('ignore')"
      ],
      "execution_count": 1,
      "outputs": []
    },
    {
      "cell_type": "code",
      "metadata": {
        "colab": {
          "base_uri": "https://localhost:8080/"
        },
        "id": "7mgHVWneS0-0",
        "outputId": "5e48ce82-7a8e-490f-b280-8eed2cd014b0"
      },
      "source": [
        "# Get the stock data using yahoo API:\n",
        "style.use('ggplot')\n",
        "\n",
        "# get 2014-2018 data to train our model\n",
        "start = datetime.datetime(2014,1,1)\n",
        "end = datetime.datetime(2018,12,31)\n",
        "df = web.DataReader(\"GGRM.JK\", 'yahoo', start, end) \n",
        "\n",
        "# get 2019 data to test our model on \n",
        "start = datetime.datetime(2018,11,13)\n",
        "end = datetime.datetime(2019,12,31)\n",
        "test_df = web.DataReader(\"GGRM.JK\", 'yahoo', start, end) \n",
        "print(df.shape)\n",
        "print(test_df.shape)"
      ],
      "execution_count": 2,
      "outputs": [
        {
          "output_type": "stream",
          "text": [
            "(1251, 6)\n",
            "(292, 6)\n"
          ],
          "name": "stdout"
        }
      ]
    },
    {
      "cell_type": "code",
      "metadata": {
        "colab": {
          "base_uri": "https://localhost:8080/"
        },
        "id": "H598YUDjU7Sd",
        "outputId": "f8084ad2-95f9-46dd-ab54-b0e7065dc3e7"
      },
      "source": [
        "# Create train set of adj close prices data:\n",
        "train_data = df.loc[:,'Adj Close'].to_numpy()\n",
        "print(train_data.shape) # 1258 \n",
        "train_data = np.log10(train_data)\n",
        "\n",
        "train_data = train_data.reshape(-1,1)"
      ],
      "execution_count": 3,
      "outputs": [
        {
          "output_type": "stream",
          "text": [
            "(1251,)\n"
          ],
          "name": "stdout"
        }
      ]
    },
    {
      "cell_type": "code",
      "metadata": {
        "colab": {
          "base_uri": "https://localhost:8080/"
        },
        "id": "8ITZZaGnVFTQ",
        "outputId": "51d9cbe4-c80c-43dd-9c68-e165ee6bf2e5"
      },
      "source": [
        "'''Function to create a dataset to feed into an LSTM'''\n",
        "def create_dataset(dataset, look_back):\n",
        "    dataX, dataY = [], []\n",
        "    for i in range(len(dataset)-look_back):\n",
        "        a = dataset[i:(i + look_back), 0]\n",
        "        dataX.append(a)\n",
        "        dataY.append(dataset[i + look_back, 0])\n",
        "    return np.array(dataX), np.array(dataY)\n",
        "    \n",
        "    \n",
        "# Create the data to train our model on:\n",
        "time_steps = 36\n",
        "X_train, y_train = create_dataset(train_data, time_steps)\n",
        "\n",
        "# reshape it [samples, time steps, features]\n",
        "X_train = np.reshape(X_train, (X_train.shape[0], 36, 1))\n",
        "\n",
        "print(X_train.shape)\n",
        "\n",
        "\n",
        "# Visualizing our data with prints: \n",
        "print('X_train:')\n",
        "print(str(10**(X_train[0])))\n",
        "print(\"\\n\")\n",
        "print('y_train: ' + str(10**(y_train[0].reshape(-1,1)))+'\\n')"
      ],
      "execution_count": 4,
      "outputs": [
        {
          "output_type": "stream",
          "text": [
            "(1215, 36, 1)\n",
            "X_train:\n",
            "[[35882.04296875]\n",
            " [35672.2109375 ]\n",
            " [35672.2109375 ]\n",
            " [35986.9609375 ]\n",
            " [35294.5       ]\n",
            " [35168.59765625]\n",
            " [35672.2109375 ]\n",
            " [35756.14453125]\n",
            " [36952.21484375]\n",
            " [37602.703125  ]\n",
            " [37770.57421875]\n",
            " [38064.34375   ]\n",
            " [37770.57421875]\n",
            " [37623.69140625]\n",
            " [36532.53515625]\n",
            " [35378.4375    ]\n",
            " [33930.5703125 ]\n",
            " [34413.1875    ]\n",
            " [35399.421875  ]\n",
            " [35168.59765625]\n",
            " [35042.69921875]\n",
            " [35756.14453125]\n",
            " [36385.65234375]\n",
            " [37224.9921875 ]\n",
            " [36847.29296875]\n",
            " [37350.89453125]\n",
            " [37350.89453125]\n",
            " [37308.9375    ]\n",
            " [37224.9921875 ]\n",
            " [36637.46484375]\n",
            " [36637.46484375]\n",
            " [38190.24609375]\n",
            " [39239.4296875 ]\n",
            " [39113.52734375]\n",
            " [40204.67578125]\n",
            " [40162.7109375 ]]\n",
            "\n",
            "\n",
            "y_train: [[39449.265625]]\n",
            "\n"
          ],
          "name": "stdout"
        }
      ]
    },
    {
      "cell_type": "code",
      "metadata": {
        "colab": {
          "base_uri": "https://localhost:8080/"
        },
        "id": "pmuzZ5TqVR8O",
        "outputId": "8eaa925e-8d54-41f0-c42c-aed5477f8315"
      },
      "source": [
        "# Build the model \n",
        "model = keras.Sequential()\n",
        "\n",
        "model.add(LSTM(units = 128, return_sequences = True, input_shape = (X_train.shape[1], 1)))\n",
        "#model.add(Dropout(0.2))\n",
        "\n",
        "model.add(LSTM(units = 64, return_sequences = False))\n",
        "#model.add(Dropout(0.2))\n",
        "\n",
        "# Output layer\n",
        "model.add(Dense(units = 32, activation='relu'))\n",
        "model.add(Dense(units = 16,  activation='relu'))\n",
        "model.add(Dense(units = 1, activation= 'linear'))\n",
        "# Compiling the model\n",
        "model.compile(optimizer = 'adam', loss = 'mean_squared_error')\n",
        "\n",
        "# Fitting the model to the Training set\n",
        "history = model.fit(X_train, y_train, epochs = 20, batch_size = 10, validation_split=.30)"
      ],
      "execution_count": 5,
      "outputs": [
        {
          "output_type": "stream",
          "text": [
            "Epoch 1/20\n",
            "85/85 [==============================] - 8s 58ms/step - loss: 4.0611 - val_loss: 0.0249\n",
            "Epoch 2/20\n",
            "85/85 [==============================] - 4s 46ms/step - loss: 0.0067 - val_loss: 0.0278\n",
            "Epoch 3/20\n",
            "85/85 [==============================] - 4s 46ms/step - loss: 0.0059 - val_loss: 0.0200\n",
            "Epoch 4/20\n",
            "85/85 [==============================] - 4s 44ms/step - loss: 0.0062 - val_loss: 0.0233\n",
            "Epoch 5/20\n",
            "85/85 [==============================] - 4s 44ms/step - loss: 0.0063 - val_loss: 0.0287\n",
            "Epoch 6/20\n",
            "85/85 [==============================] - 4s 45ms/step - loss: 0.0061 - val_loss: 0.0150\n",
            "Epoch 7/20\n",
            "85/85 [==============================] - 4s 43ms/step - loss: 0.0065 - val_loss: 0.0270\n",
            "Epoch 8/20\n",
            "85/85 [==============================] - 4s 43ms/step - loss: 0.0065 - val_loss: 0.0155\n",
            "Epoch 9/20\n",
            "85/85 [==============================] - 4s 43ms/step - loss: 0.0060 - val_loss: 0.0079\n",
            "Epoch 10/20\n",
            "85/85 [==============================] - 4s 43ms/step - loss: 0.0075 - val_loss: 0.0093\n",
            "Epoch 11/20\n",
            "85/85 [==============================] - 4s 44ms/step - loss: 0.0070 - val_loss: 0.0243\n",
            "Epoch 12/20\n",
            "85/85 [==============================] - 4s 45ms/step - loss: 0.0065 - val_loss: 0.0191\n",
            "Epoch 13/20\n",
            "85/85 [==============================] - 4s 44ms/step - loss: 0.0057 - val_loss: 0.0184\n",
            "Epoch 14/20\n",
            "85/85 [==============================] - 4s 43ms/step - loss: 0.0062 - val_loss: 0.0258\n",
            "Epoch 15/20\n",
            "85/85 [==============================] - 4s 44ms/step - loss: 0.0062 - val_loss: 0.0223\n",
            "Epoch 16/20\n",
            "85/85 [==============================] - 4s 45ms/step - loss: 0.0063 - val_loss: 0.0103\n",
            "Epoch 17/20\n",
            "85/85 [==============================] - 4s 45ms/step - loss: 0.0059 - val_loss: 0.0332\n",
            "Epoch 18/20\n",
            "85/85 [==============================] - 4s 44ms/step - loss: 0.0059 - val_loss: 0.0194\n",
            "Epoch 19/20\n",
            "85/85 [==============================] - 4s 44ms/step - loss: 0.0058 - val_loss: 0.0145\n",
            "Epoch 20/20\n",
            "85/85 [==============================] - 4s 44ms/step - loss: 0.0054 - val_loss: 0.0224\n"
          ],
          "name": "stdout"
        }
      ]
    },
    {
      "cell_type": "code",
      "metadata": {
        "colab": {
          "base_uri": "https://localhost:8080/"
        },
        "id": "VJAAJ_3JRVIu",
        "outputId": "37c66618-f5de-4768-eea4-ce8eb20bc79f"
      },
      "source": [
        "model.summary()"
      ],
      "execution_count": 6,
      "outputs": [
        {
          "output_type": "stream",
          "text": [
            "Model: \"sequential\"\n",
            "_________________________________________________________________\n",
            "Layer (type)                 Output Shape              Param #   \n",
            "=================================================================\n",
            "lstm (LSTM)                  (None, 36, 128)           66560     \n",
            "_________________________________________________________________\n",
            "lstm_1 (LSTM)                (None, 64)                49408     \n",
            "_________________________________________________________________\n",
            "dense (Dense)                (None, 32)                2080      \n",
            "_________________________________________________________________\n",
            "dense_1 (Dense)              (None, 16)                528       \n",
            "_________________________________________________________________\n",
            "dense_2 (Dense)              (None, 1)                 17        \n",
            "=================================================================\n",
            "Total params: 118,593\n",
            "Trainable params: 118,593\n",
            "Non-trainable params: 0\n",
            "_________________________________________________________________\n"
          ],
          "name": "stdout"
        }
      ]
    },
    {
      "cell_type": "code",
      "metadata": {
        "colab": {
          "base_uri": "https://localhost:8080/",
          "height": 298
        },
        "id": "gSKBnwssVVJf",
        "outputId": "f729aa61-5d54-48d8-d803-3f15fb89c2c0"
      },
      "source": [
        "# Plot training & validation loss values\n",
        "plt.plot(history.history['loss'])\n",
        "plt.plot(history.history['val_loss'])\n",
        "plt.title('Model loss')\n",
        "plt.ylabel('Loss')\n",
        "plt.xlabel('Epoch')\n",
        "plt.legend(['Train', 'Test'], loc='upper left')\n",
        "plt.show()"
      ],
      "execution_count": 7,
      "outputs": [
        {
          "output_type": "display_data",
          "data": {
            "image/png": "[encoded data removed]",
            "text/plain": [
              "<Figure size 432x288 with 1 Axes>"
            ]
          },
          "metadata": {
            "tags": []
          }
        }
      ]
    },
    {
      "cell_type": "code",
      "metadata": {
        "id": "bawmbe-aVYTG"
      },
      "source": [
        "# Get the stock prices for 2019 to have our model make the predictions\n",
        "test_data = test_df['Adj Close'].values\n",
        "test_data = test_data.reshape(-1,1)\n",
        "test_data = np.log10(test_data)\n",
        "\n",
        "# Create the data to test our model on:\n",
        "time_steps = 36\n",
        "X_test, y_test = create_dataset(test_data, time_steps)\n",
        "\n",
        "# store the original vals for plotting the predictions \n",
        "y_test = y_test.reshape(-1,1)\n",
        "true = y_test\n",
        "org_y = 10**(y_test)\n",
        "\n",
        "# reshape it [samples, time steps, features]\n",
        "X_test = np.reshape(X_test, (X_test.shape[0], 36, 1))\n",
        "\n",
        "# Predict the prices with the model\n",
        "predicted_y = model.predict(X_test)\n",
        "pred = predicted_y\n",
        "predicted_y = 10**(predicted_y)\n"
      ],
      "execution_count": 8,
      "outputs": []
    },
    {
      "cell_type": "code",
      "metadata": {
        "colab": {
          "base_uri": "https://localhost:8080/"
        },
        "id": "TCYMPV6E6iAl",
        "outputId": "e3886671-15e2-4395-c502-697dff9b55cf"
      },
      "source": [
        "# MSE\n",
        "difference_array = np.subtract(true, pred)\n",
        "squared_array = np.square(difference_array)\n",
        "mse = squared_array.mean()\n",
        "print(\"MSE :\", mse)\n",
        "\n",
        "# The RMSE\n",
        "from sklearn.metrics import mean_squared_error, mean_absolute_error\n",
        "print(\"RMSE : %.2f\" % mean_squared_error(true, pred, squared=False))\n",
        "\n",
        "# The MAE\n",
        "print(\"MAE : %.2f\" % mean_absolute_error(true, pred))\n",
        "\n",
        "#Mean Absolute Percentange Error\n",
        "MAPE = np.mean(np.abs((true - pred) / true)) * 100\n",
        "print('MAPE : ', MAPE)\n",
        "\n",
        "# Explained variance score: 1 is perfect prediction\n",
        "from sklearn.metrics import r2_score\n",
        "print('R2 score: %.2f' % r2_score(true, pred))"
      ],
      "execution_count": 9,
      "outputs": [
        {
          "output_type": "stream",
          "text": [
            "MSE : 0.023865238614267772\n",
            "RMSE : 0.15\n",
            "MAE : 0.14\n",
            "MAPE :  2.9106034968211856\n",
            "R2 score: -2.79\n"
          ],
          "name": "stdout"
        }
      ]
    },
    {
      "cell_type": "markdown",
      "metadata": {
        "id": "m0RAfWtxDfnB"
      },
      "source": [
        "We choose the mean square error MSE of all samples as our metric. It can be calculated through Eqn. (47) using test set. Notice that the MSE we calculated are derived from normalized data. That's because there exists huge value gap among di\u000berent stocks. if we use original stock price to evaluate error, the error of high price stocks would probably be much more larger than low price ones, which implies models perform better on high price stocks would very likely to have better overall performance. Thus the performance on low price stocks would become dispensable. To avoid the bias caused by the aforementioned problem we evaluate the error with normalized stock price ranged from -1 to 1. (Li, H., Shen, Y., dan Zhu, Y. 2018. Stock Price Prediction Using attention-based Multi-Input LSTM)"
      ]
    },
    {
      "cell_type": "code",
      "metadata": {
        "id": "Y47_DyXm9Ysk",
        "colab": {
          "base_uri": "https://localhost:8080/",
          "height": 287
        },
        "outputId": "cabd4599-3ecf-4d0d-a4d1-81b9fa08f237"
      },
      "source": [
        "predicted_y = pd.DataFrame(predicted_y)\n",
        "org_y = pd.DataFrame(org_y)\n",
        "describe = pd.DataFrame()\n",
        "describe['True Price'] = org_y[0]\n",
        "describe['Prediction'] = predicted_y[0]\n",
        "describe['difference'] = org_y[0] - predicted_y[0]\n",
        "describe['MAPE (%)'] = abs(describe['difference']/org_y[0]*100)\n",
        "describe.describe()"
      ],
      "execution_count": 10,
      "outputs": [
        {
          "output_type": "execute_result",
          "data": {
            "text/html": [
              "<div>\n",
              "<style scoped>\n",
              "    .dataframe tbody tr th:only-of-type {\n",
              "        vertical-align: middle;\n",
              "    }\n",
              "\n",
              "    .dataframe tbody tr th {\n",
              "        vertical-align: top;\n",
              "    }\n",
              "\n",
              "    .dataframe thead th {\n",
              "        text-align: right;\n",
              "    }\n",
              "</style>\n",
              "<table border=\"1\" class=\"dataframe\">\n",
              "  <thead>\n",
              "    <tr style=\"text-align: right;\">\n",
              "      <th></th>\n",
              "      <th>True Price</th>\n",
              "      <th>Prediction</th>\n",
              "      <th>difference</th>\n",
              "      <th>MAPE (%)</th>\n",
              "    </tr>\n",
              "  </thead>\n",
              "  <tbody>\n",
              "    <tr>\n",
              "      <th>count</th>\n",
              "      <td>256.000000</td>\n",
              "      <td>256.000000</td>\n",
              "      <td>256.000000</td>\n",
              "      <td>256.000000</td>\n",
              "    </tr>\n",
              "    <tr>\n",
              "      <th>mean</th>\n",
              "      <td>70735.874481</td>\n",
              "      <td>50261.722656</td>\n",
              "      <td>20474.150757</td>\n",
              "      <td>27.138556</td>\n",
              "    </tr>\n",
              "    <tr>\n",
              "      <th>std</th>\n",
              "      <td>12051.043689</td>\n",
              "      <td>2214.381836</td>\n",
              "      <td>9969.292230</td>\n",
              "      <td>10.734840</td>\n",
              "    </tr>\n",
              "    <tr>\n",
              "      <th>min</th>\n",
              "      <td>49225.000000</td>\n",
              "      <td>46335.625000</td>\n",
              "      <td>1979.675781</td>\n",
              "      <td>3.999345</td>\n",
              "    </tr>\n",
              "    <tr>\n",
              "      <th>25%</th>\n",
              "      <td>54643.750000</td>\n",
              "      <td>48254.882812</td>\n",
              "      <td>7870.418945</td>\n",
              "      <td>14.467614</td>\n",
              "    </tr>\n",
              "    <tr>\n",
              "      <th>50%</th>\n",
              "      <td>75993.769531</td>\n",
              "      <td>51186.037109</td>\n",
              "      <td>24500.259766</td>\n",
              "      <td>32.174394</td>\n",
              "    </tr>\n",
              "    <tr>\n",
              "      <th>75%</th>\n",
              "      <td>79431.626953</td>\n",
              "      <td>51856.130859</td>\n",
              "      <td>27720.711914</td>\n",
              "      <td>34.776131</td>\n",
              "    </tr>\n",
              "    <tr>\n",
              "      <th>max</th>\n",
              "      <td>91262.382813</td>\n",
              "      <td>52833.855469</td>\n",
              "      <td>39204.734375</td>\n",
              "      <td>42.958263</td>\n",
              "    </tr>\n",
              "  </tbody>\n",
              "</table>\n",
              "</div>"
            ],
            "text/plain": [
              "         True Price    Prediction    difference    MAPE (%)\n",
              "count    256.000000    256.000000    256.000000  256.000000\n",
              "mean   70735.874481  50261.722656  20474.150757   27.138556\n",
              "std    12051.043689   2214.381836   9969.292230   10.734840\n",
              "min    49225.000000  46335.625000   1979.675781    3.999345\n",
              "25%    54643.750000  48254.882812   7870.418945   14.467614\n",
              "50%    75993.769531  51186.037109  24500.259766   32.174394\n",
              "75%    79431.626953  51856.130859  27720.711914   34.776131\n",
              "max    91262.382813  52833.855469  39204.734375   42.958263"
            ]
          },
          "metadata": {
            "tags": []
          },
          "execution_count": 10
        }
      ]
    },
    {
      "cell_type": "code",
      "metadata": {
        "colab": {
          "base_uri": "https://localhost:8080/",
          "height": 347
        },
        "id": "UoSeLi8altE4",
        "outputId": "b6eb9e29-376e-4852-87dd-798ba67b298e"
      },
      "source": [
        "describe.head(10)"
      ],
      "execution_count": 11,
      "outputs": [
        {
          "output_type": "execute_result",
          "data": {
            "text/html": [
              "<div>\n",
              "<style scoped>\n",
              "    .dataframe tbody tr th:only-of-type {\n",
              "        vertical-align: middle;\n",
              "    }\n",
              "\n",
              "    .dataframe tbody tr th {\n",
              "        vertical-align: top;\n",
              "    }\n",
              "\n",
              "    .dataframe thead th {\n",
              "        text-align: right;\n",
              "    }\n",
              "</style>\n",
              "<table border=\"1\" class=\"dataframe\">\n",
              "  <thead>\n",
              "    <tr style=\"text-align: right;\">\n",
              "      <th></th>\n",
              "      <th>True Price</th>\n",
              "      <th>Prediction</th>\n",
              "      <th>difference</th>\n",
              "      <th>MAPE (%)</th>\n",
              "    </tr>\n",
              "  </thead>\n",
              "  <tbody>\n",
              "    <tr>\n",
              "      <th>0</th>\n",
              "      <td>81038.867188</td>\n",
              "      <td>51812.167969</td>\n",
              "      <td>29226.699219</td>\n",
              "      <td>36.065039</td>\n",
              "    </tr>\n",
              "    <tr>\n",
              "      <th>1</th>\n",
              "      <td>80313.796875</td>\n",
              "      <td>51834.699219</td>\n",
              "      <td>28479.097656</td>\n",
              "      <td>35.459782</td>\n",
              "    </tr>\n",
              "    <tr>\n",
              "      <th>2</th>\n",
              "      <td>80724.671875</td>\n",
              "      <td>51846.082031</td>\n",
              "      <td>28878.589844</td>\n",
              "      <td>35.774181</td>\n",
              "    </tr>\n",
              "    <tr>\n",
              "      <th>3</th>\n",
              "      <td>79999.601562</td>\n",
              "      <td>51860.375000</td>\n",
              "      <td>28139.226562</td>\n",
              "      <td>35.174208</td>\n",
              "    </tr>\n",
              "    <tr>\n",
              "      <th>4</th>\n",
              "      <td>79612.898437</td>\n",
              "      <td>51865.042969</td>\n",
              "      <td>27747.855469</td>\n",
              "      <td>34.853467</td>\n",
              "    </tr>\n",
              "    <tr>\n",
              "      <th>5</th>\n",
              "      <td>78211.085938</td>\n",
              "      <td>51863.105469</td>\n",
              "      <td>26347.980469</td>\n",
              "      <td>33.688294</td>\n",
              "    </tr>\n",
              "    <tr>\n",
              "      <th>6</th>\n",
              "      <td>79612.898437</td>\n",
              "      <td>51842.496094</td>\n",
              "      <td>27770.402344</td>\n",
              "      <td>34.881788</td>\n",
              "    </tr>\n",
              "    <tr>\n",
              "      <th>7</th>\n",
              "      <td>80507.148438</td>\n",
              "      <td>51840.503906</td>\n",
              "      <td>28666.644531</td>\n",
              "      <td>35.607577</td>\n",
              "    </tr>\n",
              "    <tr>\n",
              "      <th>8</th>\n",
              "      <td>80845.515625</td>\n",
              "      <td>51851.832031</td>\n",
              "      <td>28993.683594</td>\n",
              "      <td>35.863070</td>\n",
              "    </tr>\n",
              "    <tr>\n",
              "      <th>9</th>\n",
              "      <td>81208.054688</td>\n",
              "      <td>51866.921875</td>\n",
              "      <td>29341.132812</td>\n",
              "      <td>36.130816</td>\n",
              "    </tr>\n",
              "  </tbody>\n",
              "</table>\n",
              "</div>"
            ],
            "text/plain": [
              "     True Price    Prediction    difference   MAPE (%)\n",
              "0  81038.867188  51812.167969  29226.699219  36.065039\n",
              "1  80313.796875  51834.699219  28479.097656  35.459782\n",
              "2  80724.671875  51846.082031  28878.589844  35.774181\n",
              "3  79999.601562  51860.375000  28139.226562  35.174208\n",
              "4  79612.898437  51865.042969  27747.855469  34.853467\n",
              "5  78211.085938  51863.105469  26347.980469  33.688294\n",
              "6  79612.898437  51842.496094  27770.402344  34.881788\n",
              "7  80507.148438  51840.503906  28666.644531  35.607577\n",
              "8  80845.515625  51851.832031  28993.683594  35.863070\n",
              "9  81208.054688  51866.921875  29341.132812  36.130816"
            ]
          },
          "metadata": {
            "tags": []
          },
          "execution_count": 11
        }
      ]
    },
    {
      "cell_type": "code",
      "metadata": {
        "id": "xriB7R_tWpAM",
        "colab": {
          "base_uri": "https://localhost:8080/"
        },
        "outputId": "c084cf9b-794d-451d-d13c-b896dd5a7e11"
      },
      "source": [
        "a = np.array(describe['True Price'])\n",
        "b = np.array(describe['Prediction'])\n",
        "\n",
        "# MSE\n",
        "difference_array = np.subtract(a, b)\n",
        "squared_array = np.square(difference_array)\n",
        "mse = squared_array.mean()\n",
        "print(\"MSE :\", mse)\n",
        "\n",
        "# The RMSE\n",
        "print(\"RMSE: %.2f\" % mean_squared_error(a, b, squared=False))\n",
        "\n",
        "# The MAE\n",
        "print(\"MAE: %.2f\" % mean_absolute_error(a, b))\n",
        "\n",
        "#Mean Absolute Percentange Error\n",
        "c = (np.mean(np.abs((a - b) / a))) * 100\n",
        "print('MAPE : ', c)\n",
        "\n",
        "# Explained variance score: 1 is perfect prediction\n",
        "from sklearn.metrics import r2_score\n",
        "print('R2 score: %.2f' % r2_score(a, b))\n",
        "\n"
      ],
      "execution_count": 12,
      "outputs": [
        {
          "output_type": "stream",
          "text": [
            "MSE : 518189407.1342417\n",
            "RMSE: 22763.77\n",
            "MAE: 20474.15\n",
            "MAPE :  27.138555534568987\n",
            "R2 score: -2.58\n"
          ],
          "name": "stdout"
        }
      ]
    },
    {
      "cell_type": "code",
      "metadata": {
        "id": "iozJ262YxuM8",
        "colab": {
          "base_uri": "https://localhost:8080/"
        },
        "outputId": "8a58a753-5085-4b8d-a01e-47636ddae31f"
      },
      "source": [
        "print(model.evaluate(X_train, y_train))\n",
        "print(model.evaluate(X_test, y_test))"
      ],
      "execution_count": 13,
      "outputs": [
        {
          "output_type": "stream",
          "text": [
            "38/38 [==============================] - 1s 20ms/step - loss: 0.0104\n",
            "0.010430404916405678\n",
            "8/8 [==============================] - 1s 20ms/step - loss: 0.0239\n",
            "0.0238652341067791\n"
          ],
          "name": "stdout"
        }
      ]
    },
    {
      "cell_type": "code",
      "metadata": {
        "colab": {
          "base_uri": "https://localhost:8080/"
        },
        "id": "JRT-OjnyZ0PP",
        "outputId": "793b7eca-5149-4337-d016-e4e35f1560d9"
      },
      "source": [
        "print(model.metrics_names)"
      ],
      "execution_count": 14,
      "outputs": [
        {
          "output_type": "stream",
          "text": [
            "['loss']\n"
          ],
          "name": "stdout"
        }
      ]
    },
    {
      "cell_type": "code",
      "metadata": {
        "id": "qNCPEkeaXNIT"
      },
      "source": [
        "graph  = test_df.drop(test_df.index[0:36])\n",
        "graph.reset_index(inplace=True)\n",
        "graph.rename(columns = {'index':'Date'})\n",
        "graph = graph.drop(columns=['High','Low','Open','Volume','Close'])\n",
        "graph['Predict_Value'] = predicted_y[0]\n",
        "graph.head()\n",
        "graph.set_index('Date', inplace=True)"
      ],
      "execution_count": 15,
      "outputs": []
    },
    {
      "cell_type": "code",
      "metadata": {
        "id": "QF5LdxyJb0bT",
        "colab": {
          "base_uri": "https://localhost:8080/",
          "height": 298
        },
        "outputId": "a72cd270-33e7-4665-a6ff-dd906c2c52d0"
      },
      "source": [
        "# plot the results \n",
        "plt.plot(graph['Adj Close'], color = 'red', label = 'Real Stock Price')\n",
        "plt.plot(graph['Predict_Value'], color = 'blue', label = 'Predicted Stock Price')\n",
        "#plt.plot(df['Adj Close'], color = 'black', label = 'Past Stock')\n",
        "plt.title('Stock Price Prediction')\n",
        "plt.xlabel('Time')\n",
        "plt.ylabel('Stock Price')\n",
        "plt.legend()\n",
        "plt.savefig('Stock Price SVR LSTM 1.png')\n",
        "files.download(\"Stock Price SVR LSTM 1.png\")\n",
        "plt.show()"
      ],
      "execution_count": 16,
      "outputs": [
        {
          "output_type": "display_data",
          "data": {
            "application/javascript": [
              "\n",
              "    async function download(id, filename, size) {\n",
              "      if (!google.colab.kernel.accessAllowed) {\n",
              "        return;\n",
              "      }\n",
              "      const div = document.createElement('div');\n",
              "      const label = document.createElement('label');\n",
              "      label.textContent = `Downloading \"${filename}\": `;\n",
              "      div.appendChild(label);\n",
              "      const progress = document.createElement('progress');\n",
              "      progress.max = size;\n",
              "      div.appendChild(progress);\n",
              "      document.body.appendChild(div);\n",
              "\n",
              "      const buffers = [];\n",
              "      let downloaded = 0;\n",
              "\n",
              "      const channel = await google.colab.kernel.comms.open(id);\n",
              "      // Send a message to notify the kernel that we're ready.\n",
              "      channel.send({})\n",
              "\n",
              "      for await (const message of channel.messages) {\n",
              "        // Send a message to notify the kernel that we're ready.\n",
              "        channel.send({})\n",
              "        if (message.buffers) {\n",
              "          for (const buffer of message.buffers) {\n",
              "            buffers.push(buffer);\n",
              "            downloaded += buffer.byteLength;\n",
              "            progress.value = downloaded;\n",
              "          }\n",
              "        }\n",
              "      }\n",
              "      const blob = new Blob(buffers, {type: 'application/binary'});\n",
              "      const a = document.createElement('a');\n",
              "      a.href = window.URL.createObjectURL(blob);\n",
              "      a.download = filename;\n",
              "      div.appendChild(a);\n",
              "      a.click();\n",
              "      div.remove();\n",
              "    }\n",
              "  "
            ],
            "text/plain": [
              "<IPython.core.display.Javascript object>"
            ]
          },
          "metadata": {
            "tags": []
          }
        },
        {
          "output_type": "display_data",
          "data": {
            "application/javascript": [
              "download(\"download_65c2d8c2-ea30-41c2-9c8b-5535aa535d06\", \"Stock Price SVR LSTM 1.png\", 26765)"
            ],
            "text/plain": [
              "<IPython.core.display.Javascript object>"
            ]
          },
          "metadata": {
            "tags": []
          }
        },
        {
          "output_type": "display_data",
          "data": {
            "image/png": "[encoded data removed]",
            "text/plain": [
              "<Figure size 432x288 with 1 Axes>"
            ]
          },
          "metadata": {
            "tags": []
          }
        }
      ]
    },
    {
      "cell_type": "code",
      "metadata": {
        "id": "RRepTsPgEuXx"
      },
      "source": [
        "final  = test_df.drop(test_df.index[0:36])\n",
        "final.reset_index(inplace=True)\n",
        "final.rename(columns = {'index':'Date'})\n",
        "final = final.drop(columns=['High','Low','Open','Volume','Close'])\n",
        "final['Predict_Value'] = predicted_y[0]\n",
        "final['Selisih'] = final['Adj Close'] - final['Predict_Value']\n",
        "final['Lost/Risk (%)'] = abs((final['Adj Close'] - final['Predict_Value'])/final['Predict_Value']*100)\n",
        "final = final.drop(columns=['Adj Close'])"
      ],
      "execution_count": 17,
      "outputs": []
    },
    {
      "cell_type": "code",
      "metadata": {
        "id": "DhwcCvlTySN1"
      },
      "source": [
        "percent = test_df.drop(test_df.index[0:35])\n",
        "percent = percent.drop(test_df.index[-1])\n",
        "percent.reset_index(inplace=True)\n",
        "percent.rename(columns = {'index':'Date'}) \n",
        "percent = percent.drop(columns=['High','Low','Open','Volume','Close'])\n",
        "percent['Next Day'] = predicted_y\n",
        "percent['Plus or Minus']= percent['Adj Close'] - percent['Next Day']\n",
        "percent['Next Day (%)']= (((percent['Adj Close'] - percent['Next Day'])/percent['Adj Close'])*100)"
      ],
      "execution_count": 18,
      "outputs": []
    },
    {
      "cell_type": "code",
      "metadata": {
        "id": "sllI6VucG__o"
      },
      "source": [
        "True_Next_Day = test_df.drop(test_df.index[0:35])\n",
        "True_Next_Day = True_Next_Day.drop(test_df.index[-1])\n",
        "True_Next_Day.reset_index(inplace=True)\n",
        "True_Next_Day.rename(columns = {'index':'Date'}) \n",
        "True_Next_Day = True_Next_Day.drop(columns=['High','Low','Open','Volume','Close'])\n",
        "True_Next_Day['True Next Day'] = org_y\n",
        "True_Next_Day['True Plus or Minus']= (True_Next_Day['Adj Close'] - True_Next_Day['True Next Day'])\n",
        "True_Next_Day['True Next Day (%)']= (((True_Next_Day['Adj Close'] - True_Next_Day['True Next Day'])/True_Next_Day['Adj Close'])*100)\n",
        "True_Next_Day = True_Next_Day.drop(columns=['Adj Close'])"
      ],
      "execution_count": 19,
      "outputs": []
    },
    {
      "cell_type": "code",
      "metadata": {
        "id": "121c4YuD-aJq",
        "colab": {
          "base_uri": "https://localhost:8080/"
        },
        "outputId": "72dd8532-4f40-4bd1-bca5-8b27553f9c3f"
      },
      "source": [
        "Concating = percent.merge(final, how='outer', on='Date')\n",
        "Concating = Concating.merge(True_Next_Day, how='outer', on='Date')\n",
        "#Concating.set_index('Date', inplace=True)\n",
        "Final_Predict = Concating.copy()\n",
        "Final_Predict['Harga Saham Hari ini'] = Concating['Adj Close']\n",
        "Final_Predict['Prediksi Besok'] = Concating['Plus or Minus']\n",
        "Final_Predict['Harga Besok Sebenarnya'] = Concating['True Plus or Minus']\n",
        "Final_Predict['Prediksi Besok (%)'] = (Concating['Next Day (%)'])\n",
        "Final_Predict['Harga Besok Sebenarnya (%)'] = Concating['True Next Day (%)']\n",
        "Final_Predict['Selisih Prediksi'] = (Final_Predict['Harga Besok Sebenarnya'] - Final_Predict['Prediksi Besok'])\n",
        "Final_Predict['Harga Sebenarnya'] = Concating['True Next Day']\n",
        "Final_Predict['Risk/MAPE(%)'] = (np.abs((Final_Predict['Harga Besok Sebenarnya'] - Final_Predict['Prediksi Besok']) / Final_Predict['True Next Day'])) * 100\n",
        "Final_Predict['Risk/MAPE(%)'] = round(Final_Predict['Risk/MAPE(%)'], 2)\n",
        "Final_Predict = Final_Predict.drop(columns=['Adj Close', 'Next Day', 'Plus or Minus', 'Next Day (%)',\n",
        "                                            'Predict_Value', 'Selisih', 'Lost/Risk (%)', 'True Plus or Minus',\n",
        "                                            'True Next Day (%)','True Next Day'])\n",
        "Final_Predict = Final_Predict.replace(0, np.nan)\n",
        "Final_Predict = Final_Predict.dropna()\n",
        "Final_Predict['Prediksi Uptrend'] = Final_Predict['Prediksi Besok'].apply(lambda x: 1 if x >= 0 else 0)\n",
        "Final_Predict['Asli Uptrend'] = Final_Predict['Harga Besok Sebenarnya'].apply(lambda x: 1 if x >= 0 else 0)\n",
        "Final_Predict.set_index('Date', inplace=True)\n",
        "Final_Predict.shape"
      ],
      "execution_count": 20,
      "outputs": [
        {
          "output_type": "execute_result",
          "data": {
            "text/plain": [
              "(256, 10)"
            ]
          },
          "metadata": {
            "tags": []
          },
          "execution_count": 20
        }
      ]
    },
    {
      "cell_type": "markdown",
      "metadata": {
        "id": "-B7BojpJDQgu"
      },
      "source": [
        "Risk Ekspektasi - Blindly belief\n",
        "\n",
        "Logika ekpektasi - Saham A saya beli kemarin Rp. 1000, dan prediksi ML LSTM menginfokan hari ini naik 200 menjadi 1200 sehingga saya tergetkan jual 1200. ketika saya jual 1200, ternyata harga penutupannya 1500, naik 500. berarti selisihnya dari prediksi dan harga asli adalah Rp 300 (Rp. 500 - Rp. 200), menandakan risiko ekpektasinya adalah 20% (Rp 300/1500) dari harga saham, sedangkan risiko ekpektasi kenaikan dan penurunannya adalah 60% dari ekpektasi kehilangan peluang (Ekpektasi peluang = (500-200)/500*100)\n",
        "\n",
        "Risiko Ekpektasi lainnya - \n",
        "Saham A saya beli kemarin Rp. 1000 dengan prediksi ML LSTM hari ini 1200, naik 200 sehingga saya tergetkan jual Rp. 1200. ketika saya melihat saham menyentuh 800, saya pikir itu adalah kesempatan beli karena perkiraan penutupan ML LSTM adalah 1200, dengan harapan mendapat keutungan ketika penutupan. Namun, prediksinya salah, dan ternyata penutupannya adalah 800 dan saham saya tidak laku, dan terjadi penurunan 200 dari hari kemarin. Disini saya kehilangan kesempatan cut loss dan justru menumpuk saham ketika seharusnya cutloss. Jika dikalkulasikan -400 dari harapan awal 1200 menjadi 800 (-200-200), menandakan risk ekpektasi dari harga sahamnya 50% (-400/800*100), atau perbedaan ekpektasinya 200% dari peluang cutloss. Risiko dari ketamakan."
      ]
    },
    {
      "cell_type": "code",
      "metadata": {
        "colab": {
          "base_uri": "https://localhost:8080/",
          "height": 561
        },
        "id": "ookffGOJ-lmk",
        "outputId": "93f5eea0-4585-4bac-d887-59045a6878e6"
      },
      "source": [
        "Final_Predict.head(10)"
      ],
      "execution_count": 21,
      "outputs": [
        {
          "output_type": "execute_result",
          "data": {
            "text/html": [
              "<div>\n",
              "<style scoped>\n",
              "    .dataframe tbody tr th:only-of-type {\n",
              "        vertical-align: middle;\n",
              "    }\n",
              "\n",
              "    .dataframe tbody tr th {\n",
              "        vertical-align: top;\n",
              "    }\n",
              "\n",
              "    .dataframe thead th {\n",
              "        text-align: right;\n",
              "    }\n",
              "</style>\n",
              "<table border=\"1\" class=\"dataframe\">\n",
              "  <thead>\n",
              "    <tr style=\"text-align: right;\">\n",
              "      <th></th>\n",
              "      <th>Harga Saham Hari ini</th>\n",
              "      <th>Prediksi Besok</th>\n",
              "      <th>Harga Besok Sebenarnya</th>\n",
              "      <th>Prediksi Besok (%)</th>\n",
              "      <th>Harga Besok Sebenarnya (%)</th>\n",
              "      <th>Selisih Prediksi</th>\n",
              "      <th>Harga Sebenarnya</th>\n",
              "      <th>Risk/MAPE(%)</th>\n",
              "      <th>Prediksi Uptrend</th>\n",
              "      <th>Asli Uptrend</th>\n",
              "    </tr>\n",
              "    <tr>\n",
              "      <th>Date</th>\n",
              "      <th></th>\n",
              "      <th></th>\n",
              "      <th></th>\n",
              "      <th></th>\n",
              "      <th></th>\n",
              "      <th></th>\n",
              "      <th></th>\n",
              "      <th></th>\n",
              "      <th></th>\n",
              "      <th></th>\n",
              "    </tr>\n",
              "  </thead>\n",
              "  <tbody>\n",
              "    <tr>\n",
              "      <th>2019-01-01</th>\n",
              "      <td>80845.515625</td>\n",
              "      <td>29033.347656</td>\n",
              "      <td>-193.351563</td>\n",
              "      <td>35.912131</td>\n",
              "      <td>-0.239162</td>\n",
              "      <td>-29226.699219</td>\n",
              "      <td>81038.867188</td>\n",
              "      <td>36.07</td>\n",
              "      <td>1</td>\n",
              "      <td>0</td>\n",
              "    </tr>\n",
              "    <tr>\n",
              "      <th>2019-01-02</th>\n",
              "      <td>81038.867188</td>\n",
              "      <td>29204.167969</td>\n",
              "      <td>725.070313</td>\n",
              "      <td>36.037236</td>\n",
              "      <td>0.894719</td>\n",
              "      <td>-28479.097656</td>\n",
              "      <td>80313.796875</td>\n",
              "      <td>35.46</td>\n",
              "      <td>1</td>\n",
              "      <td>1</td>\n",
              "    </tr>\n",
              "    <tr>\n",
              "      <th>2019-01-03</th>\n",
              "      <td>80313.796875</td>\n",
              "      <td>28467.714844</td>\n",
              "      <td>-410.875000</td>\n",
              "      <td>35.445610</td>\n",
              "      <td>-0.511587</td>\n",
              "      <td>-28878.589844</td>\n",
              "      <td>80724.671875</td>\n",
              "      <td>35.77</td>\n",
              "      <td>1</td>\n",
              "      <td>0</td>\n",
              "    </tr>\n",
              "    <tr>\n",
              "      <th>2019-01-04</th>\n",
              "      <td>80724.671875</td>\n",
              "      <td>28864.296875</td>\n",
              "      <td>725.070313</td>\n",
              "      <td>35.756475</td>\n",
              "      <td>0.898202</td>\n",
              "      <td>-28139.226562</td>\n",
              "      <td>79999.601562</td>\n",
              "      <td>35.17</td>\n",
              "      <td>1</td>\n",
              "      <td>1</td>\n",
              "    </tr>\n",
              "    <tr>\n",
              "      <th>2019-01-07</th>\n",
              "      <td>79999.601562</td>\n",
              "      <td>28134.558594</td>\n",
              "      <td>386.703125</td>\n",
              "      <td>35.168373</td>\n",
              "      <td>0.483381</td>\n",
              "      <td>-27747.855469</td>\n",
              "      <td>79612.898437</td>\n",
              "      <td>34.85</td>\n",
              "      <td>1</td>\n",
              "      <td>1</td>\n",
              "    </tr>\n",
              "    <tr>\n",
              "      <th>2019-01-08</th>\n",
              "      <td>79612.898438</td>\n",
              "      <td>27749.792969</td>\n",
              "      <td>1401.812500</td>\n",
              "      <td>34.855901</td>\n",
              "      <td>1.760786</td>\n",
              "      <td>-26347.980469</td>\n",
              "      <td>78211.085938</td>\n",
              "      <td>33.69</td>\n",
              "      <td>1</td>\n",
              "      <td>1</td>\n",
              "    </tr>\n",
              "    <tr>\n",
              "      <th>2019-01-09</th>\n",
              "      <td>78211.085938</td>\n",
              "      <td>26368.589844</td>\n",
              "      <td>-1401.812500</td>\n",
              "      <td>33.714645</td>\n",
              "      <td>-1.792345</td>\n",
              "      <td>-27770.402344</td>\n",
              "      <td>79612.898437</td>\n",
              "      <td>34.88</td>\n",
              "      <td>1</td>\n",
              "      <td>0</td>\n",
              "    </tr>\n",
              "    <tr>\n",
              "      <th>2019-01-10</th>\n",
              "      <td>79612.898438</td>\n",
              "      <td>27772.394531</td>\n",
              "      <td>-894.250000</td>\n",
              "      <td>34.884290</td>\n",
              "      <td>-1.123248</td>\n",
              "      <td>-28666.644531</td>\n",
              "      <td>80507.148438</td>\n",
              "      <td>35.61</td>\n",
              "      <td>1</td>\n",
              "      <td>0</td>\n",
              "    </tr>\n",
              "    <tr>\n",
              "      <th>2019-01-11</th>\n",
              "      <td>80507.148438</td>\n",
              "      <td>28655.316406</td>\n",
              "      <td>-338.367187</td>\n",
              "      <td>35.593506</td>\n",
              "      <td>-0.420295</td>\n",
              "      <td>-28993.683594</td>\n",
              "      <td>80845.515625</td>\n",
              "      <td>35.86</td>\n",
              "      <td>1</td>\n",
              "      <td>0</td>\n",
              "    </tr>\n",
              "    <tr>\n",
              "      <th>2019-01-14</th>\n",
              "      <td>80845.515625</td>\n",
              "      <td>28978.593750</td>\n",
              "      <td>-362.539062</td>\n",
              "      <td>35.844405</td>\n",
              "      <td>-0.448434</td>\n",
              "      <td>-29341.132812</td>\n",
              "      <td>81208.054688</td>\n",
              "      <td>36.13</td>\n",
              "      <td>1</td>\n",
              "      <td>0</td>\n",
              "    </tr>\n",
              "  </tbody>\n",
              "</table>\n",
              "</div>"
            ],
            "text/plain": [
              "            Harga Saham Hari ini  ...  Asli Uptrend\n",
              "Date                              ...              \n",
              "2019-01-01          80845.515625  ...             0\n",
              "2019-01-02          81038.867188  ...             1\n",
              "2019-01-03          80313.796875  ...             0\n",
              "2019-01-04          80724.671875  ...             1\n",
              "2019-01-07          79999.601562  ...             1\n",
              "2019-01-08          79612.898438  ...             1\n",
              "2019-01-09          78211.085938  ...             0\n",
              "2019-01-10          79612.898438  ...             0\n",
              "2019-01-11          80507.148438  ...             0\n",
              "2019-01-14          80845.515625  ...             0\n",
              "\n",
              "[10 rows x 10 columns]"
            ]
          },
          "metadata": {
            "tags": []
          },
          "execution_count": 21
        }
      ]
    },
    {
      "cell_type": "code",
      "metadata": {
        "colab": {
          "base_uri": "https://localhost:8080/"
        },
        "id": "nJ8kSjYQ4Mru",
        "outputId": "3b9ed5e8-93e3-45eb-afc5-39886e42829d"
      },
      "source": [
        "MAPE = np.mean(np.abs((Final_Predict['Harga Besok Sebenarnya'] - Final_Predict['Prediksi Besok']) / Final_Predict['Harga Sebenarnya'])) * 100\n",
        "print('Mape :', MAPE)"
      ],
      "execution_count": 22,
      "outputs": [
        {
          "output_type": "stream",
          "text": [
            "Mape : 27.13855553456898\n"
          ],
          "name": "stdout"
        }
      ]
    },
    {
      "cell_type": "code",
      "metadata": {
        "colab": {
          "base_uri": "https://localhost:8080/"
        },
        "id": "wmiuagMCKc3w",
        "outputId": "5397b829-ea07-427c-b8c8-df10b4869f13"
      },
      "source": [
        "pred_uptrend = Final_Predict['Prediksi Uptrend']\n",
        "true_trend = Final_Predict['Asli Uptrend']\n",
        "\n",
        "# calculate accuracy\n",
        "from sklearn.metrics import accuracy_score\n",
        "Accuracy = accuracy_score(true_trend, pred_uptrend)\n",
        "print('Accuracy :', Accuracy)\n",
        "\n",
        "\n",
        "# calculate prediction\n",
        "from sklearn.metrics import precision_score\n",
        "precision = precision_score(true_trend, pred_uptrend, average='binary')\n",
        "print('Precision : %.3f' % precision)\n",
        "\n",
        "# calculate recall\n",
        "from sklearn.metrics import recall_score\n",
        "recall = recall_score(true_trend, pred_uptrend, average='binary')\n",
        "print('Recall : %.3f' % recall)\n",
        "\n",
        "# calculate score\n",
        "from sklearn.metrics import f1_score\n",
        "score = f1_score(true_trend, pred_uptrend, average='binary')\n",
        "print('F1 Score : %.3f' % score)\n",
        "\n",
        "#AUC Score\n",
        "from sklearn.metrics import roc_auc_score \n",
        "auc = roc_auc_score(true_trend, pred_uptrend)\n",
        "print('AUC Score : ', auc)"
      ],
      "execution_count": 23,
      "outputs": [
        {
          "output_type": "stream",
          "text": [
            "Accuracy : 0.546875\n",
            "Precision : 0.547\n",
            "Recall : 1.000\n",
            "F1 Score : 0.707\n",
            "AUC Score :  0.5\n"
          ],
          "name": "stdout"
        }
      ]
    },
    {
      "cell_type": "code",
      "metadata": {
        "colab": {
          "base_uri": "https://localhost:8080/",
          "height": 342
        },
        "id": "J7yPx3k8WolI",
        "outputId": "c510cb39-9322-469a-94dc-cc2c46b46df3"
      },
      "source": [
        "from sklearn.metrics import confusion_matrix\n",
        "import seaborn as sns\n",
        "import matplotlib.pyplot as plt\n",
        "\n",
        "confusion_matrix(true_trend, pred_uptrend)\n",
        "plt.figure(figsize = (6, 5))\n",
        "sns.heatmap(confusion_matrix(true_trend, pred_uptrend), annot = True)"
      ],
      "execution_count": 24,
      "outputs": [
        {
          "output_type": "execute_result",
          "data": {
            "text/plain": [
              "<matplotlib.axes._subplots.AxesSubplot at 0x7fe8e05f1a50>"
            ]
          },
          "metadata": {
            "tags": []
          },
          "execution_count": 24
        },
        {
          "output_type": "display_data",
          "data": {
            "image/png": "[encoded data removed]",
            "text/plain": [
              "<Figure size 432x360 with 2 Axes>"
            ]
          },
          "metadata": {
            "tags": []
          }
        }
      ]
    },
    {
      "cell_type": "code",
      "metadata": {
        "colab": {
          "base_uri": "https://localhost:8080/",
          "height": 282
        },
        "id": "GL0g9D5qPtTK",
        "outputId": "334abcf9-da6f-45ae-8d83-94dd2b051240"
      },
      "source": [
        "from sklearn.metrics import roc_curve \n",
        "fpr, tpr, thresholds = roc_curve(true_trend, pred_uptrend)\n",
        "\n",
        "\n",
        "import matplotlib.pyplot as plt \n",
        "plt.plot(fpr, tpr) \n",
        "plt.xlabel(\"False Positive Rate\") \n",
        "plt.ylabel(\"True Positive Rate\") \n",
        "plt.plot([0, 1], [0, 1], \"k--\") \n",
        "plt.show()"
      ],
      "execution_count": 25,
      "outputs": [
        {
          "output_type": "display_data",
          "data": {
            "image/png": "[encoded data removed]",
            "text/plain": [
              "<Figure size 432x288 with 1 Axes>"
            ]
          },
          "metadata": {
            "tags": []
          }
        }
      ]
    },
    {
      "cell_type": "code",
      "metadata": {
        "colab": {
          "base_uri": "https://localhost:8080/",
          "height": 298
        },
        "id": "kgXVUoOccIB1",
        "outputId": "faf864b5-039c-4b5d-8bc2-e28b8b47a02d"
      },
      "source": [
        "# plot the results \n",
        "plt.plot(Final_Predict['Prediksi Besok'], color = 'red', label = 'Real Stock Price')\n",
        "plt.plot(Final_Predict['Harga Besok Sebenarnya'], color = 'blue', label = 'Predicted Stock Price')\n",
        "#plt.plot(Final_Predict['Risk/MAPE(%)'], color = 'black', label = 'RISK/MAPE(%)')\n",
        "plt.title('Stock Price Prediction')\n",
        "plt.xlabel('Time')\n",
        "plt.ylabel('Stock Price')\n",
        "plt.legend()\n",
        "plt.savefig('Stock Price SVR LSTM 1.png')\n",
        "files.download(\"Stock Price SVR LSTM 1.png\")\n",
        "plt.show()"
      ],
      "execution_count": 26,
      "outputs": [
        {
          "output_type": "display_data",
          "data": {
            "application/javascript": [
              "\n",
              "    async function download(id, filename, size) {\n",
              "      if (!google.colab.kernel.accessAllowed) {\n",
              "        return;\n",
              "      }\n",
              "      const div = document.createElement('div');\n",
              "      const label = document.createElement('label');\n",
              "      label.textContent = `Downloading \"${filename}\": `;\n",
              "      div.appendChild(label);\n",
              "      const progress = document.createElement('progress');\n",
              "      progress.max = size;\n",
              "      div.appendChild(progress);\n",
              "      document.body.appendChild(div);\n",
              "\n",
              "      const buffers = [];\n",
              "      let downloaded = 0;\n",
              "\n",
              "      const channel = await google.colab.kernel.comms.open(id);\n",
              "      // Send a message to notify the kernel that we're ready.\n",
              "      channel.send({})\n",
              "\n",
              "      for await (const message of channel.messages) {\n",
              "        // Send a message to notify the kernel that we're ready.\n",
              "        channel.send({})\n",
              "        if (message.buffers) {\n",
              "          for (const buffer of message.buffers) {\n",
              "            buffers.push(buffer);\n",
              "            downloaded += buffer.byteLength;\n",
              "            progress.value = downloaded;\n",
              "          }\n",
              "        }\n",
              "      }\n",
              "      const blob = new Blob(buffers, {type: 'application/binary'});\n",
              "      const a = document.createElement('a');\n",
              "      a.href = window.URL.createObjectURL(blob);\n",
              "      a.download = filename;\n",
              "      div.appendChild(a);\n",
              "      a.click();\n",
              "      div.remove();\n",
              "    }\n",
              "  "
            ],
            "text/plain": [
              "<IPython.core.display.Javascript object>"
            ]
          },
          "metadata": {
            "tags": []
          }
        },
        {
          "output_type": "display_data",
          "data": {
            "application/javascript": [
              "download(\"download_2943a3b7-7930-4402-8bc5-b1a8f3f5995c\", \"Stock Price SVR LSTM 1.png\", 32903)"
            ],
            "text/plain": [
              "<IPython.core.display.Javascript object>"
            ]
          },
          "metadata": {
            "tags": []
          }
        },
        {
          "output_type": "display_data",
          "data": {
            "image/png": "[encoded data removed]",
            "text/plain": [
              "<Figure size 432x288 with 1 Axes>"
            ]
          },
          "metadata": {
            "tags": []
          }
        }
      ]
    },
    {
      "cell_type": "code",
      "metadata": {
        "id": "towGbwPBLWUk"
      },
      "source": [
        "#### Mencari Data STAT MODEL"
      ],
      "execution_count": 27,
      "outputs": []
    },
    {
      "cell_type": "code",
      "metadata": {
        "id": "UiadXxndQ2NX"
      },
      "source": [
        "a = X_test\n",
        "a = np.reshape(a, (-1, 36))\n",
        "a = 10**(a)\n",
        "a = pd.DataFrame(a)"
      ],
      "execution_count": 28,
      "outputs": []
    },
    {
      "cell_type": "code",
      "metadata": {
        "id": "ErHLvejACioW"
      },
      "source": [
        "b = y_test\n",
        "#b = np.reshape(b, (-1, 36))\n",
        "b = 10**(b)\n",
        "b = pd.DataFrame(b)"
      ],
      "execution_count": 29,
      "outputs": []
    },
    {
      "cell_type": "code",
      "metadata": {
        "id": "O62uEaEkLyWO"
      },
      "source": [
        "#OLS Model\n",
        "import statsmodels.api as sm\n",
        "X = a\n",
        "Y = b\n",
        "X = sm.add_constant(X)\n",
        "model_ols = sm.OLS(Y,X)\n",
        "results = model_ols.fit()"
      ],
      "execution_count": 30,
      "outputs": []
    },
    {
      "cell_type": "code",
      "metadata": {
        "id": "_CaG_RGcMpzM",
        "colab": {
          "base_uri": "https://localhost:8080/",
          "height": 1000
        },
        "outputId": "473afebd-3a42-4d9d-af97-ee82ba2b6c10"
      },
      "source": [
        "results.summary()"
      ],
      "execution_count": 31,
      "outputs": [
        {
          "output_type": "execute_result",
          "data": {
            "text/html": [
              "<table class=\"simpletable\">\n",
              "<caption>OLS Regression Results</caption>\n",
              "<tr>\n",
              "  <th>Dep. Variable:</th>            <td>0</td>        <th>  R-squared:         </th> <td>   0.985</td> \n",
              "</tr>\n",
              "<tr>\n",
              "  <th>Model:</th>                   <td>OLS</td>       <th>  Adj. R-squared:    </th> <td>   0.982</td> \n",
              "</tr>\n",
              "<tr>\n",
              "  <th>Method:</th>             <td>Least Squares</td>  <th>  F-statistic:       </th> <td>   392.2</td> \n",
              "</tr>\n",
              "<tr>\n",
              "  <th>Date:</th>             <td>Tue, 20 Apr 2021</td> <th>  Prob (F-statistic):</th> <td>5.38e-179</td>\n",
              "</tr>\n",
              "<tr>\n",
              "  <th>Time:</th>                 <td>11:28:43</td>     <th>  Log-Likelihood:    </th> <td> -2233.1</td> \n",
              "</tr>\n",
              "<tr>\n",
              "  <th>No. Observations:</th>      <td>   256</td>      <th>  AIC:               </th> <td>   4540.</td> \n",
              "</tr>\n",
              "<tr>\n",
              "  <th>Df Residuals:</th>          <td>   219</td>      <th>  BIC:               </th> <td>   4671.</td> \n",
              "</tr>\n",
              "<tr>\n",
              "  <th>Df Model:</th>              <td>    36</td>      <th>                     </th>     <td> </td>    \n",
              "</tr>\n",
              "<tr>\n",
              "  <th>Covariance Type:</th>      <td>nonrobust</td>    <th>                     </th>     <td> </td>    \n",
              "</tr>\n",
              "</table>\n",
              "<table class=\"simpletable\">\n",
              "<tr>\n",
              "    <td></td>       <th>coef</th>     <th>std err</th>      <th>t</th>      <th>P>|t|</th>  <th>[0.025</th>    <th>0.975]</th>  \n",
              "</tr>\n",
              "<tr>\n",
              "  <th>const</th> <td>  -51.7853</td> <td>  775.950</td> <td>   -0.067</td> <td> 0.947</td> <td>-1581.071</td> <td> 1477.500</td>\n",
              "</tr>\n",
              "<tr>\n",
              "  <th>0</th>     <td>   -0.0362</td> <td>    0.067</td> <td>   -0.538</td> <td> 0.591</td> <td>   -0.169</td> <td>    0.096</td>\n",
              "</tr>\n",
              "<tr>\n",
              "  <th>1</th>     <td>   -0.0172</td> <td>    0.093</td> <td>   -0.185</td> <td> 0.854</td> <td>   -0.201</td> <td>    0.166</td>\n",
              "</tr>\n",
              "<tr>\n",
              "  <th>2</th>     <td>    0.1304</td> <td>    0.093</td> <td>    1.406</td> <td> 0.161</td> <td>   -0.052</td> <td>    0.313</td>\n",
              "</tr>\n",
              "<tr>\n",
              "  <th>3</th>     <td>   -0.1311</td> <td>    0.093</td> <td>   -1.417</td> <td> 0.158</td> <td>   -0.314</td> <td>    0.051</td>\n",
              "</tr>\n",
              "<tr>\n",
              "  <th>4</th>     <td>    0.0050</td> <td>    0.093</td> <td>    0.054</td> <td> 0.957</td> <td>   -0.177</td> <td>    0.187</td>\n",
              "</tr>\n",
              "<tr>\n",
              "  <th>5</th>     <td>    0.0351</td> <td>    0.093</td> <td>    0.379</td> <td> 0.705</td> <td>   -0.147</td> <td>    0.217</td>\n",
              "</tr>\n",
              "<tr>\n",
              "  <th>6</th>     <td>    0.0468</td> <td>    0.092</td> <td>    0.506</td> <td> 0.613</td> <td>   -0.135</td> <td>    0.229</td>\n",
              "</tr>\n",
              "<tr>\n",
              "  <th>7</th>     <td>    0.0335</td> <td>    0.092</td> <td>    0.362</td> <td> 0.718</td> <td>   -0.149</td> <td>    0.216</td>\n",
              "</tr>\n",
              "<tr>\n",
              "  <th>8</th>     <td>   -0.0024</td> <td>    0.092</td> <td>   -0.026</td> <td> 0.979</td> <td>   -0.185</td> <td>    0.180</td>\n",
              "</tr>\n",
              "<tr>\n",
              "  <th>9</th>     <td>   -0.0877</td> <td>    0.093</td> <td>   -0.946</td> <td> 0.345</td> <td>   -0.270</td> <td>    0.095</td>\n",
              "</tr>\n",
              "<tr>\n",
              "  <th>10</th>    <td>    0.0226</td> <td>    0.093</td> <td>    0.242</td> <td> 0.809</td> <td>   -0.161</td> <td>    0.206</td>\n",
              "</tr>\n",
              "<tr>\n",
              "  <th>11</th>    <td>    0.0068</td> <td>    0.093</td> <td>    0.073</td> <td> 0.942</td> <td>   -0.177</td> <td>    0.190</td>\n",
              "</tr>\n",
              "<tr>\n",
              "  <th>12</th>    <td>    0.0138</td> <td>    0.093</td> <td>    0.149</td> <td> 0.882</td> <td>   -0.170</td> <td>    0.197</td>\n",
              "</tr>\n",
              "<tr>\n",
              "  <th>13</th>    <td>    0.0331</td> <td>    0.094</td> <td>    0.353</td> <td> 0.724</td> <td>   -0.151</td> <td>    0.218</td>\n",
              "</tr>\n",
              "<tr>\n",
              "  <th>14</th>    <td>    0.0564</td> <td>    0.093</td> <td>    0.608</td> <td> 0.544</td> <td>   -0.127</td> <td>    0.239</td>\n",
              "</tr>\n",
              "<tr>\n",
              "  <th>15</th>    <td>   -0.0765</td> <td>    0.093</td> <td>   -0.826</td> <td> 0.410</td> <td>   -0.259</td> <td>    0.106</td>\n",
              "</tr>\n",
              "<tr>\n",
              "  <th>16</th>    <td>    0.0614</td> <td>    0.093</td> <td>    0.662</td> <td> 0.508</td> <td>   -0.121</td> <td>    0.244</td>\n",
              "</tr>\n",
              "<tr>\n",
              "  <th>17</th>    <td>   -0.0714</td> <td>    0.093</td> <td>   -0.771</td> <td> 0.442</td> <td>   -0.254</td> <td>    0.111</td>\n",
              "</tr>\n",
              "<tr>\n",
              "  <th>18</th>    <td>   -0.0669</td> <td>    0.093</td> <td>   -0.721</td> <td> 0.472</td> <td>   -0.250</td> <td>    0.116</td>\n",
              "</tr>\n",
              "<tr>\n",
              "  <th>19</th>    <td>    0.0852</td> <td>    0.093</td> <td>    0.916</td> <td> 0.360</td> <td>   -0.098</td> <td>    0.268</td>\n",
              "</tr>\n",
              "<tr>\n",
              "  <th>20</th>    <td>    0.0031</td> <td>    0.093</td> <td>    0.033</td> <td> 0.974</td> <td>   -0.180</td> <td>    0.187</td>\n",
              "</tr>\n",
              "<tr>\n",
              "  <th>21</th>    <td>   -0.0455</td> <td>    0.093</td> <td>   -0.487</td> <td> 0.627</td> <td>   -0.229</td> <td>    0.139</td>\n",
              "</tr>\n",
              "<tr>\n",
              "  <th>22</th>    <td>    0.0380</td> <td>    0.093</td> <td>    0.407</td> <td> 0.684</td> <td>   -0.146</td> <td>    0.222</td>\n",
              "</tr>\n",
              "<tr>\n",
              "  <th>23</th>    <td>   -0.1061</td> <td>    0.093</td> <td>   -1.141</td> <td> 0.255</td> <td>   -0.290</td> <td>    0.077</td>\n",
              "</tr>\n",
              "<tr>\n",
              "  <th>24</th>    <td>   -0.0211</td> <td>    0.093</td> <td>   -0.226</td> <td> 0.821</td> <td>   -0.205</td> <td>    0.162</td>\n",
              "</tr>\n",
              "<tr>\n",
              "  <th>25</th>    <td>   -0.0572</td> <td>    0.093</td> <td>   -0.615</td> <td> 0.539</td> <td>   -0.241</td> <td>    0.126</td>\n",
              "</tr>\n",
              "<tr>\n",
              "  <th>26</th>    <td>    0.0748</td> <td>    0.093</td> <td>    0.803</td> <td> 0.423</td> <td>   -0.109</td> <td>    0.259</td>\n",
              "</tr>\n",
              "<tr>\n",
              "  <th>27</th>    <td>    0.1359</td> <td>    0.093</td> <td>    1.455</td> <td> 0.147</td> <td>   -0.048</td> <td>    0.320</td>\n",
              "</tr>\n",
              "<tr>\n",
              "  <th>28</th>    <td>   -0.0344</td> <td>    0.093</td> <td>   -0.369</td> <td> 0.713</td> <td>   -0.218</td> <td>    0.150</td>\n",
              "</tr>\n",
              "<tr>\n",
              "  <th>29</th>    <td>    0.0052</td> <td>    0.093</td> <td>    0.056</td> <td> 0.955</td> <td>   -0.179</td> <td>    0.189</td>\n",
              "</tr>\n",
              "<tr>\n",
              "  <th>30</th>    <td>    0.0021</td> <td>    0.093</td> <td>    0.022</td> <td> 0.982</td> <td>   -0.182</td> <td>    0.186</td>\n",
              "</tr>\n",
              "<tr>\n",
              "  <th>31</th>    <td>    0.0008</td> <td>    0.093</td> <td>    0.008</td> <td> 0.993</td> <td>   -0.183</td> <td>    0.185</td>\n",
              "</tr>\n",
              "<tr>\n",
              "  <th>32</th>    <td>   -0.0479</td> <td>    0.094</td> <td>   -0.512</td> <td> 0.609</td> <td>   -0.232</td> <td>    0.136</td>\n",
              "</tr>\n",
              "<tr>\n",
              "  <th>33</th>    <td>    0.0811</td> <td>    0.094</td> <td>    0.864</td> <td> 0.388</td> <td>   -0.104</td> <td>    0.266</td>\n",
              "</tr>\n",
              "<tr>\n",
              "  <th>34</th>    <td>   -0.0422</td> <td>    0.094</td> <td>   -0.448</td> <td> 0.655</td> <td>   -0.228</td> <td>    0.143</td>\n",
              "</tr>\n",
              "<tr>\n",
              "  <th>35</th>    <td>    0.9716</td> <td>    0.068</td> <td>   14.389</td> <td> 0.000</td> <td>    0.839</td> <td>    1.105</td>\n",
              "</tr>\n",
              "</table>\n",
              "<table class=\"simpletable\">\n",
              "<tr>\n",
              "  <th>Omnibus:</th>       <td>180.016</td> <th>  Durbin-Watson:     </th> <td>   2.001</td>\n",
              "</tr>\n",
              "<tr>\n",
              "  <th>Prob(Omnibus):</th> <td> 0.000</td>  <th>  Jarque-Bera (JB):  </th> <td>4464.370</td>\n",
              "</tr>\n",
              "<tr>\n",
              "  <th>Skew:</th>          <td>-2.372</td>  <th>  Prob(JB):          </th> <td>    0.00</td>\n",
              "</tr>\n",
              "<tr>\n",
              "  <th>Kurtosis:</th>      <td>22.901</td>  <th>  Cond. No.          </th> <td>3.40e+06</td>\n",
              "</tr>\n",
              "</table><br/><br/>Warnings:<br/>[1] Standard Errors assume that the covariance matrix of the errors is correctly specified.<br/>[2] The condition number is large, 3.4e+06. This might indicate that there are<br/>strong multicollinearity or other numerical problems."
            ],
            "text/plain": [
              "<class 'statsmodels.iolib.summary.Summary'>\n",
              "\"\"\"\n",
              "                            OLS Regression Results                            \n",
              "==============================================================================\n",
              "Dep. Variable:                      0   R-squared:                       0.985\n",
              "Model:                            OLS   Adj. R-squared:                  0.982\n",
              "Method:                 Least Squares   F-statistic:                     392.2\n",
              "Date:                Tue, 20 Apr 2021   Prob (F-statistic):          5.38e-179\n",
              "Time:                        11:28:43   Log-Likelihood:                -2233.1\n",
              "No. Observations:                 256   AIC:                             4540.\n",
              "Df Residuals:                     219   BIC:                             4671.\n",
              "Df Model:                          36                                         \n",
              "Covariance Type:            nonrobust                                         \n",
              "==============================================================================\n",
              "                 coef    std err          t      P>|t|      [0.025      0.975]\n",
              "------------------------------------------------------------------------------\n",
              "const        -51.7853    775.950     -0.067      0.947   -1581.071    1477.500\n",
              "0             -0.0362      0.067     -0.538      0.591      -0.169       0.096\n",
              "1             -0.0172      0.093     -0.185      0.854      -0.201       0.166\n",
              "2              0.1304      0.093      1.406      0.161      -0.052       0.313\n",
              "3             -0.1311      0.093     -1.417      0.158      -0.314       0.051\n",
              "4              0.0050      0.093      0.054      0.957      -0.177       0.187\n",
              "5              0.0351      0.093      0.379      0.705      -0.147       0.217\n",
              "6              0.0468      0.092      0.506      0.613      -0.135       0.229\n",
              "7              0.0335      0.092      0.362      0.718      -0.149       0.216\n",
              "8             -0.0024      0.092     -0.026      0.979      -0.185       0.180\n",
              "9             -0.0877      0.093     -0.946      0.345      -0.270       0.095\n",
              "10             0.0226      0.093      0.242      0.809      -0.161       0.206\n",
              "11             0.0068      0.093      0.073      0.942      -0.177       0.190\n",
              "12             0.0138      0.093      0.149      0.882      -0.170       0.197\n",
              "13             0.0331      0.094      0.353      0.724      -0.151       0.218\n",
              "14             0.0564      0.093      0.608      0.544      -0.127       0.239\n",
              "15            -0.0765      0.093     -0.826      0.410      -0.259       0.106\n",
              "16             0.0614      0.093      0.662      0.508      -0.121       0.244\n",
              "17            -0.0714      0.093     -0.771      0.442      -0.254       0.111\n",
              "18            -0.0669      0.093     -0.721      0.472      -0.250       0.116\n",
              "19             0.0852      0.093      0.916      0.360      -0.098       0.268\n",
              "20             0.0031      0.093      0.033      0.974      -0.180       0.187\n",
              "21            -0.0455      0.093     -0.487      0.627      -0.229       0.139\n",
              "22             0.0380      0.093      0.407      0.684      -0.146       0.222\n",
              "23            -0.1061      0.093     -1.141      0.255      -0.290       0.077\n",
              "24            -0.0211      0.093     -0.226      0.821      -0.205       0.162\n",
              "25            -0.0572      0.093     -0.615      0.539      -0.241       0.126\n",
              "26             0.0748      0.093      0.803      0.423      -0.109       0.259\n",
              "27             0.1359      0.093      1.455      0.147      -0.048       0.320\n",
              "28            -0.0344      0.093     -0.369      0.713      -0.218       0.150\n",
              "29             0.0052      0.093      0.056      0.955      -0.179       0.189\n",
              "30             0.0021      0.093      0.022      0.982      -0.182       0.186\n",
              "31             0.0008      0.093      0.008      0.993      -0.183       0.185\n",
              "32            -0.0479      0.094     -0.512      0.609      -0.232       0.136\n",
              "33             0.0811      0.094      0.864      0.388      -0.104       0.266\n",
              "34            -0.0422      0.094     -0.448      0.655      -0.228       0.143\n",
              "35             0.9716      0.068     14.389      0.000       0.839       1.105\n",
              "==============================================================================\n",
              "Omnibus:                      180.016   Durbin-Watson:                   2.001\n",
              "Prob(Omnibus):                  0.000   Jarque-Bera (JB):             4464.370\n",
              "Skew:                          -2.372   Prob(JB):                         0.00\n",
              "Kurtosis:                      22.901   Cond. No.                     3.40e+06\n",
              "==============================================================================\n",
              "\n",
              "Warnings:\n",
              "[1] Standard Errors assume that the covariance matrix of the errors is correctly specified.\n",
              "[2] The condition number is large, 3.4e+06. This might indicate that there are\n",
              "strong multicollinearity or other numerical problems.\n",
              "\"\"\""
            ]
          },
          "metadata": {
            "tags": []
          },
          "execution_count": 31
        }
      ]
    }
  ]
}