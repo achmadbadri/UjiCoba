{
  "nbformat": 4,
  "nbformat_minor": 0,
  "metadata": {
    "colab": {
      "name": "BBRI 2020 - Accuracy : 0.5175438596491229 Precision : 0.519 Recall : 0.724 F1 Score : 0.604 AUC Score :  0.5138546798029557",
      "provenance": [],
      "collapsed_sections": [],
      "authorship_tag": "ABX9TyPBUd6d7vvL0F9DYfFkDBZk",
      "include_colab_link": true
    },
    "kernelspec": {
      "display_name": "Python 3",
      "name": "python3"
    }
  },
  "cells": [
    {
      "cell_type": "markdown",
      "metadata": {
        "id": "view-in-github",
        "colab_type": "text"
      },
      "source": [
        "<a href=\"https://colab.research.google.com/github/achmadbadri/UjiCoba/blob/main/BBRI_2020_Accuracy_0_5175438596491229_Precision_0_519_Recall_0_724_F1_Score_0_604_AUC_Score_0_5138546798029557.ipynb\" target=\"_parent\"><img src=\"https://colab.research.google.com/assets/colab-badge.svg\" alt=\"Open In Colab\"/></a>"
      ]
    },
    {
      "cell_type": "markdown",
      "metadata": {
        "id": "nG5q7aQ2T7yt"
      },
      "source": [
        "https://towardsdatascience.com/walking-through-support-vector-regression-and-lstms-with-stock-price-prediction-45e11b620650"
      ]
    },
    {
      "cell_type": "code",
      "metadata": {
        "id": "imVL_RBkSiEM"
      },
      "source": [
        "import keras\n",
        "from keras.layers import Dense\n",
        "from keras.layers import LSTM\n",
        "from keras.layers import Dropout\n",
        "import pandas as pd \n",
        "import pandas_datareader.data as web\n",
        "import datetime\n",
        "import numpy as np \n",
        "from matplotlib import style\n",
        "from google.colab import files\n",
        "# Visualize the training stock data:\n",
        "import matplotlib.pyplot as plt\n",
        "%matplotlib inline\n",
        "\n",
        "# ignore warnings \n",
        "import warnings\n",
        "warnings.filterwarnings('ignore')"
      ],
      "execution_count": 1,
      "outputs": []
    },
    {
      "cell_type": "code",
      "metadata": {
        "colab": {
          "base_uri": "https://localhost:8080/"
        },
        "id": "7mgHVWneS0-0",
        "outputId": "cb5e743e-c491-4b80-f8e5-c62320de223b"
      },
      "source": [
        "# Get the stock data using yahoo API:\n",
        "style.use('ggplot')\n",
        "\n",
        "# get 2014-2018 data to train our model\n",
        "start = datetime.datetime(2014,1,1)\n",
        "end = datetime.datetime(2019,12,31)\n",
        "df = web.DataReader(\"BBRI.JK\", 'yahoo', start, end) \n",
        "\n",
        "# get 2019 data to test our model on \n",
        "start = datetime.datetime(2019,11,7)\n",
        "end = datetime.datetime(2020,12,31)\n",
        "test_df = web.DataReader(\"BBRI.JK\", 'yahoo', start, end) \n",
        "print(df.shape)\n",
        "print(test_df.shape)"
      ],
      "execution_count": 2,
      "outputs": [
        {
          "output_type": "stream",
          "text": [
            "(1507, 6)\n",
            "(278, 6)\n"
          ],
          "name": "stdout"
        }
      ]
    },
    {
      "cell_type": "code",
      "metadata": {
        "colab": {
          "base_uri": "https://localhost:8080/"
        },
        "id": "H598YUDjU7Sd",
        "outputId": "a1dd770e-cbb4-45bf-b54c-fa32832629e0"
      },
      "source": [
        "# Create train set of adj close prices data:\n",
        "train_data = df.loc[:,'Adj Close'].to_numpy()\n",
        "print(train_data.shape) # 1258 \n",
        "\n",
        "\n",
        "# Apply normalization before feeding to LSTM using sklearn:\n",
        "from sklearn.preprocessing import MinMaxScaler\n",
        "\n",
        "scaler = MinMaxScaler()\n",
        "train_data = train_data.reshape(-1,1)\n",
        "\n",
        "scaler.fit(train_data)\n",
        "train_data = scaler.transform(train_data)"
      ],
      "execution_count": 3,
      "outputs": [
        {
          "output_type": "stream",
          "text": [
            "(1507,)\n"
          ],
          "name": "stdout"
        }
      ]
    },
    {
      "cell_type": "code",
      "metadata": {
        "colab": {
          "base_uri": "https://localhost:8080/"
        },
        "id": "8ITZZaGnVFTQ",
        "outputId": "26636f11-e1fa-443c-b2c4-dd47dc30eeea"
      },
      "source": [
        "'''Function to create a dataset to feed into an LSTM'''\n",
        "def create_dataset(dataset, look_back):\n",
        "    dataX, dataY = [], []\n",
        "    for i in range(len(dataset)-look_back):\n",
        "        a = dataset[i:(i + look_back), 0]\n",
        "        dataX.append(a)\n",
        "        dataY.append(dataset[i + look_back, 0])\n",
        "    return np.array(dataX), np.array(dataY)\n",
        "    \n",
        "    \n",
        "# Create the data to train our model on:\n",
        "time_steps = 36\n",
        "X_train, y_train = create_dataset(train_data, time_steps)\n",
        "\n",
        "# reshape it [samples, time steps, features]\n",
        "X_train = np.reshape(X_train, (X_train.shape[0], 36, 1))\n",
        "\n",
        "print(X_train.shape)\n",
        "\n",
        "\n",
        "# Visualizing our data with prints: \n",
        "print('X_train:')\n",
        "print(str(scaler.inverse_transform(X_train[0])))\n",
        "print(\"\\n\")\n",
        "print('y_train: ' + str(scaler.inverse_transform(y_train[0].reshape(-1,1)))+'\\n')"
      ],
      "execution_count": 4,
      "outputs": [
        {
          "output_type": "stream",
          "text": [
            "(1471, 36, 1)\n",
            "X_train:\n",
            "[[1151.86120605]\n",
            " [1143.97180176]\n",
            " [1108.46899414]\n",
            " [1116.35864258]\n",
            " [1132.13745117]\n",
            " [1155.80578613]\n",
            " [1199.19787598]\n",
            " [1321.48461914]\n",
            " [1337.26342773]\n",
            " [1278.09240723]\n",
            " [1313.59509277]\n",
            " [1293.87145996]\n",
            " [1313.59509277]\n",
            " [1325.42919922]\n",
            " [1372.76611328]\n",
            " [1325.42919922]\n",
            " [1301.76074219]\n",
            " [1289.92663574]\n",
            " [1309.65026855]\n",
            " [1313.59509277]\n",
            " [1309.65026855]\n",
            " [1305.70556641]\n",
            " [1313.59509277]\n",
            " [1325.42919922]\n",
            " [1376.71069336]\n",
            " [1372.76611328]\n",
            " [1388.54516602]\n",
            " [1368.82116699]\n",
            " [1372.76611328]\n",
            " [1376.71069336]\n",
            " [1412.21325684]\n",
            " [1420.1027832 ]\n",
            " [1479.27368164]\n",
            " [1506.88671875]\n",
            " [1522.66577148]\n",
            " [1522.66577148]]\n",
            "\n",
            "\n",
            "y_train: [[1487.16320801]]\n",
            "\n"
          ],
          "name": "stdout"
        }
      ]
    },
    {
      "cell_type": "code",
      "metadata": {
        "colab": {
          "base_uri": "https://localhost:8080/"
        },
        "id": "pmuzZ5TqVR8O",
        "outputId": "75bebeef-ef3e-44f4-d342-6e076f11285f"
      },
      "source": [
        "# Build the model \n",
        "model = keras.Sequential()\n",
        "\n",
        "model.add(LSTM(units = 128, return_sequences = True, input_shape = (X_train.shape[1], 1)))\n",
        "#model.add(Dropout(0.2))\n",
        "\n",
        "model.add(LSTM(units = 64, return_sequences = False))\n",
        "#model.add(Dropout(0.2))\n",
        "\n",
        "# Output layer\n",
        "model.add(Dense(units = 32, activation='relu'))\n",
        "model.add(Dense(units = 16,  activation='relu'))\n",
        "model.add(Dense(units = 1, activation= 'linear'))\n",
        "# Compiling the model\n",
        "model.compile(optimizer = 'adam', loss = 'mean_squared_error')\n",
        "\n",
        "# Fitting the model to the Training set\n",
        "history = model.fit(X_train, y_train, epochs = 20, batch_size = 10, validation_split=.30)"
      ],
      "execution_count": 5,
      "outputs": [
        {
          "output_type": "stream",
          "text": [
            "Epoch 1/20\n",
            "103/103 [==============================] - 9s 58ms/step - loss: 0.0159 - val_loss: 0.0021\n",
            "Epoch 2/20\n",
            "103/103 [==============================] - 5s 48ms/step - loss: 6.2813e-04 - val_loss: 0.0043\n",
            "Epoch 3/20\n",
            "103/103 [==============================] - 5s 49ms/step - loss: 6.9169e-04 - val_loss: 0.0017\n",
            "Epoch 4/20\n",
            "103/103 [==============================] - 5s 49ms/step - loss: 5.1695e-04 - val_loss: 0.0016\n",
            "Epoch 5/20\n",
            "103/103 [==============================] - 5s 48ms/step - loss: 5.7215e-04 - val_loss: 0.0014\n",
            "Epoch 6/20\n",
            "103/103 [==============================] - 5s 48ms/step - loss: 7.1881e-04 - val_loss: 0.0022\n",
            "Epoch 7/20\n",
            "103/103 [==============================] - 5s 48ms/step - loss: 5.5808e-04 - val_loss: 0.0012\n",
            "Epoch 8/20\n",
            "103/103 [==============================] - 5s 48ms/step - loss: 4.0550e-04 - val_loss: 0.0012\n",
            "Epoch 9/20\n",
            "103/103 [==============================] - 5s 49ms/step - loss: 4.1984e-04 - val_loss: 0.0011\n",
            "Epoch 10/20\n",
            "103/103 [==============================] - 5s 49ms/step - loss: 4.4910e-04 - val_loss: 0.0010\n",
            "Epoch 11/20\n",
            "103/103 [==============================] - 5s 49ms/step - loss: 3.6511e-04 - val_loss: 9.5318e-04\n",
            "Epoch 12/20\n",
            "103/103 [==============================] - 5s 49ms/step - loss: 3.6555e-04 - val_loss: 8.5741e-04\n",
            "Epoch 13/20\n",
            "103/103 [==============================] - 5s 49ms/step - loss: 4.0127e-04 - val_loss: 8.7481e-04\n",
            "Epoch 14/20\n",
            "103/103 [==============================] - 5s 49ms/step - loss: 3.3425e-04 - val_loss: 7.7859e-04\n",
            "Epoch 15/20\n",
            "103/103 [==============================] - 5s 49ms/step - loss: 4.2571e-04 - val_loss: 0.0010\n",
            "Epoch 16/20\n",
            "103/103 [==============================] - 5s 50ms/step - loss: 3.3502e-04 - val_loss: 0.0012\n",
            "Epoch 17/20\n",
            "103/103 [==============================] - 5s 49ms/step - loss: 3.3880e-04 - val_loss: 6.3851e-04\n",
            "Epoch 18/20\n",
            "103/103 [==============================] - 5s 49ms/step - loss: 3.2834e-04 - val_loss: 6.6703e-04\n",
            "Epoch 19/20\n",
            "103/103 [==============================] - 5s 49ms/step - loss: 3.3968e-04 - val_loss: 6.6371e-04\n",
            "Epoch 20/20\n",
            "103/103 [==============================] - 5s 50ms/step - loss: 3.2600e-04 - val_loss: 8.0814e-04\n"
          ],
          "name": "stdout"
        }
      ]
    },
    {
      "cell_type": "code",
      "metadata": {
        "colab": {
          "base_uri": "https://localhost:8080/"
        },
        "id": "VJAAJ_3JRVIu",
        "outputId": "9ba89335-8bc8-4fe7-8929-9a8ad4a515e5"
      },
      "source": [
        "model.summary()"
      ],
      "execution_count": 6,
      "outputs": [
        {
          "output_type": "stream",
          "text": [
            "Model: \"sequential\"\n",
            "_________________________________________________________________\n",
            "Layer (type)                 Output Shape              Param #   \n",
            "=================================================================\n",
            "lstm (LSTM)                  (None, 36, 128)           66560     \n",
            "_________________________________________________________________\n",
            "lstm_1 (LSTM)                (None, 64)                49408     \n",
            "_________________________________________________________________\n",
            "dense (Dense)                (None, 32)                2080      \n",
            "_________________________________________________________________\n",
            "dense_1 (Dense)              (None, 16)                528       \n",
            "_________________________________________________________________\n",
            "dense_2 (Dense)              (None, 1)                 17        \n",
            "=================================================================\n",
            "Total params: 118,593\n",
            "Trainable params: 118,593\n",
            "Non-trainable params: 0\n",
            "_________________________________________________________________\n"
          ],
          "name": "stdout"
        }
      ]
    },
    {
      "cell_type": "code",
      "metadata": {
        "colab": {
          "base_uri": "https://localhost:8080/",
          "height": 298
        },
        "id": "gSKBnwssVVJf",
        "outputId": "91cda6c2-2f86-472d-f2df-a314ef157fad"
      },
      "source": [
        "# Plot training & validation loss values\n",
        "plt.plot(history.history['loss'])\n",
        "plt.plot(history.history['val_loss'])\n",
        "plt.title('Model loss')\n",
        "plt.ylabel('Loss')\n",
        "plt.xlabel('Epoch')\n",
        "plt.legend(['Train', 'Test'], loc='upper left')\n",
        "plt.show()"
      ],
      "execution_count": 7,
      "outputs": [
        {
          "output_type": "display_data",
          "data": {
            "image/png": "[encoded data removed]",
            "text/plain": [
              "<Figure size 432x288 with 1 Axes>"
            ]
          },
          "metadata": {
            "tags": []
          }
        }
      ]
    },
    {
      "cell_type": "code",
      "metadata": {
        "id": "bawmbe-aVYTG"
      },
      "source": [
        "# Get the stock prices for 2019 to have our model make the predictions\n",
        "test_data = test_df['Adj Close'].values\n",
        "test_data = test_data.reshape(-1,1)\n",
        "test_data = scaler.transform(test_data)\n",
        "\n",
        "# Create the data to test our model on:\n",
        "time_steps = 36\n",
        "X_test, y_test = create_dataset(test_data, time_steps)\n",
        "\n",
        "# store the original vals for plotting the predictions \n",
        "y_test = y_test.reshape(-1,1)\n",
        "true = y_test\n",
        "org_y = scaler.inverse_transform(y_test)\n",
        "\n",
        "# reshape it [samples, time steps, features]\n",
        "X_test = np.reshape(X_test, (X_test.shape[0], 36, 1))\n",
        "\n",
        "# Predict the prices with the model\n",
        "predicted_y = model.predict(X_test)\n",
        "pred = predicted_y\n",
        "predicted_y = scaler.inverse_transform(predicted_y)\n"
      ],
      "execution_count": 8,
      "outputs": []
    },
    {
      "cell_type": "code",
      "metadata": {
        "colab": {
          "base_uri": "https://localhost:8080/"
        },
        "id": "TCYMPV6E6iAl",
        "outputId": "d56e3809-e9e0-43d4-e90a-03941c6dae3e"
      },
      "source": [
        "# MSE\n",
        "difference_array = np.subtract(true, pred)\n",
        "squared_array = np.square(difference_array)\n",
        "mse = squared_array.mean()\n",
        "print(\"MSE :\", mse)\n",
        "\n",
        "# The RMSE\n",
        "from sklearn.metrics import mean_squared_error, mean_absolute_error\n",
        "print(\"RMSE : %.2f\" % mean_squared_error(true, pred, squared=False))\n",
        "\n",
        "# The MAE\n",
        "print(\"MAE : %.2f\" % mean_absolute_error(true, pred))\n",
        "\n",
        "#Mean Absolute Percentange Error\n",
        "MAPE = np.mean(np.abs((true - pred) / true)) * 100\n",
        "print('MAPE : ', MAPE)\n",
        "\n",
        "# Explained variance score: 1 is perfect prediction\n",
        "from sklearn.metrics import r2_score\n",
        "print('R2 score: %.2f' % r2_score(true, pred))"
      ],
      "execution_count": 9,
      "outputs": [
        {
          "output_type": "stream",
          "text": [
            "MSE : 0.002061130809079016\n",
            "RMSE : 0.05\n",
            "MAE : 0.03\n",
            "MAPE :  5.0746987564250645\n",
            "R2 score: 0.94\n"
          ],
          "name": "stdout"
        }
      ]
    },
    {
      "cell_type": "markdown",
      "metadata": {
        "id": "m0RAfWtxDfnB"
      },
      "source": [
        "We choose the mean square error MSE of all samples as our metric. It can be calculated through Eqn. (47) using test set. Notice that the MSE we calculated are derived from normalized data. That's because there exists huge value gap among di\u000berent stocks. if we use original stock price to evaluate error, the error of high price stocks would probably be much more larger than low price ones, which implies models perform better on high price stocks would very likely to have better overall performance. Thus the performance on low price stocks would become dispensable. To avoid the bias caused by the aforementioned problem we evaluate the error with normalized stock price ranged from -1 to 1. (Li, H., Shen, Y., dan Zhu, Y. 2018. Stock Price Prediction Using attention-based Multi-Input LSTM)"
      ]
    },
    {
      "cell_type": "code",
      "metadata": {
        "id": "Y47_DyXm9Ysk",
        "colab": {
          "base_uri": "https://localhost:8080/",
          "height": 287
        },
        "outputId": "9803ea0b-48c5-489e-e580-7e1ac0e043ae"
      },
      "source": [
        "predicted_y = pd.DataFrame(predicted_y)\n",
        "org_y = pd.DataFrame(org_y)\n",
        "describe = pd.DataFrame()\n",
        "describe['True Price'] = org_y[0]\n",
        "describe['Prediction'] = predicted_y[0]\n",
        "describe['difference'] = org_y[0] - predicted_y[0]\n",
        "describe['MAPE (%)'] = abs(describe['difference']/org_y[0]*100)\n",
        "describe.describe()"
      ],
      "execution_count": 10,
      "outputs": [
        {
          "output_type": "execute_result",
          "data": {
            "text/html": [
              "<div>\n",
              "<style scoped>\n",
              "    .dataframe tbody tr th:only-of-type {\n",
              "        vertical-align: middle;\n",
              "    }\n",
              "\n",
              "    .dataframe tbody tr th {\n",
              "        vertical-align: top;\n",
              "    }\n",
              "\n",
              "    .dataframe thead th {\n",
              "        text-align: right;\n",
              "    }\n",
              "</style>\n",
              "<table border=\"1\" class=\"dataframe\">\n",
              "  <thead>\n",
              "    <tr style=\"text-align: right;\">\n",
              "      <th></th>\n",
              "      <th>True Price</th>\n",
              "      <th>Prediction</th>\n",
              "      <th>difference</th>\n",
              "      <th>MAPE (%)</th>\n",
              "    </tr>\n",
              "  </thead>\n",
              "  <tbody>\n",
              "    <tr>\n",
              "      <th>count</th>\n",
              "      <td>242.000000</td>\n",
              "      <td>242.000000</td>\n",
              "      <td>242.000000</td>\n",
              "      <td>242.000000</td>\n",
              "    </tr>\n",
              "    <tr>\n",
              "      <th>mean</th>\n",
              "      <td>3411.090243</td>\n",
              "      <td>3370.111328</td>\n",
              "      <td>40.978490</td>\n",
              "      <td>3.277708</td>\n",
              "    </tr>\n",
              "    <tr>\n",
              "      <th>std</th>\n",
              "      <td>605.580849</td>\n",
              "      <td>561.696777</td>\n",
              "      <td>138.130476</td>\n",
              "      <td>3.035770</td>\n",
              "    </tr>\n",
              "    <tr>\n",
              "      <th>min</th>\n",
              "      <td>2118.898682</td>\n",
              "      <td>2226.691406</td>\n",
              "      <td>-396.267822</td>\n",
              "      <td>0.023490</td>\n",
              "    </tr>\n",
              "    <tr>\n",
              "      <th>25%</th>\n",
              "      <td>2980.616882</td>\n",
              "      <td>2979.291565</td>\n",
              "      <td>-22.075867</td>\n",
              "      <td>1.270417</td>\n",
              "    </tr>\n",
              "    <tr>\n",
              "      <th>50%</th>\n",
              "      <td>3202.759521</td>\n",
              "      <td>3182.927490</td>\n",
              "      <td>51.437622</td>\n",
              "      <td>2.363895</td>\n",
              "    </tr>\n",
              "    <tr>\n",
              "      <th>75%</th>\n",
              "      <td>4088.888733</td>\n",
              "      <td>4023.684082</td>\n",
              "      <td>125.396240</td>\n",
              "      <td>4.271799</td>\n",
              "    </tr>\n",
              "    <tr>\n",
              "      <th>max</th>\n",
              "      <td>4454.604980</td>\n",
              "      <td>4311.840820</td>\n",
              "      <td>483.500977</td>\n",
              "      <td>16.632155</td>\n",
              "    </tr>\n",
              "  </tbody>\n",
              "</table>\n",
              "</div>"
            ],
            "text/plain": [
              "        True Price   Prediction  difference    MAPE (%)\n",
              "count   242.000000   242.000000  242.000000  242.000000\n",
              "mean   3411.090243  3370.111328   40.978490    3.277708\n",
              "std     605.580849   561.696777  138.130476    3.035770\n",
              "min    2118.898682  2226.691406 -396.267822    0.023490\n",
              "25%    2980.616882  2979.291565  -22.075867    1.270417\n",
              "50%    3202.759521  3182.927490   51.437622    2.363895\n",
              "75%    4088.888733  4023.684082  125.396240    4.271799\n",
              "max    4454.604980  4311.840820  483.500977   16.632155"
            ]
          },
          "metadata": {
            "tags": []
          },
          "execution_count": 10
        }
      ]
    },
    {
      "cell_type": "code",
      "metadata": {
        "colab": {
          "base_uri": "https://localhost:8080/",
          "height": 347
        },
        "id": "UoSeLi8altE4",
        "outputId": "13f0244f-c9c4-4282-aeb3-c78e38da0989"
      },
      "source": [
        "describe.head(10)"
      ],
      "execution_count": 11,
      "outputs": [
        {
          "output_type": "execute_result",
          "data": {
            "text/html": [
              "<div>\n",
              "<style scoped>\n",
              "    .dataframe tbody tr th:only-of-type {\n",
              "        vertical-align: middle;\n",
              "    }\n",
              "\n",
              "    .dataframe tbody tr th {\n",
              "        vertical-align: top;\n",
              "    }\n",
              "\n",
              "    .dataframe thead th {\n",
              "        text-align: right;\n",
              "    }\n",
              "</style>\n",
              "<table border=\"1\" class=\"dataframe\">\n",
              "  <thead>\n",
              "    <tr style=\"text-align: right;\">\n",
              "      <th></th>\n",
              "      <th>True Price</th>\n",
              "      <th>Prediction</th>\n",
              "      <th>difference</th>\n",
              "      <th>MAPE (%)</th>\n",
              "    </tr>\n",
              "  </thead>\n",
              "  <tbody>\n",
              "    <tr>\n",
              "      <th>0</th>\n",
              "      <td>4144.474121</td>\n",
              "      <td>4051.808350</td>\n",
              "      <td>92.665771</td>\n",
              "      <td>2.235887</td>\n",
              "    </tr>\n",
              "    <tr>\n",
              "      <th>1</th>\n",
              "      <td>4153.872070</td>\n",
              "      <td>4050.664062</td>\n",
              "      <td>103.208008</td>\n",
              "      <td>2.484622</td>\n",
              "    </tr>\n",
              "    <tr>\n",
              "      <th>2</th>\n",
              "      <td>4106.882324</td>\n",
              "      <td>4054.272949</td>\n",
              "      <td>52.609375</td>\n",
              "      <td>1.281005</td>\n",
              "    </tr>\n",
              "    <tr>\n",
              "      <th>3</th>\n",
              "      <td>4135.076172</td>\n",
              "      <td>4042.656250</td>\n",
              "      <td>92.419922</td>\n",
              "      <td>2.235023</td>\n",
              "    </tr>\n",
              "    <tr>\n",
              "      <th>4</th>\n",
              "      <td>4116.280273</td>\n",
              "      <td>4042.715332</td>\n",
              "      <td>73.564941</td>\n",
              "      <td>1.787170</td>\n",
              "    </tr>\n",
              "    <tr>\n",
              "      <th>5</th>\n",
              "      <td>4135.076172</td>\n",
              "      <td>4039.679199</td>\n",
              "      <td>95.396973</td>\n",
              "      <td>2.307019</td>\n",
              "    </tr>\n",
              "    <tr>\n",
              "      <th>6</th>\n",
              "      <td>4144.474121</td>\n",
              "      <td>4044.468750</td>\n",
              "      <td>100.005371</td>\n",
              "      <td>2.412981</td>\n",
              "    </tr>\n",
              "    <tr>\n",
              "      <th>7</th>\n",
              "      <td>4238.453125</td>\n",
              "      <td>4052.853516</td>\n",
              "      <td>185.599609</td>\n",
              "      <td>4.378947</td>\n",
              "    </tr>\n",
              "    <tr>\n",
              "      <th>8</th>\n",
              "      <td>4294.840332</td>\n",
              "      <td>4090.988525</td>\n",
              "      <td>203.851807</td>\n",
              "      <td>4.746435</td>\n",
              "    </tr>\n",
              "    <tr>\n",
              "      <th>9</th>\n",
              "      <td>4304.238770</td>\n",
              "      <td>4139.991211</td>\n",
              "      <td>164.247559</td>\n",
              "      <td>3.815949</td>\n",
              "    </tr>\n",
              "  </tbody>\n",
              "</table>\n",
              "</div>"
            ],
            "text/plain": [
              "    True Price   Prediction  difference  MAPE (%)\n",
              "0  4144.474121  4051.808350   92.665771  2.235887\n",
              "1  4153.872070  4050.664062  103.208008  2.484622\n",
              "2  4106.882324  4054.272949   52.609375  1.281005\n",
              "3  4135.076172  4042.656250   92.419922  2.235023\n",
              "4  4116.280273  4042.715332   73.564941  1.787170\n",
              "5  4135.076172  4039.679199   95.396973  2.307019\n",
              "6  4144.474121  4044.468750  100.005371  2.412981\n",
              "7  4238.453125  4052.853516  185.599609  4.378947\n",
              "8  4294.840332  4090.988525  203.851807  4.746435\n",
              "9  4304.238770  4139.991211  164.247559  3.815949"
            ]
          },
          "metadata": {
            "tags": []
          },
          "execution_count": 11
        }
      ]
    },
    {
      "cell_type": "code",
      "metadata": {
        "id": "xriB7R_tWpAM",
        "colab": {
          "base_uri": "https://localhost:8080/"
        },
        "outputId": "9d2c91e0-78d5-4a05-8d28-537c18321437"
      },
      "source": [
        "a = np.array(describe['True Price'])\n",
        "b = np.array(describe['Prediction'])\n",
        "\n",
        "# MSE\n",
        "difference_array = np.subtract(a, b)\n",
        "squared_array = np.square(difference_array)\n",
        "mse = squared_array.mean()\n",
        "print(\"MSE :\", mse)\n",
        "\n",
        "# The RMSE\n",
        "print(\"RMSE: %.2f\" % mean_squared_error(a, b, squared=False))\n",
        "\n",
        "# The MAE\n",
        "print(\"MAE: %.2f\" % mean_absolute_error(a, b))\n",
        "\n",
        "#Mean Absolute Percentange Error\n",
        "c = (np.mean(np.abs((a - b) / a))) * 100\n",
        "print('MAPE : ', c)\n",
        "\n",
        "# Explained variance score: 1 is perfect prediction\n",
        "from sklearn.metrics import r2_score\n",
        "print('R2 score: %.2f' % r2_score(a, b))\n",
        "\n"
      ],
      "execution_count": 12,
      "outputs": [
        {
          "output_type": "stream",
          "text": [
            "MSE : 20680.4218868197\n",
            "RMSE: 143.81\n",
            "MAE: 108.76\n",
            "MAPE :  3.27770841865049\n",
            "R2 score: 0.94\n"
          ],
          "name": "stdout"
        }
      ]
    },
    {
      "cell_type": "code",
      "metadata": {
        "id": "iozJ262YxuM8",
        "colab": {
          "base_uri": "https://localhost:8080/"
        },
        "outputId": "25990bd4-8635-4928-c609-6b49086be2e8"
      },
      "source": [
        "print(model.evaluate(X_train, y_train))\n",
        "print(model.evaluate(X_test, y_test))"
      ],
      "execution_count": 13,
      "outputs": [
        {
          "output_type": "stream",
          "text": [
            "46/46 [==============================] - 1s 19ms/step - loss: 4.0801e-04\n",
            "0.0004080111684743315\n",
            "8/8 [==============================] - 1s 18ms/step - loss: 0.0021\n",
            "0.0020611307118088007\n"
          ],
          "name": "stdout"
        }
      ]
    },
    {
      "cell_type": "code",
      "metadata": {
        "colab": {
          "base_uri": "https://localhost:8080/"
        },
        "id": "JRT-OjnyZ0PP",
        "outputId": "724a5bb5-34c5-4dee-f676-ddbb8f51faca"
      },
      "source": [
        "print(model.metrics_names)"
      ],
      "execution_count": 14,
      "outputs": [
        {
          "output_type": "stream",
          "text": [
            "['loss']\n"
          ],
          "name": "stdout"
        }
      ]
    },
    {
      "cell_type": "code",
      "metadata": {
        "id": "qNCPEkeaXNIT"
      },
      "source": [
        "graph  = test_df.drop(test_df.index[0:36])\n",
        "graph.reset_index(inplace=True)\n",
        "graph.rename(columns = {'index':'Date'})\n",
        "graph = graph.drop(columns=['High','Low','Open','Volume','Close'])\n",
        "graph['Predict_Value'] = predicted_y[0]\n",
        "graph.head()\n",
        "graph.set_index('Date', inplace=True)"
      ],
      "execution_count": 15,
      "outputs": []
    },
    {
      "cell_type": "code",
      "metadata": {
        "id": "QF5LdxyJb0bT",
        "colab": {
          "base_uri": "https://localhost:8080/",
          "height": 298
        },
        "outputId": "5956d1e5-5f77-4df8-b64d-f6bb7b8b140e"
      },
      "source": [
        "# plot the results \n",
        "plt.plot(graph['Adj Close'], color = 'red', label = 'Real Stock Price')\n",
        "plt.plot(graph['Predict_Value'], color = 'blue', label = 'Predicted Stock Price')\n",
        "#plt.plot(df['Adj Close'], color = 'black', label = 'Past Stock')\n",
        "plt.title('Stock Price Prediction')\n",
        "plt.xlabel('Time')\n",
        "plt.ylabel('Stock Price')\n",
        "plt.legend()\n",
        "plt.savefig('Stock Price SVR LSTM 1.png')\n",
        "files.download(\"Stock Price SVR LSTM 1.png\")\n",
        "plt.show()"
      ],
      "execution_count": 16,
      "outputs": [
        {
          "output_type": "display_data",
          "data": {
            "application/javascript": [
              "\n",
              "    async function download(id, filename, size) {\n",
              "      if (!google.colab.kernel.accessAllowed) {\n",
              "        return;\n",
              "      }\n",
              "      const div = document.createElement('div');\n",
              "      const label = document.createElement('label');\n",
              "      label.textContent = `Downloading \"${filename}\": `;\n",
              "      div.appendChild(label);\n",
              "      const progress = document.createElement('progress');\n",
              "      progress.max = size;\n",
              "      div.appendChild(progress);\n",
              "      document.body.appendChild(div);\n",
              "\n",
              "      const buffers = [];\n",
              "      let downloaded = 0;\n",
              "\n",
              "      const channel = await google.colab.kernel.comms.open(id);\n",
              "      // Send a message to notify the kernel that we're ready.\n",
              "      channel.send({})\n",
              "\n",
              "      for await (const message of channel.messages) {\n",
              "        // Send a message to notify the kernel that we're ready.\n",
              "        channel.send({})\n",
              "        if (message.buffers) {\n",
              "          for (const buffer of message.buffers) {\n",
              "            buffers.push(buffer);\n",
              "            downloaded += buffer.byteLength;\n",
              "            progress.value = downloaded;\n",
              "          }\n",
              "        }\n",
              "      }\n",
              "      const blob = new Blob(buffers, {type: 'application/binary'});\n",
              "      const a = document.createElement('a');\n",
              "      a.href = window.URL.createObjectURL(blob);\n",
              "      a.download = filename;\n",
              "      div.appendChild(a);\n",
              "      a.click();\n",
              "      div.remove();\n",
              "    }\n",
              "  "
            ],
            "text/plain": [
              "<IPython.core.display.Javascript object>"
            ]
          },
          "metadata": {
            "tags": []
          }
        },
        {
          "output_type": "display_data",
          "data": {
            "application/javascript": [
              "download(\"download_3f44bd85-45fb-4d99-946f-4406d4caa044\", \"Stock Price SVR LSTM 1.png\", 30744)"
            ],
            "text/plain": [
              "<IPython.core.display.Javascript object>"
            ]
          },
          "metadata": {
            "tags": []
          }
        },
        {
          "output_type": "display_data",
          "data": {
            "image/png": "[encoded data removed]",
            "text/plain": [
              "<Figure size 432x288 with 1 Axes>"
            ]
          },
          "metadata": {
            "tags": []
          }
        }
      ]
    },
    {
      "cell_type": "code",
      "metadata": {
        "id": "RRepTsPgEuXx"
      },
      "source": [
        "final  = test_df.drop(test_df.index[0:36])\n",
        "final.reset_index(inplace=True)\n",
        "final.rename(columns = {'index':'Date'})\n",
        "final = final.drop(columns=['High','Low','Open','Volume','Close'])\n",
        "final['Predict_Value'] = predicted_y[0]\n",
        "final['Selisih'] = final['Adj Close'] - final['Predict_Value']\n",
        "final['Lost/Risk (%)'] = abs((final['Adj Close'] - final['Predict_Value'])/final['Predict_Value']*100)\n",
        "final = final.drop(columns=['Adj Close'])"
      ],
      "execution_count": 17,
      "outputs": []
    },
    {
      "cell_type": "code",
      "metadata": {
        "id": "DhwcCvlTySN1"
      },
      "source": [
        "percent = test_df.drop(test_df.index[0:35])\n",
        "percent = percent.drop(test_df.index[-1])\n",
        "percent.reset_index(inplace=True)\n",
        "percent.rename(columns = {'index':'Date'}) \n",
        "percent = percent.drop(columns=['High','Low','Open','Volume','Close'])\n",
        "percent['Next Day'] = predicted_y\n",
        "percent['Plus or Minus']= percent['Adj Close'] - percent['Next Day']\n",
        "percent['Next Day (%)']= (((percent['Adj Close'] - percent['Next Day'])/percent['Adj Close'])*100)"
      ],
      "execution_count": 18,
      "outputs": []
    },
    {
      "cell_type": "code",
      "metadata": {
        "id": "sllI6VucG__o"
      },
      "source": [
        "True_Next_Day = test_df.drop(test_df.index[0:35])\n",
        "True_Next_Day = True_Next_Day.drop(test_df.index[-1])\n",
        "True_Next_Day.reset_index(inplace=True)\n",
        "True_Next_Day.rename(columns = {'index':'Date'}) \n",
        "True_Next_Day = True_Next_Day.drop(columns=['High','Low','Open','Volume','Close'])\n",
        "True_Next_Day['True Next Day'] = org_y\n",
        "True_Next_Day['True Plus or Minus']= (True_Next_Day['Adj Close'] - True_Next_Day['True Next Day'])\n",
        "True_Next_Day['True Next Day (%)']= (((True_Next_Day['Adj Close'] - True_Next_Day['True Next Day'])/True_Next_Day['Adj Close'])*100)\n",
        "True_Next_Day = True_Next_Day.drop(columns=['Adj Close'])"
      ],
      "execution_count": 19,
      "outputs": []
    },
    {
      "cell_type": "code",
      "metadata": {
        "id": "121c4YuD-aJq",
        "colab": {
          "base_uri": "https://localhost:8080/"
        },
        "outputId": "f55cac10-2aaa-45cb-fb7d-85074caa07cd"
      },
      "source": [
        "Concating = percent.merge(final, how='outer', on='Date')\n",
        "Concating = Concating.merge(True_Next_Day, how='outer', on='Date')\n",
        "#Concating.set_index('Date', inplace=True)\n",
        "Final_Predict = Concating.copy()\n",
        "Final_Predict['Harga Saham Hari ini'] = Concating['Adj Close']\n",
        "Final_Predict['Prediksi Besok'] = Concating['Plus or Minus']\n",
        "Final_Predict['Harga Besok Sebenarnya'] = Concating['True Plus or Minus']\n",
        "Final_Predict['Prediksi Besok (%)'] = (Concating['Next Day (%)'])\n",
        "Final_Predict['Harga Besok Sebenarnya (%)'] = Concating['True Next Day (%)']\n",
        "Final_Predict['Selisih Prediksi'] = (Final_Predict['Harga Besok Sebenarnya'] - Final_Predict['Prediksi Besok'])\n",
        "Final_Predict['Harga Sebenarnya'] = Concating['True Next Day']\n",
        "Final_Predict['Risk/MAPE(%)'] = (np.abs((Final_Predict['Harga Besok Sebenarnya'] - Final_Predict['Prediksi Besok']) / Final_Predict['True Next Day'])) * 100\n",
        "Final_Predict['Risk/MAPE(%)'] = round(Final_Predict['Risk/MAPE(%)'], 2)\n",
        "Final_Predict = Final_Predict.drop(columns=['Adj Close', 'Next Day', 'Plus or Minus', 'Next Day (%)',\n",
        "                                            'Predict_Value', 'Selisih', 'Lost/Risk (%)', 'True Plus or Minus',\n",
        "                                            'True Next Day (%)','True Next Day'])\n",
        "Final_Predict = Final_Predict.replace(0, np.nan)\n",
        "Final_Predict = Final_Predict.dropna()\n",
        "Final_Predict['Prediksi Uptrend'] = Final_Predict['Prediksi Besok'].apply(lambda x: 1 if x >= 0 else 0)\n",
        "Final_Predict['Asli Uptrend'] = Final_Predict['Harga Besok Sebenarnya'].apply(lambda x: 1 if x >= 0 else 0)\n",
        "Final_Predict.set_index('Date', inplace=True)\n",
        "Final_Predict.shape"
      ],
      "execution_count": 20,
      "outputs": [
        {
          "output_type": "execute_result",
          "data": {
            "text/plain": [
              "(228, 10)"
            ]
          },
          "metadata": {
            "tags": []
          },
          "execution_count": 20
        }
      ]
    },
    {
      "cell_type": "markdown",
      "metadata": {
        "id": "-B7BojpJDQgu"
      },
      "source": [
        "Risk Ekspektasi - Blindly belief\n",
        "\n",
        "Logika ekpektasi - Saham A saya beli kemarin Rp. 1000, dan prediksi ML LSTM menginfokan hari ini naik 200 menjadi 1200 sehingga saya tergetkan jual 1200. ketika saya jual 1200, ternyata harga penutupannya 1500, naik 500. berarti selisihnya dari prediksi dan harga asli adalah Rp 300 (Rp. 500 - Rp. 200), menandakan risiko ekpektasinya adalah 20% (Rp 300/1500) dari harga saham, sedangkan risiko ekpektasi kenaikan dan penurunannya adalah 60% dari ekpektasi kehilangan peluang (Ekpektasi peluang = (500-200)/500*100)\n",
        "\n",
        "Risiko Ekpektasi lainnya - \n",
        "Saham A saya beli kemarin Rp. 1000 dengan prediksi ML LSTM hari ini 1200, naik 200 sehingga saya tergetkan jual Rp. 1200. ketika saya melihat saham menyentuh 800, saya pikir itu adalah kesempatan beli karena perkiraan penutupan ML LSTM adalah 1200, dengan harapan mendapat keutungan ketika penutupan. Namun, prediksinya salah, dan ternyata penutupannya adalah 800 dan saham saya tidak laku, dan terjadi penurunan 200 dari hari kemarin. Disini saya kehilangan kesempatan cut loss dan justru menumpuk saham ketika seharusnya cutloss. Jika dikalkulasikan -400 dari harapan awal 1200 menjadi 800 (-200-200), menandakan risk ekpektasi dari harga sahamnya 50% (-400/800*100), atau perbedaan ekpektasinya 200% dari peluang cutloss. Risiko dari ketamakan."
      ]
    },
    {
      "cell_type": "code",
      "metadata": {
        "colab": {
          "base_uri": "https://localhost:8080/",
          "height": 561
        },
        "id": "ookffGOJ-lmk",
        "outputId": "138fbf6b-4152-4822-b99f-32c034ce988a"
      },
      "source": [
        "Final_Predict.head(10)"
      ],
      "execution_count": 21,
      "outputs": [
        {
          "output_type": "execute_result",
          "data": {
            "text/html": [
              "<div>\n",
              "<style scoped>\n",
              "    .dataframe tbody tr th:only-of-type {\n",
              "        vertical-align: middle;\n",
              "    }\n",
              "\n",
              "    .dataframe tbody tr th {\n",
              "        vertical-align: top;\n",
              "    }\n",
              "\n",
              "    .dataframe thead th {\n",
              "        text-align: right;\n",
              "    }\n",
              "</style>\n",
              "<table border=\"1\" class=\"dataframe\">\n",
              "  <thead>\n",
              "    <tr style=\"text-align: right;\">\n",
              "      <th></th>\n",
              "      <th>Harga Saham Hari ini</th>\n",
              "      <th>Prediksi Besok</th>\n",
              "      <th>Harga Besok Sebenarnya</th>\n",
              "      <th>Prediksi Besok (%)</th>\n",
              "      <th>Harga Besok Sebenarnya (%)</th>\n",
              "      <th>Selisih Prediksi</th>\n",
              "      <th>Harga Sebenarnya</th>\n",
              "      <th>Risk/MAPE(%)</th>\n",
              "      <th>Prediksi Uptrend</th>\n",
              "      <th>Asli Uptrend</th>\n",
              "    </tr>\n",
              "    <tr>\n",
              "      <th>Date</th>\n",
              "      <th></th>\n",
              "      <th></th>\n",
              "      <th></th>\n",
              "      <th></th>\n",
              "      <th></th>\n",
              "      <th></th>\n",
              "      <th></th>\n",
              "      <th></th>\n",
              "      <th></th>\n",
              "      <th></th>\n",
              "    </tr>\n",
              "  </thead>\n",
              "  <tbody>\n",
              "    <tr>\n",
              "      <th>2019-12-30</th>\n",
              "      <td>4135.076172</td>\n",
              "      <td>83.267822</td>\n",
              "      <td>-9.397949</td>\n",
              "      <td>2.013695</td>\n",
              "      <td>-0.227274</td>\n",
              "      <td>-92.665771</td>\n",
              "      <td>4144.474121</td>\n",
              "      <td>2.24</td>\n",
              "      <td>1</td>\n",
              "      <td>0</td>\n",
              "    </tr>\n",
              "    <tr>\n",
              "      <th>2020-01-02</th>\n",
              "      <td>4144.474121</td>\n",
              "      <td>93.810059</td>\n",
              "      <td>-9.397949</td>\n",
              "      <td>2.263497</td>\n",
              "      <td>-0.226759</td>\n",
              "      <td>-103.208008</td>\n",
              "      <td>4153.872070</td>\n",
              "      <td>2.48</td>\n",
              "      <td>1</td>\n",
              "      <td>0</td>\n",
              "    </tr>\n",
              "    <tr>\n",
              "      <th>2020-01-03</th>\n",
              "      <td>4153.872070</td>\n",
              "      <td>99.599121</td>\n",
              "      <td>46.989746</td>\n",
              "      <td>2.397742</td>\n",
              "      <td>1.131228</td>\n",
              "      <td>-52.609375</td>\n",
              "      <td>4106.882324</td>\n",
              "      <td>1.28</td>\n",
              "      <td>1</td>\n",
              "      <td>1</td>\n",
              "    </tr>\n",
              "    <tr>\n",
              "      <th>2020-01-06</th>\n",
              "      <td>4106.882324</td>\n",
              "      <td>64.226074</td>\n",
              "      <td>-28.193848</td>\n",
              "      <td>1.563864</td>\n",
              "      <td>-0.686502</td>\n",
              "      <td>-92.419922</td>\n",
              "      <td>4135.076172</td>\n",
              "      <td>2.24</td>\n",
              "      <td>1</td>\n",
              "      <td>0</td>\n",
              "    </tr>\n",
              "    <tr>\n",
              "      <th>2020-01-07</th>\n",
              "      <td>4135.076172</td>\n",
              "      <td>92.360840</td>\n",
              "      <td>18.795898</td>\n",
              "      <td>2.233595</td>\n",
              "      <td>0.454548</td>\n",
              "      <td>-73.564941</td>\n",
              "      <td>4116.280273</td>\n",
              "      <td>1.79</td>\n",
              "      <td>1</td>\n",
              "      <td>1</td>\n",
              "    </tr>\n",
              "    <tr>\n",
              "      <th>2020-01-08</th>\n",
              "      <td>4116.280273</td>\n",
              "      <td>76.601074</td>\n",
              "      <td>-18.795898</td>\n",
              "      <td>1.860930</td>\n",
              "      <td>-0.456623</td>\n",
              "      <td>-95.396973</td>\n",
              "      <td>4135.076172</td>\n",
              "      <td>2.31</td>\n",
              "      <td>1</td>\n",
              "      <td>0</td>\n",
              "    </tr>\n",
              "    <tr>\n",
              "      <th>2020-01-09</th>\n",
              "      <td>4135.076172</td>\n",
              "      <td>90.607422</td>\n",
              "      <td>-9.397949</td>\n",
              "      <td>2.191191</td>\n",
              "      <td>-0.227274</td>\n",
              "      <td>-100.005371</td>\n",
              "      <td>4144.474121</td>\n",
              "      <td>2.41</td>\n",
              "      <td>1</td>\n",
              "      <td>0</td>\n",
              "    </tr>\n",
              "    <tr>\n",
              "      <th>2020-01-10</th>\n",
              "      <td>4144.474121</td>\n",
              "      <td>91.620605</td>\n",
              "      <td>-93.979004</td>\n",
              "      <td>2.210669</td>\n",
              "      <td>-2.267574</td>\n",
              "      <td>-185.599609</td>\n",
              "      <td>4238.453125</td>\n",
              "      <td>4.38</td>\n",
              "      <td>1</td>\n",
              "      <td>0</td>\n",
              "    </tr>\n",
              "    <tr>\n",
              "      <th>2020-01-13</th>\n",
              "      <td>4238.453125</td>\n",
              "      <td>147.464600</td>\n",
              "      <td>-56.387207</td>\n",
              "      <td>3.479208</td>\n",
              "      <td>-1.330372</td>\n",
              "      <td>-203.851807</td>\n",
              "      <td>4294.840332</td>\n",
              "      <td>4.75</td>\n",
              "      <td>1</td>\n",
              "      <td>0</td>\n",
              "    </tr>\n",
              "    <tr>\n",
              "      <th>2020-01-14</th>\n",
              "      <td>4294.840332</td>\n",
              "      <td>154.849121</td>\n",
              "      <td>-9.398438</td>\n",
              "      <td>3.605469</td>\n",
              "      <td>-0.218831</td>\n",
              "      <td>-164.247559</td>\n",
              "      <td>4304.238770</td>\n",
              "      <td>3.82</td>\n",
              "      <td>1</td>\n",
              "      <td>0</td>\n",
              "    </tr>\n",
              "  </tbody>\n",
              "</table>\n",
              "</div>"
            ],
            "text/plain": [
              "            Harga Saham Hari ini  ...  Asli Uptrend\n",
              "Date                              ...              \n",
              "2019-12-30           4135.076172  ...             0\n",
              "2020-01-02           4144.474121  ...             0\n",
              "2020-01-03           4153.872070  ...             1\n",
              "2020-01-06           4106.882324  ...             0\n",
              "2020-01-07           4135.076172  ...             1\n",
              "2020-01-08           4116.280273  ...             0\n",
              "2020-01-09           4135.076172  ...             0\n",
              "2020-01-10           4144.474121  ...             0\n",
              "2020-01-13           4238.453125  ...             0\n",
              "2020-01-14           4294.840332  ...             0\n",
              "\n",
              "[10 rows x 10 columns]"
            ]
          },
          "metadata": {
            "tags": []
          },
          "execution_count": 21
        }
      ]
    },
    {
      "cell_type": "code",
      "metadata": {
        "colab": {
          "base_uri": "https://localhost:8080/"
        },
        "id": "nJ8kSjYQ4Mru",
        "outputId": "71e2a2d6-508a-4915-e8d4-1295964834bf"
      },
      "source": [
        "MAPE = np.mean(np.abs((Final_Predict['Harga Besok Sebenarnya'] - Final_Predict['Prediksi Besok']) / Final_Predict['Harga Sebenarnya'])) * 100\n",
        "print('Mape :', MAPE)"
      ],
      "execution_count": 22,
      "outputs": [
        {
          "output_type": "stream",
          "text": [
            "Mape : 3.360764570909671\n"
          ],
          "name": "stdout"
        }
      ]
    },
    {
      "cell_type": "code",
      "metadata": {
        "colab": {
          "base_uri": "https://localhost:8080/"
        },
        "id": "wmiuagMCKc3w",
        "outputId": "0e0c010c-8758-422c-f196-68bf1f455853"
      },
      "source": [
        "pred_uptrend = Final_Predict['Prediksi Uptrend']\n",
        "true_trend = Final_Predict['Asli Uptrend']\n",
        "\n",
        "# calculate accuracy\n",
        "from sklearn.metrics import accuracy_score\n",
        "Accuracy = accuracy_score(true_trend, pred_uptrend)\n",
        "print('Accuracy :', Accuracy)\n",
        "\n",
        "\n",
        "# calculate prediction\n",
        "from sklearn.metrics import precision_score\n",
        "precision = precision_score(true_trend, pred_uptrend, average='binary')\n",
        "print('Precision : %.3f' % precision)\n",
        "\n",
        "# calculate recall\n",
        "from sklearn.metrics import recall_score\n",
        "recall = recall_score(true_trend, pred_uptrend, average='binary')\n",
        "print('Recall : %.3f' % recall)\n",
        "\n",
        "# calculate score\n",
        "from sklearn.metrics import f1_score\n",
        "score = f1_score(true_trend, pred_uptrend, average='binary')\n",
        "print('F1 Score : %.3f' % score)\n",
        "\n",
        "#AUC Score\n",
        "from sklearn.metrics import roc_auc_score \n",
        "auc = roc_auc_score(true_trend, pred_uptrend)\n",
        "print('AUC Score : ', auc)"
      ],
      "execution_count": 23,
      "outputs": [
        {
          "output_type": "stream",
          "text": [
            "Accuracy : 0.5175438596491229\n",
            "Precision : 0.519\n",
            "Recall : 0.724\n",
            "F1 Score : 0.604\n",
            "AUC Score :  0.5138546798029557\n"
          ],
          "name": "stdout"
        }
      ]
    },
    {
      "cell_type": "code",
      "metadata": {
        "colab": {
          "base_uri": "https://localhost:8080/",
          "height": 337
        },
        "id": "J7yPx3k8WolI",
        "outputId": "6ef70539-2ab9-4862-f0f8-a594a9b12ab2"
      },
      "source": [
        "from sklearn.metrics import confusion_matrix\n",
        "import seaborn as sns\n",
        "import matplotlib.pyplot as plt\n",
        "\n",
        "confusion_matrix(true_trend, pred_uptrend)\n",
        "plt.figure(figsize = (6, 5))\n",
        "sns.heatmap(confusion_matrix(true_trend, pred_uptrend), annot = True)"
      ],
      "execution_count": 24,
      "outputs": [
        {
          "output_type": "execute_result",
          "data": {
            "text/plain": [
              "<matplotlib.axes._subplots.AxesSubplot at 0x7f04c46d25d0>"
            ]
          },
          "metadata": {
            "tags": []
          },
          "execution_count": 24
        },
        {
          "output_type": "display_data",
          "data": {
            "image/png": "[encoded data removed]",
            "text/plain": [
              "<Figure size 432x360 with 2 Axes>"
            ]
          },
          "metadata": {
            "tags": []
          }
        }
      ]
    },
    {
      "cell_type": "code",
      "metadata": {
        "colab": {
          "base_uri": "https://localhost:8080/",
          "height": 282
        },
        "id": "GL0g9D5qPtTK",
        "outputId": "b9444ead-71a0-4558-d8f3-35f88f3b18f1"
      },
      "source": [
        "from sklearn.metrics import roc_curve \n",
        "fpr, tpr, thresholds = roc_curve(true_trend, pred_uptrend)\n",
        "\n",
        "\n",
        "import matplotlib.pyplot as plt \n",
        "plt.plot(fpr, tpr) \n",
        "plt.xlabel(\"False Positive Rate\") \n",
        "plt.ylabel(\"True Positive Rate\") \n",
        "plt.plot([0, 1], [0, 1], \"k--\") \n",
        "plt.show()"
      ],
      "execution_count": 25,
      "outputs": [
        {
          "output_type": "display_data",
          "data": {
            "image/png": "[encoded data removed]",
            "text/plain": [
              "<Figure size 432x288 with 1 Axes>"
            ]
          },
          "metadata": {
            "tags": []
          }
        }
      ]
    },
    {
      "cell_type": "code",
      "metadata": {
        "colab": {
          "base_uri": "https://localhost:8080/",
          "height": 298
        },
        "id": "kgXVUoOccIB1",
        "outputId": "f5ffd494-51d7-4e56-fed7-de11eb1e36ea"
      },
      "source": [
        "# plot the results \n",
        "plt.plot(Final_Predict['Prediksi Besok'], color = 'red', label = 'Real Stock Price')\n",
        "plt.plot(Final_Predict['Harga Besok Sebenarnya'], color = 'blue', label = 'Predicted Stock Price')\n",
        "#plt.plot(Final_Predict['Risk/MAPE(%)'], color = 'black', label = 'RISK/MAPE(%)')\n",
        "plt.title('Stock Price Prediction')\n",
        "plt.xlabel('Time')\n",
        "plt.ylabel('Stock Price')\n",
        "plt.legend()\n",
        "plt.savefig('Stock Price SVR LSTM 1.png')\n",
        "files.download(\"Stock Price SVR LSTM 1.png\")\n",
        "plt.show()"
      ],
      "execution_count": 26,
      "outputs": [
        {
          "output_type": "display_data",
          "data": {
            "application/javascript": [
              "\n",
              "    async function download(id, filename, size) {\n",
              "      if (!google.colab.kernel.accessAllowed) {\n",
              "        return;\n",
              "      }\n",
              "      const div = document.createElement('div');\n",
              "      const label = document.createElement('label');\n",
              "      label.textContent = `Downloading \"${filename}\": `;\n",
              "      div.appendChild(label);\n",
              "      const progress = document.createElement('progress');\n",
              "      progress.max = size;\n",
              "      div.appendChild(progress);\n",
              "      document.body.appendChild(div);\n",
              "\n",
              "      const buffers = [];\n",
              "      let downloaded = 0;\n",
              "\n",
              "      const channel = await google.colab.kernel.comms.open(id);\n",
              "      // Send a message to notify the kernel that we're ready.\n",
              "      channel.send({})\n",
              "\n",
              "      for await (const message of channel.messages) {\n",
              "        // Send a message to notify the kernel that we're ready.\n",
              "        channel.send({})\n",
              "        if (message.buffers) {\n",
              "          for (const buffer of message.buffers) {\n",
              "            buffers.push(buffer);\n",
              "            downloaded += buffer.byteLength;\n",
              "            progress.value = downloaded;\n",
              "          }\n",
              "        }\n",
              "      }\n",
              "      const blob = new Blob(buffers, {type: 'application/binary'});\n",
              "      const a = document.createElement('a');\n",
              "      a.href = window.URL.createObjectURL(blob);\n",
              "      a.download = filename;\n",
              "      div.appendChild(a);\n",
              "      a.click();\n",
              "      div.remove();\n",
              "    }\n",
              "  "
            ],
            "text/plain": [
              "<IPython.core.display.Javascript object>"
            ]
          },
          "metadata": {
            "tags": []
          }
        },
        {
          "output_type": "display_data",
          "data": {
            "application/javascript": [
              "download(\"download_b10b29c7-0bd6-4035-b29d-c4ee9cebbe60\", \"Stock Price SVR LSTM 1.png\", 41437)"
            ],
            "text/plain": [
              "<IPython.core.display.Javascript object>"
            ]
          },
          "metadata": {
            "tags": []
          }
        },
        {
          "output_type": "display_data",
          "data": {
            "image/png": "[encoded data removed]",
            "text/plain": [
              "<Figure size 432x288 with 1 Axes>"
            ]
          },
          "metadata": {
            "tags": []
          }
        }
      ]
    },
    {
      "cell_type": "code",
      "metadata": {
        "id": "towGbwPBLWUk"
      },
      "source": [
        "#### Mencari Data STAT MODEL"
      ],
      "execution_count": 27,
      "outputs": []
    },
    {
      "cell_type": "code",
      "metadata": {
        "id": "UiadXxndQ2NX"
      },
      "source": [
        "a = X_test\n",
        "a = np.reshape(a, (-1, 36))\n",
        "a = scaler.inverse_transform(a)\n",
        "a = pd.DataFrame(a)"
      ],
      "execution_count": 28,
      "outputs": []
    },
    {
      "cell_type": "code",
      "metadata": {
        "id": "ErHLvejACioW"
      },
      "source": [
        "b = y_test\n",
        "#b = np.reshape(b, (-1, 36))\n",
        "b = scaler.inverse_transform(b)\n",
        "b = pd.DataFrame(b)"
      ],
      "execution_count": 29,
      "outputs": []
    },
    {
      "cell_type": "code",
      "metadata": {
        "id": "O62uEaEkLyWO"
      },
      "source": [
        "#OLS Model\n",
        "import statsmodels.api as sm\n",
        "X = a\n",
        "Y = b\n",
        "X = sm.add_constant(X)\n",
        "model_ols = sm.OLS(Y,X)\n",
        "results = model_ols.fit()"
      ],
      "execution_count": 30,
      "outputs": []
    },
    {
      "cell_type": "code",
      "metadata": {
        "id": "_CaG_RGcMpzM",
        "colab": {
          "base_uri": "https://localhost:8080/",
          "height": 1000
        },
        "outputId": "50a47683-88f5-42bf-95e8-31b9fe96f37b"
      },
      "source": [
        "results.summary()"
      ],
      "execution_count": 31,
      "outputs": [
        {
          "output_type": "execute_result",
          "data": {
            "text/html": [
              "<table class=\"simpletable\">\n",
              "<caption>OLS Regression Results</caption>\n",
              "<tr>\n",
              "  <th>Dep. Variable:</th>            <td>0</td>        <th>  R-squared:         </th> <td>   0.978</td> \n",
              "</tr>\n",
              "<tr>\n",
              "  <th>Model:</th>                   <td>OLS</td>       <th>  Adj. R-squared:    </th> <td>   0.974</td> \n",
              "</tr>\n",
              "<tr>\n",
              "  <th>Method:</th>             <td>Least Squares</td>  <th>  F-statistic:       </th> <td>   251.0</td> \n",
              "</tr>\n",
              "<tr>\n",
              "  <th>Date:</th>             <td>Sun, 09 May 2021</td> <th>  Prob (F-statistic):</th> <td>3.48e-150</td>\n",
              "</tr>\n",
              "<tr>\n",
              "  <th>Time:</th>                 <td>15:13:13</td>     <th>  Log-Likelihood:    </th> <td> -1432.3</td> \n",
              "</tr>\n",
              "<tr>\n",
              "  <th>No. Observations:</th>      <td>   242</td>      <th>  AIC:               </th> <td>   2939.</td> \n",
              "</tr>\n",
              "<tr>\n",
              "  <th>Df Residuals:</th>          <td>   205</td>      <th>  BIC:               </th> <td>   3068.</td> \n",
              "</tr>\n",
              "<tr>\n",
              "  <th>Df Model:</th>              <td>    36</td>      <th>                     </th>     <td> </td>    \n",
              "</tr>\n",
              "<tr>\n",
              "  <th>Covariance Type:</th>      <td>nonrobust</td>    <th>                     </th>     <td> </td>    \n",
              "</tr>\n",
              "</table>\n",
              "<table class=\"simpletable\">\n",
              "<tr>\n",
              "    <td></td>       <th>coef</th>     <th>std err</th>      <th>t</th>      <th>P>|t|</th>  <th>[0.025</th>    <th>0.975]</th>  \n",
              "</tr>\n",
              "<tr>\n",
              "  <th>const</th> <td>   92.5567</td> <td>   45.604</td> <td>    2.030</td> <td> 0.044</td> <td>    2.643</td> <td>  182.471</td>\n",
              "</tr>\n",
              "<tr>\n",
              "  <th>0</th>     <td>   -0.1988</td> <td>    0.072</td> <td>   -2.742</td> <td> 0.007</td> <td>   -0.342</td> <td>   -0.056</td>\n",
              "</tr>\n",
              "<tr>\n",
              "  <th>1</th>     <td>    0.1952</td> <td>    0.106</td> <td>    1.836</td> <td> 0.068</td> <td>   -0.014</td> <td>    0.405</td>\n",
              "</tr>\n",
              "<tr>\n",
              "  <th>2</th>     <td>   -0.0060</td> <td>    0.107</td> <td>   -0.056</td> <td> 0.956</td> <td>   -0.218</td> <td>    0.206</td>\n",
              "</tr>\n",
              "<tr>\n",
              "  <th>3</th>     <td>    0.1095</td> <td>    0.110</td> <td>    0.992</td> <td> 0.323</td> <td>   -0.108</td> <td>    0.327</td>\n",
              "</tr>\n",
              "<tr>\n",
              "  <th>4</th>     <td>   -0.0119</td> <td>    0.112</td> <td>   -0.107</td> <td> 0.915</td> <td>   -0.232</td> <td>    0.208</td>\n",
              "</tr>\n",
              "<tr>\n",
              "  <th>5</th>     <td>   -0.1535</td> <td>    0.111</td> <td>   -1.379</td> <td> 0.169</td> <td>   -0.373</td> <td>    0.066</td>\n",
              "</tr>\n",
              "<tr>\n",
              "  <th>6</th>     <td>    0.0304</td> <td>    0.112</td> <td>    0.272</td> <td> 0.786</td> <td>   -0.190</td> <td>    0.251</td>\n",
              "</tr>\n",
              "<tr>\n",
              "  <th>7</th>     <td>   -0.0228</td> <td>    0.112</td> <td>   -0.204</td> <td> 0.839</td> <td>   -0.243</td> <td>    0.198</td>\n",
              "</tr>\n",
              "<tr>\n",
              "  <th>8</th>     <td>    0.1373</td> <td>    0.112</td> <td>    1.231</td> <td> 0.220</td> <td>   -0.083</td> <td>    0.357</td>\n",
              "</tr>\n",
              "<tr>\n",
              "  <th>9</th>     <td>   -0.1538</td> <td>    0.111</td> <td>   -1.383</td> <td> 0.168</td> <td>   -0.373</td> <td>    0.065</td>\n",
              "</tr>\n",
              "<tr>\n",
              "  <th>10</th>    <td>    0.0068</td> <td>    0.111</td> <td>    0.061</td> <td> 0.951</td> <td>   -0.212</td> <td>    0.226</td>\n",
              "</tr>\n",
              "<tr>\n",
              "  <th>11</th>    <td>    0.0918</td> <td>    0.111</td> <td>    0.825</td> <td> 0.410</td> <td>   -0.127</td> <td>    0.311</td>\n",
              "</tr>\n",
              "<tr>\n",
              "  <th>12</th>    <td>   -0.1132</td> <td>    0.111</td> <td>   -1.016</td> <td> 0.311</td> <td>   -0.333</td> <td>    0.107</td>\n",
              "</tr>\n",
              "<tr>\n",
              "  <th>13</th>    <td>    0.0447</td> <td>    0.111</td> <td>    0.401</td> <td> 0.689</td> <td>   -0.175</td> <td>    0.264</td>\n",
              "</tr>\n",
              "<tr>\n",
              "  <th>14</th>    <td>    0.0716</td> <td>    0.111</td> <td>    0.645</td> <td> 0.519</td> <td>   -0.147</td> <td>    0.290</td>\n",
              "</tr>\n",
              "<tr>\n",
              "  <th>15</th>    <td>   -0.0261</td> <td>    0.111</td> <td>   -0.236</td> <td> 0.813</td> <td>   -0.244</td> <td>    0.192</td>\n",
              "</tr>\n",
              "<tr>\n",
              "  <th>16</th>    <td>    0.1758</td> <td>    0.109</td> <td>    1.605</td> <td> 0.110</td> <td>   -0.040</td> <td>    0.392</td>\n",
              "</tr>\n",
              "<tr>\n",
              "  <th>17</th>    <td>   -0.2736</td> <td>    0.108</td> <td>   -2.533</td> <td> 0.012</td> <td>   -0.487</td> <td>   -0.061</td>\n",
              "</tr>\n",
              "<tr>\n",
              "  <th>18</th>    <td>    0.1409</td> <td>    0.108</td> <td>    1.310</td> <td> 0.192</td> <td>   -0.071</td> <td>    0.353</td>\n",
              "</tr>\n",
              "<tr>\n",
              "  <th>19</th>    <td>   -0.3267</td> <td>    0.107</td> <td>   -3.065</td> <td> 0.002</td> <td>   -0.537</td> <td>   -0.117</td>\n",
              "</tr>\n",
              "<tr>\n",
              "  <th>20</th>    <td>    0.2301</td> <td>    0.106</td> <td>    2.178</td> <td> 0.031</td> <td>    0.022</td> <td>    0.438</td>\n",
              "</tr>\n",
              "<tr>\n",
              "  <th>21</th>    <td>    0.0279</td> <td>    0.105</td> <td>    0.265</td> <td> 0.792</td> <td>   -0.180</td> <td>    0.235</td>\n",
              "</tr>\n",
              "<tr>\n",
              "  <th>22</th>    <td>    0.1203</td> <td>    0.105</td> <td>    1.149</td> <td> 0.252</td> <td>   -0.086</td> <td>    0.327</td>\n",
              "</tr>\n",
              "<tr>\n",
              "  <th>23</th>    <td>   -0.0539</td> <td>    0.105</td> <td>   -0.515</td> <td> 0.607</td> <td>   -0.260</td> <td>    0.153</td>\n",
              "</tr>\n",
              "<tr>\n",
              "  <th>24</th>    <td>   -0.1439</td> <td>    0.105</td> <td>   -1.374</td> <td> 0.171</td> <td>   -0.350</td> <td>    0.063</td>\n",
              "</tr>\n",
              "<tr>\n",
              "  <th>25</th>    <td>    0.1030</td> <td>    0.105</td> <td>    0.985</td> <td> 0.326</td> <td>   -0.103</td> <td>    0.309</td>\n",
              "</tr>\n",
              "<tr>\n",
              "  <th>26</th>    <td>    0.0237</td> <td>    0.105</td> <td>    0.226</td> <td> 0.821</td> <td>   -0.182</td> <td>    0.230</td>\n",
              "</tr>\n",
              "<tr>\n",
              "  <th>27</th>    <td>   -0.0839</td> <td>    0.105</td> <td>   -0.800</td> <td> 0.425</td> <td>   -0.291</td> <td>    0.123</td>\n",
              "</tr>\n",
              "<tr>\n",
              "  <th>28</th>    <td>    0.0957</td> <td>    0.105</td> <td>    0.910</td> <td> 0.364</td> <td>   -0.112</td> <td>    0.303</td>\n",
              "</tr>\n",
              "<tr>\n",
              "  <th>29</th>    <td>   -0.0667</td> <td>    0.105</td> <td>   -0.634</td> <td> 0.527</td> <td>   -0.274</td> <td>    0.141</td>\n",
              "</tr>\n",
              "<tr>\n",
              "  <th>30</th>    <td>   -0.0675</td> <td>    0.105</td> <td>   -0.643</td> <td> 0.521</td> <td>   -0.275</td> <td>    0.140</td>\n",
              "</tr>\n",
              "<tr>\n",
              "  <th>31</th>    <td>    0.0963</td> <td>    0.105</td> <td>    0.914</td> <td> 0.362</td> <td>   -0.111</td> <td>    0.304</td>\n",
              "</tr>\n",
              "<tr>\n",
              "  <th>32</th>    <td>   -0.2008</td> <td>    0.104</td> <td>   -1.932</td> <td> 0.055</td> <td>   -0.406</td> <td>    0.004</td>\n",
              "</tr>\n",
              "<tr>\n",
              "  <th>33</th>    <td>    0.3249</td> <td>    0.102</td> <td>    3.192</td> <td> 0.002</td> <td>    0.124</td> <td>    0.526</td>\n",
              "</tr>\n",
              "<tr>\n",
              "  <th>34</th>    <td>   -0.2192</td> <td>    0.101</td> <td>   -2.178</td> <td> 0.031</td> <td>   -0.418</td> <td>   -0.021</td>\n",
              "</tr>\n",
              "<tr>\n",
              "  <th>35</th>    <td>    1.0691</td> <td>    0.069</td> <td>   15.580</td> <td> 0.000</td> <td>    0.934</td> <td>    1.204</td>\n",
              "</tr>\n",
              "</table>\n",
              "<table class=\"simpletable\">\n",
              "<tr>\n",
              "  <th>Omnibus:</th>       <td> 5.947</td> <th>  Durbin-Watson:     </th> <td>   2.049</td>\n",
              "</tr>\n",
              "<tr>\n",
              "  <th>Prob(Omnibus):</th> <td> 0.051</td> <th>  Jarque-Bera (JB):  </th> <td>   7.304</td>\n",
              "</tr>\n",
              "<tr>\n",
              "  <th>Skew:</th>          <td> 0.189</td> <th>  Prob(JB):          </th> <td>  0.0259</td>\n",
              "</tr>\n",
              "<tr>\n",
              "  <th>Kurtosis:</th>      <td> 3.762</td> <th>  Cond. No.          </th> <td>1.50e+05</td>\n",
              "</tr>\n",
              "</table><br/><br/>Warnings:<br/>[1] Standard Errors assume that the covariance matrix of the errors is correctly specified.<br/>[2] The condition number is large, 1.5e+05. This might indicate that there are<br/>strong multicollinearity or other numerical problems."
            ],
            "text/plain": [
              "<class 'statsmodels.iolib.summary.Summary'>\n",
              "\"\"\"\n",
              "                            OLS Regression Results                            \n",
              "==============================================================================\n",
              "Dep. Variable:                      0   R-squared:                       0.978\n",
              "Model:                            OLS   Adj. R-squared:                  0.974\n",
              "Method:                 Least Squares   F-statistic:                     251.0\n",
              "Date:                Sun, 09 May 2021   Prob (F-statistic):          3.48e-150\n",
              "Time:                        15:13:13   Log-Likelihood:                -1432.3\n",
              "No. Observations:                 242   AIC:                             2939.\n",
              "Df Residuals:                     205   BIC:                             3068.\n",
              "Df Model:                          36                                         \n",
              "Covariance Type:            nonrobust                                         \n",
              "==============================================================================\n",
              "                 coef    std err          t      P>|t|      [0.025      0.975]\n",
              "------------------------------------------------------------------------------\n",
              "const         92.5567     45.604      2.030      0.044       2.643     182.471\n",
              "0             -0.1988      0.072     -2.742      0.007      -0.342      -0.056\n",
              "1              0.1952      0.106      1.836      0.068      -0.014       0.405\n",
              "2             -0.0060      0.107     -0.056      0.956      -0.218       0.206\n",
              "3              0.1095      0.110      0.992      0.323      -0.108       0.327\n",
              "4             -0.0119      0.112     -0.107      0.915      -0.232       0.208\n",
              "5             -0.1535      0.111     -1.379      0.169      -0.373       0.066\n",
              "6              0.0304      0.112      0.272      0.786      -0.190       0.251\n",
              "7             -0.0228      0.112     -0.204      0.839      -0.243       0.198\n",
              "8              0.1373      0.112      1.231      0.220      -0.083       0.357\n",
              "9             -0.1538      0.111     -1.383      0.168      -0.373       0.065\n",
              "10             0.0068      0.111      0.061      0.951      -0.212       0.226\n",
              "11             0.0918      0.111      0.825      0.410      -0.127       0.311\n",
              "12            -0.1132      0.111     -1.016      0.311      -0.333       0.107\n",
              "13             0.0447      0.111      0.401      0.689      -0.175       0.264\n",
              "14             0.0716      0.111      0.645      0.519      -0.147       0.290\n",
              "15            -0.0261      0.111     -0.236      0.813      -0.244       0.192\n",
              "16             0.1758      0.109      1.605      0.110      -0.040       0.392\n",
              "17            -0.2736      0.108     -2.533      0.012      -0.487      -0.061\n",
              "18             0.1409      0.108      1.310      0.192      -0.071       0.353\n",
              "19            -0.3267      0.107     -3.065      0.002      -0.537      -0.117\n",
              "20             0.2301      0.106      2.178      0.031       0.022       0.438\n",
              "21             0.0279      0.105      0.265      0.792      -0.180       0.235\n",
              "22             0.1203      0.105      1.149      0.252      -0.086       0.327\n",
              "23            -0.0539      0.105     -0.515      0.607      -0.260       0.153\n",
              "24            -0.1439      0.105     -1.374      0.171      -0.350       0.063\n",
              "25             0.1030      0.105      0.985      0.326      -0.103       0.309\n",
              "26             0.0237      0.105      0.226      0.821      -0.182       0.230\n",
              "27            -0.0839      0.105     -0.800      0.425      -0.291       0.123\n",
              "28             0.0957      0.105      0.910      0.364      -0.112       0.303\n",
              "29            -0.0667      0.105     -0.634      0.527      -0.274       0.141\n",
              "30            -0.0675      0.105     -0.643      0.521      -0.275       0.140\n",
              "31             0.0963      0.105      0.914      0.362      -0.111       0.304\n",
              "32            -0.2008      0.104     -1.932      0.055      -0.406       0.004\n",
              "33             0.3249      0.102      3.192      0.002       0.124       0.526\n",
              "34            -0.2192      0.101     -2.178      0.031      -0.418      -0.021\n",
              "35             1.0691      0.069     15.580      0.000       0.934       1.204\n",
              "==============================================================================\n",
              "Omnibus:                        5.947   Durbin-Watson:                   2.049\n",
              "Prob(Omnibus):                  0.051   Jarque-Bera (JB):                7.304\n",
              "Skew:                           0.189   Prob(JB):                       0.0259\n",
              "Kurtosis:                       3.762   Cond. No.                     1.50e+05\n",
              "==============================================================================\n",
              "\n",
              "Warnings:\n",
              "[1] Standard Errors assume that the covariance matrix of the errors is correctly specified.\n",
              "[2] The condition number is large, 1.5e+05. This might indicate that there are\n",
              "strong multicollinearity or other numerical problems.\n",
              "\"\"\""
            ]
          },
          "metadata": {
            "tags": []
          },
          "execution_count": 31
        }
      ]
    }
  ]
}